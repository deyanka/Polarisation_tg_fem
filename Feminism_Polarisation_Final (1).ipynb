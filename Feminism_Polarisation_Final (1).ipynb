{
  "cells": [
    {
      "cell_type": "markdown",
      "source": [
        "# Collecting data"
      ],
      "metadata": {
        "id": "Keqf00nNK8AV"
      }
    },
    {
      "cell_type": "code",
      "execution_count": null,
      "metadata": {
        "colab": {
          "base_uri": "https://localhost:8080/"
        },
        "id": "2n4y4m6IOqFM",
        "outputId": "9cf4629d-c918-4196-dd90-18d03743484a"
      },
      "outputs": [
        {
          "output_type": "stream",
          "name": "stdout",
          "text": [
            "Collecting telethon\n",
            "  Downloading Telethon-1.38.1-py3-none-any.whl.metadata (3.6 kB)\n",
            "Collecting pyaes (from telethon)\n",
            "  Downloading pyaes-1.6.1.tar.gz (28 kB)\n",
            "  Preparing metadata (setup.py) ... \u001b[?25l\u001b[?25hdone\n",
            "Requirement already satisfied: rsa in /usr/local/lib/python3.10/dist-packages (from telethon) (4.9)\n",
            "Requirement already satisfied: pyasn1>=0.1.3 in /usr/local/lib/python3.10/dist-packages (from rsa->telethon) (0.6.1)\n",
            "Downloading Telethon-1.38.1-py3-none-any.whl (702 kB)\n",
            "\u001b[2K   \u001b[90m━━━━━━━━━━━━━━━━━━━━━━━━━━━━━━━━━━━━━━━━\u001b[0m \u001b[32m702.2/702.2 kB\u001b[0m \u001b[31m7.4 MB/s\u001b[0m eta \u001b[36m0:00:00\u001b[0m\n",
            "\u001b[?25hBuilding wheels for collected packages: pyaes\n",
            "  Building wheel for pyaes (setup.py) ... \u001b[?25l\u001b[?25hdone\n",
            "  Created wheel for pyaes: filename=pyaes-1.6.1-py3-none-any.whl size=26346 sha256=85c0a9a1cc3f1f579cf23ffc7eb0b9df795e94ebcc81b30004700b3c44822e11\n",
            "  Stored in directory: /root/.cache/pip/wheels/d6/84/5f/ea6aef85a93c7e1922486369874f4740a5642d261e09c59140\n",
            "Successfully built pyaes\n",
            "Installing collected packages: pyaes, telethon\n",
            "Successfully installed pyaes-1.6.1 telethon-1.38.1\n"
          ]
        }
      ],
      "source": [
        "!pip install -U telethon\n"
      ]
    },
    {
      "cell_type": "code",
      "execution_count": null,
      "metadata": {
        "id": "uTCqOLpKV_UT"
      },
      "outputs": [],
      "source": [
        "from telethon.sync import TelegramClient\n",
        "from telethon.sessions import SQLiteSession\n",
        "from telethon.tl.functions.channels import GetFullChannelRequest\n",
        "import asyncio\n",
        "import nest_asyncio\n",
        "import time\n",
        "import json\n",
        "from telethon.tl.types import PeerChannel\n",
        "import pandas as pd\n",
        "import os\n",
        "from telethon.tl.custom.message import Message\n",
        "from telethon import functions, types\n",
        "from telethon.tl.types import InputMessagesFilterEmpty, InputMessagesFilterPhotos, InputMessagesFilterVideo, InputMessagesFilterPhotoVideo, InputMessagesFilterDocument, InputMessagesFilterUrl, InputMessagesFilterGif, InputMessagesFilterVoice, InputMessagesFilterMusic, InputMessagesFilterChatPhotos, InputMessagesFilterRoundVideo, InputMessagesFilterRoundVoice, InputMessagesFilterGeo, InputMessagesFilterContacts, InputMessagesFilterMyMentions, InputMessagesFilterPinned #Import necessary filters\n",
        "from telethon.tl.types import MessageEntityTextUrl, MessageEntityMention\n",
        "import re"
      ]
    },
    {
      "cell_type": "code",
      "execution_count": null,
      "metadata": {
        "id": "LxVABbNlF0Le"
      },
      "outputs": [],
      "source": [
        "\n",
        "# Replace with your API credentials\n",
        "api_id = '-'\n",
        "api_hash = '-'\n",
        "# channel_username = ['rad_fems', 'megabitch',  'r_anarchy', 'kosa_media']'\n",
        "# channel_username = 'aviva_md', 'vlad_chastnyi_privatnyi_butylka', ''m_d_channel_1'\n",
        "channel_username = 'vestnikformul'\n",
        "nest_asyncio.apply()\n"
      ]
    },
    {
      "cell_type": "code",
      "execution_count": null,
      "metadata": {
        "id": "8Zl1r44SpIOC"
      },
      "outputs": [],
      "source": [
        "async def check_mentions(post, client):\n",
        "    mentioned_posts = []\n",
        "    # Check entities in the message\n",
        "    original = post\n",
        "    if post.entities:\n",
        "        for entity in post.entities:\n",
        "            if isinstance(entity, MessageEntityTextUrl):\n",
        "                url = entity.url\n",
        "                if 't.me/' in url:\n",
        "                    mentioned_posts.append(url)\n",
        "            elif isinstance(entity, MessageEntityMention):\n",
        "                mention = post.message[entity.offset: entity.offset + entity.length]\n",
        "                mentioned_posts.append(mention)\n",
        "\n",
        "    #то что выше выдает ссылку а нам нужно только имя канала чтоы найти его id\n",
        "    pattern = r'https://t\\.me/([^/]+)'\n",
        "    mentioned_channels = []\n",
        "    for post in mentioned_posts:\n",
        "        match = re.search(pattern, post)\n",
        "        if match:\n",
        "            channel_username = match.group(1)\n",
        "            mentioned_channels.append(channel_username) #у нас появились названия самих каналов\n",
        "    name_and_id = []\n",
        "    for channel_username in set(mentioned_channels):\n",
        "      try:\n",
        "            if channel_username.startswith('+'):  #to handle private links\n",
        "                result = await client(functions.channels.ImportChatInviteRequest(channel_username))\n",
        "                channel_entity = result.chats[0]\n",
        "                name_and_id.append((channel_entity.title, channel_entity.id))\n",
        "            else:\n",
        "                channel_entity = await client.get_entity(channel_username)\n",
        "                name_and_id.append((channel_username, channel_entity.id))\n",
        "      except:\n",
        "           print(f\"Could not find entity for {channel_username}\")\n",
        "    return name_and_id"
      ]
    },
    {
      "cell_type": "code",
      "execution_count": null,
      "metadata": {
        "colab": {
          "base_uri": "https://localhost:8080/"
        },
        "id": "stHvmtJ1UfO-",
        "outputId": "d0e108a8-7812-469c-872f-2840d19b6444",
        "collapsed": true
      },
      "outputs": [
        {
          "output_type": "stream",
          "name": "stdout",
          "text": [
            "Could not find entity for addlist\n",
            "Could not find entity for +vLmOtpVp9UQzNTYx\n",
            "Could not find entity for +vLmOtpVp9UQzNTYx\n",
            "Could not find entity for addlist\n",
            "Could not find entity for underskytruthbot?start=donate\n",
            "Could not find entity for underskytruthbot?start=contact\n",
            "Could not find entity for addlist\n"
          ]
        }
      ],
      "source": [
        "async def main():\n",
        "    retries = 3\n",
        "    while retries > 0:\n",
        "        try:\n",
        "            async with TelegramClient('session1', api_id, api_hash) as client:\n",
        "\n",
        "                await client.start()\n",
        "\n",
        "                messages = await client.get_messages(channel_username, limit=1000)\n",
        "\n",
        "                messages_data = []\n",
        "\n",
        "                for message in messages:\n",
        "                    message_info = {}\n",
        "                    if message.text is None:\n",
        "                        continue\n",
        "\n",
        "\n",
        "                    message_info['message_id'] = message.id\n",
        "                    message_info['date'] = message.date.isoformat()\n",
        "                    message_info['text'] = message.text\n",
        "                    message_info['via_bot'] = message.via_bot_id\n",
        "                    message_info['sender_id'] = message.sender_id\n",
        "\n",
        "\n",
        "                    if message.peer_id:\n",
        "                        if message.peer_id.channel_id:\n",
        "                            message_info['channel_id'] = message.peer_id.channel_id\n",
        "                            message_info['channel_username'] = channel_username\n",
        "                        elif message.peer_id.user_id:\n",
        "                            message_info['user_id'] = message.peer_id.user_id\n",
        "\n",
        "\n",
        "                    if message.forward:\n",
        "                      try:\n",
        "                        forward_entity = await client.get_entity(message.forward.chat_id)\n",
        "                        message_info['original_channel_id'] = forward_entity.id\n",
        "                        message_info['original_channel_name'] = forward_entity.title\n",
        "                        message_info['original_channel_id'] = message.forward.chat_id\n",
        "                        message_info['original_post_author'] = message.forward.post_author\n",
        "                        message_info['original_date'] = message.forward.date.isoformat()\n",
        "                      except:\n",
        "                        message_info['original_channel_id'] = None\n",
        "                        message_info['original_post_author'] = None\n",
        "                        message_info['original_date'] = None\n",
        "\n",
        "\n",
        "\n",
        "                    #To get the comments\n",
        "                    message_info['comments'] = []\n",
        "                    comments_info = {}\n",
        "                    try:\n",
        "                        async for comment in client.iter_messages(channel_username, reply_to=message.id):\n",
        "                                  comments_info = {\n",
        "                                      'comment_id': comment.id,\n",
        "                                      'user_id': comment.sender_id,\n",
        "                                      'text': comment.text,\n",
        "                                      'date': comment.date.isoformat(),\n",
        "                                  }\n",
        "                                  message_info['comments'].append(comments_info)\n",
        "                    except Exception as e:\n",
        "                             message_info['comments'] = []\n",
        "                            print(f\"Error fetching replies for message {message.id}: {e}\")\n",
        "\n",
        "\n",
        "                    #to get the mentions of other channels\n",
        "                    mentioned_posts = []\n",
        "                    post = await client.get_messages(channel_username, ids=message.id)\n",
        "                    mentioned_posts = await check_mentions(post, client)\n",
        "                    if mentioned_posts:\n",
        "                        message_info['mentioned_posts'] = mentioned_posts\n",
        "                    messages_data.append(message_info)\n",
        "\n",
        "\n",
        "\n",
        "                with open('messages_data.json', 'w', encoding='utf-8') as f:\n",
        "                    json.dump(messages_data, f, ensure_ascii=False, indent=4)\n",
        "\n",
        "\n",
        "\n",
        "                break\n",
        "        except Exception as e:\n",
        "            print('overall error')\n",
        "            print(f\"Error: {e}\")\n",
        "            retries -= 1\n",
        "            await asyncio.sleep(1)\n",
        "\n",
        "await main()"
      ]
    },
    {
      "cell_type": "code",
      "execution_count": null,
      "metadata": {
        "id": "7MbSrf45Vz0b"
      },
      "outputs": [],
      "source": [
        "import json\n",
        "import pandas as pd\n",
        "\n",
        "with open('messages_data.json', 'r', encoding='utf-8') as f:\n",
        "    comments_data = json.load(f)\n",
        "\n",
        "\n",
        "df = pd.DataFrame(comments_data)\n",
        "print(df.head())\n"
      ]
    },
    {
      "cell_type": "code",
      "execution_count": null,
      "metadata": {
        "id": "_S1wdKTAWvPZ"
      },
      "outputs": [],
      "source": [
        "df.to_csv('comments_data.csv', index=False, encoding='utf-8')"
      ]
    },
    {
      "cell_type": "markdown",
      "source": [
        "Getting info about all the channels"
      ],
      "metadata": {
        "id": "4SgEullzlmap"
      }
    },
    {
      "cell_type": "code",
      "execution_count": null,
      "metadata": {
        "id": "uloQCN6Zq7nb"
      },
      "outputs": [],
      "source": [
        "import pandas as pd\n",
        "import glob\n",
        "import os\n",
        "\n",
        "json_dir = \"/content\"\n",
        "\n",
        "json_files = glob.glob(os.path.join(json_dir, \"*.json\"))\n",
        "\n",
        "data_frames = []\n",
        "\n",
        "for json_file in json_files:\n",
        "    try:\n",
        "\n",
        "        df = pd.read_json(json_file)\n",
        "        data_frames.append(df)\n",
        "    except Exception as e:\n",
        "        print(f\"Error reading {json_file}: {e}\")\n",
        "\n",
        "final_df = pd.concat(data_frames, ignore_index=True)\n",
        "\n",
        "final_df.to_csv(\"anti_combined_data.csv\", index=False)\n",
        "\n"
      ]
    },
    {
      "cell_type": "markdown",
      "metadata": {
        "id": "xJlnVBLbrI_E"
      },
      "source": [
        "# Sentiment analysis"
      ]
    },
    {
      "cell_type": "markdown",
      "metadata": {
        "id": "fKDKVnIisS9a"
      },
      "source": [
        "## Creating a separate column that contains just the texts of the comments"
      ]
    },
    {
      "cell_type": "code",
      "execution_count": null,
      "metadata": {
        "id": "MBB869IFse13"
      },
      "outputs": [],
      "source": [
        "com = df"
      ]
    },
    {
      "cell_type": "code",
      "execution_count": null,
      "metadata": {
        "colab": {
          "base_uri": "https://localhost:8080/",
          "height": 492
        },
        "id": "I5f3LUwLaClT",
        "outputId": "3e89981c-c74d-421f-a124-cab3c1f0e292"
      },
      "outputs": [
        {
          "output_type": "execute_result",
          "data": {
            "text/plain": [
              "message_id                  0\n",
              "date                        0\n",
              "text                        0\n",
              "via_bot                  4321\n",
              "sender_id                   0\n",
              "channel_id                  0\n",
              "channel_username            0\n",
              "comments                    0\n",
              "original_channel_id      4263\n",
              "original_channel_name    4263\n",
              "original_post_author     4309\n",
              "original_date            4263\n",
              "mentioned_posts          3529\n",
              "dtype: int64"
            ],
            "text/html": [
              "<div>\n",
              "<style scoped>\n",
              "    .dataframe tbody tr th:only-of-type {\n",
              "        vertical-align: middle;\n",
              "    }\n",
              "\n",
              "    .dataframe tbody tr th {\n",
              "        vertical-align: top;\n",
              "    }\n",
              "\n",
              "    .dataframe thead th {\n",
              "        text-align: right;\n",
              "    }\n",
              "</style>\n",
              "<table border=\"1\" class=\"dataframe\">\n",
              "  <thead>\n",
              "    <tr style=\"text-align: right;\">\n",
              "      <th></th>\n",
              "      <th>0</th>\n",
              "    </tr>\n",
              "  </thead>\n",
              "  <tbody>\n",
              "    <tr>\n",
              "      <th>message_id</th>\n",
              "      <td>0</td>\n",
              "    </tr>\n",
              "    <tr>\n",
              "      <th>date</th>\n",
              "      <td>0</td>\n",
              "    </tr>\n",
              "    <tr>\n",
              "      <th>text</th>\n",
              "      <td>0</td>\n",
              "    </tr>\n",
              "    <tr>\n",
              "      <th>via_bot</th>\n",
              "      <td>4321</td>\n",
              "    </tr>\n",
              "    <tr>\n",
              "      <th>sender_id</th>\n",
              "      <td>0</td>\n",
              "    </tr>\n",
              "    <tr>\n",
              "      <th>channel_id</th>\n",
              "      <td>0</td>\n",
              "    </tr>\n",
              "    <tr>\n",
              "      <th>channel_username</th>\n",
              "      <td>0</td>\n",
              "    </tr>\n",
              "    <tr>\n",
              "      <th>comments</th>\n",
              "      <td>0</td>\n",
              "    </tr>\n",
              "    <tr>\n",
              "      <th>original_channel_id</th>\n",
              "      <td>4263</td>\n",
              "    </tr>\n",
              "    <tr>\n",
              "      <th>original_channel_name</th>\n",
              "      <td>4263</td>\n",
              "    </tr>\n",
              "    <tr>\n",
              "      <th>original_post_author</th>\n",
              "      <td>4309</td>\n",
              "    </tr>\n",
              "    <tr>\n",
              "      <th>original_date</th>\n",
              "      <td>4263</td>\n",
              "    </tr>\n",
              "    <tr>\n",
              "      <th>mentioned_posts</th>\n",
              "      <td>3529</td>\n",
              "    </tr>\n",
              "  </tbody>\n",
              "</table>\n",
              "</div><br><label><b>dtype:</b> int64</label>"
            ]
          },
          "metadata": {},
          "execution_count": 20
        }
      ],
      "source": [
        "com.isna().sum()"
      ]
    },
    {
      "cell_type": "code",
      "execution_count": null,
      "metadata": {
        "id": "IQt-8T1BtSvP"
      },
      "outputs": [],
      "source": [
        "com = com[com['comments'].str.len() != 0] #cleaning"
      ]
    },
    {
      "cell_type": "code",
      "execution_count": null,
      "metadata": {
        "id": "u3O3oWrwuSwR"
      },
      "outputs": [],
      "source": [
        "com['comments_text'] = None\n",
        "overall_amount = 0\n",
        "for i in com.index:\n",
        "  comments = []\n",
        "  for j in range(len(com.at[i, 'comments'])):\n",
        "    if com.at[i, 'comments'][j]['text'] is None or com.at[i, 'comments'][j]['text'] == '':\n",
        "      continue\n",
        "    comments.append(com.at[i, 'comments'][j]['text'])\n",
        "  overall_amount += len(comments)\n",
        "  com.at[i, 'comments_text'] = comments"
      ]
    },
    {
      "cell_type": "code",
      "execution_count": null,
      "metadata": {
        "id": "hp50uVzSwL4f"
      },
      "outputs": [],
      "source": [
        "com.to_csv(\"data_with_comments_cleaned.csv\", index=False)"
      ]
    },
    {
      "cell_type": "code",
      "execution_count": null,
      "metadata": {
        "colab": {
          "base_uri": "https://localhost:8080/"
        },
        "id": "DouqBqs5w6-y",
        "outputId": "707a9ba7-5839-477b-8e2b-756747a13729"
      },
      "outputs": [
        {
          "output_type": "stream",
          "name": "stdout",
          "text": [
            "163677\n"
          ]
        }
      ],
      "source": [
        "print(overall_amount)"
      ]
    },
    {
      "cell_type": "markdown",
      "metadata": {
        "id": "F5i_3XsPwcl0"
      },
      "source": [
        "## Calculating sentiment"
      ]
    },
    {
      "cell_type": "code",
      "execution_count": null,
      "metadata": {
        "id": "VXaO-WjVrGyp"
      },
      "outputs": [],
      "source": [
        "from torch import cuda\n",
        "device = 'cuda' if cuda.is_available() else 'cpu'"
      ]
    },
    {
      "cell_type": "code",
      "execution_count": null,
      "metadata": {
        "colab": {
          "base_uri": "https://localhost:8080/",
          "height": 319,
          "referenced_widgets": [
            "0f52586a85644db2be782c5c96f37425",
            "12af14ef0d0d49c9944d08c1b594e3e2",
            "af406e9a7fb4422f961a3ecfe12c4154",
            "73dd0926848046a38a2cc38ddd65f274",
            "ea11ad86aa96408ea25cd03516f44497",
            "4d4d46b5feef4b24a27bdbf5511ce971",
            "cdf2aeebb580407c9bc5f8df699fdb32",
            "2412cfb3172d429394d219f466dc246d",
            "63a00f19069748d6beaced336c5cf423",
            "e93b9c8df973493aa6c2b61360770d80",
            "04d6fbf217714d7895c9f0ac90ba3cf8",
            "180af467dfda46e3be577471a3fc09be",
            "0a30987ac5fb4f3787a59f0b9cec51dc",
            "b4c5e8072e5443348973706531ff2292",
            "d8898e2b0326441a8e3b6fb9384f6ce9",
            "c7280dd2499140de996c5a56c7e65c94",
            "c3134620507f4d2daab6be545d0dcb8a",
            "e183b25575c7443e84348e06b22d8b13",
            "263d3d35b6174aae916b30d766182755",
            "92e7c639d72c481cb15d603e5ef9ec21",
            "75b0d317919d4d5a8f4f17685fb7f642",
            "b739451b9efa4e9d80ccbcdc35832a4b",
            "3ca17ec5c7be45d8aa38d2dbf2636ffb",
            "e7850b16e3914e7b9fc458df17f29c46",
            "3daf338fb6bd48308538837d0663acea",
            "8ce84daade79441e84521ba97b39a416",
            "d00d3e8dda7248a89aba1c9cdb5bef63",
            "12fc958f35294ee984e4cc56a033ae12",
            "22556ad2a7e44bf686e4479183774669",
            "7440df2d7e67458f82af0d78466e07a1",
            "fd9c6fbd7f344f00942b3f8216b1dfd8",
            "aa744f448b804638b1b4251cfabc1aaf",
            "e646de235dd44bac87921e9479622bd7",
            "84399ceebe1843a2a79dc14031e7f733",
            "968e2fe1f039419781a7054c4f0efc27",
            "3c2a38af9fb44d51904eb0d90d781f8a",
            "e9849053642f4e478a59c9d37e4390e2",
            "c557007c41f44bef9262dd7b1e4b1638",
            "dd74edd4fd4b4f5c831181dd480c2107",
            "46de3991ca434719ab9b8d0ff295891f",
            "19cb1eac741b4b36b2444f9c72e50aa6",
            "663a1272de2947c280a94e603ca40745",
            "8116499e1cf245df9be9450c27da74db",
            "5295d86de6114048b583ddbc62e5320f",
            "778afe139bf846bf95af03b869a53063",
            "e1b4bba027a347dab8a9e54310fa7643",
            "398f9e3530fa47e4b66f30266694c223",
            "c3599e829f424603bc14ca60d39ad4d8",
            "b4d69e33e0394299b4486cbe7624570c",
            "b69b45ef2c7c41f08f1757d2b151049b",
            "2d1ac77428a545da89ef4b8715d1d747",
            "6e6b8a29e953454da22e5695d166eb96",
            "82803b309a7344d5abaaa4dbaa973ccd",
            "d4676750414a4f2dad9e459b8be59c6b",
            "fdb31e3f8dca475fb36030584d5dd1e3"
          ]
        },
        "id": "6Oc88_2hsH0d",
        "outputId": "a8902c2d-b145-4f30-df75-749c05bbea98"
      },
      "outputs": [
        {
          "output_type": "stream",
          "name": "stderr",
          "text": [
            "/usr/local/lib/python3.10/dist-packages/huggingface_hub/utils/_auth.py:94: UserWarning: \n",
            "The secret `HF_TOKEN` does not exist in your Colab secrets.\n",
            "To authenticate with the Hugging Face Hub, create a token in your settings tab (https://huggingface.co/settings/tokens), set it as secret in your Google Colab and restart your session.\n",
            "You will be able to reuse this secret in all of your notebooks.\n",
            "Please note that authentication is recommended but still optional to access public models or datasets.\n",
            "  warnings.warn(\n"
          ]
        },
        {
          "output_type": "display_data",
          "data": {
            "text/plain": [
              "config.json:   0%|          | 0.00/952 [00:00<?, ?B/s]"
            ],
            "application/vnd.jupyter.widget-view+json": {
              "version_major": 2,
              "version_minor": 0,
              "model_id": "0f52586a85644db2be782c5c96f37425"
            }
          },
          "metadata": {}
        },
        {
          "output_type": "display_data",
          "data": {
            "text/plain": [
              "model.safetensors:   0%|          | 0.00/711M [00:00<?, ?B/s]"
            ],
            "application/vnd.jupyter.widget-view+json": {
              "version_major": 2,
              "version_minor": 0,
              "model_id": "180af467dfda46e3be577471a3fc09be"
            }
          },
          "metadata": {}
        },
        {
          "output_type": "display_data",
          "data": {
            "text/plain": [
              "tokenizer_config.json:   0%|          | 0.00/495 [00:00<?, ?B/s]"
            ],
            "application/vnd.jupyter.widget-view+json": {
              "version_major": 2,
              "version_minor": 0,
              "model_id": "3ca17ec5c7be45d8aa38d2dbf2636ffb"
            }
          },
          "metadata": {}
        },
        {
          "output_type": "display_data",
          "data": {
            "text/plain": [
              "vocab.txt:   0%|          | 0.00/1.40M [00:00<?, ?B/s]"
            ],
            "application/vnd.jupyter.widget-view+json": {
              "version_major": 2,
              "version_minor": 0,
              "model_id": "84399ceebe1843a2a79dc14031e7f733"
            }
          },
          "metadata": {}
        },
        {
          "output_type": "display_data",
          "data": {
            "text/plain": [
              "special_tokens_map.json:   0%|          | 0.00/112 [00:00<?, ?B/s]"
            ],
            "application/vnd.jupyter.widget-view+json": {
              "version_major": 2,
              "version_minor": 0,
              "model_id": "778afe139bf846bf95af03b869a53063"
            }
          },
          "metadata": {}
        },
        {
          "output_type": "stream",
          "name": "stderr",
          "text": [
            "Device set to use cpu\n"
          ]
        }
      ],
      "source": [
        "from transformers import pipeline\n",
        "classifier = pipeline(\"sentiment-analysis\", model=\"blanchefort/rubert-base-cased-sentiment-rusentiment\")\n"
      ]
    },
    {
      "cell_type": "code",
      "execution_count": null,
      "metadata": {
        "id": "0p7hsmT8sL14"
      },
      "outputs": [],
      "source": [
        "import ast\n",
        "\n",
        "def split_text(text, max_length=512):\n",
        "    return [text[i:i + max_length] for i in range(0, len(text), max_length)]\n",
        "\n",
        "def sentiment_of_topic(df):\n",
        "  for i in df.index:\n",
        "    post = df.loc[i]\n",
        "    comment_sentiment = []\n",
        "    # a = ast.literal_eval(post['comments_text'])\n",
        "    a = post['comments_text']\n",
        "\n",
        "    if not isinstance(a, list):\n",
        "        print(f\"Skipping post {i} due to invalid 'comments_text' type: {type(a)}\")\n",
        "        print(a)\n",
        "        continue\n",
        "\n",
        "    #computing sentiments for each individual comment\n",
        "    for com in a:\n",
        "        chunks = split_text(com)\n",
        "        results = [classifier(chunk) for chunk in chunks] #splitting into chunks because the model does not work with more than 512 tokens\n",
        "        overall_score = 0\n",
        "        label = 0\n",
        "\n",
        "\n",
        "        #calculating overall for each comm\n",
        "        overall_score_positive = 0\n",
        "        overall_score_negative = 0\n",
        "        overall_score_neutral = 0\n",
        "        neu=0\n",
        "        neg=0\n",
        "        pos=0\n",
        "\n",
        "        for score in results:\n",
        "          score = score[0]\n",
        "\n",
        "          if score['label'] == 'NEUTRAL':\n",
        "             overall_score_neutral += score['score']\n",
        "             neu += 1\n",
        "          if score['label'] == 'POSITIVE':\n",
        "             overall_score_positive += score['score']\n",
        "             pos += 1\n",
        "          if score['label'] == 'NEGATIVE':\n",
        "             overall_score_negative += score['score']\n",
        "             neg += 1\n",
        "\n",
        "          #so we dont divide by 0; does affect the overall because numerator = 0\n",
        "        if neu == 0:\n",
        "            neu = 1\n",
        "        if neg == 0:\n",
        "            neg = 1\n",
        "        if pos == 0:\n",
        "            pos = 1\n",
        "\n",
        "        if overall_score_neutral >= overall_score_negative and overall_score_neutral >= overall_score_positive:\n",
        "            overall_score = overall_score_neutral/neu - overall_score_negative/neg - overall_score_positive/pos\n",
        "            label = 'neutral'\n",
        "        if overall_score_negative >= overall_score_neutral and overall_score_negative >= overall_score_positive:\n",
        "            overall_score = overall_score_negative/neg - overall_score_neutral/neu - overall_score_positive/pos\n",
        "            label = 'negative'\n",
        "        if overall_score_positive >= overall_score_neutral and overall_score_positive >= overall_score_negative:\n",
        "            overall_score = overall_score_positive/pos - overall_score_neutral/neu - overall_score_negative/neg\n",
        "            label = 'positive'\n",
        "        comment_sentiment.append((label, overall_score)) #now for each post we have a list of sentiments\\\n",
        "\n",
        "\n",
        "#computing polarisation and prevailing sentiment for the topic\n",
        "    positive_score = 0\n",
        "    negative_score = 0\n",
        "    neutral_score = 0\n",
        "    polar_score = 0\n",
        "    sentiment = 0\n",
        "\n",
        "    for label, overall_score in comment_sentiment:\n",
        "       if label == 'positive':\n",
        "        positive_score += overall_score\n",
        "        sentiment += overall_score\n",
        "       if label == 'negative':\n",
        "        negative_score += overall_score\n",
        "        sentiment -= overall_score\n",
        "       if label == 'neutral':\n",
        "        neutral_score += overall_score\n",
        "    try:\n",
        "        overall_polar_score = 1 - neutral_score/len(comment_sentiment) - abs(negative_score- positive_score)/len(comment_sentiment)\n",
        "        overall_sentiment = sentiment/len(comment_sentiment)\n",
        "\n",
        "    except Exception as e:\n",
        "                print(e)\n",
        "                print(comment_sentiment)\n",
        "                print(a)\n",
        "                print(post)\n",
        "                break\n",
        "    df.at[i, 'overall_polar_score'] = overall_polar_score\n",
        "    df.at[i, 'overall_sentiment'] = overall_sentiment\n",
        "\n",
        "\n",
        "  return df\n",
        "\n",
        "\n",
        "\n",
        "# text = pd.read_csv('/content/text_comments.csv')\n",
        "text = com\n",
        "text = sentiment_of_topic(text)\n"
      ]
    },
    {
      "cell_type": "code",
      "execution_count": null,
      "metadata": {
        "id": "3YZzvHhi6hh5"
      },
      "outputs": [],
      "source": [
        "text.to_csv(\"anti_text_1000_anotherone.csv\", index=False)"
      ]
    },
    {
      "cell_type": "code",
      "source": [
        "text.shape"
      ],
      "metadata": {
        "colab": {
          "base_uri": "https://localhost:8080/"
        },
        "id": "NqXt-mcezwgL",
        "outputId": "8cd234ce-26f2-44f0-c907-1c03c44394bb"
      },
      "execution_count": null,
      "outputs": [
        {
          "output_type": "execute_result",
          "data": {
            "text/plain": [
              "(2175, 16)"
            ]
          },
          "metadata": {},
          "execution_count": 37
        }
      ]
    },
    {
      "cell_type": "markdown",
      "metadata": {
        "id": "uA_vS-kHdory"
      },
      "source": [
        "## Analysing the sentiment"
      ]
    },
    {
      "cell_type": "code",
      "execution_count": null,
      "metadata": {
        "id": "mU9QmLpOdqjG"
      },
      "outputs": [],
      "source": [
        "import pandas as pd\n",
        "import matplotlib.pyplot as plt\n",
        "import numpy as np"
      ]
    },
    {
      "cell_type": "code",
      "execution_count": null,
      "metadata": {
        "id": "3JzP4DFLdtZt"
      },
      "outputs": [],
      "source": [
        "df = pd.read_csv('anti_text_1000_anotherone.csv')\n",
        "# df.to_csv('anti_text_1000_anotherone.csv', index=True)"
      ]
    },
    {
      "cell_type": "code",
      "execution_count": null,
      "metadata": {
        "colab": {
          "base_uri": "https://localhost:8080/",
          "height": 964
        },
        "id": "tcqjRuYIzD4A",
        "outputId": "f3e33674-edd5-45a5-d9da-bd1575037c78"
      },
      "outputs": [
        {
          "output_type": "execute_result",
          "data": {
            "text/plain": [
              "      message_id                       date  \\\n",
              "0           5145  2025-01-10 10:59:26+00:00   \n",
              "1           5142  2025-01-10 09:15:18+00:00   \n",
              "2           5136  2025-01-10 08:36:04+00:00   \n",
              "3           5135  2025-01-10 08:32:00+00:00   \n",
              "4           5134  2025-01-10 08:30:04+00:00   \n",
              "...          ...                        ...   \n",
              "2170        7175  2025-01-02 10:54:24+00:00   \n",
              "2171        7166  2024-12-29 09:08:31+00:00   \n",
              "2172        7008  2024-11-22 12:01:50+00:00   \n",
              "2173        6838  2024-10-24 10:01:18+00:00   \n",
              "2174        6822  2024-10-22 07:30:33+00:00   \n",
              "\n",
              "                                                   text  via_bot  \\\n",
              "0     **Ебанат, разбивший утром окно в курской школе...      NaN   \n",
              "1     **В Курске долбаеб напал на школу**\\n\\nНападен...      NaN   \n",
              "2                                                   NaN      NaN   \n",
              "3     Компьютерные игры нужно запретить в России!!!!...      NaN   \n",
              "4     ❗️Геймеры в России смогут входить в игры тольк...      NaN   \n",
              "...                                                 ...      ...   \n",
              "2170  Множество серьезных нападений на полицейских и...      NaN   \n",
              "2171  Как РСП воспитывает очередного аленяку... \\n\\n...      NaN   \n",
              "2172  В метро во всех картинках виноват мужчина.\\n\\n...      NaN   \n",
              "2173  Семейные ценности выглядят теперь так:\\n\\n[Муж...      NaN   \n",
              "2174  Мать выгуливала свою **дочь-квадробера** в одн...      NaN   \n",
              "\n",
              "          sender_id  channel_id                 channel_username  \\\n",
              "0    -1001921078737  1921078737  vlad_chastnyi_privatnyi_butylka   \n",
              "1    -1001921078737  1921078737  vlad_chastnyi_privatnyi_butylka   \n",
              "2    -1001921078737  1921078737  vlad_chastnyi_privatnyi_butylka   \n",
              "3    -1001921078737  1921078737  vlad_chastnyi_privatnyi_butylka   \n",
              "4    -1001921078737  1921078737  vlad_chastnyi_privatnyi_butylka   \n",
              "...             ...         ...                              ...   \n",
              "2170 -1001429264495  1429264495                         aviva_md   \n",
              "2171 -1001429264495  1429264495                         aviva_md   \n",
              "2172 -1001429264495  1429264495                         aviva_md   \n",
              "2173 -1001429264495  1429264495                         aviva_md   \n",
              "2174 -1001429264495  1429264495                         aviva_md   \n",
              "\n",
              "                                               comments  original_channel_id  \\\n",
              "0     [{'comment_id': 264652, 'user_id': 7224293346,...                  NaN   \n",
              "1     [{'comment_id': 264628, 'user_id': 1819716498,...                  NaN   \n",
              "2     [{'comment_id': 264648, 'user_id': 5824010666,...                  NaN   \n",
              "3     [{'comment_id': 264649, 'user_id': 1246031125,...                  NaN   \n",
              "4     [{'comment_id': 264646, 'user_id': 1246031125,...                  NaN   \n",
              "...                                                 ...                  ...   \n",
              "2170  [{'comment_id': 203110, 'user_id': 7234993531,...                  NaN   \n",
              "2171  [{'comment_id': 203940, 'user_id': 6207681677,...                  NaN   \n",
              "2172  [{'comment_id': 203473, 'user_id': 5245283938,...                  NaN   \n",
              "2173  [{'comment_id': 204486, 'user_id': 5738789312,...                  NaN   \n",
              "2174  [{'comment_id': 204483, 'user_id': 5738789312,...                  NaN   \n",
              "\n",
              "     original_channel_name original_post_author original_date  \\\n",
              "0                      NaN                  NaN           NaN   \n",
              "1                      NaN                  NaN           NaN   \n",
              "2                      NaN                  NaN           NaN   \n",
              "3                      NaN                  NaN           NaN   \n",
              "4                      NaN                  NaN           NaN   \n",
              "...                    ...                  ...           ...   \n",
              "2170                   NaN                  NaN           NaN   \n",
              "2171                   NaN                  NaN           NaN   \n",
              "2172                   NaN                  NaN           NaN   \n",
              "2173                   NaN                  NaN           NaN   \n",
              "2174                   NaN                  NaN           NaN   \n",
              "\n",
              "                 mentioned_posts  \\\n",
              "0                            NaN   \n",
              "1                            NaN   \n",
              "2                            NaN   \n",
              "3                            NaN   \n",
              "4                            NaN   \n",
              "...                          ...   \n",
              "2170  [['aviva_md', 1429264495]]   \n",
              "2171  [['aviva_md', 1429264495]]   \n",
              "2172  [['aviva_md', 1429264495]]   \n",
              "2173  [['aviva_md', 1429264495]]   \n",
              "2174  [['aviva_md', 1429264495]]   \n",
              "\n",
              "                                          comments_text  overall_polar_score  \\\n",
              "0     ['Что за тёлка такая, что на терракты пробивае...             0.404937   \n",
              "1     ['Долбоеб, мог бы пару русснявых подсвинков за...             0.095387   \n",
              "2     ['Шляпа ноутбук, не для игр))))', 'агрессия не...             0.359637   \n",
              "3     ['Зато смотреть на гнилые анусы полезно', 'про...             0.237215   \n",
              "4     ['Пацаны, возвращаемся на торренты', 'Яндекс.С...             0.297970   \n",
              "...                                                 ...                  ...   \n",
              "2170  ['Само правительство и способствует падению де...             0.055324   \n",
              "2171  ['Накл ее', 'Вот так эти конченые РСП хи и кал...             0.505438   \n",
              "2172  ['Справедливости ради, в одной всё-таки женщин...             0.030653   \n",
              "2173                                            ['Яма']             0.003723   \n",
              "2174  ['Кхм... Кхм... Опека бухает? \\nОни где вообще?']             0.013588   \n",
              "\n",
              "      overall_sentiment  \n",
              "0             -0.085371  \n",
              "1             -0.254367  \n",
              "2             -0.053200  \n",
              "3             -0.317586  \n",
              "4             -0.129417  \n",
              "...                 ...  \n",
              "2170          -0.322586  \n",
              "2171           0.000000  \n",
              "2172           0.000000  \n",
              "2173           0.000000  \n",
              "2174           0.000000  \n",
              "\n",
              "[2175 rows x 16 columns]"
            ],
            "text/html": [
              "\n",
              "  <div id=\"df-60f8bb6f-1843-4d5e-8642-c34970a8c5bb\" class=\"colab-df-container\">\n",
              "    <div>\n",
              "<style scoped>\n",
              "    .dataframe tbody tr th:only-of-type {\n",
              "        vertical-align: middle;\n",
              "    }\n",
              "\n",
              "    .dataframe tbody tr th {\n",
              "        vertical-align: top;\n",
              "    }\n",
              "\n",
              "    .dataframe thead th {\n",
              "        text-align: right;\n",
              "    }\n",
              "</style>\n",
              "<table border=\"1\" class=\"dataframe\">\n",
              "  <thead>\n",
              "    <tr style=\"text-align: right;\">\n",
              "      <th></th>\n",
              "      <th>message_id</th>\n",
              "      <th>date</th>\n",
              "      <th>text</th>\n",
              "      <th>via_bot</th>\n",
              "      <th>sender_id</th>\n",
              "      <th>channel_id</th>\n",
              "      <th>channel_username</th>\n",
              "      <th>comments</th>\n",
              "      <th>original_channel_id</th>\n",
              "      <th>original_channel_name</th>\n",
              "      <th>original_post_author</th>\n",
              "      <th>original_date</th>\n",
              "      <th>mentioned_posts</th>\n",
              "      <th>comments_text</th>\n",
              "      <th>overall_polar_score</th>\n",
              "      <th>overall_sentiment</th>\n",
              "    </tr>\n",
              "  </thead>\n",
              "  <tbody>\n",
              "    <tr>\n",
              "      <th>0</th>\n",
              "      <td>5145</td>\n",
              "      <td>2025-01-10 10:59:26+00:00</td>\n",
              "      <td>**Ебанат, разбивший утром окно в курской школе...</td>\n",
              "      <td>NaN</td>\n",
              "      <td>-1001921078737</td>\n",
              "      <td>1921078737</td>\n",
              "      <td>vlad_chastnyi_privatnyi_butylka</td>\n",
              "      <td>[{'comment_id': 264652, 'user_id': 7224293346,...</td>\n",
              "      <td>NaN</td>\n",
              "      <td>NaN</td>\n",
              "      <td>NaN</td>\n",
              "      <td>NaN</td>\n",
              "      <td>NaN</td>\n",
              "      <td>['Что за тёлка такая, что на терракты пробивае...</td>\n",
              "      <td>0.404937</td>\n",
              "      <td>-0.085371</td>\n",
              "    </tr>\n",
              "    <tr>\n",
              "      <th>1</th>\n",
              "      <td>5142</td>\n",
              "      <td>2025-01-10 09:15:18+00:00</td>\n",
              "      <td>**В Курске долбаеб напал на школу**\\n\\nНападен...</td>\n",
              "      <td>NaN</td>\n",
              "      <td>-1001921078737</td>\n",
              "      <td>1921078737</td>\n",
              "      <td>vlad_chastnyi_privatnyi_butylka</td>\n",
              "      <td>[{'comment_id': 264628, 'user_id': 1819716498,...</td>\n",
              "      <td>NaN</td>\n",
              "      <td>NaN</td>\n",
              "      <td>NaN</td>\n",
              "      <td>NaN</td>\n",
              "      <td>NaN</td>\n",
              "      <td>['Долбоеб, мог бы пару русснявых подсвинков за...</td>\n",
              "      <td>0.095387</td>\n",
              "      <td>-0.254367</td>\n",
              "    </tr>\n",
              "    <tr>\n",
              "      <th>2</th>\n",
              "      <td>5136</td>\n",
              "      <td>2025-01-10 08:36:04+00:00</td>\n",
              "      <td>NaN</td>\n",
              "      <td>NaN</td>\n",
              "      <td>-1001921078737</td>\n",
              "      <td>1921078737</td>\n",
              "      <td>vlad_chastnyi_privatnyi_butylka</td>\n",
              "      <td>[{'comment_id': 264648, 'user_id': 5824010666,...</td>\n",
              "      <td>NaN</td>\n",
              "      <td>NaN</td>\n",
              "      <td>NaN</td>\n",
              "      <td>NaN</td>\n",
              "      <td>NaN</td>\n",
              "      <td>['Шляпа ноутбук, не для игр))))', 'агрессия не...</td>\n",
              "      <td>0.359637</td>\n",
              "      <td>-0.053200</td>\n",
              "    </tr>\n",
              "    <tr>\n",
              "      <th>3</th>\n",
              "      <td>5135</td>\n",
              "      <td>2025-01-10 08:32:00+00:00</td>\n",
              "      <td>Компьютерные игры нужно запретить в России!!!!...</td>\n",
              "      <td>NaN</td>\n",
              "      <td>-1001921078737</td>\n",
              "      <td>1921078737</td>\n",
              "      <td>vlad_chastnyi_privatnyi_butylka</td>\n",
              "      <td>[{'comment_id': 264649, 'user_id': 1246031125,...</td>\n",
              "      <td>NaN</td>\n",
              "      <td>NaN</td>\n",
              "      <td>NaN</td>\n",
              "      <td>NaN</td>\n",
              "      <td>NaN</td>\n",
              "      <td>['Зато смотреть на гнилые анусы полезно', 'про...</td>\n",
              "      <td>0.237215</td>\n",
              "      <td>-0.317586</td>\n",
              "    </tr>\n",
              "    <tr>\n",
              "      <th>4</th>\n",
              "      <td>5134</td>\n",
              "      <td>2025-01-10 08:30:04+00:00</td>\n",
              "      <td>❗️Геймеры в России смогут входить в игры тольк...</td>\n",
              "      <td>NaN</td>\n",
              "      <td>-1001921078737</td>\n",
              "      <td>1921078737</td>\n",
              "      <td>vlad_chastnyi_privatnyi_butylka</td>\n",
              "      <td>[{'comment_id': 264646, 'user_id': 1246031125,...</td>\n",
              "      <td>NaN</td>\n",
              "      <td>NaN</td>\n",
              "      <td>NaN</td>\n",
              "      <td>NaN</td>\n",
              "      <td>NaN</td>\n",
              "      <td>['Пацаны, возвращаемся на торренты', 'Яндекс.С...</td>\n",
              "      <td>0.297970</td>\n",
              "      <td>-0.129417</td>\n",
              "    </tr>\n",
              "    <tr>\n",
              "      <th>...</th>\n",
              "      <td>...</td>\n",
              "      <td>...</td>\n",
              "      <td>...</td>\n",
              "      <td>...</td>\n",
              "      <td>...</td>\n",
              "      <td>...</td>\n",
              "      <td>...</td>\n",
              "      <td>...</td>\n",
              "      <td>...</td>\n",
              "      <td>...</td>\n",
              "      <td>...</td>\n",
              "      <td>...</td>\n",
              "      <td>...</td>\n",
              "      <td>...</td>\n",
              "      <td>...</td>\n",
              "      <td>...</td>\n",
              "    </tr>\n",
              "    <tr>\n",
              "      <th>2170</th>\n",
              "      <td>7175</td>\n",
              "      <td>2025-01-02 10:54:24+00:00</td>\n",
              "      <td>Множество серьезных нападений на полицейских и...</td>\n",
              "      <td>NaN</td>\n",
              "      <td>-1001429264495</td>\n",
              "      <td>1429264495</td>\n",
              "      <td>aviva_md</td>\n",
              "      <td>[{'comment_id': 203110, 'user_id': 7234993531,...</td>\n",
              "      <td>NaN</td>\n",
              "      <td>NaN</td>\n",
              "      <td>NaN</td>\n",
              "      <td>NaN</td>\n",
              "      <td>[['aviva_md', 1429264495]]</td>\n",
              "      <td>['Само правительство и способствует падению де...</td>\n",
              "      <td>0.055324</td>\n",
              "      <td>-0.322586</td>\n",
              "    </tr>\n",
              "    <tr>\n",
              "      <th>2171</th>\n",
              "      <td>7166</td>\n",
              "      <td>2024-12-29 09:08:31+00:00</td>\n",
              "      <td>Как РСП воспитывает очередного аленяку... \\n\\n...</td>\n",
              "      <td>NaN</td>\n",
              "      <td>-1001429264495</td>\n",
              "      <td>1429264495</td>\n",
              "      <td>aviva_md</td>\n",
              "      <td>[{'comment_id': 203940, 'user_id': 6207681677,...</td>\n",
              "      <td>NaN</td>\n",
              "      <td>NaN</td>\n",
              "      <td>NaN</td>\n",
              "      <td>NaN</td>\n",
              "      <td>[['aviva_md', 1429264495]]</td>\n",
              "      <td>['Накл ее', 'Вот так эти конченые РСП хи и кал...</td>\n",
              "      <td>0.505438</td>\n",
              "      <td>0.000000</td>\n",
              "    </tr>\n",
              "    <tr>\n",
              "      <th>2172</th>\n",
              "      <td>7008</td>\n",
              "      <td>2024-11-22 12:01:50+00:00</td>\n",
              "      <td>В метро во всех картинках виноват мужчина.\\n\\n...</td>\n",
              "      <td>NaN</td>\n",
              "      <td>-1001429264495</td>\n",
              "      <td>1429264495</td>\n",
              "      <td>aviva_md</td>\n",
              "      <td>[{'comment_id': 203473, 'user_id': 5245283938,...</td>\n",
              "      <td>NaN</td>\n",
              "      <td>NaN</td>\n",
              "      <td>NaN</td>\n",
              "      <td>NaN</td>\n",
              "      <td>[['aviva_md', 1429264495]]</td>\n",
              "      <td>['Справедливости ради, в одной всё-таки женщин...</td>\n",
              "      <td>0.030653</td>\n",
              "      <td>0.000000</td>\n",
              "    </tr>\n",
              "    <tr>\n",
              "      <th>2173</th>\n",
              "      <td>6838</td>\n",
              "      <td>2024-10-24 10:01:18+00:00</td>\n",
              "      <td>Семейные ценности выглядят теперь так:\\n\\n[Муж...</td>\n",
              "      <td>NaN</td>\n",
              "      <td>-1001429264495</td>\n",
              "      <td>1429264495</td>\n",
              "      <td>aviva_md</td>\n",
              "      <td>[{'comment_id': 204486, 'user_id': 5738789312,...</td>\n",
              "      <td>NaN</td>\n",
              "      <td>NaN</td>\n",
              "      <td>NaN</td>\n",
              "      <td>NaN</td>\n",
              "      <td>[['aviva_md', 1429264495]]</td>\n",
              "      <td>['Яма']</td>\n",
              "      <td>0.003723</td>\n",
              "      <td>0.000000</td>\n",
              "    </tr>\n",
              "    <tr>\n",
              "      <th>2174</th>\n",
              "      <td>6822</td>\n",
              "      <td>2024-10-22 07:30:33+00:00</td>\n",
              "      <td>Мать выгуливала свою **дочь-квадробера** в одн...</td>\n",
              "      <td>NaN</td>\n",
              "      <td>-1001429264495</td>\n",
              "      <td>1429264495</td>\n",
              "      <td>aviva_md</td>\n",
              "      <td>[{'comment_id': 204483, 'user_id': 5738789312,...</td>\n",
              "      <td>NaN</td>\n",
              "      <td>NaN</td>\n",
              "      <td>NaN</td>\n",
              "      <td>NaN</td>\n",
              "      <td>[['aviva_md', 1429264495]]</td>\n",
              "      <td>['Кхм... Кхм... Опека бухает? \\nОни где вообще?']</td>\n",
              "      <td>0.013588</td>\n",
              "      <td>0.000000</td>\n",
              "    </tr>\n",
              "  </tbody>\n",
              "</table>\n",
              "<p>2175 rows × 16 columns</p>\n",
              "</div>\n",
              "    <div class=\"colab-df-buttons\">\n",
              "\n",
              "  <div class=\"colab-df-container\">\n",
              "    <button class=\"colab-df-convert\" onclick=\"convertToInteractive('df-60f8bb6f-1843-4d5e-8642-c34970a8c5bb')\"\n",
              "            title=\"Convert this dataframe to an interactive table.\"\n",
              "            style=\"display:none;\">\n",
              "\n",
              "  <svg xmlns=\"http://www.w3.org/2000/svg\" height=\"24px\" viewBox=\"0 -960 960 960\">\n",
              "    <path d=\"M120-120v-720h720v720H120Zm60-500h600v-160H180v160Zm220 220h160v-160H400v160Zm0 220h160v-160H400v160ZM180-400h160v-160H180v160Zm440 0h160v-160H620v160ZM180-180h160v-160H180v160Zm440 0h160v-160H620v160Z\"/>\n",
              "  </svg>\n",
              "    </button>\n",
              "\n",
              "  <style>\n",
              "    .colab-df-container {\n",
              "      display:flex;\n",
              "      gap: 12px;\n",
              "    }\n",
              "\n",
              "    .colab-df-convert {\n",
              "      background-color: #E8F0FE;\n",
              "      border: none;\n",
              "      border-radius: 50%;\n",
              "      cursor: pointer;\n",
              "      display: none;\n",
              "      fill: #1967D2;\n",
              "      height: 32px;\n",
              "      padding: 0 0 0 0;\n",
              "      width: 32px;\n",
              "    }\n",
              "\n",
              "    .colab-df-convert:hover {\n",
              "      background-color: #E2EBFA;\n",
              "      box-shadow: 0px 1px 2px rgba(60, 64, 67, 0.3), 0px 1px 3px 1px rgba(60, 64, 67, 0.15);\n",
              "      fill: #174EA6;\n",
              "    }\n",
              "\n",
              "    .colab-df-buttons div {\n",
              "      margin-bottom: 4px;\n",
              "    }\n",
              "\n",
              "    [theme=dark] .colab-df-convert {\n",
              "      background-color: #3B4455;\n",
              "      fill: #D2E3FC;\n",
              "    }\n",
              "\n",
              "    [theme=dark] .colab-df-convert:hover {\n",
              "      background-color: #434B5C;\n",
              "      box-shadow: 0px 1px 3px 1px rgba(0, 0, 0, 0.15);\n",
              "      filter: drop-shadow(0px 1px 2px rgba(0, 0, 0, 0.3));\n",
              "      fill: #FFFFFF;\n",
              "    }\n",
              "  </style>\n",
              "\n",
              "    <script>\n",
              "      const buttonEl =\n",
              "        document.querySelector('#df-60f8bb6f-1843-4d5e-8642-c34970a8c5bb button.colab-df-convert');\n",
              "      buttonEl.style.display =\n",
              "        google.colab.kernel.accessAllowed ? 'block' : 'none';\n",
              "\n",
              "      async function convertToInteractive(key) {\n",
              "        const element = document.querySelector('#df-60f8bb6f-1843-4d5e-8642-c34970a8c5bb');\n",
              "        const dataTable =\n",
              "          await google.colab.kernel.invokeFunction('convertToInteractive',\n",
              "                                                    [key], {});\n",
              "        if (!dataTable) return;\n",
              "\n",
              "        const docLinkHtml = 'Like what you see? Visit the ' +\n",
              "          '<a target=\"_blank\" href=https://colab.research.google.com/notebooks/data_table.ipynb>data table notebook</a>'\n",
              "          + ' to learn more about interactive tables.';\n",
              "        element.innerHTML = '';\n",
              "        dataTable['output_type'] = 'display_data';\n",
              "        await google.colab.output.renderOutput(dataTable, element);\n",
              "        const docLink = document.createElement('div');\n",
              "        docLink.innerHTML = docLinkHtml;\n",
              "        element.appendChild(docLink);\n",
              "      }\n",
              "    </script>\n",
              "  </div>\n",
              "\n",
              "\n",
              "<div id=\"df-f0762edb-79d7-41c1-a79f-d8c3245e0bf5\">\n",
              "  <button class=\"colab-df-quickchart\" onclick=\"quickchart('df-f0762edb-79d7-41c1-a79f-d8c3245e0bf5')\"\n",
              "            title=\"Suggest charts\"\n",
              "            style=\"display:none;\">\n",
              "\n",
              "<svg xmlns=\"http://www.w3.org/2000/svg\" height=\"24px\"viewBox=\"0 0 24 24\"\n",
              "     width=\"24px\">\n",
              "    <g>\n",
              "        <path d=\"M19 3H5c-1.1 0-2 .9-2 2v14c0 1.1.9 2 2 2h14c1.1 0 2-.9 2-2V5c0-1.1-.9-2-2-2zM9 17H7v-7h2v7zm4 0h-2V7h2v10zm4 0h-2v-4h2v4z\"/>\n",
              "    </g>\n",
              "</svg>\n",
              "  </button>\n",
              "\n",
              "<style>\n",
              "  .colab-df-quickchart {\n",
              "      --bg-color: #E8F0FE;\n",
              "      --fill-color: #1967D2;\n",
              "      --hover-bg-color: #E2EBFA;\n",
              "      --hover-fill-color: #174EA6;\n",
              "      --disabled-fill-color: #AAA;\n",
              "      --disabled-bg-color: #DDD;\n",
              "  }\n",
              "\n",
              "  [theme=dark] .colab-df-quickchart {\n",
              "      --bg-color: #3B4455;\n",
              "      --fill-color: #D2E3FC;\n",
              "      --hover-bg-color: #434B5C;\n",
              "      --hover-fill-color: #FFFFFF;\n",
              "      --disabled-bg-color: #3B4455;\n",
              "      --disabled-fill-color: #666;\n",
              "  }\n",
              "\n",
              "  .colab-df-quickchart {\n",
              "    background-color: var(--bg-color);\n",
              "    border: none;\n",
              "    border-radius: 50%;\n",
              "    cursor: pointer;\n",
              "    display: none;\n",
              "    fill: var(--fill-color);\n",
              "    height: 32px;\n",
              "    padding: 0;\n",
              "    width: 32px;\n",
              "  }\n",
              "\n",
              "  .colab-df-quickchart:hover {\n",
              "    background-color: var(--hover-bg-color);\n",
              "    box-shadow: 0 1px 2px rgba(60, 64, 67, 0.3), 0 1px 3px 1px rgba(60, 64, 67, 0.15);\n",
              "    fill: var(--button-hover-fill-color);\n",
              "  }\n",
              "\n",
              "  .colab-df-quickchart-complete:disabled,\n",
              "  .colab-df-quickchart-complete:disabled:hover {\n",
              "    background-color: var(--disabled-bg-color);\n",
              "    fill: var(--disabled-fill-color);\n",
              "    box-shadow: none;\n",
              "  }\n",
              "\n",
              "  .colab-df-spinner {\n",
              "    border: 2px solid var(--fill-color);\n",
              "    border-color: transparent;\n",
              "    border-bottom-color: var(--fill-color);\n",
              "    animation:\n",
              "      spin 1s steps(1) infinite;\n",
              "  }\n",
              "\n",
              "  @keyframes spin {\n",
              "    0% {\n",
              "      border-color: transparent;\n",
              "      border-bottom-color: var(--fill-color);\n",
              "      border-left-color: var(--fill-color);\n",
              "    }\n",
              "    20% {\n",
              "      border-color: transparent;\n",
              "      border-left-color: var(--fill-color);\n",
              "      border-top-color: var(--fill-color);\n",
              "    }\n",
              "    30% {\n",
              "      border-color: transparent;\n",
              "      border-left-color: var(--fill-color);\n",
              "      border-top-color: var(--fill-color);\n",
              "      border-right-color: var(--fill-color);\n",
              "    }\n",
              "    40% {\n",
              "      border-color: transparent;\n",
              "      border-right-color: var(--fill-color);\n",
              "      border-top-color: var(--fill-color);\n",
              "    }\n",
              "    60% {\n",
              "      border-color: transparent;\n",
              "      border-right-color: var(--fill-color);\n",
              "    }\n",
              "    80% {\n",
              "      border-color: transparent;\n",
              "      border-right-color: var(--fill-color);\n",
              "      border-bottom-color: var(--fill-color);\n",
              "    }\n",
              "    90% {\n",
              "      border-color: transparent;\n",
              "      border-bottom-color: var(--fill-color);\n",
              "    }\n",
              "  }\n",
              "</style>\n",
              "\n",
              "  <script>\n",
              "    async function quickchart(key) {\n",
              "      const quickchartButtonEl =\n",
              "        document.querySelector('#' + key + ' button');\n",
              "      quickchartButtonEl.disabled = true;  // To prevent multiple clicks.\n",
              "      quickchartButtonEl.classList.add('colab-df-spinner');\n",
              "      try {\n",
              "        const charts = await google.colab.kernel.invokeFunction(\n",
              "            'suggestCharts', [key], {});\n",
              "      } catch (error) {\n",
              "        console.error('Error during call to suggestCharts:', error);\n",
              "      }\n",
              "      quickchartButtonEl.classList.remove('colab-df-spinner');\n",
              "      quickchartButtonEl.classList.add('colab-df-quickchart-complete');\n",
              "    }\n",
              "    (() => {\n",
              "      let quickchartButtonEl =\n",
              "        document.querySelector('#df-f0762edb-79d7-41c1-a79f-d8c3245e0bf5 button');\n",
              "      quickchartButtonEl.style.display =\n",
              "        google.colab.kernel.accessAllowed ? 'block' : 'none';\n",
              "    })();\n",
              "  </script>\n",
              "</div>\n",
              "\n",
              "  <div id=\"id_e3d338f7-79c5-4cd7-8568-21efbd451cc1\">\n",
              "    <style>\n",
              "      .colab-df-generate {\n",
              "        background-color: #E8F0FE;\n",
              "        border: none;\n",
              "        border-radius: 50%;\n",
              "        cursor: pointer;\n",
              "        display: none;\n",
              "        fill: #1967D2;\n",
              "        height: 32px;\n",
              "        padding: 0 0 0 0;\n",
              "        width: 32px;\n",
              "      }\n",
              "\n",
              "      .colab-df-generate:hover {\n",
              "        background-color: #E2EBFA;\n",
              "        box-shadow: 0px 1px 2px rgba(60, 64, 67, 0.3), 0px 1px 3px 1px rgba(60, 64, 67, 0.15);\n",
              "        fill: #174EA6;\n",
              "      }\n",
              "\n",
              "      [theme=dark] .colab-df-generate {\n",
              "        background-color: #3B4455;\n",
              "        fill: #D2E3FC;\n",
              "      }\n",
              "\n",
              "      [theme=dark] .colab-df-generate:hover {\n",
              "        background-color: #434B5C;\n",
              "        box-shadow: 0px 1px 3px 1px rgba(0, 0, 0, 0.15);\n",
              "        filter: drop-shadow(0px 1px 2px rgba(0, 0, 0, 0.3));\n",
              "        fill: #FFFFFF;\n",
              "      }\n",
              "    </style>\n",
              "    <button class=\"colab-df-generate\" onclick=\"generateWithVariable('df')\"\n",
              "            title=\"Generate code using this dataframe.\"\n",
              "            style=\"display:none;\">\n",
              "\n",
              "  <svg xmlns=\"http://www.w3.org/2000/svg\" height=\"24px\"viewBox=\"0 0 24 24\"\n",
              "       width=\"24px\">\n",
              "    <path d=\"M7,19H8.4L18.45,9,17,7.55,7,17.6ZM5,21V16.75L18.45,3.32a2,2,0,0,1,2.83,0l1.4,1.43a1.91,1.91,0,0,1,.58,1.4,1.91,1.91,0,0,1-.58,1.4L9.25,21ZM18.45,9,17,7.55Zm-12,3A5.31,5.31,0,0,0,4.9,8.1,5.31,5.31,0,0,0,1,6.5,5.31,5.31,0,0,0,4.9,4.9,5.31,5.31,0,0,0,6.5,1,5.31,5.31,0,0,0,8.1,4.9,5.31,5.31,0,0,0,12,6.5,5.46,5.46,0,0,0,6.5,12Z\"/>\n",
              "  </svg>\n",
              "    </button>\n",
              "    <script>\n",
              "      (() => {\n",
              "      const buttonEl =\n",
              "        document.querySelector('#id_e3d338f7-79c5-4cd7-8568-21efbd451cc1 button.colab-df-generate');\n",
              "      buttonEl.style.display =\n",
              "        google.colab.kernel.accessAllowed ? 'block' : 'none';\n",
              "\n",
              "      buttonEl.onclick = () => {\n",
              "        google.colab.notebook.generateWithVariable('df');\n",
              "      }\n",
              "      })();\n",
              "    </script>\n",
              "  </div>\n",
              "\n",
              "    </div>\n",
              "  </div>\n"
            ],
            "application/vnd.google.colaboratory.intrinsic+json": {
              "type": "dataframe",
              "variable_name": "df",
              "summary": "{\n  \"name\": \"df\",\n  \"rows\": 2175,\n  \"fields\": [\n    {\n      \"column\": \"message_id\",\n      \"properties\": {\n        \"dtype\": \"number\",\n        \"std\": 1232,\n        \"min\": 10,\n        \"max\": 7212,\n        \"num_unique_values\": 1158,\n        \"samples\": [\n          4092,\n          4640,\n          4928\n        ],\n        \"semantic_type\": \"\",\n        \"description\": \"\"\n      }\n    },\n    {\n      \"column\": \"date\",\n      \"properties\": {\n        \"dtype\": \"object\",\n        \"num_unique_values\": 1588,\n        \"samples\": [\n          \"2024-09-04 10:37:47+00:00\",\n          \"2024-11-25 14:35:01+00:00\",\n          \"2023-08-09 09:52:06+00:00\"\n        ],\n        \"semantic_type\": \"\",\n        \"description\": \"\"\n      }\n    },\n    {\n      \"column\": \"text\",\n      \"properties\": {\n        \"dtype\": \"string\",\n        \"num_unique_values\": 1150,\n        \"samples\": [\n          \"\\u0423\\u043a\\u0440\\u0430\\u0438\\u043d\\u0441\\u043a\\u043e\\u0435 \\u0448\\u043e\\u0443 \\u0434\\u043b\\u044f \\u0437\\u043d\\u0430\\u043a\\u043e\\u043c\\u0441\\u0442\\u0432. \\u0417\\u0430 \\u044d\\u0442\\u043e \\u0433\\u0438\\u0431\\u043d\\u0435\\u0442 \\u0445\\u043e\\u0445\\u043e\\u043b \\u043f\\u043e\\u0434 \\u041a\\u0443\\u0440\\u0430\\u0445\\u043e\\u0432\\u043e?\\n\\n[**\\u041f\\u043e\\u0437\\u0434\\u043d\\u044f\\u043a\\u043e\\u0432. \\u041f\\u043e\\u0434\\u043f\\u0438\\u0441\\u0430\\u0442\\u044c\\u0441\\u044f**](https://t.me/+0e641-gSsaBiZmU6)\",\n          \"\\u041a\\u043e \\u043c\\u043d\\u0435 \\u043d\\u0430\\u0447\\u0430\\u043b\\u0430 \\u043f\\u0440\\u0438\\u0441\\u0442\\u0430\\u0432\\u0430\\u0442\\u044c \\u0442\\u043e\\u043b\\u0441\\u0442\\u0430\\u044f \\u0434\\u0435\\u0432\\u0430\\u0445\\u0430. \\u0427\\u0442\\u043e \\u0434\\u0435\\u043b\\u0430\\u0442\\u044c?\",\n          \"\\u0410 \\u0432\\u044b \\u0443\\u0432\\u0435\\u0440\\u0435\\u043d\\u044b, \\u0447\\u0442\\u043e \\u043f\\u0440\\u0438 \\u043f\\u043e\\u0431\\u0435\\u0434\\u0435 \\u0422\\u0440\\u0430\\u043c\\u043f\\u0430 \\u0420\\u043e\\u0441\\u0441\\u0438\\u0438 \\u0431\\u0443\\u0434\\u0435\\u0442 \\u0445\\u043e\\u0440\\u043e\\u0448\\u043e?\\n\\n[**\\u041f\\u043e\\u0437\\u0434\\u043d\\u044f\\u043a\\u043e\\u0432. \\u041f\\u043e\\u0434\\u043f\\u0438\\u0441\\u0430\\u0442\\u044c\\u0441\\u044f**](https://t.me/+0e641-gSsaBiZmU6)\"\n        ],\n        \"semantic_type\": \"\",\n        \"description\": \"\"\n      }\n    },\n    {\n      \"column\": \"via_bot\",\n      \"properties\": {\n        \"dtype\": \"number\",\n        \"std\": null,\n        \"min\": 5586943863.0,\n        \"max\": 5586943863.0,\n        \"num_unique_values\": 1,\n        \"samples\": [\n          5586943863.0\n        ],\n        \"semantic_type\": \"\",\n        \"description\": \"\"\n      }\n    },\n    {\n      \"column\": \"sender_id\",\n      \"properties\": {\n        \"dtype\": \"number\",\n        \"std\": 71252313,\n        \"min\": -1001921078737,\n        \"max\": -1001429264495,\n        \"num_unique_values\": 4,\n        \"samples\": [\n          -1001824409104\n        ],\n        \"semantic_type\": \"\",\n        \"description\": \"\"\n      }\n    },\n    {\n      \"column\": \"channel_id\",\n      \"properties\": {\n        \"dtype\": \"number\",\n        \"std\": 71252313,\n        \"min\": 1429264495,\n        \"max\": 1921078737,\n        \"num_unique_values\": 4,\n        \"samples\": [\n          1824409104\n        ],\n        \"semantic_type\": \"\",\n        \"description\": \"\"\n      }\n    },\n    {\n      \"column\": \"channel_username\",\n      \"properties\": {\n        \"dtype\": \"category\",\n        \"num_unique_values\": 4,\n        \"samples\": [\n          \"Incel_Aesthetic\"\n        ],\n        \"semantic_type\": \"\",\n        \"description\": \"\"\n      }\n    },\n    {\n      \"column\": \"comments\",\n      \"properties\": {\n        \"dtype\": \"string\",\n        \"num_unique_values\": 1605,\n        \"samples\": [\n          \"[{'comment_id': 190885, 'user_id': 7250164522, 'text': '\\u042f \\u0440\\u0430\\u0437\\u0431\\u0438\\u043b \\u0433\\u043e\\u043b\\u043e\\u0432\\u0443 \\u0442\\u0432\\u043e\\u0435\\u0439 \\u043c\\u0430\\u0442\\u0435\\u0440\\u0438 \\u0432\\u044b\\u0441\\u0435\\u0440 \\u0431\\u043b\\u044f\\u0434\\u0438', 'date': '2024-11-10T16:14:00+00:00'}, {'comment_id': 190884, 'user_id': 7250164522, 'text': '\\u0422\\u044b \\u0442\\u043e\\u043b\\u044c\\u043a\\u043e \\u0443\\u0437\\u043d\\u0430\\u043b \\u043a\\u0430\\u043a \\u0441\\u0442\\u0440\\u0435\\u043b\\u043a\\u0438 \\u044e\\u0437\\u0430\\u0442\\u044c? \\u0410 \\u043c\\u043e\\u0436\\u0435\\u0442 \\u0442\\u0432\\u043e\\u0438\\u043c \\u0440\\u043e\\u0434\\u0438\\u0442\\u0435\\u043b\\u044f\\u043c \\u0441\\u0442\\u043e\\u0438\\u043b\\u043e \\u0433\\u0430\\u043d\\u0434\\u043e\\u043d\\u044b \\u044e\\u0437\\u0430\\u0442\\u044c?', 'date': '2024-11-10T16:13:27+00:00'}, {'comment_id': 190883, 'user_id': 5971471301, 'text': '\\u0412\\u044b\\u0441\\u0435\\u0440 \\u0441\\u0432\\u0438\\u043d\\u043e\\u0431\\u043b\\u044f\\u0434\\u0438, \\u0442\\u044b \\u0432\\u044b\\u0441\\u0440\\u0430\\u043d \\u0447\\u0442\\u043e\\u0431\\u044b \\u0445\\u0443\\u0439 \\u0441\\u043e\\u0441\\u0430\\u0442\\u044c', 'date': '2024-11-10T16:13:25+00:00'}, {'comment_id': 190882, 'user_id': 7250164522, 'text': '\\u042f \\u043c\\u0430\\u0442\\u0435\\u0440\\u0438 \\u0442\\u0432\\u043e\\u0435\\u0439 \\u0430\\u0440\\u0442\\u0435\\u0440\\u0438\\u044e \\u0440\\u0435\\u0437\\u0430\\u043b \\u0441\\u044b\\u043d \\u0442\\u0432\\u0430\\u0440\\u0438 \\u043f\\u0443\\u0441\\u043a\\u0430\\u043b\\u0438 \\u0442\\u0432\\u043e\\u044e \\u0441\\u0435\\u043c\\u044c\\u044e \\u043f\\u043e \\u043a\\u0440\\u0443\\u0433\\u0443 \\u043d\\u0438\\u0448\\u0438\\u0435\\u0431 \\u0431\\u043b\\u044f\\u0434\\u0441\\u043a\\u0438\\u0439', 'date': '2024-11-10T16:12:52+00:00'}, {'comment_id': 190881, 'user_id': 5971471301, 'text': '\\u0422\\u044b \\u0435\\u0449\\u0451 \\u0438 \\u043f\\u043b\\u0430\\u0442\\u0438\\u043b \\u0441\\u0432\\u043e\\u0435\\u0439 \\u043c\\u0430\\u043c\\u0430\\u0448\\u0435 \\u0437\\u0430 \\u043e\\u0442\\u0441\\u043e\\u0441? \\\\n\\u0410 \\u043c\\u043d\\u0435 \\u0442\\u0432\\u043e\\u044f \\u043c\\u0430\\u043c\\u0430\\u0448\\u0430 \\u0441\\u043e\\u0441\\u0451\\u0442 \\u0431\\u0435\\u0441\\u043f\\u043b\\u0430\\u0442\\u043d\\u043e', 'date': '2024-11-10T16:12:49+00:00'}, {'comment_id': 190880, 'user_id': 7250164522, 'text': '\\u0414\\u043b\\u044f \\u0441\\u043f\\u0440\\u0430\\u0432\\u043a\\u0438 \\u0442\\u0432\\u043e\\u0435\\u0439 \\u043c\\u0430\\u0442\\u0435\\u0440\\u0438 \\u044f \\u0434\\u0430\\u0432\\u0430\\u043b 50 \\u0440\\u0443\\u0431\\u043b\\u0435\\u0439 \\u0438 \\u043e\\u043d\\u0430 \\u043c\\u043d\\u0435 \\u0441\\u043e\\u0441\\u0430\\u043b\\u0430', 'date': '2024-11-10T16:11:41+00:00'}, {'comment_id': 190878, 'user_id': 5971471301, 'text': '\\u0414\\u0430\\u0432\\u0430\\u0439, \\u0435\\u0431\\u0438 \\u0441\\u0432\\u043e\\u044e \\u043c\\u0430\\u043c\\u0430\\u0448\\u0443 \\u0448\\u0430\\u0431\\u043e\\u043b\\u0434\\u0443 \\ud83e\\udd23', 'date': '2024-11-10T16:11:18+00:00'}, {'comment_id': 190877, 'user_id': 7250164522, 'text': '\\u0414\\u0430\\u0432\\u0430\\u0439 \\u044f \\u0434\\u0430\\u043c \\u0442\\u0435\\u0431\\u0435 100 \\u0440\\u0443\\u0431\\u043b\\u0435\\u0439 \\u0438 \\u0442\\u044b \\u043c\\u043d\\u0435 \\u0441\\u043e\\u0441\\u043d\\u0435\\u0448?', 'date': '2024-11-10T16:11:07+00:00'}, {'comment_id': 190875, 'user_id': 7250164522, 'text': '\\u041e\\u043f, \\u0442\\u044b \\u043e\\u043a\\u043e\\u043d\\u0447\\u0430\\u0442\\u0435\\u043b\\u044c\\u043d\\u043e \\u043f\\u0440\\u043e\\u0435\\u0431\\u0430\\u043b\\u0441\\u044f, \\u044f \\u0438\\u0434\\u0443 \\u0442\\u0440\\u0430\\u0445\\u0430\\u0442\\u044c \\u0442\\u0432\\u043e\\u044e \\u043c\\u0430\\u0442\\u044c \\u0441\\u044b\\u043d \\u0448\\u0430\\u0431\\u043e\\u043b\\u0434\\u044b', 'date': '2024-11-10T16:10:55+00:00'}, {'comment_id': 190874, 'user_id': 5971471301, 'text': '\\u041f\\u043e\\u0436\\u0430\\u043b\\u0435\\u0439 \\u0441\\u0432\\u043e\\u044e \\u043c\\u0430\\u043c\\u0430\\u0448\\u0443, \\u0435\\u0451 \\u0438 \\u0442\\u0430\\u043a \\u0432\\u0441\\u0435 \\u043a\\u043e\\u043c\\u0443 \\u043d\\u0435 \\u043b\\u0435\\u043d\\u044c \\u0435\\u0431\\u0430\\u043b\\u0438 \\u0432\\u0441\\u044e \\u0436\\u0438\\u0437\\u043d\\u044c', 'date': '2024-11-10T16:10:17+00:00'}, {'comment_id': 190873, 'user_id': 7250164522, 'text': '\\u041d\\u0435 \\u043f\\u0440\\u0438\\u0432\\u044b\\u043a\\u0430\\u0442\\u044c \\u0440\\u0430\\u0441\\u0441\\u043a\\u0430\\u0437\\u044b\\u0432\\u0430\\u0442\\u044c \\u043e \\u0442\\u043e\\u043c \\u043a\\u0430\\u043a \\u044f \\u0435\\u0431\\u0430\\u043b \\u0442\\u0432\\u043e\\u044e \\u0442\\u0443\\u043f\\u043e\\u0433\\u043e\\u043b\\u043e\\u0432\\u0443\\u044e \\u043c\\u0430\\u043c\\u0430\\u0448\\u0443?', 'date': '2024-11-10T16:10:05+00:00'}, {'comment_id': 190872, 'user_id': 7250164522, 'text': '\\u0415\\u0449\\u0451 \\u043e\\u0434\\u043d\\u0430 \\u0441\\u0442\\u0440\\u0435\\u043b\\u043a\\u0430 \\u0438 \\u044f \\u043b\\u043e\\u043c\\u0430\\u044e \\u0435\\u0431\\u0430\\u043b\\u043e \\u0442\\u0432\\u043e\\u0435\\u0439 \\u043c\\u0430\\u0442\\u0435\\u0440\\u0438, \\u0438 \\u0442\\u044b \\u043f\\u0440\\u043e\\u0435\\u0431\\u044b\\u0432\\u0430\\u0435\\u0448 \\u043e\\u043a\\u043e\\u043d\\u0447\\u0430\\u0442\\u0435\\u043b\\u044c\\u043d\\u043e', 'date': '2024-11-10T16:09:38+00:00'}, {'comment_id': 190871, 'user_id': 5971471301, 'text': '\\u041d\\u0443 \\u0441\\u043e\\u0441\\u0438 \\u0441\\u043e\\u0441\\u0438, \\u0442\\u0435\\u0431\\u0435 \\u043d\\u0435 \\u043f\\u0440\\u0438\\u0432\\u044b\\u043a\\u0430\\u0442\\u044c', 'date': '2024-11-10T16:09:10+00:00'}, {'comment_id': 190870, 'user_id': 7250164522, 'text': '\\u041d\\u0443 \\u0432\\u0441\\u0435, \\u0442\\u044b \\u043e\\u043a\\u043e\\u043d\\u0447\\u0430\\u0442\\u0435\\u043b\\u044c\\u043d\\u043e \\u043f\\u0435\\u0440\\u0435\\u0448\\u0451\\u043b \\u043d\\u0430 \\u0441\\u0442\\u0440\\u0435\\u043b\\u043a\\u0438 \\u0447\\u0442\\u043e \\u0437\\u043d\\u0430\\u0447\\u0438\\u0442 \\u0447\\u0442\\u043e \\u043f\\u0440\\u043e\\u0435\\u0431\\u0430\\u043b', 'date': '2024-11-10T16:09:09+00:00'}, {'comment_id': 190869, 'user_id': 7250164522, 'text': '\\u0421\\u0442\\u0440\\u0435\\u043b\\u043a\\u0443 \\u043c\\u0435\\u0442\\u043d\\u0443\\u043b \\u0445\\u0443\\u0439 \\u0441\\u043e\\u0441\\u043d\\u0443\\u043b', 'date': '2024-11-10T16:08:51+00:00'}, {'comment_id': 190868, 'user_id': 5971471301, 'text': '\\u0422\\u044b \\u0441\\u0432\\u043e\\u044e \\u043c\\u0430\\u043c\\u0430\\u0448\\u0443 \\u0435\\u0449\\u0451 \\u0438 \\u043a\\u0438\\u0440\\u043f\\u0438\\u0447\\u043e\\u043c \\u0432 \\u0436\\u043e\\u043f\\u0443 \\u0434\\u043e\\u043b\\u0431\\u0438\\u0448\\u044c?', 'date': '2024-11-10T16:08:37+00:00'}, {'comment_id': 190866, 'user_id': 7250164522, 'text': '\\u041d\\u0443 \\u0438 \\u0445\\u0443\\u0439\\u043d\\u044e \\u0436\\u0435 \\u0442\\u044b \\u0432\\u044b\\u0434\\u0430\\u043b, \\u0442\\u044b \\u0436\\u0435 \\u0432 \\u043a\\u0443\\u0440\\u0441\\u0435 \\u0447\\u0442\\u043e \\u044f \\u0442\\u0432\\u043e\\u0435\\u0439 \\u043c\\u0430\\u0442\\u0435\\u0440\\u0438 \\u043a\\u0438\\u0440\\u043f\\u0438\\u0447\\u043e\\u043c \\u043f\\u043e \\u0435\\u0431\\u0430\\u043b\\u0443 \\u0431\\u0438\\u043b?', 'date': '2024-11-10T16:08:03+00:00'}, {'comment_id': 190865, 'user_id': 5971471301, 'text': '\\u0414\\u0443\\u0440\\u0430, \\u044d\\u0442\\u043e \\u043c\\u043e\\u0439 \\u0445\\u0443\\u0439 \\u0442\\u0435\\u0431\\u0435 \\u0432 \\u0436\\u043e\\u043f\\u0443 \\ud83e\\udd23', 'date': '2024-11-10T16:07:24+00:00'}, {'comment_id': 190864, 'user_id': 7250164522, 'text': '\\u041e\\u043f\\u044f\\u0442\\u044c \\u0441\\u0442\\u0440\\u0435\\u043b\\u043a\\u0438)', 'date': '2024-11-10T16:07:01+00:00'}, {'comment_id': 190862, 'user_id': 5971471301, 'text': '\\u042f \\u043d\\u0435 \\u0443\\u0434\\u0438\\u0432\\u043b\\u0435\\u043d \\u0447\\u0442\\u043e \\u0442\\u0432\\u043e\\u044f \\u043c\\u0430\\u043c\\u0430\\u0448\\u0430 \\u044d\\u0442\\u043e \\u0441\\u0434\\u0435\\u043b\\u0430\\u043b\\u0430 \\ud83e\\udd23', 'date': '2024-11-10T16:06:50+00:00'}, {'comment_id': 190861, 'user_id': 7250164522, 'text': '\\u042f \\u0435\\u0435 \\u043a\\u0441\\u0442\\u0430\\u0442\\u0438 \\u0438 \\u043d\\u0430\\u043a\\u0430\\u0447\\u0430\\u043b \\u043d\\u0430\\u0440\\u043a\\u043e\\u0442\\u043e\\u0439, \\u0438 \\u044f \\u043a\\u0430\\u043a \\u0440\\u0430\\u0437 \\u0438 \\u043f\\u043e\\u0434\\u0441\\u0443\\u043d\\u0443\\u043b \\u0442\\u0432\\u043e\\u0435\\u0439 \\u043c\\u0430\\u0442\\u0435\\u0440\\u0438 \\u043b\\u0435\\u0437\\u0432\\u0438\\u044f \\u0441\\u043a\\u0430\\u0437\\u0430\\u0432 \\u0447\\u0442\\u043e \\u044d\\u0442\\u043e \\u0437\\u0430\\u043b\\u0443\\u043f\\u0430\\ud83d\\ude18', 'date': '2024-11-10T16:06:46+00:00'}, {'comment_id': 190860, 'user_id': 7250164522, 'text': '\\u041f\\u0440\\u0430\\u0432\\u0434\\u0430 \\u0442\\u043e\\u043b\\u044c\\u043a\\u043e \\u0442\\u043e \\u0447\\u0442\\u043e \\u0442\\u0432\\u043e\\u044f \\u043c\\u0430\\u0442\\u044c \\u043f\\u043e\\u0434 \\u043b\\u0441\\u0434 \\u0441\\u043e\\u0441\\u0430\\u043b\\u0430 \\u043b\\u0435\\u0437\\u0432\\u0438\\u044f \\u0434\\u0443\\u043c\\u0430\\u044f \\u0447\\u0442\\u043e \\u044d\\u0442\\u043e \\u0445\\u0443\\u0438 \\u0438 \\u0435\\u0439 \\u0437\\u0430\\u043f\\u043b\\u0430\\u0442\\u044f\\u0442)', 'date': '2024-11-10T16:06:15+00:00'}, {'comment_id': 190859, 'user_id': 5971471301, 'text': '\\u0422\\u0435\\u0431\\u0435 \\u043d\\u0435 \\u043d\\u0440\\u0430\\u0432\\u0438\\u0442\\u0441\\u044f \\u0447\\u0442\\u043e \\u044f \\u0433\\u043e\\u0432\\u043e\\u0440\\u044e \\u043f\\u0440\\u0430\\u0432\\u0434\\u0443 \\u043e \\u0442\\u0435\\u0431\\u0435\\ud83e\\udd23', 'date': '2024-11-10T16:05:34+00:00'}, {'comment_id': 190858, 'user_id': 7250164522, 'text': '\\u041d\\u0443 \\u0432\\u0441\\u0435, \\u0442\\u044b \\u043d\\u0430\\u0447\\u0430\\u043b \\u0441\\u043b\\u0438\\u0432\\u0430\\u0442\\u0441\\u044f', 'date': '2024-11-10T16:05:02+00:00'}, {'comment_id': 190856, 'user_id': 7250164522, 'text': '\\u0421\\u0442\\u0440\\u0435\\u043b\\u043a\\u0438)', 'date': '2024-11-10T16:04:47+00:00'}, {'comment_id': 190855, 'user_id': 5971471301, 'text': '\\u041d\\u0443 \\u044f \\u043f\\u043e\\u043d\\u044f\\u043b \\u0447\\u0442\\u043e \\u0442\\u044b \\u0441\\u0432\\u043e\\u044e \\u043c\\u0430\\u043c\\u043a\\u0443 \\u0442\\u0440\\u0430\\u0445\\u0430\\u0435\\u0448\\u044c \\u043d\\u0435 \\u0436\\u0430\\u043b\\u0435\\u044f, \\u0442\\u0430\\u043a \\u0441\\u043a\\u0430\\u0437\\u0430\\u0442\\u044c \\u0441\\u043a\\u0440\\u0435\\u043f\\u043d\\u043e, \\u0434\\u0443\\u0448\\u0435\\u0432\\u043d\\u043e \\u043f\\u043e \\u0434\\u043e\\u043c\\u0430\\u0448\\u043d\\u0435\\u043c\\u0443 ))', 'date': '2024-11-10T16:04:39+00:00'}, {'comment_id': 190853, 'user_id': 7250164522, 'text': '\\u042f \\u0442\\u0432\\u043e\\u0435\\u0439 \\u043c\\u0430\\u0442\\u0435\\u0440\\u0438 \\u043a\\u0430\\u0434\\u044b\\u043a \\u043b\\u043e\\u043c\\u0430\\u043b, \\u0438 \\u043e\\u043d\\u0430 \\u043c\\u0435\\u0440\\u0441\\u043a\\u0430\\u044f \\u0447\\u0442\\u043e \\u043f\\u0438\\u0437\\u0434\\u0435\\u0446, \\u0435\\u0439 \\u0442\\u043e\\u043b\\u044c\\u043a\\u043e \\u043b\\u0438\\u0446\\u043e \\u0441\\u0440\\u0435\\u0437\\u0430\\u0442\\u044c \\u043c\\u043e\\u0434\\u043d\\u043e \\u0447\\u0442\\u043e \\u044f \\u0438 \\u0441\\u0434\\u0435\\u043b\\u0430\\u043b', 'date': '2024-11-10T16:03:45+00:00'}, {'comment_id': 190850, 'user_id': 5971471301, 'text': '\\u042d\\u0442\\u043e \\u044f \\u0442\\u0430\\u043a \\u0431\\u0430\\u043b\\u0434\\u0435\\u043b \\u043e\\u0442 \\u0442\\u043e\\u0433\\u043e \\u043a\\u0430\\u043a \\u0441\\u043e\\u0441\\u0430\\u043b\\u0430 \\u0442\\u0432\\u043e\\u044f \\u043c\\u0430\\u043c\\u0430\\u0448\\u0430 \\u043c\\u043e\\u0439 \\u0445\\u0443\\u0439', 'date': '2024-11-10T16:02:29+00:00'}, {'comment_id': 190849, 'user_id': 7250164522, 'text': '\\u0415\\u0441\\u043b\\u0438 \\u0442\\u0432\\u043e\\u044f \\u043c\\u0430\\u0442\\u044c \\u0436\\u0438\\u0432\\u0430 \\u0443\\u043c\\u0440\\u0438, \\u0438 \\u0443 \\u0442\\u0435\\u0431\\u044f \\u0433\\u043e\\u043b\\u043e\\u0441 \\u043a\\u0430\\u043a \\u0443 \\u0431\\u0430\\u0431\\u044b', 'date': '2024-11-10T16:01:46+00:00'}, {'comment_id': 190846, 'user_id': 5971471301, 'text': '\\u0415\\u0441\\u043b\\u0438 \\u0442\\u0432\\u043e\\u044f \\u043c\\u0430\\u043c\\u0430\\u0448\\u0430 \\u0448\\u043b\\u044e\\u0445\\u0430, \\u0436\\u0438\\u0432\\u0438', 'date': '2024-11-10T16:01:17+00:00'}, {'comment_id': 190845, 'user_id': 7250164522, 'text': '\\u0415\\u0441\\u043b\\u0438 \\u0442\\u0432\\u043e\\u044f \\u043c\\u0430\\u0442\\u044c \\u0448\\u043b\\u044e\\u0445\\u0430 \\u0434\\u044b\\u0448\\u0438', 'date': '2024-11-10T16:00:49+00:00'}, {'comment_id': 190842, 'user_id': 5185766971, 'text': '\\u0415\\u0441\\u043b\\u0438 \\u0442\\u044b \\u0445\\u0443\\u0435\\u0441\\u043e\\u0441\\u043a\\u0430 .\\u0422\\u043e \\u043e\\u0442\\u0432\\u0435\\u0442\\u044c \\u043c\\u043d\\u0435 .', 'date': '2024-11-10T16:00:24+00:00'}, {'comment_id': 190839, 'user_id': 7250164522, 'text': '\\u0414\\u043b\\u044f \\u0441\\u043f\\u0440\\u0430\\u0432\\u043a\\u0438 \\u0443 \\u0442\\u0435\\u0431\\u044f \\u043f\\u043e\\u0447\\u0442\\u0438 \\u0432\\u0441\\u044f \\u0440\\u043e\\u0434\\u043d\\u044f \\u0438\\u043c\\u0438 \\u044f\\u0432\\u043b\\u044f\\u0435\\u0442\\u0441\\u044f...', 'date': '2024-11-10T16:00:00+00:00'}, {'comment_id': 190837, 'user_id': 5185766971, 'text': '\\ud83e\\udd23\\ud83e\\udd23\\ud83e\\udd23\\u041a\\u0430\\u0446\\u0430\\u043f\\u043e\\u0431\\u043e\\u0442 .\\u0415\\u0441\\u043b\\u0438 \\u043e\\u0442\\u0432\\u0435\\u0442\\u0438\\u0448\\u044c ,\\u0437\\u043d\\u0430\\u0447\\u0438\\u0442 \\u0432\\u0441\\u0435 \\u043a\\u0430\\u0446\\u0430\\u043f\\u044b \\u0425\\u0443\\u0435\\u0441\\u043e\\u0441\\u044b .', 'date': '2024-11-10T15:59:31+00:00'}, {'comment_id': 190834, 'user_id': 7250164522, 'text': '\\u042f \\u0442\\u0432\\u043e\\u0435\\u0439 \\u043c\\u0430\\u0442\\u0435\\u0440\\u0438 \\u0442\\u043e\\u043f\\u043e\\u0440\\u043e\\u043c \\u0435\\u0431\\u0430\\u043b\\u043e \\u0440\\u0430\\u0437\\u0445\\u0443\\u044f\\u0440\\u044e \\u0441\\u0435\\u0439\\u0447\\u0430\\u0441 \\u0443\\u0435\\u0431\\u0438\\u0436\\u0435 \\u0435\\u0431\\u0430\\u043d\\u043e\\u0435, \\u0441\\u044b\\u043d \\u043b\\u044f\\u0440\\u0432\\u044b \\u0442\\u044b \\u0445\\u0443\\u043b\\u0438 \\u0441\\u0435\\u0431\\u0435 \\u043f\\u043e\\u0437\\u0432\\u043e\\u043b\\u044f\\u0435\\u0448?', 'date': '2024-11-10T15:58:35+00:00'}, {'comment_id': 190832, 'user_id': 5185766971, 'text': '\\u0421\\u043b\\u044b\\u0448\\u044c \\u0445\\u0443\\u0435\\u0441\\u043e\\u0441\\u043a\\u0430 .\\u0427\\u0442\\u043e \\u0442\\u0435\\u0431\\u0435 \\u043d\\u0430 \\u043b\\u0431\\u0443 \\u043d\\u0430\\u043f\\u0438\\u0441\\u0430\\u043b\\u0438 ,\\u043a\\u043e\\u0433\\u0434\\u0430 \\u0442\\u0435\\u0431\\u044f \\u0441\\u0435\\u0433\\u043e\\u0434\\u043d\\u044f \\u0432\\u043e \\u0432\\u0441\\u0435 \\u0434\\u044b\\u0440\\u044b \\u0435\\u0431\\u0430\\u043b\\u0438 .? \\u041d\\u0430\\u043f\\u0438\\u0448\\u0438 \\u043e\\u0442\\u0432\\u0435\\u0442 ,\\u044f \\u0436\\u0434\\u0443', 'date': '2024-11-10T15:57:43+00:00'}, {'comment_id': 190830, 'user_id': 7250164522, 'text': '\\u0422\\u044b \\u043e\\u0442\\u043f\\u0438\\u0441\\u044b\\u0432\\u0430\\u043b \\u0441 \\u043d\\u0438\\u0437\\u0443:)', 'date': '2024-11-10T15:57:25+00:00'}, {'comment_id': 190825, 'user_id': 7250164522, 'text': '\\u044f \\u0442\\u0432\\u043e\\u044e \\u043c\\u0430\\u0442\\u044c \\u0440\\u0435\\u0437\\u0430\\u043b, \\u0432\\u043e\\u043f\\u0440\\u043e\\u0441\\u044b?\\\\n\\u041e\\u0442\\u043f\\u0438\\u0448\\u0438 \\u0441\\u043d\\u0438\\u0437\\u0443 \\u0435\\u0441\\u043b\\u0438 \\u0444\\u0430\\u043d\\u0430\\u0442 \\u043c\\u043e\\u0435\\u0433\\u043e \\u0445\\u0443\\u044f', 'date': '2024-11-10T15:56:28+00:00'}, {'comment_id': 190822, 'user_id': 5185766971, 'text': '\\u0425\\u0440\\u044e\\u043a\\u043d\\u0438 \\u0435\\u0449\\u0451 .', 'date': '2024-11-10T15:55:25+00:00'}, {'comment_id': 190821, 'user_id': 7250164522, 'text': '\\u0417\\u0430\\u0445\\u0443\\u0439 \\u0442\\u044b \\u0441\\u043e \\u0441\\u0432\\u043e\\u0438\\u043c \\u043e\\u0442\\u0446\\u043e\\u043c \\u0432 \\u0447\\u0430\\u0442\\u0435 \\u0433\\u043e\\u0432\\u043e\\u0440\\u0438\\u0448 \\u0431\\u043b\\u044f\\u0434\\u043e\\u0442\\u0430?', 'date': '2024-11-10T15:55:13+00:00'}, {'comment_id': 190816, 'user_id': 5185766971, 'text': '\\u0421\\u043c\\u0435\\u0448\\u043d\\u043e \\u0445\\u0440\\u044e\\u043a\\u0430\\u0435\\u0448\\u044c.\\u0425\\u0440\\u044e\\u043a\\u043d\\u0438 \\u0435\\u0449\\u0451 .', 'date': '2024-11-10T15:54:41+00:00'}, {'comment_id': 190814, 'user_id': 7250164522, 'text': '\\u0417\\u0430\\u0442\\u043e \\u0441\\u0435\\u043c\\u044c\\u044f \\u0436\\u0438\\u0432\\u0430 \\u0432 \\u043e\\u0442\\u043b\\u0438\\u0447\\u0438\\u0435 \\u043e\\u0442 \\u0442\\u0435\\u0431\\u044f...', 'date': '2024-11-10T15:54:13+00:00'}, {'comment_id': 190811, 'user_id': 5185766971, 'text': '\\u0423 \\u043a\\u0430\\u0446\\u0430\\u043f\\u043e\\u0431\\u043e\\u0442\\u0430 \\u043f\\u0440\\u043e\\u0431\\u043b\\u0435\\u043c\\u0430 \\u0441 \\u0433\\u0440\\u0430\\u043c\\u043c\\u0430\\u0442\\u0438\\u043a\\u043e\\u0439 .\\ud83e\\udd23', 'date': '2024-11-10T15:53:40+00:00'}, {'comment_id': 190808, 'user_id': 7250164522, 'text': '\\u042f \\u0432\\u044b\\u0441\\u0442\\u0440\\u0435\\u043b\\u0438 \\u0442\\u0432\\u043e\\u0435\\u0439 \\u043c\\u0430\\u0442\\u0435\\u0440\\u0438 \\u0432 \\u0432\\u0438\\u0441\\u043e\\u043a', 'date': '2024-11-10T15:53:00+00:00'}, {'comment_id': 190803, 'user_id': 5185766971, 'text': '\\u0412\\u044b\\u043b\\u0438\\u0436\\u0438 \\u0438 \\u0438\\u0445.', 'date': '2024-11-10T15:51:47+00:00'}, {'comment_id': 190801, 'user_id': 5185766971, 'text': '\\u041d\\u0430 \\u0440\\u043e\\u0421\\u0421\\u0438\\u0438 \\u043f\\u0440\\u043e\\u0431\\u043b\\u0435\\u043c\\u0430 \\u0441 \\u043a\\u043b\\u0430\\u0434\\u0431\\u0438\\u0449\\u0430\\u043c\\u0438 ...\\u0441\\u043b\\u0438\\u0448\\u043a\\u043e\\u043c \\u0431\\u044b\\u0441\\u0442\\u0440\\u043e \\u0437\\u0430\\u043f\\u043e\\u043b\\u043d\\u044f\\u044e\\u0442\\u0441\\u044f', 'date': '2024-11-10T15:51:38+00:00'}, {'comment_id': 190800, 'user_id': 7250164522, 'text': '\\u0421\\u0442\\u0440\\u0435\\u043b\\u043a\\u0438\\u2728', 'date': '2024-11-10T15:51:19+00:00'}, {'comment_id': 190799, 'user_id': 7250164522, 'text': '\\u0417\\u0430\\u0442\\u043e \\u0432 \\u0423\\u043a\\u0440\\u0430\\u0438\\u043d\\u0435 \\u043d\\u0435\\u0442 \\u043f\\u0440\\u043e\\u0431\\u043b\\u0435\\u043c \\u0441 \\u043a\\u043b\\u0430\\u0434\\u0431\\u0438\\u0449\\u0430\\u043c\\u0438\\ud83d\\ude18\\\\n\\u0420\\u0435\\u0433\\u0443\\u043b\\u044f\\u0440\\u043d\\u043e + 3 \\u043a\\u0430\\u0436\\u0434\\u044b\\u0439 \\u0434\\u0435\\u043d\\u044c\\ud83e\\udd70', 'date': '2024-11-10T15:51:13+00:00'}, {'comment_id': 190798, 'user_id': 5185766971, 'text': '\\u0422\\u044b \\u0434\\u043e\\u043a\\u0430\\u0437\\u0430\\u043b\\u043e \\u0447\\u0442\\u043e \\u0440\\u043e\\u0421\\u0421\\u0438\\u044f\\u043d\\u0438 - \\u0441\\u0432\\u0438\\u043d\\u043e\\u0441\\u043e\\u0431\\u0430\\u043a\\u0438 \\ud83e\\udd23\\ud83d\\udc4d', 'date': '2024-11-10T15:51:11+00:00'}, {'comment_id': 190796, 'user_id': 7633011504, 'text': '\\u0422\\u0432\\u043e\\u044f \\u0441\\u0432\\u0438\\u043d\\u043e\\u043c\\u0430\\u0442\\u044c \\u0443 \\u0432\\u0441\\u0435\\u0445 \\u043a\\u043e\\u0431\\u0435\\u043b\\u0435\\u0439 \\u043d\\u0430 \\u0440\\u0430\\u0439\\u043e\\u043d\\u0435 \\u043e\\u0442\\u0441\\u043e\\u0441\\u0430\\u043b\\u0430', 'date': '2024-11-10T15:50:45+00:00'}, {'comment_id': 190795, 'user_id': 5185766971, 'text': '\\u041d\\u0443 \\u043d\\u0430 \\u0440\\u043e\\u0421\\u0421\\u0438\\u0438 \\u0438 \\u043d\\u0430\\u0440\\u043e\\u0434\\u0430 \\u043d\\u0435\\u0442 - \\u0442\\u0430\\u043c \\u043e\\u0434\\u043d\\u0438 \\u0441\\u0432\\u0438\\u043d\\u043e\\u0441\\u043e\\u0431\\u0430\\u043a\\u0438', 'date': '2024-11-10T15:50:37+00:00'}, {'comment_id': 190794, 'user_id': 7250164522, 'text': '\\u0412\\u044b\\u0441\\u0442\\u0430\\u0432\\u0438\\u043b \\u0441\\u0432\\u043e\\u0439 \\u043d\\u0430\\u0440\\u043e\\u0434 \\u0431\\u044b\\u0434\\u043b\\u043e\\u043c \\u0441\\u044b\\u043d \\u0441\\u043e\\u0431\\u0430\\u043a\\u0438\\u2728\\ud83d\\udc4d', 'date': '2024-11-10T15:50:31+00:00'}, {'comment_id': 190792, 'user_id': 7250164522, 'text': '\\u041d\\u0430\\u0440\\u043e\\u0434 \\u0423\\u043a\\u0440\\u0430\\u0438\\u043d\\u044b \\u0442\\u0430\\u043a\\u043e\\u0439 :', 'date': '2024-11-10T15:50:11+00:00'}, {'comment_id': 190791, 'user_id': 7250164522, 'text': '\\u041d\\u0430 \\u0435\\u0433\\u043e \\u043c\\u0430\\u0442\\u044c \\u043d\\u0435 \\u043f\\u0438\\u0437\\u0434\\u0438 \\u0432\\u044b\\u0431\\u043b\\u044f\\u0434\\u043e\\u043a, \\u044f \\u0442\\u0435\\u0431\\u0435 \\u0435\\u0431\\u0430\\u043b\\u043e \\u0437\\u0430 \\u044d\\u0442\\u043e \\u0441\\u043d\\u0435\\u0441\\u0443 \\u0441\\u044b\\u043d \\u0441\\u0432\\u0438\\u043d\\u043e\\u043f\\u0430\\u0441\\u0430', 'date': '2024-11-10T15:49:45+00:00'}, {'comment_id': 190790, 'user_id': 5185766971, 'text': '\\u0415\\u0431\\u0430\\u0442\\u044c .\\u041d\\u0443 \\u0438 \\u0442\\u0443\\u043f\\u044b\\u0435 \\u043a\\u0430\\u0446\\u0430\\u043f\\u043e\\u0431\\u043e\\u0442\\u044b .', 'date': '2024-11-10T15:49:33+00:00'}, {'comment_id': 190789, 'user_id': 5185766971, 'text': '\\u0422\\u044b \\u0438 \\u0441\\u0432\\u043e\\u044e \\u0441\\u0432\\u0438\\u043d\\u043e\\u043c\\u0430\\u0442\\u044c \\u0437\\u0430\\u0441\\u0442\\u0430\\u0432\\u0438\\u043b\\u043e \\u0443 \\u043c\\u043e\\u0435\\u0433\\u043e \\u043a\\u043e\\u0431\\u0435\\u043b\\u044f \\u0441\\u043e\\u0441\\u0430\\u0442\\u044c?  \\ud83e\\udd23\\ud83e\\udd23\\ud83e\\udd23', 'date': '2024-11-10T15:49:14+00:00'}, {'comment_id': 190788, 'user_id': 7250164522, 'text': '\\u041d\\u0435 \\u0445\\u043e\\u0447\\u0443 \\u0443\\u043f\\u043e\\u0434\\u043e\\u0431\\u043b\\u044f\\u0435\\u0442\\u0441\\u044f \\u0442\\u0432\\u043e\\u0435\\u0439 \\u043c\\u0435\\u0440\\u0437\\u043e\\u0442\\u043d\\u043e\\u0439 \\u043c\\u0430\\u0442\\u0435\\u0440\\u0438', 'date': '2024-11-10T15:48:59+00:00'}, {'comment_id': 190787, 'user_id': 7633011504, 'text': '\\u0412\\u044b \\u0441 \\u043c\\u0430\\u0442\\u0435\\u0440\\u044c\\u044e \\u0437\\u0430\\u0435\\u0431\\u043b\\u0438 \\u0435\\u0433\\u043e \\u0443\\u0436\\u0435\\ud83d\\ude02\\u043f\\u0440\\u0435\\u043a\\u0440\\u0430\\u0442\\u0438\\u0442\\u0435, \\u0442\\u0432\\u0430\\u0440\\u0438', 'date': '2024-11-10T15:48:42+00:00'}, {'comment_id': 190786, 'user_id': 5185766971, 'text': '\\u0421\\u043e\\u0441\\u0438 \\u0438 \\u0438\\u0445.', 'date': '2024-11-10T15:48:25+00:00'}, {'comment_id': 190785, 'user_id': 7250164522, 'text': '\\u0421\\u0442\\u0440\\u0435\\u043b\\u043a\\u0438)', 'date': '2024-11-10T15:48:15+00:00'}, {'comment_id': 190784, 'user_id': 5185766971, 'text': '\\u041d\\u0435 \\u0445\\u043e\\u0447\\u0435\\u0448\\u044c \\u0445\\u0443\\u0439 \\u0441\\u043e \\u0440\\u0442\\u0430 \\u0441\\u0432\\u043e\\u0435\\u0433\\u043e \\u0432\\u044b\\u043f\\u0443\\u0441\\u043a\\u0430\\u0442\\u044c ? \\u041d\\u0443 \\u0441\\u043e\\u0441\\u0438 \\u0445\\u0443\\u0439 \\u0438 \\u043d\\u0435 \\u043f\\u0441\\u0438\\u0445\\u0443\\u0439 \\u0442\\u043e\\u0433\\u0434\\u0430', 'date': '2024-11-10T15:48:04+00:00'}, {'comment_id': 190783, 'user_id': 7250164522, 'text': '\\u041f\\u043e\\u0442\\u043e\\u043c\\u0443 \\u0447\\u0442\\u043e \\u043e\\u0442\\u0435\\u0446 \\u0442\\u0432\\u043e\\u0439 \\u043d\\u0430 \\u0441\\u0432\\u043e \\u0443\\u043c\\u0435\\u0440 \\u0441\\u044b\\u043d \\u043d\\u0438\\u0448\\u0435\\u0439 \\u0431\\u043b\\u044f\\u0434\\u0438', 'date': '2024-11-10T15:47:54+00:00'}, {'comment_id': 190782, 'user_id': 7023883939, 'text': '\\u0422\\u0443\\u0442 \\u0447\\u0430\\u0442 \\u0434\\u043b\\u044f \\u0434\\u0435\\u0433\\u0435\\u043d\\u0435\\u0440\\u0430\\u0442\\u043e\\u0432?\\\\n\\u042d\\u0442\\u043e \\u0444\\u0435\\u0439\\u043a \\u0438\\u043b\\u0438 \\u0447\\u0442\\u043e\\\\n\\u041a\\u0443\\u0434\\u0430 \\u0434\\u0435\\u043b\\u0430\\u0441\\u044c \\u0430\\u0443\\u0434\\u0438\\u0442\\u043e\\u0440\\u0438\\u044f \\u043f\\u0438\\u0437\\u0434\\u043d\\u044f\\u043a\\u0430\\\\n\\u041f\\u0430\\u0440\\u0443 \\u0442\\u0440\\u043e\\u0439\\u043a\\u0443 \\u043f\\u0438\\u0442\\u0443\\u0445\\u043e\\u0432 \\u043a\\u0443\\u043a\\u0430\\u0440\\u0435\\u043a\\u0430\\u044e\\u0442 \\ud83d\\udc13\\ud83d\\udc13\\ud83d\\udc13 \\u043f\\u043e\\u0434 \\u043a\\u0430\\u0436\\u0434\\u044b\\u043c \\u043f\\u043e\\u0441\\u0442\\u043e\\u043c', 'date': '2024-11-10T15:47:31+00:00'}, {'comment_id': 190781, 'user_id': 7250164522, 'text': '\\u0421 \\u0445\\u0443\\u044f \\u043b\\u0438 \\u044f \\u0432\\u043e \\u0432\\u0440\\u0435\\u043c\\u044f \\u0440\\u0430\\u0437\\u0433\\u043e\\u0432\\u043e\\u0440\\u0430 \\u0434\\u043e\\u043b\\u0436\\u0435\\u043d \\u043f\\u0435\\u0440\\u0435\\u0441\\u0442\\u0430\\u0442\\u044c \\u0435\\u0431\\u0430\\u0442\\u044c \\u0442\\u0435\\u0431\\u044f \\u0432 \\u0440\\u043e\\u0442 \\u0445\\u0443\\u0438\\u0442\\u0430 \\u043f\\u043e\\u0434\\u0437\\u0430\\u043b\\u0443\\u043f\\u043d\\u0430\\u044f?', 'date': '2024-11-10T15:47:28+00:00'}, {'comment_id': 190779, 'user_id': 5185766971, 'text': '\\u0422\\u044b \\u0437\\u0430\\u0447\\u0435\\u043c \\u0443 \\u043c\\u043e\\u0435\\u0433\\u043e \\u043a\\u043e\\u0431\\u0435\\u043b\\u044f \\u043e\\u0442\\u0441\\u043e\\u0441\\u0430\\u043b\\u0430 ?', 'date': '2024-11-10T15:47:08+00:00'}, {'comment_id': 190777, 'user_id': 5185766971, 'text': '\\u041e\\u043f\\u044f\\u0442\\u044c \\u0442\\u044b \\u043f\\u0438\\u0448\\u0435\\u0448\\u044c \\u043d\\u0435 \\u0432\\u044b\\u043d\\u0438\\u043c\\u0430\\u044f \\u0445\\u0443\\u0439 \\u0443 \\u0441\\u0435\\u0431\\u044f \\u0441\\u043e \\u0440\\u0442\\u0430 .\\ud83e\\udd23', 'date': '2024-11-10T15:46:49+00:00'}, {'comment_id': 190774, 'user_id': 7250164522, 'text': '\\u0422\\u0430\\u043a \\u0441\\u0438\\u043b\\u044c\\u043d\\u043e \\u0437\\u0430\\u0434\\u0435\\u043b\\u043e? \\u041d\\u0435 \\u0437\\u043d\\u0430\\u043b \\u0447\\u0442\\u043e \\u0434\\u043b\\u044f \\u0442\\u0435\\u0431\\u044f \\u043f\\u0440\\u043e\\u0431\\u043b\\u0435\\u043c\\u0430 \\u043d\\u0430\\u0443\\u0447\\u0438\\u0442\\u0441\\u044f \\u0447\\u0438\\u0442\\u0430\\u0442\\u044c', 'date': '2024-11-10T15:45:41+00:00'}, {'comment_id': 190772, 'user_id': 7633011504, 'text': '\\u0412\\u043e\\u0442 \\u0436\\u0435 \\u0442\\u044b \\u0445\\u043e\\u0445\\u043b\\u043e\\u043f\\u0438\\u0434\\u043e\\u0440 \\u0441\\u0432\\u0438\\u043d\\u044f\\u0447\\u0438\\u0439?\\\\n\\u0417\\u0430\\u0447\\u0435\\u043c \\u0441\\u043e\\u0431\\u0430\\u043a\\u0435\\u043d\\u0430 \\u043d\\u0430\\u0441\\u0438\\u043b\\u0443\\u0435\\u0448\\u044c?', 'date': '2024-11-10T15:45:17+00:00'}, {'comment_id': 190766, 'user_id': 5185766971, 'text': '\\u0412\\u0430\\u0443 .\\u041d\\u0443 \\u0442\\u044b \\u0437\\u0430\\u0447\\u0451\\u0442\\u043d\\u0430\\u044f \\u0445\\u0443\\u0435\\u0441\\u043e\\u0441\\u043a\\u0430 .\\u0421\\u043e\\u0441\\u0435\\u0448\\u044c \\u043f\\u0440\\u0435\\u043a\\u0440\\u0430\\u0441\\u043d\\u043e.\\ud83e\\udd23\\ud83e\\udd23\\\\n\\u0422\\u0435\\u043a\\u0441\\u0442\\u0430 \\u043c\\u043d\\u043e\\u0433\\u043e .\\u0422\\u044b \\u043a\\u043e\\u0433\\u0434\\u0430 \\u043f\\u0438\\u0448\\u0435\\u0448\\u044c ,\\u0445\\u0443\\u0439 \\u0441\\u043e \\u0440\\u0442\\u0430 \\u0432\\u044b\\u043d\\u0438\\u043c\\u0430\\u0439.\\u041e\\u0448\\u0438\\u0431\\u043e\\u043a \\u043c\\u0435\\u043d\\u044c\\u0448\\u0435 \\u0431\\u0443\\u0434\\u0435\\u0442 \\ud83e\\udd23\\ud83e\\udd23', 'date': '2024-11-10T15:41:16+00:00'}, {'comment_id': 190765, 'user_id': 7250164522, 'text': '\\u0442\\u044b \\u0442\\u0443\\u043f\\u043e\\u0439\\u0440\\u044b\\u043b\\u044b\\u0439 \\u0441\\u044b\\u043d\\u044f\\u0440\\u0430 \\u0431\\u043b\\u044f\\u0434\\u0438 \\u0443\\u0436\\u0435 \\u043d\\u0430\\u0447\\u0438\\u043d\\u0430\\u0435\\u0448\\u044c \\u043c\\u0435\\u043d\\u044f \\u0440\\u0430\\u0437\\u0434\\u0440\\u0430\\u0436\\u0430\\u0442\\u044c \\u044f \\u0441\\u0435\\u0439\\u0447\\u0430\\u0441 \\u0442\\u0432\\u043e\\u044e \\u0435\\u0431\\u0430\\u043b\\u043e \\u043f\\u0440\\u0435\\u0432\\u0440\\u0430\\u0449\\u0443 \\u043a \\u043a\\u0443\\u0447\\u0443 \\u043c\\u0443\\u0441\\u043e\\u0440\\u0430 \\u0432 \\u043a\\u043e\\u0442\\u043e\\u0440\\u043e\\u0439 \\u043d\\u0435\\u043f\\u043e\\u0441\\u0440\\u0435\\u0434\\u0441\\u0442\\u0432\\u0435\\u043d\\u043d\\u043e \\u0431\\u0443\\u0434\\u0435\\u0442 \\u043a\\u0443\\u043f\\u0430\\u0442\\u044c\\u0441\\u044f \\u0442\\u0432\\u043e\\u044f \\u043c\\u0430\\u0442\\u044c \\u0435\\u0431\\u0430\\u043d\\u0430\\u044f \\u0431\\u043e\\u043c\\u0436\\u0438\\u0445\\u0430 \\u044d\\u0439, \\u043f\\u0440\\u0438\\u043c\\u0430\\u0441 \\u0435\\u0431\\u0430\\u043d\\u043d\\u044b\\u0439 , \\u0442\\u044b \\u0447\\u0442\\u043e \\u0432 \\u0441\\u0435\\u0431\\u044f \\u043f\\u043e\\u0432\\u0435\\u0440\\u0438\\u043b\\u0430 , \\u043c\\u043d\\u0435 \\u0447\\u0442\\u043e \\u043e\\u0442\\u043e\\u0440\\u0432\\u0430\\u0442\\u044c \\u0442\\u0432\\u043e\\u0438 \\u0440\\u0443\\u043a\\u0438 \\u0437\\u0430 \\u0434\\u0430\\u043d\\u043d\\u044b\\u0435 \\u0432\\u0437\\u0431\\u043b\\u0435\\u0432\\u044b \\u043d\\u0430 \\u0445\\u0443\\u0435 \\u0441\\u0432\\u0438\\u043d\\u043a\\u0430 \\u0435\\u0431\\u0430\\u043d\\u043d\\u0430\\u044f \\u0438\\u043b\\u0438 \\u043a\\u0430\\u043a? \\u0430 \\u0437\\u043d\\u0430\\u0435\\u0448\\u044c \\u0447\\u0442\\u043e \\u0434\\u0435\\u043b\\u0430\\u044e\\u0442 \\u0441 \\u0442\\u0430\\u043a\\u0438\\u043c\\u0438 \\u043a\\u0430\\u043a \\u0442\\u044b , \\u0432\\u0435\\u0440\\u043d\\u043e! \\u0432\\u044b\\u0440\\u044b\\u0432\\u0430\\u044e\\u0442 \\u0440\\u0443\\u043a\\u0438 \\u0437\\u0430 \\u043a\\u0440\\u0438\\u0432\\u043e\\u0439 \\u0431\\u0430\\u0437\\u0430\\u0440 \\u0430 \\u0442\\u0430\\u043a \\u0436\\u0435 \\u043d\\u0430\\u0447\\u0438\\u043d\\u0430\\u044e\\u0442 \\u043a\\u0430\\u043a \\u0431\\u044b \\u043d\\u0430\\u0441\\u0438\\u043b\\u044c\\u0441\\u0442\\u0432\\u0435\\u043d\\u043d\\u044b\\u0439 \\u0430\\u043a\\u0442 \\u043d\\u0435\\u0441\\u0442\\u0438 \\u0431\\u0435\\u0437 \\u043a\\u0430\\u043a\\u043e\\u0433\\u043e \\u043b\\u0438\\u0431\\u043e \\u043e\\u0433\\u043e\\u0432\\u043e\\u0440\\u043a\\u0430 \\u043d\\u0430\\u0434\\u0435\\u044e\\u0441\\u044c \\u0442\\u044b \\u043f\\u043e\\u043d\\u044f\\u043b\\u0430 \\u043c\\u043e\\u0438 \\u0434\\u0430\\u043d\\u043d\\u044b\\u0435 \\u0441\\u043b\\u043e\\u0432\\u0430 \\u0438 \\u0442\\u044b \\u0431\\u043e\\u043b\\u044c\\u0448\\u0435 \\u043d\\u0435 \\u0431\\u0443\\u0434\\u0435\\u0448\\u044c \\u043f\\u043e\\u0432\\u044b\\u0448\\u0430\\u0442\\u044c \\u0433\\u043e\\u043b\\u043e\\u0441 \\u043d\\u0430 \\u0434\\u0430\\u043d\\u043d\\u0443\\u044e \\u0434\\u043e\\u043b\\u0436\\u043d\\u043e\\u0441\\u0442\\u043d\\u0443\\u044e \\u0447\\u0435\\u0441\\u0442\\u044c \\u0441\\u043f\\u0430\\u0441\\u0438\\u0431\\u043e! \\u0441\\u043b\\u043e\\u043c\\u0430\\u0435\\u043c \\u043f\\u043e\\u0437\\u0432\\u043e\\u043d\\u043e\\u0447\\u043d\\u0438\\u043a \\u0442\\u0435\\u0431\\u0435 \\u0441\\u044b\\u043d\\u043a\\u0443 \\u0448\\u043b\\u044e\\u0445\\u0438 \\u0442\\u044b \\u0447\\u0442\\u043e \\u0442\\u0430\\u043c \\u0443\\u0436\\u0435 \\u043f\\u043e\\u0442\\u0443\\u0445 \\u0441\\u044b\\u043d \\u0445\\u0443\\u0439\\u043d\\u0438 \\u0435\\u0431\\u0430\\u043d\\u043e\\u0439 \\u043b\\u0438\\u0431\\u043e \\u0436\\u0435 \\u043f\\u0440\\u043e\\u0431\\u0443\\u0435\\u0448\\u044c \\u0435\\u043b\\u0435 \\u043a\\u0430\\u043a \\u0441\\u0432\\u043e\\u0438\\u043c\\u0438 \\u043f\\u0430\\u043b\\u044c\\u0447\\u0438\\u043a\\u0430\\u043c\\u0438 \\u0442\\u043e\\u0449\\u0438\\u043c\\u0438 \\u0432\\u043e\\u0440\\u043e\\u0447\\u0430\\u0442\\u044c \\u0435\\u0441\\u043b\\u0438 \\u0442\\u0430\\u043a \\u0442\\u043e \\u0434\\u0430\\u0432\\u0430\\u0439 \\u0432 \\u0442\\u0435\\u043c\\u043f\\u0435 \\u0441\\u043a\\u043e\\u0442 \\u0435\\u0431\\u0430\\u043d\\u044b\\u0439 \\u043c\\u043d\\u0435 \\u0436\\u0435 \\u0435\\u0449\\u0435 \\u0442\\u0432\\u043e\\u0438 \\u043a\\u043e\\u043f\\u044b\\u0442\\u0446\\u0430 \\u043d\\u0435\\u0441\\u0447\\u0430\\u0441\\u0442\\u043d\\u044b\\u0435 \\u043e\\u0442\\u0440\\u044b\\u0432\\u0430\\u0442\\u044c \\u0430\\u043b\\u043e \\u0441\\u0432\\u0438\\u043d\\u044c\\u044f \\u043e\\u0436\\u0438\\u0440\\u0435\\u0432\\u0448\\u0430\\u044f,\\u0447\\u0442\\u043e \\u0442\\u044b \\u0442\\u0430\\u043a \\u0434\\u043e\\u043b\\u0433\\u043e \\u0442\\u0443\\u0442 \\u043c\\u043e\\u043b\\u0447\\u0430\\u043b\\u0430 \\ud83e\\udd23\\ud83e\\udd23 \\u043d\\u0430\\u0445\\u0443\\u0439\\u043d\\u0430\\u044f \\u0434\\u0435\\u0432\\u0447\\u0435\\u043d\\u043a\\u0430 \\u0447\\u044c\\u0438 \\u043a\\u043e\\u0441\\u0438\\u0447\\u043a\\u0438 \\u0441\\u0435\\u0439\\u0447\\u0430\\u0441 \\u0431\\u0443\\u0434\\u0443\\u0442 \\u043e\\u0442\\u043e\\u0440\\u0432\\u0430\\u043d\\u044b \\u043f\\u0440\\u044f\\u043c\\u0438\\u043a\\u043e\\u043c \\u0432 \\u044d\\u0442\\u043e\\u0439 \\u0436\\u0435 \\u043a\\u043e\\u043d\\u0444\\u0435\\u0440\\u0435\\u043d\\u0446\\u0438\\u0438 \\u0441\\u043c\\u043e\\u0442\\u0440\\u0438 \\u0442\\u0430\\u043c \\u043f\\u043e\\u043f\\u0440\\u043e\\u0431\\u0443\\u0439 \\u043c\\u043e\\u0438\\u0445 \\u0430\\u0432\\u0435\\u0441\\u0442 \\u0432\\u0435\\u043b\\u0438\\u043a\\u0438\\u0445 \\u0432 \\u0434\\u043e\\u0432\\u043e\\u043b\\u044c \\u043d\\u0435 \\u043d\\u0430\\u0442\\u0435\\u0440\\u043f\\u0435\\u0442\\u044c\\u0441\\u044f \\u044f \\u0436\\u0435 \\u0437\\u043d\\u0430\\u044e \\u0442\\u0435\\u0431\\u044f \\u0442\\u044b \\u0441\\u043d\\u043e\\u0431 \\u0435\\u0431\\u0430\\u043d\\u044b\\u0439 \\u043d\\u0435 \\u0431\\u043e\\u0435\\u0441\\u043f\\u043e\\u0441\\u043e\\u0431\\u043d\\u044b\\u0439 \\u044f \\u043e\\u0442\\u043e\\u0440\\u0432\\u0443 \\u0442\\u0432\\u043e\\u044e \\u0433\\u043e\\u043b\\u043e\\u0432\\u0443 \\u0430 \\u043f\\u043e\\u0437\\u0436\\u0435 \\u043d\\u0430\\u0447\\u043d\\u0443 \\u043d\\u0435\\u0441\\u0442\\u0438 \\u043d\\u0430\\u0441\\u0438\\u043b\\u044c\\u0441\\u0442\\u0432\\u0435\\u043d\\u043d\\u044b\\u0439 \\u0430\\u043a\\u0442 \\u0441\\u0432\\u0435\\u0440\\u043a\\u0438 \\u0431\\u0435\\u0437 \\u043a\\u0430\\u043a\\u043e\\u0433\\u043e \\u043b\\u0438\\u0431\\u043e \\u0443\\u0441\\u0438\\u043b\\u0438\\u044f, \\u0442\\u044b \\u0436\\u0435 \\u043f\\u043e\\u043d\\u0438\\u043c\\u0430\\u0435\\u0448\\u044c \\u0431\\u0443\\u0440\\u0438\\u043b\\u044c\\u0449\\u0438\\u043a\\u043e\\u0432 \\u043d\\u0430\\u0434\\u0435\\u044e\\u0441\\u044c , \\u0432\\u0435\\u0434\\u044c \\u0431\\u0443\\u0440\\u043d\\u043e\\u0435 \\u0440\\u0430\\u0437\\u0432\\u0438\\u0442\\u0438\\u0435 \\u0442\\u0432\\u043e\\u0435 \\u0434\\u043b\\u044f \\u043c\\u043e\\u0435\\u0439 \\u0432\\u043e\\u043b\\u0438 \\u044d\\u0442\\u043e \\u043a\\u0430\\u043a \\u0431\\u044b \\u0441\\u0430\\u043c\\u043e\\u0435 \\u0433\\u043b\\u0430\\u0432\\u043d\\u043e\\u0435 \\u0442\\u044b \\u043d\\u0430\\u0434\\u0435\\u044e\\u0441\\u044c \\u043c\\u0435\\u043d\\u044f \\u043f\\u043e\\u043d\\u0438\\u043c\\u0430\\u0435\\u0448\\u044c \\u0431\\u043b\\u0443\\u0434\\u043d\\u0438\\u0446\\u0430 \\u0435\\u0431\\u0430\\u043d\\u043d\\u0430\\u044f \\u043a\\u043e\\u0442\\u043e\\u0440\\u0430\\u044f \\u0442\\u0443\\u0442 \\u0432\\u043f\\u0440\\u0438\\u043d\\u0446\\u0438\\u043f\\u0435 \\u043d\\u0438\\u043a\\u043e\\u0433\\u0434\\u0430 \\u043d\\u0435 \\u043f\\u043e\\u0439\\u043c\\u0435\\u0442 \\u043c\\u043e\\u0438 \\u0441\\u043b\\u043e\\u0432\\u0430 \\u0442\\u0430\\u043a \\u043a\\u0430\\u043a \\u0435\\u0431\\u0430\\u043d\\u043d\\u044b\\u0439 \\u0434\\u0435\\u0432\\u043e\\u0447\\u043a\\u0430\\u043c \\u043d\\u0435 \\u043f\\u043e\\u043d\\u044f\\u0442\\u043d\\u044b \\u043c\\u043e\\u0438 \\u0434\\u0430\\u043d\\u043d\\u044b\\u0435 \\u0432\\u044b\\u0441\\u043a\\u0430\\u0437\\u044b\\u0432\\u0430\\u043d\\u0438\\u044f \\u0442\\u0430\\u043a \\u043a\\u0430\\u043a \\u043e\\u043d\\u0438 \\u0435\\u0431\\u0443\\u0447\\u0438\\u0435 \\u0434\\u0430\\u0443\\u043d\\u044b \\u043a\\u043e\\u0442\\u043e\\u0440\\u044b\\u0435 \\u0432\\u043f\\u0440\\u0438\\u043d\\u0446\\u0438\\u043f\\u0435 \\u0431\\u0443\\u0434\\u0443\\u0442 \\u043f\\u043e\\u043f\\u0430\\u0441\\u0442\\u044c \\u043f\\u0440\\u043e\\u043f\\u043e\\u0440\\u0446\\u0438\\u0438\\u043e\\u043d\\u0430\\u043b\\u044c\\u043d\\u043e \\u043d\\u0430 \\u043f\\u043e\\u0441\\u0442\\u043e\\u044f\\u043d\\u043d\\u043e\\u0439 \\u043e\\u0441\\u043d\\u043e\\u0432\\u0435 \\u044f - \\u0442\\u0432\\u043e\\u0439 \\u0435\\u0431\\u044b\\u0440\\u044c \\u043a\\u043e\\u0442\\u043e\\u0440\\u044b\\u0439 \\u0434\\u043e \\u043a\\u043e\\u043d\\u0446\\u0430 \\u0431\\u0443\\u0434\\u0435\\u0442 \\u0440\\u0432\\u0430\\u0442\\u044c \\u0442\\u0432\\u043e\\u0438 \\u0435\\u0431\\u0430\\u043d\\u043d\\u044b\\u0435 \\u0440\\u0435\\u0431\\u0440\\u0430 \\u043a\\u043e\\u0442\\u043e\\u0440\\u044b\\u0435 \\u0432\\u043f\\u0440\\u0438\\u043d\\u0446\\u0438\\u043f\\u0435 \\u043d\\u0430\\u0441\\u0442\\u043e\\u043b\\u044c\\u043d\\u044b\\u0435 \\u0438\\u0433\\u0440\\u044b \\u0431\\u0443\\u0434\\u0435\\u0442 \\u0438\\u0433\\u0440\\u0430\\u0442\\u044c \\u0441 \\u043a\\u043e\\u0448\\u043a\\u0430\\u043c\\u0438 \\u0442\\u0432\\u043e\\u0435\\u0439 \\u0435\\u0431\\u0430\\u043d\\u043e\\u0439 \\u043c\\u0430\\u0442\\u0435\\u0440\\u0438 \\u0442\\u044b - \\u043d\\u0430\\u0445\\u0443\\u0439\\u043d\\u0438\\u0446\\u0430 \\u043a\\u043e\\u0442\\u043e\\u0440\\u0430\\u044f \\u0431\\u0443\\u0434\\u0435\\u0442 \\u043d\\u0430 \\u043f\\u043e\\u0441\\u0442\\u043e\\u044f\\u043d\\u043d\\u043e\\u0439 \\u043e\\u0441\\u043d\\u043e\\u0432\\u0435 \\u0442\\u0435\\u0440\\u043f\\u0435\\u0442\\u044c \\u043a\\u0430\\u043a \\u0442\\u0435\\u0440\\u043f\\u0438\\u043b\\u0430 \\u0435\\u0431\\u0430\\u043d\\u043d\\u0430\\u044f \\u043a\\u043e\\u0442\\u043e\\u0440\\u0430\\u044f \\u0434\\u043e \\u043a\\u043e\\u043d\\u0446\\u0430 \\u0436\\u0438\\u0437\\u043d\\u0438 \\u0431\\u0443\\u0434\\u0435\\u0442 \\u0434\\u043b\\u044f \\u043c\\u0435\\u043d\\u044f \\u0435\\u0431\\u0430\\u043d\\u043e\\u0439 \\u0441\\u043b\\u0430\\u0431\\u043e\\u0439 \\u043c\\u0435\\u0434\\u043b\\u0435\\u043d\\u043d\\u043e\\u043f\\u0438\\u0448\\u0443\\u0449\\u0435\\u0439 \\u043d\\u0430\\u0447\\u043b\\u0435\\u043d\\u043d\\u043e\\u0439 \\u0441\\u0443\\u0436\\u0435\\u043d\\u043e\\u0439 \\u0448\\u0430\\u043b\\u0430\\u0432\\u043e\\u0439 , \\u0442\\u044b \\u043f\\u0440\\u043e\\u0441\\u0442\\u043e \\u043d\\u0430 \\u043f\\u043e\\u0441\\u0442\\u043e\\u044f\\u043d\\u043d\\u043e\\u0439 \\u043e\\u0441\\u043d\\u043e\\u0432\\u0435 \\u0431\\u043b\\u044f\\u0434\\u0438\\u043d\\u0430 \\u0435\\u0431\\u0430\\u043d\\u043d\\u0430\\u044f \\u043a\\u043e\\u0442\\u043e\\u0440\\u0430\\u044f \\u0432\\u043f\\u0440\\u0438\\u0446\\u043d\\u0438\\u043f\\u0435 \\u0431\\u0443\\u0434\\u0435\\u0442 \\u043f\\u043e\\u043b\\u0443\\u0447\\u0430\\u0442\\u044c \\u043f\\u043e \\u0435\\u0431\\u0430\\u043b\\u044c\\u043d\\u0438\\u043a\\u0443 \\u043a\\u0430\\u043a \\u0442\\u0435\\u043b\\u043a\\u0430 \\u0435\\u0431\\u0430\\u043d\\u043d\\u0430\\u044f \\u0442\\u044b \\u043f\\u0440\\u043e\\u0441\\u0442\\u043e \\u043d\\u0438\\u0447\\u0435\\u0433\\u043e \\u043d\\u0435 \\u0441\\u043f\\u043e\\u0441\\u0431\\u043d\\u0430\\u044f \\u0434\\u0435\\u0442\\u0438\\u043d\\u0430 \\u0448\\u0430\\u043b\\u0430\\u0432\\u044b \\u0443\\u0448\\u043b\\u0430\\u044f\\u043c\\u0430\\u043d\\u0438\\u043f\\u0440\\u043e\\u0444\\u0443\\u0440\\u043e\\u0441\\u0435\\u0442\\u043a\\u0430', 'date': '2024-11-10T15:40:36+00:00'}, {'comment_id': 190763, 'user_id': 5185766971, 'text': '\\u0415\\u0431\\u0430\\u0442\\u044c.\\u0422\\u044b \\u0431\\u0443\\u0434\\u0435\\u0448\\u044c \\u0445\\u0443\\u0439 \\u0441\\u043e\\u0441\\u0430\\u0442\\u044c \\u0443 \\u043c\\u0435\\u043d\\u044f \\u0438 \\u0443 \\u043c\\u043e\\u0435\\u0433\\u043e \\u0431\\u0430\\u0442\\u0438 ? \\u041d\\u0443 \\u0442\\u044b \\u0441\\u043f\\u0435\\u0446 .\\u0410 \\u043f\\u043e\\u0442\\u043e\\u043c \\u0435\\u0449\\u0451 \\u0438 \\u0443 \\u0441\\u043e\\u0431\\u0430\\u043a\\u0438 \\u043c\\u043e\\u0435\\u0433\\u043e \\u043e\\u0442\\u0441\\u043e\\u0441\\u0435\\u0448\\u044c ? \\u041d\\u0443 \\u0436\\u0434\\u0443 \\u0442\\u0435\\u0431\\u044f \\u0445\\u0443\\u0435\\u0441\\u043e\\u0441\\u043e\\u0447\\u043a\\u0430 .', 'date': '2024-11-10T15:40:13+00:00'}, {'comment_id': 190761, 'user_id': 7250164522, 'text': '\\u0412\\u044b\\u0431\\u043b\\u044f\\u0434\\u043e\\u043a, \\u0442\\u044b \\u043c\\u0435\\u043d\\u044f \\u043f\\u043e\\u0440\\u044f\\u0434\\u043a\\u043e\\u043c \\u043d\\u0430\\u0434\\u043e\\u0435\\u043b \\u0441\\u0432\\u043e\\u0435\\u0439 \\u0442\\u0443\\u043f\\u043e\\u0441\\u0442\\u044c\\u044e, \\u044f \\u0440\\u0430\\u0437\\u044c\\u0435\\u0431\\u0430\\u0448\\u0443 \\u0442\\u0432\\u043e\\u0438\\u043c \\u0440\\u043e\\u0434\\u0438\\u0442\\u0435\\u043b\\u044f\\u043c \\u0438\\u0445 \\u0435\\u0431\\u043b\\u0438\\u0448\\u0430, \\u0430 \\u043c\\u0430\\u0442\\u044c \\u0442\\u0432\\u043e\\u044e \\u0431\\u0443\\u0434\\u0443 \\u0435\\u0431\\u0430\\u0442\\u044c \\u0443 \\u0442\\u0435\\u0431\\u044f \\u043d\\u0430 \\u0441\\u043f\\u0438\\u043d\\u0435 \\u043f\\u043e\\u043a\\u0430 \\u0442\\u0432\\u043e\\u0439 \\u043e\\u0442\\u0435\\u0446 \\u043a\\u0443\\u043a\\u0438\\u0447 \\u0431\\u0443\\u0434\\u0435\\u0442 \\u043d\\u0430 \\u044d\\u0442\\u043e \\u0441\\u043c\\u043e\\u0442\\u0440\\u0435\\u0442\\u044c \\u0438 \\u043d\\u0430\\u044f\\u0440\\u0438\\u0432\\u0430\\u0442\\u044c, \\u0432\\u0441\\u0435 \\u043f\\u043e\\u043d\\u044f\\u043b?', 'date': '2024-11-10T15:39:06+00:00'}, {'comment_id': 190759, 'user_id': 5185766971, 'text': '\\u0422\\u044b \\u0435\\u0449\\u0451 \\u0440\\u0430\\u0437 \\u043f\\u0438\\u0448\\u0435\\u0448\\u044c \\u0447\\u0442\\u043e \\u0431\\u0443\\u0434\\u0435\\u0448\\u044c \\u0443 \\u043c\\u0435\\u043d\\u044f \\u0445\\u0435\\u0439 \\u0434\\u043e \\u0443\\u0442\\u0440\\u0430 \\u0441\\u043e\\u0441\\u0430\\u0442\\u044c ,\\u0430 \\u043c\\u0430\\u0442\\u0435\\u0440\\u0438 \\u0432\\u044b\\u043b\\u0438\\u0437\\u044b\\u0432\\u0430\\u0442\\u044c .\\u0415\\u0431\\u0430\\u0442\\u044c \\u0442\\u044b \\u043f\\u0440\\u043e\\u0444\\u0438', 'date': '2024-11-10T15:37:42+00:00'}, {'comment_id': 190757, 'user_id': 7250164522, 'text': '\\u042f \\u0442\\u0435\\u0431\\u0435 \\u0435\\u0449\\u0451 \\u0440\\u0430\\u0437 \\u0433\\u043e\\u0432\\u043e\\u0440\\u044e, \\u044f \\u0442\\u0440\\u0430\\u0445\\u0430\\u043b \\u0442\\u0432\\u043e\\u044e \\u043c\\u0430\\u043c\\u0430\\u0448\\u0443 \\u0448\\u043b\\u0435\\u043d\\u0434\\u0440\\u0443 \\u0432 \\u0435\\u0435 \\u0440\\u0430\\u0437\\u0440\\u0435\\u0437\\u0430\\u043d\\u043d\\u0443\\u044e \\u0433\\u043b\\u043e\\u0442\\u043a\\u0443, \\u0438 \\u043e\\u043d\\u0430 \\u043d\\u0430\\u0441\\u043b\\u0430\\u0436\\u0434\\u0430\\u043b\\u0430\\u0441\\u044c \\u044d\\u0442\\u0438\\u043c', 'date': '2024-11-10T15:36:47+00:00'}, {'comment_id': 190754, 'user_id': 5185766971, 'text': '\\u0422\\u044b \\u0445\\u0443\\u0439 \\u0441\\u043e\\u0441\\u0430\\u0442\\u044c \\u0443 \\u043c\\u0435\\u043d\\u044f  \\u0431\\u0443\\u0434\\u0435\\u0448\\u044c \\u0434\\u043e \\u0443\\u0442\\u0440\\u0430 ? \\u0416\\u0434\\u0443 .', 'date': '2024-11-10T15:35:48+00:00'}, {'comment_id': 190752, 'user_id': 7250164522, 'text': '\\u042f \\u0442\\u0435\\u0431\\u0435 \\u043a\\u043e\\u043b\\u0435\\u043d\\u0438 \\u0441\\u043b\\u043e\\u043c\\u0430\\u044e \\u0432\\u044b\\u0431\\u043b\\u044f\\u0434\\u043e\\u043a \\u0435\\u0431\\u043b\\u0438\\u0432\\u044b\\u0439, \\u0433\\u043e\\u0442\\u043e\\u0432\\u044c \\u0435\\u0431\\u0430\\u043b\\u043e \\u0441\\u044b\\u043d \\u0431\\u043b\\u044f\\u0434\\u0438', 'date': '2024-11-10T15:35:07+00:00'}, {'comment_id': 190749, 'user_id': 5185766971, 'text': '\\u0422\\u044b \\u0441\\u0434\\u0435\\u043b\\u0430\\u0435\\u0448\\u044c \\u043c\\u043d\\u0435 \\u0433\\u043e\\u0440\\u043b\\u043e\\u0432\\u043e\\u0439 \\u043c\\u0438\\u043d\\u044c\\u0435\\u0442 ? \\u0412\\u0430\\u0443 .\\u041d\\u0443 \\u0442\\u044b \\u043f\\u0440\\u043e\\u0444\\u0438 \\u043f\\u043e \\u0441\\u043e\\u0441\\u0430\\u043d\\u0438\\u044e.', 'date': '2024-11-10T15:33:38+00:00'}, {'comment_id': 190742, 'user_id': 7250164522, 'text': '\\u041c\\u0430\\u0442\\u0435\\u0440\\u0438 \\u0442\\u0432\\u043e\\u0435\\u0439 \\u043d\\u043e\\u0436 \\u0432 \\u0433\\u043b\\u043e\\u0442\\u043a\\u0443 \\u0437\\u0430\\u0441\\u043e\\u0432\\u044b\\u0432\\u0430\\u0442\\u044c*\\ud83d\\ude18', 'date': '2024-11-10T15:30:53+00:00'}, {'comment_id': 190739, 'user_id': 5185766971, 'text': '\\u0422\\u0435 \\u0441\\u043e\\u0441\\u0430\\u0442\\u044c \\u0431\\u0443\\u0434\\u0435\\u0448\\u044c \\u0441 \\u043f\\u0440\\u043e\\u0433\\u0438\\u0431\\u043e\\u043c ? \\u0412\\u0430\\u0443 ,\\u0434\\u0430 \\u0442\\u044b \\u0441\\u043f\\u0435\\u0446', 'date': '2024-11-10T15:29:13+00:00'}, {'comment_id': 190738, 'user_id': 7250164522, 'text': '\\u042f \\u0441 \\u043f\\u0440\\u043e\\u0433\\u0438\\u0431\\u0430 \\u0442\\u0435\\u0431\\u0435 \\u043a\\u043e\\u043b\\u0435\\u043d\\u0438 \\u0441\\u043b\\u043e\\u043c\\u0430\\u044e \\u043d\\u0438\\u0448\\u0438\\u0435\\u0431', 'date': '2024-11-10T15:28:36+00:00'}, {'comment_id': 190737, 'user_id': 5185766971, 'text': '\\u042f\\u0437\\u044b\\u043a\\u043e\\u043c \\u0432\\u044b\\u043b\\u0438\\u0436\\u0435\\u0448\\u044c ? \\u041d\\u0443 \\u0436\\u0434\\u0443 .', 'date': '2024-11-10T15:27:59+00:00'}, {'comment_id': 190736, 'user_id': 5185766971, 'text': '\\u041a\\u0430\\u0446\\u0430\\u043f\\u043e\\u0431\\u043e\\u0442\\u044b \\u0442\\u0443\\u043f\\u044b\\u0435 \\u043a\\u0430\\u043a \\u0438 \\u043f\\u043e\\u0433\\u043e\\u043b\\u043e\\u0432\\u044c\\u0435 \\u043d\\u0430\\u0441\\u0435\\u043b\\u0435\\u043d\\u0438\\u044f \\u043a\\u0430\\u0446\\u0430\\u043f\\u0438\\u0438', 'date': '2024-11-10T15:27:45+00:00'}, {'comment_id': 190735, 'user_id': 7250164522, 'text': '\\u042f \\u0442\\u0435\\u0431\\u0435 \\u0433\\u043e\\u0440\\u0442\\u0430\\u043d\\u044c \\u043f\\u0435\\u0440\\u0435\\u0440\\u0435\\u0436\\u0443 \\u0436\\u0438\\u0432\\u043e\\u0442\\u043d\\u043e\\u0435', 'date': '2024-11-10T15:27:40+00:00'}, {'comment_id': 190733, 'user_id': 5185766971, 'text': '\\u0422\\u044b \\u0435\\u0449\\u0451 \\u0443 \\u043c\\u0435\\u043d\\u044f \\u043e\\u0442\\u0441\\u043e\\u0441\\u0435\\u0448\\u044c ? \\u041d\\u0443 \\u043a\\u043e\\u043d\\u0435\\u0447\\u043d\\u043e \\u0436\\u0435 .\\u0422\\u0435\\u0431\\u0435 \\u0436\\u0435 \\u043c\\u043e\\u0439 ,,\\u0439\\u043e\\u0433\\u0443\\u0440\\u0442,, \\u043f\\u043e\\u043d\\u0440\\u0430\\u0432\\u0438\\u043b\\u0441\\u044f .\\ud83e\\udd23', 'date': '2024-11-10T15:27:16+00:00'}, {'comment_id': 190731, 'user_id': 7250164522, 'text': '\\u0414\\u043b\\u044f \\u0441\\u043f\\u0440\\u0430\\u0432\\u043a\\u0438 \\u0441\\u0432\\u0438\\u043d\\u043e\\u0443\\u0440\\u0443\\u0441 \\u044f \\u0442\\u0435\\u0431\\u0435 \\u0435\\u0431\\u0430\\u043b\\u043e \\u0448\\u0442\\u043e\\u043f\\u043e\\u0440\\u043e\\u043c \\u0432\\u0441\\u043a\\u0440\\u043e\\u044e, \\u0430 \\u0442\\u0432\\u043e\\u044f \\u0441\\u0435\\u043c\\u044c\\u044f \\u0443\\u043c\\u0438\\u0440\\u0430\\u0435\\u0442 \\u043d\\u0430 \\u0441\\u0432\\u043e', 'date': '2024-11-10T15:26:04+00:00'}, {'comment_id': 190727, 'user_id': 5185766971, 'text': '\\u041a\\u0430\\u043a \\u0442\\u044b \\u0435\\u0431\\u0430\\u043b ,\\u043a\\u0430\\u043a \\u0435\\u0431\\u0430\\u043b ....\\u0441\\u0432\\u043e\\u0438\\u043c \\u044f\\u0437\\u044b\\u043a\\u043e\\u043c \\u043c\\u043e\\u0439 \\u0445\\u0443\\u0439 .\\u0411\\u044b\\u043b\\u043e \\u0437\\u0430\\u0447\\u0435\\u0442\\u043d\\u043e ,\\u0443\\u043c\\u0435\\u0435\\u0448\\u044c \\u0442\\u044b \\u0441\\u043e\\u0441\\u0430\\u0442\\u044c.', 'date': '2024-11-10T15:24:45+00:00'}, {'comment_id': 190721, 'user_id': 7250164522, 'text': '\\u0421\\u043e\\u0439\\u0434\\u0451\\u043c\\u0441\\u044f \\u043d\\u0430 \\u0442\\u043e\\u043c \\u0447\\u0442\\u043e \\u044f \\u0435\\u0431\\u0430\\u043b \\u0442\\u0432\\u043e\\u044e \\u0442\\u0443\\u043f\\u043e\\u0433\\u043e\\u043b\\u043e\\u0432\\u0443\\u044e \\u043c\\u0430\\u043c\\u0430\\u0448\\u0443, \\u043e\\u043a?', 'date': '2024-11-10T15:20:18+00:00'}, {'comment_id': 190719, 'user_id': 5185766971, 'text': '\\u0422\\u044b \\u0432\\u044b\\u043b\\u0438\\u0437\\u044b\\u0432\\u0430\\u0442\\u0435\\u043b\\u044c ? \\u041d\\u0443 \\u043d\\u043e\\u0440\\u043c .\\u0412\\u0441\\u0435 \\u0447\\u0442\\u043e \\u0442\\u044b \\u0443\\u043c\\u0435\\u0435\\u0448\\u044c \\u044d\\u0442\\u043e \\u0445\\u0443\\u0438 \\u0441\\u043e\\u0441\\u0430\\u0442\\u044c \\u0438 \\u0432\\u044b\\u043b\\u0438\\u0437\\u044b\\u0432\\u0430\\u0442\\u044c .', 'date': '2024-11-10T15:19:25+00:00'}, {'comment_id': 190716, 'user_id': 7250164522, 'text': '\\u042f \\u043d\\u0435 \\u0431\\u0443\\u0434\\u0443 \\u0441\\u043b\\u0438\\u0437\\u044b\\u0432\\u0430\\u0442\\u044c \\u0441 \\u0442\\u0432\\u043e\\u0435\\u0439 \\u043c\\u0430\\u0442\\u0435\\u0440\\u0438 \\u043a\\u0440\\u0435\\u043c \\u043f\\u0430\\u0439 \\u043a\\u043e\\u0442\\u043e\\u0440\\u044b\\u0439 \\u043d\\u0430 \\u043d\\u0435\\u0439 \\u043e\\u0441\\u0442\\u0430\\u0432\\u0438\\u043b\\u0438 \\u0435\\u0435 \\u0435\\u0431\\u044b\\u0440\\u0438', 'date': '2024-11-10T15:18:32+00:00'}, {'comment_id': 190714, 'user_id': 5185766971, 'text': '\\u041d\\u0443 \\u044f\\u0437\\u044b\\u043a\\u043e\\u043c \\u0442\\u044b \\u0435\\u0431\\u0451\\u0448\\u044c \\u0437\\u0430\\u0447\\u0435\\u0442\\u043d\\u043e ....\\u0445\\u0443\\u0438 \\ud83e\\udd23\\ud83e\\udd23', 'date': '2024-11-10T15:16:55+00:00'}, {'comment_id': 190713, 'user_id': 5185766971, 'text': '\\u0422\\u044b \\u043f\\u043e\\u0434\\u043f\\u043e\\u043b\\u0437\\u0435\\u0448\\u044c \\u0438 \\u043d\\u0430\\u0441\\u043c\\u0435\\u0440\\u0442\\u044c \\u0437\\u0430\\u0441\\u043e\\u0441\\u0435\\u0448\\u044c \\u0445\\u0443\\u0435\\u0441\\u043e\\u0441\\u043e\\u0441\\u043e\\u0447\\u043a\\u0430 .\\u041d\\u0443 \\u043c\\u0430\\u0442\\u0435\\u0440\\u0438 \\u0442\\u044b \\u0432\\u044b\\u043b\\u0438\\u0437\\u0430\\u0442\\u044c \\u0441\\u043c\\u043e\\u0436\\u0435\\u0448\\u044c .\\u0412\\u0441\\u0435 \\u043d\\u0430 \\u0447\\u0442\\u043e \\u0442\\u044b \\u0433\\u0430\\u0440\\u0430\\u0437\\u0434 .', 'date': '2024-11-10T15:16:17+00:00'}, {'comment_id': 190710, 'user_id': 7250164522, 'text': '\\u0410, \\u043d\\u0443 \\u044f \\u0435\\u0435 \\u0435\\u0431\\u0443 \\u043f\\u043e \\u0432\\u0442\\u043e\\u0440\\u043d\\u0438\\u043a\\u0430\\u043c \\u0441 4\\u0445 \\u0434\\u043e 3\\u0445', 'date': '2024-11-10T15:14:04+00:00'}, {'comment_id': 190709, 'user_id': 7250164522, 'text': '\\u041f\\u043e\\u0441\\u043b\\u0443\\u0448\\u0430\\u0439 \\u043c\\u0435\\u043d\\u044f \\u0441\\u044e\\u0434\\u0430 \\u0441\\u044b\\u043d \\u0435\\u0431\\u0430\\u043d\\u043e\\u0439 \\u0431\\u043b\\u044f\\u0434\\u0438, \\u044f \\u0441\\u0435\\u0439\\u0447\\u0430\\u0441 \\u043f\\u043e\\u0434\\u043e\\u0439\\u0434\\u0443 \\u0438 \\u0442\\u043e\\u043f\\u043e\\u0440\\u043e\\u043c \\u0435\\u0431\\u043b\\u0438\\u0448\\u0435 \\u0442\\u0432\\u043e\\u0435\\u0439 \\u043c\\u0430\\u0442\\u0435\\u0440\\u0438 \\u0440\\u0430\\u0437\\u0445\\u0443\\u044f\\u0440\\u044e \\u043f\\u0438\\u0434\\u0440\\u0438\\u043b\\u0430 \\u0435\\u0431\\u043b\\u0438\\u0432\\u0430\\u044f', 'date': '2024-11-10T15:13:19+00:00'}, {'comment_id': 190708, 'user_id': 5185766971, 'text': '\\u041f\\u0440\\u0435\\u043a\\u0440\\u0430\\u0441\\u043d\\u043e\\u0439 \\u0434\\u0443\\u0448\\u0438 \\u043c\\u0430\\u044f \\u043c\\u0430\\u0442\\u044c .\\u0421\\u0432\\u0438\\u043d\\u043e\\u0441\\u043e\\u0431\\u0430\\u043a \\u043a\\u0430\\u0446\\u0430\\u043f\\u043e\\u0432 \\u0442\\u0440\\u0430\\u0432\\u0438\\u0442 \\u0441 \\u043b\\u044e\\u0431\\u043e\\u0432\\u044c\\u044e .\\ud83e\\udd23\\ud83e\\udd23', 'date': '2024-11-10T15:11:29+00:00'}, {'comment_id': 190707, 'user_id': 5185766971, 'text': '\\u0422\\u044b \\u0437\\u0430\\u0447\\u0435\\u043c \\u0441\\u0432\\u043e\\u044e \\u0441\\u0432\\u0438\\u043d\\u043e\\u043c\\u0430\\u0442\\u044c \\u0435\\u0431\\u0430\\u043b .\\u0422\\u044b \\u0440\\u0435\\u0437\\u0443\\u043b\\u044c\\u0442\\u0430\\u0442 \\u0438\\u043d\\u0446\\u0435\\u0441\\u0442\\u0430 \\u0432\\u044b\\u0445\\u043e\\u0434\\u0438\\u0442.\\\\n\\u0414\\u0430 \\u0438 \\u043f\\u043e\\u0440\\u0430 \\u0442\\u0435\\u0431\\u0435 \\u0441\\u0432\\u043e\\u044e \\u0441\\u0432\\u0438\\u043d\\u043e\\u0440\\u044b\\u043b\\u0443\\u044e \\u0441\\u0432\\u0438\\u043d\\u043e\\u043c\\u0430\\u0442\\u044c \\u0441 \\u0442\\u0440\\u0430\\u0441\\u0441\\u044b \\u0437\\u0430\\u0431\\u0440\\u0430\\u0442\\u044c .\\u0415\\u0435 \\u0443\\u0436\\u0435 \\u0434\\u0432\\u043e\\u0440\\u043d\\u044f\\u0433\\u0438 \\u043d\\u0430\\u0447\\u0430\\u043b\\u0438 \\u0435\\u0431\\u0430\\u0442\\u044c \\ud83e\\udd23\\ud83e\\udd23', 'date': '2024-11-10T15:08:59+00:00'}, {'comment_id': 190571, 'user_id': 7250164522, 'text': '\\u0422\\u0430\\u043a \\u0442\\u044b \\u043c\\u043e\\u0436\\u0435\\u0442 \\u043e \\u0441\\u0432\\u043e\\u0435\\u0439 \\u043c\\u0430\\u0442\\u0435\\u0440\\u0438 \\u0440\\u0430\\u0441\\u0441\\u043a\\u0430\\u0436\\u0435\\u0448\\u044c? \\u0410 \\u0442\\u043e \\u0447\\u0442\\u043e \\u0442\\u043e\\u043b\\u044c\\u043a\\u043e \\u0443 \\u043c\\u0435\\u043d\\u044f \\u0441\\u043f\\u0440\\u0430\\u0448\\u0438\\u0432\\u0430\\u043b, \\u0445\\u043e\\u0442\\u044f \\u044f \\u043d\\u0435 \\u0443\\u0434\\u0438\\u0432\\u043b\\u0435\\u043d \\u0447\\u0442\\u043e \\u0443 \\u043c\\u0435\\u043d\\u044f \\u0435\\u0441\\u0442\\u044c \\u0444\\u0430\\u043d\\u044b', 'date': '2024-11-10T13:15:53+00:00'}, {'comment_id': 190568, 'user_id': 7250164522, 'text': '\\u0412\\u043e\\u043f\\u0440\\u043e\\u0441\\u044b?', 'date': '2024-11-10T13:14:16+00:00'}, {'comment_id': 190567, 'user_id': 7250164522, 'text': '\\u041c\\u043e\\u044f \\u043c\\u0430\\u043c\\u0430 \\u043f\\u0440\\u0435\\u043a\\u0440\\u0430\\u0441\\u043d\\u0430\\u044f \\u0436\\u0435\\u043d\\u0449\\u0438\\u043d\\u0430,\\u0434\\u043e\\u0431\\u0440\\u0435\\u0439\\u0448\\u0435\\u0439 \\u0434\\u0443\\u0448\\u0438 \\u0447\\u0435\\u043b\\u043e\\u0432\\u0435\\u043a, \\u0430 \\u0442\\u0432\\u043e\\u044e \\u043c\\u0430\\u0442\\u044c \\u044f \\u0435\\u0431\\u0430\\u043b \\u0432 \\u043a\\u0438\\u0448\\u0435\\u0447\\u043d\\u0438\\u043a \\u043a\\u043e\\u0433\\u0434\\u0430 \\u0442\\u0430 \\u0438\\u0441\\u0442\\u0435\\u043a\\u0430\\u043b\\u0430 \\u0441\\u0430\\u043c \\u0437\\u043d\\u0430\\u0435\\u0448\\u044c \\u0447\\u0435\\u043c', 'date': '2024-11-10T13:14:11+00:00'}, {'comment_id': 190565, 'user_id': 5185766971, 'text': '\\u0412\\u043e\\u043f\\u0440\\u043e\\u0441 \\u0431\\u044b\\u043b \\u043d\\u0435 \\u0442\\u0435\\u0431\\u0435 \\u0443\\u0431\\u043e\\u0433\\u0430\\u044f .\\u041d\\u043e \\u0435\\u0441\\u043b\\u0438 \\u0442\\u044b \\u0432\\u043f\\u0440\\u044f\\u0433\\u043b\\u043e\\u0441\\u044c.\\u0422\\u043e \\u0442\\u044b \\u0442\\u043e\\u0433\\u0434\\u0430 \\u043e\\u0442\\u0432\\u0435\\u0442 .\\u0410 \\u043f\\u0440\\u043e \\u043c\\u0430\\u0442\\u044c ...\\u043d\\u0443 \\u0440\\u0430\\u0441\\u0441\\u043a\\u0430\\u0436\\u0438 \\u043e \\u0441\\u0432\\u043e\\u0435\\u0439 .', 'date': '2024-11-10T13:13:04+00:00'}, {'comment_id': 190552, 'user_id': 7250164522, 'text': '\\u041f\\u043e \\u0442\\u0432\\u043e\\u0435\\u0439 \\u043b\\u043e\\u0433\\u0438\\u043a\\u0435 \\u0442\\u0432\\u043e\\u044f \\u043c\\u0430\\u0442\\u044c \\u0445\\u043e\\u0445\\u043b\\u043e\\u0432 \\u043d\\u0435 \\u043b\\u044e\\u0431\\u0438\\u0442...', 'date': '2024-11-10T13:06:23+00:00'}, {'comment_id': 190550, 'user_id': 5185766971, 'text': '\\u0427\\u0435\\u0433\\u043e \\u0442\\u044b \\u0442\\u0430\\u043a\\u0430\\u044f \\u0437\\u043b\\u0430\\u044f \\u043d\\u0430 \\u0445\\u043e\\u0445\\u043b\\u043e\\u0432 ? \\u041e\\u043d\\u0438 \\u0442\\u0435\\u0431\\u044f \\u0432\\u044b\\u0435\\u0431\\u0430\\u043b\\u0438 \\u0438 \\u043d\\u0435 \\u0437\\u0430\\u043f\\u043b\\u0430\\u0442\\u0438\\u043b\\u0438 ? \\u0417\\u043d\\u0430\\u0447\\u0438\\u0442 \\u0438\\u0437\\u043d\\u0430\\u0441\\u0438\\u043b\\u043e\\u0432\\u0430\\u043b\\u0438 \\ud83e\\udd23\\ud83e\\udd23', 'date': '2024-11-10T13:04:39+00:00'}, {'comment_id': 190499, 'user_id': 2056882401, 'text': '\\ud83c\\udde9\\ud83c\\uddea \\ud83d\\udca3 \\ud83c\\uddfa\\ud83c\\udde6', 'date': '2024-11-10T11:26:34+00:00'}, {'comment_id': 190406, 'user_id': -1002184212584, 'text': '\\u043d\\u0430\\u0434\\u0435\\u044e\\u0441\\u044c \\u0446\\u044b\\u0433\\u0430\\u043d\\u0435 \\u0431\\u044b\\u043b\\u0438 \\u0432 \\u0434\\u043e\\u043c\\u0435 \\u0432 \\u044d\\u0442\\u043e\\u0442 \\u043c\\u043e\\u043c\\u0435\\u043d\\u0442', 'date': '2024-11-10T10:29:26+00:00'}, {'comment_id': 190373, 'user_id': 6496417118, 'text': '\\u0414\\u0443\\u0448\\u0435\\u0432\\u043d\\u044b\\u0435 \\u043f\\u0438\\u0434\\u0430\\u0440\\u044b \\u044d\\u0442\\u043e \\u0445\\u043e\\u0445\\u043b\\u044b \\u0438 \\u0432\\u0441\\u0435 \\u0447\\u0442\\u043e \\u0441\\u0432\\u044f\\u0437\\u0430\\u043d\\u043d\\u043e \\u0441 \\u043d\\u0438\\u043c\\u0438. \\u0417\\u0435\\u043b\\u0435 \\u0441\\u0442\\u043e\\u0438\\u043b\\u043e \\u0435\\u0449\\u0435 \\u0432 22 \\u0433\\u043e\\u0434\\u0443 \\u0441\\u0434\\u0430\\u0442\\u044c \\u0443\\u043a\\u0440\\u0430\\u0438\\u043d\\u0443 \\u0438 \\u043f\\u043e\\u043d\\u0435\\u0441\\u0442\\u0438 \\u043e\\u0442\\u0432\\u0435\\u0442\\u0441\\u0442\\u0432\\u0435\\u043d\\u043d\\u043e\\u0441\\u0442\\u044c \\u0437\\u0430 \\u0434\\u043e\\u043d\\u0431\\u0430\\u0441\\u0441. \\u0425\\u043e\\u0445\\u043b\\u0430\\u043c \\u0441\\u043b\\u0435\\u0434\\u043e\\u0432\\u0430\\u043b\\u043e \\u0441\\u0440\\u0430\\u0437\\u0443 \\u043d\\u0430\\u043f\\u0440\\u0430\\u0432\\u0438\\u0442\\u044c \\u0441\\u0442\\u0432\\u043e\\u043b\\u044b \\u0432 \\u0441\\u0442\\u043e\\u0440\\u043e\\u043d\\u0443 \\u0440\\u0430\\u0434\\u044b \\u0430 \\u043d\\u0435 \\u043f\\u043e\\u0434\\u043d\\u0438\\u043c\\u0430\\u0442\\u044c \\u0440\\u0443\\u043a\\u0443 \\u043d\\u0430 \\u0440\\u0443\\u0441\\u0441\\u043a\\u043e\\u0433\\u043e \\u0441\\u043e\\u043b\\u0434\\u0430\\u0442\\u0430!!! \\u0410 \\u0442\\u0435\\u043f\\u0435\\u0440\\u044c \\u043f\\u043e\\u0436\\u0438\\u043d\\u0430\\u044e\\u0442 \\u043f\\u043b\\u043e\\u0434\\u044b', 'date': '2024-11-10T10:03:17+00:00'}, {'comment_id': 190370, 'user_id': 6811050514, 'text': '\\u044f\\u0441\\u043d\\u043e. \\u0414\\u0443\\u0448\\u0435\\u0432\\u043d\\u044b\\u0435 \\u043f\\u0438\\u0434\\u0430\\u0440\\u044b - \\u043e\\u043d\\u0438 , \\u0438 \\u0432 \\u0410\\u0444\\u0440\\u0438\\u043a\\u0435 )', 'date': '2024-11-10T10:01:51+00:00'}, {'comment_id': 190369, 'user_id': 6496417118, 'text': '\\u0414\\u0430\\u043a \\u043b\\u0435\\u0442\\u0435\\u043b\\u0438 \\u0440\\u0430\\u043a\\u0435\\u0442\\u044b \\u043f\\u043e \\u0432\\u0441\\u0443. \\u041e\\u043d\\u0438 \\u0438\\u0445 \\u0441\\u0431\\u0438\\u043b\\u0438. \\u0417\\u043d\\u0430\\u0447\\u0438\\u0442 \\u043e\\u0442\\u0432\\u0435\\u0442\\u0441\\u0442\\u0432\\u0435\\u043d\\u043d\\u043e\\u0441\\u0442\\u044c \\u0432\\u0441\\u044f \\u043d\\u0430 \\u0432\\u0441\\u0443!', 'date': '2024-11-10T09:59:39+00:00'}, {'comment_id': 190368, 'user_id': 6811050514, 'text': '\\u0443\\u043c\\u0435\\u0440\\u043b\\u0430 \\u0434\\u0435\\u0432\\u043e\\u0447\\u043a\\u0430 1 \\u0433\\u043e\\u0434\\u0430, 2 \\u0431\\u0430\\u0431\\u0443\\u043b\\u044c\\u043a\\u0438.\\\\n\\u041e\\u043d\\u0438 \\u0437\\u0430 \\u0442\\u0446\\u043a \\u0438\\u043b\\u0438 \\u0437\\u0430 \\u0432\\u0441\\u0443 \\u0443\\u0447\\u0430\\u0441\\u0442\\u0432\\u0443\\u0432\\u0430\\u043b\\u0438?', 'date': '2024-11-10T09:58:23+00:00'}, {'comment_id': 190365, 'user_id': 6496417118, 'text': '\\u0422\\u0430\\u043c \\u043e\\u0434\\u043d\\u0438 \\u0442\\u0446\\u043a \\u0434\\u0430 \\u043f\\u0440\\u0438\\u0441\\u043f\\u0435\\u0448\\u043d\\u0438\\u043a\\u0438 \\u0440\\u0435\\u0436\\u0438\\u043c\\u0430 \\u043e\\u0441\\u0442\\u0430\\u043b\\u0438\\u0441\\u044c \\u043a\\u0438\\u0435\\u0432\\u0441\\u043a\\u043e\\u0433\\u043e. \\u0421\\u043a\\u043e\\u0440\\u043e \\u043f\\u0438\\u0437\\u0434\\u0430 \\u0438 \\u0442\\u0446\\u043a \\u0438 \\u0440\\u0435\\u0436\\u0438\\u043c\\u0443 \\u0417\\u0435\\u043b\\u0435\\u043d\\u0441\\u043a\\u043e\\u0433\\u043e', 'date': '2024-11-10T09:55:21+00:00'}, {'comment_id': 190355, 'user_id': 6811050514, 'text': '\\u0420\\u0430\\u0434\\u043e\\u0432\\u0430\\u0442\\u044c\\u0441\\u044f \\u043f\\u0440\\u0438\\u043b\\u0435\\u0442\\u0443, \\u043f\\u043e \\u043c\\u0438\\u0440\\u043d\\u044f\\u043a\\u0443. \\u041d\\u0443 \\u0442\\u044b \\u0434\\u0443\\u0448\\u0435\\u0432\\u043d\\u044b\\u0439 \\u043f\\u0438\\u0434\\u0430\\u0440\\u0430\\u0441)', 'date': '2024-11-10T09:50:01+00:00'}, {'comment_id': 190330, 'user_id': 7050369823, 'text': '\\u0410\\u0430, \\u0446\\u044b\\u0433\\u0430\\u043d\\u0435, \\u043d\\u043e\\u0440\\u043c', 'date': '2024-11-10T08:33:59+00:00'}, {'comment_id': 190328, 'user_id': 6730686824, 'text': '\\u0425\\u043e\\u0445\\u043b\\u044b \\u0441\\u043f\\u0430\\u0441\\u0438\\u0431\\u043e \\u0437\\u0430 \\u043f\\u043e\\u0434\\u0433\\u043e\\u043d \\ud83d\\ude38', 'date': '2024-11-10T08:27:44+00:00'}, {'comment_id': 190322, 'user_id': 6656406792, 'text': '\\u0411\\u0440\\u0430\\u0442\\u044c\\u044f \\u0445\\u043e\\u0445\\u043b\\u044b \\u043f\\u043e\\u043c\\u043e\\u0433\\u0430\\u044e\\u0442 \\u043f\\u0440\\u043e\\u0442\\u0438\\u0432 \\u0446\\u044b\\u0433\\u0430\\u043d', 'date': '2024-11-10T08:13:07+00:00'}, {'comment_id': 190301, 'user_id': 6327067886, 'text': '\\u043d\\u0430 \\u0411\\u0430\\u043b\\u0430\\u0448\\u0438\\u0445\\u0443 \\u043d\\u0430\\u043f\\u0440\\u0430\\u0432\\u043b\\u044f\\u043b\\u0438\\u0441\\u044c \\u043d\\u0430\\u0432\\u0435\\u0440\\u043d\\u043e', 'date': '2024-11-10T07:54:46+00:00'}, {'comment_id': 190299, 'user_id': 7664175811, 'text': '\\u0425\\u0440\\u0435\\u043d \\u0445\\u043e\\u0445\\u043b\\u0430\\u043c, \\u0430 \\u0446\\u044b\\u0433\\u0430\\u043d \\u043f\\u0443\\u0441\\u0442\\u044c \\u043a \\u0441\\u0435\\u0431\\u0435 \\u0437\\u0430\\u0431\\u0438\\u0440\\u0430\\u044e\\u0442', 'date': '2024-11-10T07:52:14+00:00'}, {'comment_id': 190267, 'user_id': 353287417, 'text': '\\u0411\\u0440\\u044f\\u043d\\u0441\\u043a \\u043a\\u043e\\u043d\\u0435\\u0447\\u043d\\u043e \\u044d\\u0442\\u043e\\u0439 \\u043d\\u043e\\u0447\\u044c\\u044e \\u043f\\u043e\\u0441\\u0442\\u0440\\u0430\\u0434\\u0430\\u043b \\u0431\\u043e\\u043b\\u044c\\u0448\\u0435 \\u0446\\u044b\\u0433\\u0430\\u043d\\u0441\\u043a\\u0438\\u0439  \\u041c\\u043e\\u0441\\u043a\\u0432\\u044b \\ud83e\\udd37\\\\u200d\\u2642', 'date': '2024-11-10T07:20:20+00:00'}, {'comment_id': 190265, 'user_id': 5185766971, 'text': '\\u0422\\u044b \\u043d\\u0435 \\u0445\\u0440\\u044e\\u043a\\u0430\\u0439 ,\\u0430 \\u0434\\u0430\\u0432\\u0430\\u0439 \\u0434\\u0435\\u0439\\u0441\\u0442\\u0432\\u0443\\u0439 \\ud83e\\udd23', 'date': '2024-11-10T07:17:19+00:00'}, {'comment_id': 190259, 'user_id': 1469352538, 'text': '\\u0427\\u0430\\u043e, \\u043f\\u043e\\u0441\\u043b\\u0435\\u0434\\u043e\\u0432\\u0430\\u0442\\u0435\\u043b\\u044c \\u043f\\u0435\\u0434\\u043e\\u0444\\u0438\\u043b\\u0430', 'date': '2024-11-10T07:16:26+00:00'}, {'comment_id': 190258, 'user_id': 5971471301, 'text': '\\u0422\\u0430\\u043a \\u043a\\u0442\\u043e \\u0442\\u0432\\u043e\\u0439 \\u0448\\u043b\\u044e\\u0445\\u043e\\u0432\\u043e\\u0436\\u0434\\u044c?', 'date': '2024-11-10T07:16:26+00:00'}, {'comment_id': 190257, 'user_id': 5971471301, 'text': '\\u0422\\u0430\\u043a \\u043a\\u0442\\u043e \\u0442\\u0432\\u043e\\u0439 \\u0448\\u043b\\u044e\\u0445\\u043e\\u0432\\u043e\\u0436\\u0434\\u044c?', 'date': '2024-11-10T07:16:19+00:00'}, {'comment_id': 190254, 'user_id': 1469352538, 'text': '\\u0425\\u043e\\u0442\\u044f \\u0442\\u0430\\u043a\\u0438\\u0435 \\u043d\\u0435\\u0434\\u043e\\u043b\\u044e\\u0434\\u0438 \\u0434\\u043e\\u043b\\u0436\\u043d\\u044b \\u0431\\u044b\\u0442\\u044c \\u043e\\u0442\\u0441\\u0442\\u0440\\u0430\\u043d\\u0435\\u043d\\u044b \\u043e\\u0442 \\u0441\\u0435\\u0442\\u0438', 'date': '2024-11-10T07:16:12+00:00'}, {'comment_id': 190253, 'user_id': 5971471301, 'text': '\\u0422\\u0430\\u043a \\u043a\\u0442\\u043e \\u0442\\u0432\\u043e\\u0439 \\u0448\\u043b\\u044e\\u0445\\u043e\\u0432\\u043e\\u0436\\u0434\\u044c?', 'date': '2024-11-10T07:16:08+00:00'}, {'comment_id': 190252, 'user_id': 5971471301, 'text': '\\u0422\\u0430\\u043a \\u043a\\u0442\\u043e \\u0442\\u0432\\u043e\\u0439 \\u0448\\u043b\\u044e\\u0445\\u043e\\u0432\\u043e\\u0436\\u0434\\u044c?', 'date': '2024-11-10T07:16:02+00:00'}, {'comment_id': 190251, 'user_id': 5971471301, 'text': '\\u0422\\u0430\\u043a \\u043a\\u0442\\u043e \\u0442\\u0432\\u043e\\u0439 \\u0448\\u043b\\u044e\\u0445\\u043e\\u0432\\u043e\\u0436\\u0434\\u044c?', 'date': '2024-11-10T07:15:54+00:00'}, {'comment_id': 190250, 'user_id': 1469352538, 'text': '\\u041e\\u0445\\u0443\\u0435\\u0442\\u044c \\u0443 \\u0442\\u0435\\u0431\\u044f \\u0438\\u043d\\u0442\\u0435\\u0440\\u043d\\u0435\\u0442 \\u043c\\u0435\\u0434\\u043b\\u0435\\u043d\\u043d\\u044b\\u0439', 'date': '2024-11-10T07:15:53+00:00'}, {'comment_id': 190249, 'user_id': 5971471301, 'text': '\\u0422\\u0430\\u043a \\u043a\\u0442\\u043e \\u0442\\u0432\\u043e\\u0439 \\u0448\\u043b\\u044e\\u0445\\u043e\\u0432\\u043e\\u0436\\u0434\\u044c?', 'date': '2024-11-10T07:15:49+00:00'}, {'comment_id': 190248, 'user_id': 1469352538, 'text': '\\u041d\\u0435\\u0442 \\u0443 \\u043c\\u0435\\u043d\\u044f \\u0448\\u043b\\u044e\\u0445\\u0430\\u0432\\u043e\\u0436\\u0434\\u044f, \\u0432\\u0435\\u0434\\u044c \\u044f \\u043d\\u0435 \\u043f\\u0440\\u043e\\u0432\\u043e\\u0436\\u0443 \\u0432\\u0440\\u0435\\u043c\\u044f \\u0441 \\u0442\\u0432\\u043e\\u0438\\u043c\\u0438 \\u0441\\u043e\\u043f\\u043b\\u0435\\u043c\\u0435\\u043d\\u043d\\u0438\\u043a\\u0430\\u043c\\u0438, \\u0447\\u0438\\u0442\\u0430\\u044f \\u041a\\u043e\\u0440\\u0430\\u043d \\u0438 \\u0435\\u0431\\u044f\\u0441\\u044c \\u0432 \\u0436\\u043e\\u043f\\u0443', 'date': '2024-11-10T07:15:44+00:00'}, {'comment_id': 190247, 'user_id': 5971471301, 'text': '\\u0422\\u0430\\u043a \\u043a\\u0442\\u043e \\u0442\\u0432\\u043e\\u0439 \\u0448\\u043b\\u044e\\u0445\\u043e\\u0432\\u043e\\u0436\\u0434\\u044c?', 'date': '2024-11-10T07:15:41+00:00'}, {'comment_id': 190238, 'user_id': 1469352538, 'text': '\\u041d\\u0435\\u0442 \\u0443 \\u043c\\u0435\\u043d\\u044f \\u0448\\u043b\\u044e\\u0445\\u0430\\u0432\\u043e\\u0436\\u0434\\u044f, \\u0432\\u0435\\u0434\\u044c \\u044f \\u043d\\u0435 \\u043f\\u0440\\u043e\\u0432\\u043e\\u0436\\u0443 \\u0432\\u0440\\u0435\\u043c\\u044f \\u0441 \\u0442\\u0432\\u043e\\u0438\\u043c\\u0438 \\u0441\\u043e\\u043f\\u043b\\u0435\\u043c\\u0435\\u043d\\u043d\\u0438\\u043a\\u0430\\u043c\\u0438, \\u0447\\u0438\\u0442\\u0430\\u044f \\u041a\\u043e\\u0440\\u0430\\u043d \\u0438 \\u0435\\u0431\\u044f\\u0441\\u044c \\u0432 \\u0436\\u043e\\u043f\\u0443', 'date': '2024-11-10T07:15:20+00:00'}, {'comment_id': 190237, 'user_id': 5971471301, 'text': '\\u0422\\u0430\\u043a \\u043a\\u0442\\u043e \\u0442\\u0432\\u043e\\u0439 \\u0448\\u043b\\u044e\\u0445\\u043e\\u0432\\u043e\\u0436\\u0434\\u044c?', 'date': '2024-11-10T07:15:18+00:00'}, {'comment_id': 190236, 'user_id': 1469352538, 'text': '\\u041d\\u0435\\u0442 \\u0443 \\u043c\\u0435\\u043d\\u044f \\u0448\\u043b\\u044e\\u0445\\u0430\\u0432\\u043e\\u0436\\u0434\\u044f, \\u0432\\u0435\\u0434\\u044c \\u044f \\u043d\\u0435 \\u043f\\u0440\\u043e\\u0432\\u043e\\u0436\\u0443 \\u0432\\u0440\\u0435\\u043c\\u044f \\u0441 \\u0442\\u0432\\u043e\\u0438\\u043c\\u0438 \\u0441\\u043e\\u043f\\u043b\\u0435\\u043c\\u0435\\u043d\\u043d\\u0438\\u043a\\u0430\\u043c\\u0438, \\u0447\\u0438\\u0442\\u0430\\u044f \\u041a\\u043e\\u0440\\u0430\\u043d \\u0438 \\u0435\\u0431\\u044f\\u0441\\u044c \\u0432 \\u0436\\u043e\\u043f\\u0443', 'date': '2024-11-10T07:15:14+00:00'}, {'comment_id': 190235, 'user_id': 5971471301, 'text': '\\u0422\\u0430\\u043a \\u043a\\u0442\\u043e \\u0442\\u0432\\u043e\\u0439 \\u0448\\u043b\\u044e\\u0445\\u043e\\u0432\\u043e\\u0436\\u0434\\u044c?', 'date': '2024-11-10T07:15:12+00:00'}, {'comment_id': 190234, 'user_id': 1469352538, 'text': '\\u041d\\u0435\\u0442 \\u0443 \\u043c\\u0435\\u043d\\u044f \\u0448\\u043b\\u044e\\u0445\\u0430\\u0432\\u043e\\u0436\\u0434\\u044f, \\u0432\\u0435\\u0434\\u044c \\u044f \\u043d\\u0435 \\u043f\\u0440\\u043e\\u0432\\u043e\\u0436\\u0443 \\u0432\\u0440\\u0435\\u043c\\u044f \\u0441 \\u0442\\u0432\\u043e\\u0438\\u043c\\u0438 \\u0441\\u043e\\u043f\\u043b\\u0435\\u043c\\u0435\\u043d\\u043d\\u0438\\u043a\\u0430\\u043c\\u0438, \\u0447\\u0438\\u0442\\u0430\\u044f \\u041a\\u043e\\u0440\\u0430\\u043d \\u0438 \\u0435\\u0431\\u044f\\u0441\\u044c \\u0432 \\u0436\\u043e\\u043f\\u0443', 'date': '2024-11-10T07:15:05+00:00'}, {'comment_id': 190233, 'user_id': 5971471301, 'text': '\\u0422\\u0430\\u043a \\u043a\\u0442\\u043e \\u0442\\u0432\\u043e\\u0439 \\u0448\\u043b\\u044e\\u0445\\u043e\\u0432\\u043e\\u0436\\u0434\\u044c?', 'date': '2024-11-10T07:15:03+00:00'}, {'comment_id': 190232, 'user_id': 1469352538, 'text': '\\u041d\\u0435\\u0442 \\u0443 \\u043c\\u0435\\u043d\\u044f \\u0448\\u043b\\u044e\\u0445\\u0430\\u0432\\u043e\\u0436\\u0434\\u044f, \\u0432\\u0435\\u0434\\u044c \\u044f \\u043d\\u0435 \\u043f\\u0440\\u043e\\u0432\\u043e\\u0436\\u0443 \\u0432\\u0440\\u0435\\u043c\\u044f \\u0441 \\u0442\\u0432\\u043e\\u0438\\u043c\\u0438 \\u0441\\u043e\\u043f\\u043b\\u0435\\u043c\\u0435\\u043d\\u043d\\u0438\\u043a\\u0430\\u043c\\u0438, \\u0447\\u0438\\u0442\\u0430\\u044f \\u041a\\u043e\\u0440\\u0430\\u043d \\u0438 \\u0435\\u0431\\u044f\\u0441\\u044c \\u0432 \\u0436\\u043e\\u043f\\u0443', 'date': '2024-11-10T07:14:47+00:00'}, {'comment_id': 190231, 'user_id': 5971471301, 'text': '\\u0422\\u0430\\u043a \\u043a\\u0442\\u043e \\u0442\\u0432\\u043e\\u0439 \\u0448\\u043b\\u044e\\u0445\\u043e\\u0432\\u043e\\u0436\\u0434\\u044c?', 'date': '2024-11-10T07:14:42+00:00'}, {'comment_id': 190230, 'user_id': 1469352538, 'text': '\\u041d\\u0435\\u0442 \\u0443 \\u043c\\u0435\\u043d\\u044f \\u0448\\u043b\\u044e\\u0445\\u0430\\u0432\\u043e\\u0436\\u0434\\u044f, \\u0432\\u0435\\u0434\\u044c \\u044f \\u043d\\u0435 \\u043f\\u0440\\u043e\\u0432\\u043e\\u0436\\u0443 \\u0432\\u0440\\u0435\\u043c\\u044f \\u0441 \\u0442\\u0432\\u043e\\u0438\\u043c\\u0438 \\u0441\\u043e\\u043f\\u043b\\u0435\\u043c\\u0435\\u043d\\u043d\\u0438\\u043a\\u0430\\u043c\\u0438, \\u0447\\u0438\\u0442\\u0430\\u044f \\u041a\\u043e\\u0440\\u0430\\u043d \\u0438 \\u0435\\u0431\\u044f\\u0441\\u044c \\u0432 \\u0436\\u043e\\u043f\\u0443', 'date': '2024-11-10T07:14:41+00:00'}, {'comment_id': 190229, 'user_id': 1469352538, 'text': '\\u0422\\u0435\\u0431\\u0435 \\u043d\\u0430 \\u0440\\u0435\\u043f\\u0438\\u0442\\u0435 \\u044d\\u0442\\u043e \\u043f\\u043e\\u0432\\u0442\\u043e\\u0440\\u044f\\u0442\\u044c?', 'date': '2024-11-10T07:14:35+00:00'}, {'comment_id': 190228, 'user_id': 5971471301, 'text': '\\u0422\\u0430\\u043a \\u043a\\u0442\\u043e \\u0442\\u0432\\u043e\\u0439 \\u0448\\u043b\\u044e\\u0445\\u043e\\u0432\\u043e\\u0436\\u0434\\u044c?', 'date': '2024-11-10T07:14:21+00:00'}, {'comment_id': 190227, 'user_id': 1469352538, 'text': '\\u041d\\u043e \\u0442\\u044b, \\u0430\\u0440\\u0433\\u0443\\u043c\\u0435\\u043d\\u0442\\u043e\\u0432 \\u043d\\u0435 \\u043f\\u0440\\u0438\\u043c\\u0435\\u0448\\u044c \\u0438 \\u0441\\u043a\\u0430\\u0436\\u0435\\u0448\\u044c', 'date': '2024-11-10T07:14:21+00:00'}, {'comment_id': 190226, 'user_id': 1469352538, 'text': '\\u041d\\u0435\\u0442 \\u0443 \\u043c\\u0435\\u043d\\u044f \\u0448\\u043b\\u044e\\u0445\\u0430\\u0432\\u043e\\u0436\\u0434\\u044f, \\u0432\\u0435\\u0434\\u044c \\u044f \\u043d\\u0435 \\u043f\\u0440\\u043e\\u0432\\u043e\\u0436\\u0443 \\u0432\\u0440\\u0435\\u043c\\u044f \\u0441 \\u0442\\u0432\\u043e\\u0438\\u043c\\u0438 \\u0441\\u043e\\u043f\\u043b\\u0435\\u043c\\u0435\\u043d\\u043d\\u0438\\u043a\\u0430\\u043c\\u0438, \\u0447\\u0438\\u0442\\u0430\\u044f \\u041a\\u043e\\u0440\\u0430\\u043d \\u0438 \\u0435\\u0431\\u044f\\u0441\\u044c \\u0432 \\u0436\\u043e\\u043f\\u0443', 'date': '2024-11-10T07:14:06+00:00'}, {'comment_id': 190225, 'user_id': 1469352538, 'text': '\\u0412 \\u043e\\u0442\\u043b\\u0438\\u0447\\u0438\\u0435 \\u043e\\u0442 \\u043f\\u043e\\u0441\\u043b\\u0435\\u0434\\u043e\\u0432\\u0430\\u0442\\u0435\\u043b\\u0435\\u0439 \\u0442\\u0432\\u043e\\u0435\\u0433\\u043e \\u0448\\u043b\\u044e\\u0445\\u0430\\u043a\\u0443\\u043b\\u044c\\u0442\\u0430', 'date': '2024-11-10T07:13:21+00:00'}, {'comment_id': 190224, 'user_id': 5971471301, 'text': '\\u0422\\u0430\\u043a \\u043a\\u0442\\u043e \\u0442\\u0432\\u043e\\u0439 \\u0448\\u043b\\u044e\\u0445\\u043e\\u0432\\u043e\\u0436\\u0434\\u044c?', 'date': '2024-11-10T07:13:19+00:00'}, {'comment_id': 190222, 'user_id': 1469352538, 'text': '\\u041f\\u0443\\u0441\\u0442\\u043e\\u0442\\u0430, \\u043d\\u0430\\u0432\\u0435\\u0440\\u043d\\u043e\\u0435? \\u042f \\u0432\\u0435\\u0434\\u044c \\u043d\\u0435 \\u0448\\u043b\\u044e\\u0445\\u0430, \\u043d\\u0435 \\u043f\\u0435\\u0434\\u043e\\u0444\\u0438\\u043b, \\u043d\\u0435 \\u0437\\u043e\\u043e\\u0444\\u0438\\u043b?', 'date': '2024-11-10T07:12:56+00:00'}, {'comment_id': 190221, 'user_id': 5971471301, 'text': '\\u041d\\u0443 \\u044f \\u043f\\u043e\\u043d\\u044f\\u043b \\u0447\\u0442\\u043e \\u0442\\u044b \\u0442\\u0430\\u043a \\u043f\\u0440\\u043e\\u0432\\u043e\\u0434\\u0438\\u0448\\u044c \\u0432\\u0440\\u0435\\u043c\\u044f. \\\\n\\u0422\\u0430\\u043a \\u043a\\u0442\\u043e \\u0442\\u0432\\u043e\\u0439 \\u0448\\u043b\\u044e\\u0445\\u043e\\u0432\\u043e\\u0436\\u0434\\u044c?', 'date': '2024-11-10T07:12:20+00:00'}, {'comment_id': 190220, 'user_id': 1469352538, 'text': '\\u0412\\u0441\\u043f\\u043e\\u043c\\u0438\\u043d\\u0430\\u044f \\u0442\\u0432\\u043e\\u0435\\u0433\\u043e \\u0448\\u043b\\u044e\\u0445\\u043e-\\u043f\\u0435\\u0434\\u043e\\u0444\\u0438\\u043b\\u043e \\u043f\\u0440\\u043e\\u0440\\u043e\\u043a\\u0430', 'date': '2024-11-10T07:11:34+00:00'}, {'comment_id': 190219, 'user_id': 1469352538, 'text': '\\u0412 \\u0441\\u0432\\u043e\\u0451\\u043c \\u0448\\u043b\\u044e\\u0445\\u043e \\u0431\\u0430\\u0440\\u0430\\u043a\\u0435, \\u0447\\u0438\\u0442\\u0430\\u044f \\u0441\\u0432\\u043e\\u044e \\u0448\\u043b\\u044e\\u0445\\u043e \\u043a\\u043d\\u0438\\u0433\\u0443 \\u0438 \\u0435\\u0431\\u044f\\u0441\\u044c \\u0432 \\u0436\\u043e\\u043f\\u0443 \\u0441\\u043e \\u0441\\u0432\\u043e\\u0438\\u043c\\u0438 \\u0448\\u043b\\u044e\\u0445\\u043e\\u043c\\u0430\\u0433\\u0430\\u043c\\u0438', 'date': '2024-11-10T07:11:12+00:00'}, {'comment_id': 190217, 'user_id': 1469352538, 'text': '\\u041f\\u0440\\u0438 \\u044d\\u0442\\u043e\\u043c \\u043d\\u0430 \\u043f\\u0435\\u0442\\u043b\\u0435 \\u043f\\u043e\\u0432\\u0438\\u0441\\u043d\\u0443\\u0432', 'date': '2024-11-10T07:10:08+00:00'}, {'comment_id': 190216, 'user_id': 5971471301, 'text': '\\u0410 \\u043a\\u0442\\u043e \\u0442\\u0432\\u043e\\u0439 \\u0448\\u043b\\u044e\\u0445\\u043e\\u0432\\u043e\\u0436\\u0434\\u044c?', 'date': '2024-11-10T07:10:07+00:00'}, {'comment_id': 190215, 'user_id': 1469352538, 'text': '\\u0412\\u0441\\u043a\\u0440\\u043e\\u0439\\u0441\\u044f, \\u0435\\u0449\\u0451 \\u0440\\u0430\\u0437 \\u0433\\u043e\\u0432\\u043e\\u0440\\u044e', 'date': '2024-11-10T07:09:56+00:00'}, {'comment_id': 190213, 'user_id': 1469352538, 'text': '\\u041f\\u0443\\u0441\\u0442\\u043e\\u0442\\u0430 \\u0431\\u043b\\u044f\\u0442\\u044c?', 'date': '2024-11-10T07:09:44+00:00'}, {'comment_id': 190212, 'user_id': 1469352538, 'text': '\\u0410 \\u043a\\u0442\\u043e \\u043c\\u043e\\u0439 \\u0448\\u043b\\u044e\\u0445\\u043e\\u0432\\u043e\\u0436\\u0434\\u044c?', 'date': '2024-11-10T07:09:40+00:00'}, {'comment_id': 190211, 'user_id': 1469352538, 'text': '\\u0427\\u0435\\u0447\\u043b\\u0435\\u043d\\u043a\\u0430 \\u0432\\u0435\\u0434\\u044c', 'date': '2024-11-10T07:09:25+00:00'}, {'comment_id': 190210, 'user_id': 1469352538, 'text': '\\u0410 \\u0425\\u043e\\u0442\\u044f \\u043d\\u0435\\u0442, \\u043d\\u0435 \\u0431\\u0435\\u0434\\u043d\\u0430\\u044f', 'date': '2024-11-10T07:09:19+00:00'}, {'comment_id': 190209, 'user_id': 5971471301, 'text': '\\u042f \\u043f\\u0440\\u0438\\u0437\\u043d\\u0430\\u044e \\u0447\\u0442\\u043e \\u0442\\u0432\\u043e\\u0439 \\u0448\\u043b\\u044e\\u0445\\u043e\\u0432\\u043e\\u0436\\u0434\\u044c \\u043f\\u0435\\u0434\\u043e\\u0444\\u0438\\u043b', 'date': '2024-11-10T07:09:18+00:00'}, {'comment_id': 190208, 'user_id': 6214195416, 'text': '\\u0410 \\u043f\\u043e\\u0447\\u0435\\u043c\\u0443 \\u043e\\u0441\\u043a\\u043e\\u043b\\u043a\\u0438 \\u0432\\u0437\\u0440\\u044b\\u0432\\u0430\\u044e\\u0442\\u0441\\u044f?', 'date': '2024-11-10T07:09:13+00:00'}, {'comment_id': 190207, 'user_id': 6344708490, 'text': '\\u041f\\u043e-\\u043b\\u044e\\u0431\\u043e\\u043c\\u0443 \\u043c\\u0438\\u0433\\u0440\\u0430\\u043d\\u0442 \\u043d\\u0435 \\u043f\\u043e \\u0440\\u0443\\u0441\\u0441\\u043a\\u0438 \\u0433\\u043e\\u0432\\u043e\\u0440\\u0438\\u0442', 'date': '2024-11-10T07:09:08+00:00'}, {'comment_id': 190206, 'user_id': 1469352538, 'text': '\\u0411\\u0435\\u0434\\u043d\\u0430\\u044f 6 \\u043b\\u0435\\u0442\\u043d\\u044f\\u044f \\u0434\\u0435\\u0432\\u043e\\u0447\\u043a\\u0430', 'date': '2024-11-10T07:09:02+00:00'}, {'comment_id': 190205, 'user_id': 1469352538, 'text': '\\u041a\\u0430\\u043a \\u0438 \\u0434\\u0443\\u043c\\u0430\\u043b', 'date': '2024-11-10T07:08:54+00:00'}, {'comment_id': 190204, 'user_id': 1469352538, 'text': '\\u0422\\u044b \\u043f\\u0440\\u0438\\u0437\\u043d\\u0430\\u0435\\u0448\\u044c, \\u0447\\u0442\\u043e \\u0442\\u0432\\u043e\\u0439 \\u0448\\u043b\\u044e\\u0445\\u043e \\u0432\\u043e\\u0436\\u0434\\u044c \\u043f\\u0435\\u0434\\u043e\\u0444\\u0438\\u043b?', 'date': '2024-11-10T07:08:39+00:00'}, {'comment_id': 190202, 'user_id': 6344708490, 'text': '\\u042d\\u0442\\u043e \\u0447\\u0442\\u043e \\ud83d\\ude33 \\u0442\\u044b \\u0447\\u0442\\u043e \\u0448\\u0430\\u0448\\u043b\\u044b\\u043a \\u0436\\u0430\\u0440\\u0438\\u0448\\u044c', 'date': '2024-11-10T07:08:21+00:00'}, {'comment_id': 190201, 'user_id': 1469352538, 'text': '\\u0422\\u043e\\u043b\\u044c\\u043a\\u043e \\u0430\\u0432\\u0435\\u0447\\u0438 \\u043f\\u043e\\u043f\\u0430\\u0447\\u043a\\u0438 \\u0442\\u044b\\u0431\\u044f \\u0445\\u0430\\u0442\\u044f\\u0442', 'date': '2024-11-10T07:08:01+00:00'}, {'comment_id': 190200, 'user_id': 5971471301, 'text': '\\u041d\\u0430\\u0434\\u043e \\u0436\\u0435 \\u043c\\u0438\\u0440 \\u043e\\u0447\\u0438\\u0441\\u0442\\u0438\\u0442\\u044c \\u043e\\u0442 \\u0442\\u0430\\u043a\\u0438\\u0445 \\u043a\\u0430\\u043a \\u0442\\u044b', 'date': '2024-11-10T07:07:50+00:00'}, {'comment_id': 190199, 'user_id': 1469352538, 'text': '\\u041c\\u0430\\u0448\\u0430\\u043b\\u0430 \\u0430\\u0445\\u0430\\u0445\\u0430 \\u0445\\u0443\\u0439 \\u0448\\u0430\\u043b\\u0430 \\u0442\\u0438\\u0431\\u044f \\u043d\\u044d \\u043b\\u044e\\u0431\\u044b\\u0442', 'date': '2024-11-10T07:07:48+00:00'}, {'comment_id': 190198, 'user_id': 1469352538, 'text': '\\u0412\\u0441\\u043a\\u0440\\u043e\\u0439\\u0441\\u044f \\u0443\\u0451\\u0431\\u0438\\u0449\\u0435', 'date': '2024-11-10T07:07:33+00:00'}, {'comment_id': 190197, 'user_id': 6344708490, 'text': '\\u0426\\u044b\\u0433\\u0430\\u043d\\u0435 \\u043d\\u0435 \\u0436\\u0430\\u043b\\u043a\\u043e', 'date': '2024-11-10T07:07:28+00:00'}, {'comment_id': 190196, 'user_id': 1469352538, 'text': '\\u041e\\u0445\\u0443\\u0435\\u043d\\u043d\\u0430\\u044f \\u0443 \\u0432\\u0430\\u0441 \\u043f\\u0435\\u0434\\u043e\\u0444\\u0438\\u043b\\u043e-\\u0437\\u043e\\u043e\\u0444\\u0438\\u043b\\u043e-\\u0431\\u043b\\u044f\\u0434\\u043e \\u0440\\u0435\\u043b\\u0438\\u0433\\u0438\\u044f', 'date': '2024-11-10T07:07:23+00:00'}, {'comment_id': 190194, 'user_id': 5971471301, 'text': '\\u041e\\u043d \\u0432\\u0435\\u043b\\u0435\\u043b \\u0442\\u0435\\u0431\\u044f \\u0438 \\u0442\\u0430\\u043a\\u0438\\u0445 \\u043a\\u0430\\u043a \\u0442\\u044b \\u0437\\u0430\\u0435\\u0431\\u0430\\u0442\\u044c \\u0434\\u043e\\u0441\\u043c\\u0435\\u0440\\u0442\\u0438 \\\\n\\u0415\\u0431\\u0451\\u043c', 'date': '2024-11-10T07:06:30+00:00'}, {'comment_id': 190193, 'user_id': 1469352538, 'text': '*\\u0433\\u043e\\u0440\\u043e\\u0448\\u0438\\u043d\\u043a\\u0443', 'date': '2024-11-10T07:06:28+00:00'}, {'comment_id': 190192, 'user_id': 980177461, 'text': '\\u041e\\u0442\\u0432\\u0435\\u0442 \\u043f\\u0440\\u043e\\u0441\\u0442\\u043e. \\u0414\\u0440\\u0443\\u0433\\u0438\\u0435 \\u043d\\u043e\\u0432\\u043e\\u0441\\u0442\\u0438 \\u043f\\u043e\\u0441\\u043c\\u043e\\u0442\\u0440\\u0438 \\ud83d\\ude12\\u0434\\u043e\\u043b\\u0431\\u0430\\u0435\\u0431\\u043e\\u0432 \\u0432\\u0435\\u0437\\u0434\\u0435 \\u0445\\u0432\\u0430\\u0442\\u0430\\u0435\\u0442', 'date': '2024-11-10T07:06:10+00:00'}, {'comment_id': 190191, 'user_id': 5971471301, 'text': '\\u0418 \\u0442\\u044b \\u043f\\u0440\\u0438\\u0448\\u043b\\u0430 \\u043e\\u0442\\u0441\\u0430\\u0441\\u044b\\u0432\\u0430\\u0442\\u044c \\u0447\\u0435\\u0447\\u0435\\u043d\\u0441\\u043a\\u0438\\u0439 \\u0445\\u0443\\u0439?', 'date': '2024-11-10T07:05:52+00:00'}, {'comment_id': 190190, 'user_id': 1469352538, 'text': '\\u041f\\u043e\\u0434 \\u0441\\u0442\\u0430\\u0442\\u044c \\u0431\\u043e\\u0440\\u043e\\u0434\\u0430\\u0442\\u043e\\u043c\\u0443 \\u043f\\u0435\\u0434\\u043e\\u0444\\u0438\\u043b\\u0443', 'date': '2024-11-10T07:05:49+00:00'}, {'comment_id': 190189, 'user_id': 1469352538, 'text': '\\u041c\\u0443\\u0445\\u0430\\u043c\\u043c\\u0435\\u0434-\\u043f\\u0435\\u0434\\u043e\\u0444\\u0438\\u043b \\u0437\\u0430\\u0432\\u0435\\u0449\\u0430\\u043b \\u0441\\u0432\\u043e\\u0438\\u043c \\u043f\\u043e\\u0441\\u043b\\u0435\\u0434\\u043e\\u0432\\u0430\\u0442\\u0435\\u043b\\u044f\\u043c \\u0436\\u0438\\u0432\\u043e\\u0442\\u043d\\u044b\\u0445 \\u043d\\u0430 \\u043c\\u044f\\u0441\\u043d\\u044b\\u0435 \\u043a\\u043e\\u043f\\u044c\\u044f \\u043d\\u0430\\u0442\\u044f\\u0433\\u0438\\u0432\\u0430\\u0442\\u044c?', 'date': '2024-11-10T07:05:38+00:00'}, {'comment_id': 190188, 'user_id': 6496417118, 'text': '\\u0422\\u044b \\u043b\\u044e\\u0431\\u0438\\u0448\\u044c \\u0431\\u0440\\u0430\\u0442\\u044c \\u0432 \\u0440\\u043e\\u0442 \\u0447\\u0435\\u0447\\u043b\\u0435\\u043d\\u0441\\u043a\\u0438\\u0439 \\u0445\\u0443\\u0439', 'date': '2024-11-10T07:05:25+00:00'}, {'comment_id': 190187, 'user_id': 5971471301, 'text': '\\u0414\\u0430, \\u043b\\u044e\\u0431\\u043b\\u044e \\u0442\\u0435\\u0431\\u044f \\u0441\\u0432\\u0438\\u043d\\u044c\\u044e \\u043d\\u0430\\u0442\\u044f\\u0433\\u0438\\u0432\\u0430\\u0442\\u044c', 'date': '2024-11-10T07:05:00+00:00'}, {'comment_id': 190186, 'user_id': 1469352538, 'text': '\\u0422\\u0440\\u0430\\u0434\\u0438\\u0446\\u0438\\u044f \\u0434\\u0440\\u0435\\u0432\\u043d\\u044f\\u044f', 'date': '2024-11-10T07:04:59+00:00'}, {'comment_id': 190185, 'user_id': 6496417118, 'text': '\\u041e\\u043d \\u043f\\u043e\\u0434 \\u0441\\u043f\\u0430\\u0439\\u0441\\u043e\\u043c \\u044f\\u0432\\u043d\\u043e', 'date': '2024-11-10T07:04:54+00:00'}, {'comment_id': 190184, 'user_id': 1469352538, 'text': '\\u0410, \\u0441\\u0432\\u0438\\u043d\\u0435\\u0439  \\u0443 \\u0432\\u0430\\u0441 \\u0435\\u0431\\u0430\\u0442\\u044c \\u044d\\u0442\\u043e \\u0445\\u0430\\u043b\\u044f\\u043b\\u044c', 'date': '2024-11-10T07:04:43+00:00'}, {'comment_id': 190183, 'user_id': 5971471301, 'text': '\\u041c\\u044b \\u0432\\u0441\\u0435 \\u0435\\u0431\\u0435\\u043c \\u0442\\u0435\\u0431\\u044f \\u043f\\u043e \\u043a\\u0440\\u0443\\u0433\\u0443', 'date': '2024-11-10T07:04:34+00:00'}, {'comment_id': 190182, 'user_id': 1469352538, 'text': '\\u0422\\u0435\\u0431\\u044f \\u0442\\u0430\\u043c \\u0437\\u0430 \\u044d\\u0442\\u043e\\u0442 \\u043c\\u0430\\u0448\\u0430\\u043b\\u0430 \\u0445\\u0443\\u0439 \\u0448\\u0430\\u043b\\u0430 \\u0441\\u043e\\u043f\\u043b\\u0435\\u043c\\u0435\\u043d\\u043d\\u0438\\u043a\\u0438 \\u0432 \\u0436\\u043e\\u043f\\u0443 \\u043d\\u0435 \\u0434\\u0435\\u0440\\u0443\\u0442?', 'date': '2024-11-10T07:04:15+00:00'}, {'comment_id': 190181, 'user_id': 1469352538, 'text': '\\u041e\\u0445\\u0443\\u0435\\u0442\\u044c, \\u0442\\u0430\\u043a \\u0442\\u044b \\u0440\\u0435\\u0430\\u043b\\u044c\\u043d\\u043e \\u0437\\u043e\\u043e\\u0444\\u0438\\u043b', 'date': '2024-11-10T07:03:53+00:00'}, {'comment_id': 190180, 'user_id': 5971471301, 'text': '\\u041f\\u043e\\u0442\\u043e\\u043c\\u0443 \\u0447\\u0442\\u043e \\u0435\\u0431\\u0443 \\u0442\\u0435\\u0431\\u044f \\u0441\\u0432\\u0438\\u043d\\u044c\\u044e', 'date': '2024-11-10T07:03:36+00:00'}, {'comment_id': 190179, 'user_id': 1469352538, 'text': '\\u0422\\u043e\\u0447\\u043d\\u0435\\u0435 \\u0447\\u0435\\u0447\\u043b\\u0435\\u043d\\u0435\\u0446', 'date': '2024-11-10T07:03:34+00:00'}, {'comment_id': 190178, 'user_id': 1469352538, 'text': '\\u0422\\u044b \\u0447\\u0435\\u0447\\u0435\\u043d\\u0435\\u0446 \\u043a\\u043e\\u0442\\u043e\\u0440\\u044b\\u0439 \\u043e\\u0432\\u0435\\u0447\\u043a\\u0443 \\u043e\\u0442\\u044c\\u0435\\u0431\\u0430\\u0438\\u044c \\u043d\\u0435 \\u043c\\u043e\\u0436\\u0435\\u0442', 'date': '2024-11-10T07:03:20+00:00'}, {'comment_id': 190177, 'user_id': 5971471301, 'text': '\\u042f \\u0447\\u0435\\u0447\\u0435\\u043d\\u0435\\u0446 \\u043a\\u043e\\u0442\\u043e\\u0440\\u044b\\u0439 \\u0435\\u0431\\u0451\\u0442 \\u0442\\u0435\\u0431\\u044f \\u0432 \\u0436\\u043e\\u043f\\u0443', 'date': '2024-11-10T07:03:05+00:00'}, {'comment_id': 190175, 'user_id': 1469352538, 'text': '\\u0421\\u0442\\u0430\\u043d\\u044c \\u0433\\u0435\\u0440\\u043e\\u0435\\u043c \\u0425\\u043e\\u0445\\u043b\\u044f\\u043d\\u0434\\u0438\\u0438', 'date': '2024-11-10T07:03:02+00:00'}, {'comment_id': 190174, 'user_id': 1469352538, 'text': '\\u0422\\u043e\\u0433\\u0434\\u0430 \\u0431\\u0443\\u0434\\u044c \\u043d\\u0430\\u0435\\u043c\\u043d\\u0438\\u043a\\u043e\\u043c', 'date': '2024-11-10T07:02:54+00:00'}, {'comment_id': 190173, 'user_id': 1469352538, 'text': '\\u0422\\u0430\\u043a \\u0442\\u044b \\u0447\\u0435\\u0447\\u043b\\u0435\\u043d\\u0435\\u0446', 'date': '2024-11-10T07:02:44+00:00'}, {'comment_id': 190172, 'user_id': 6496417118, 'text': '\\u0414\\u0430 \\u043e\\u043d \\u0443\\u0436\\u0435 \\u0431\\u0435\\u0437 \\u0441\\u043f\\u0430\\u0439\\u0441\\u0430, \\u043a\\u0430\\u043a \\u043f\\u043e\\u0434 \\u0441\\u043f\\u0430\\u0439\\u0441\\u043e\\u043c\\ud83e\\udd23 \\u0435\\u043c\\u0443 \\u043f\\u043e\\u043c\\u043e\\u0436\\u0435\\u0442 \\u0442\\u043e\\u043b\\u044c\\u043a\\u043e \\u0432\\u0438\\u0441\\u0435\\u043b\\u0438\\u0446\\u0430. \\u041d\\u0443 \\u0442\\u0438\\u043f\\u0430 \\u0432\\u0437\\u044f\\u043b \\u0437\\u0430\\u0440\\u044f\\u0434\\u043a\\u0443 \\u043e\\u0442 \\u0442\\u0430\\u043f\\u043a\\u0430 \\u0441 \\u043a\\u043e\\u0442\\u043e\\u0440\\u043e\\u0433\\u043e \\u043f\\u0438\\u0448\\u0435\\u0442, \\u0432\\u0437\\u0434\\u0435\\u0440\\u043d\\u0443\\u043b\\u0441\\u044f, \\u0438 \\u0432\\u0441\\u0435', 'date': '2024-11-10T07:00:34+00:00'}, {'comment_id': 190171, 'user_id': 5971471301, 'text': '\\u0425\\u0443\\u0435\\u0441\\u043e\\u0441 \\u0440\\u0443\\u0441\\u0441\\u043a\\u0438\\u0439, \\u0441\\u0438\\u0434\\u044f \\u0432 \\u0438\\u043d\\u0435\\u0442\\u0435, \\u043a\\u043e\\u0433\\u0434\\u0430 \\u043a\\u0430\\u0436\\u0434\\u044b\\u0439 \\u0434\\u0435\\u043d\\u044c \\u0433\\u0438\\u0431\\u043d\\u0443\\u0442 \\u0442\\u044b\\u0441\\u044f\\u0447\\u0438 \\u0440\\u0443\\u0441\\u0441\\u043a\\u0438\\u0445, \\u043f\\u0438\\u0448\\u0435\\u0442 \\u044d\\u0442\\u043e \\u0447\\u0435\\u0447\\u0435\\u043d\\u0446\\u0443. \\\\n\\u042f \\u0432 \\u0430\\u0445\\u0443\\u0435 \\ud83e\\udd23', 'date': '2024-11-10T06:59:28+00:00'}, {'comment_id': 190169, 'user_id': 1469352538, 'text': '\\u0427\\u0442\\u043e\\u0431 \\u043f\\u0440\\u043e\\u0441\\u043f\\u0430\\u0442\\u044c\\u0441\\u044f', 'date': '2024-11-10T06:58:42+00:00'}, {'comment_id': 190168, 'user_id': 1469352538, 'text': '\\u041e\\u0442 \\u043d\\u0430\\u0440\\u043a\\u043e\\u0442\\u044b \\u043e\\u0442\\u043e\\u0439\\u0442\\u0438 \\u043d\\u0443\\u0436\\u043d\\u043e', 'date': '2024-11-10T06:58:37+00:00'}, {'comment_id': 190167, 'user_id': 6496417118, 'text': '\\u042f \\u0431\\u044b, \\u043a\\u0430\\u043a \\u0431\\u044b \\u043d\\u0435 \\u0431\\u044b. \\u0412 \\u0442\\u043e\\u043c \\u0442\\u043e \\u0438 \\u0434\\u0435\\u043b\\u043e \\u0447\\u0442\\u043e \\u0442\\u044b \\u0434\\u0438\\u0432\\u0430\\u043d\\u043d\\u044b\\u0439 \\u0432\\u043e\\u044f\\u043a\\u0430. \\u0418\\u0434\\u0438 \\u043f\\u0440\\u043e\\u0441\\u043f\\u0438\\u0441\\u044c, \\u0434\\u043e\\u0431\\u0440\\u043e\\u0432\\u043e\\u043b\\u0435\\u0446 \\u0445\\u0443\\u0435\\u0432!', 'date': '2024-11-10T06:58:16+00:00'}, {'comment_id': 190166, 'user_id': 1469352538, 'text': '\\u0410 \\u043c\\u043e\\u0433 \\u0431\\u044b \\u0432\\u043e\\u043e\\u0431\\u0449\\u0435 \\u043d\\u0435 \\u043f\\u043e\\u0433\\u0438\\u0431\\u0430\\u0442\\u044c, \\u0441\\u0432\\u0438\\u043d\\u043e\\u0431\\u043b\\u044f\\u0434\\u0442 \\u043d\\u0435\\u0440\\u0430\\u0437\\u0443\\u043c\\u043d\\u0430\\u044f', 'date': '2024-11-10T06:58:13+00:00'}, {'comment_id': 190165, 'user_id': 5971471301, 'text': '\\u0414\\u0430, \\u043d\\u043e \\u043d\\u0435 \\u043f\\u0430\\u0442\\u0440\\u0438\\u043e\\u0442 \\u0423\\u043a\\u0440\\u0430\\u0438\\u043d\\u044b ))', 'date': '2024-11-10T06:58:11+00:00'}, {'comment_id': 190163, 'user_id': 1469352538, 'text': '\\u0427\\u0443\\u0436\\u043e\\u0439 \\u0431\\u043b\\u044f\\u0442\\u044c \\u0441\\u0442\\u0440\\u0430\\u043d\\u044b', 'date': '2024-11-10T06:57:54+00:00'}, {'comment_id': 190162, 'user_id': 5971471301, 'text': '\\u041d\\u0443 \\u044d\\u0442\\u043e \\u043b\\u0443\\u0447\\u0448\\u0435 \\u0447\\u0435\\u043c \\u043f\\u043e\\u0433\\u0438\\u0431\\u0430\\u0442\\u044c \\u0437\\u0430 \\u0440\\u0443\\u0441\\u0441\\u043a\\u0438\\u0439 \\u043c\\u0438\\u0440', 'date': '2024-11-10T06:57:51+00:00'}, {'comment_id': 190160, 'user_id': 1469352538, 'text': '\\u0412\\u043e\\u0442 \\u0438 \\u043f\\u0430\\u0442\\u0440\\u0438\\u043e\\u0442', 'date': '2024-11-10T06:57:46+00:00'}, {'comment_id': 190159, 'user_id': 7250164522, 'text': '\\u041e\\u043f\\u0440\\u0430\\u0432\\u0434\\u0430\\u043d\\u0438\\u044f*', 'date': '2024-11-10T06:57:34+00:00'}, {'comment_id': 190158, 'user_id': 1469352538, 'text': '\\u0422\\u044b \\u0431\\u044b \\u043f\\u043e\\u0433\\u0438\\u0431 \\u0437\\u0430 \\u0432\\u0435\\u0449\\u0438 \\u0438\\u0437 \\u0441\\u0435\\u043a\\u043e\\u043d\\u0434\\u0430, \\u043c\\u0430\\u043a, \\u043a\\u0444\\u0441, \\u043f\\u0440\\u043e\\u0441\\u0440\\u043e\\u0447\\u0435\\u043d\\u043d\\u043e\\u0433\\u043e \\u043a\\u043b\\u043e\\u0443\\u043d\\u0430, \\u0435\\u0433\\u043e \\u043a\\u043e\\u0440\\u0440\\u0443\\u043f\\u0446\\u0438\\u043e\\u043d\\u043d\\u044b\\u0445 \\u0441\\u0445\\u0435\\u043c \\u0438 \\u0432\\u0441\\u0435\\u0439 \\u043f\\u043e\\u043b\\u0438\\u0442 \\u044d\\u043b\\u0438\\u0442\\u044b, \\u043a\\u043e\\u0442\\u043e\\u0440\\u0430\\u044f \\u0441\\u044a\\u0435\\u0431\\u0435\\u0442\\u0441\\u044f \\u0432 \\u0410\\u043d\\u0433\\u043b\\u0438\\u044e', 'date': '2024-11-10T06:57:29+00:00'}, {'comment_id': 190157, 'user_id': 1042781743, 'text': '\\u0425\\u043e\\u0440\\u043e\\u0448\\u043e \\u0447\\u0442\\u043e \\u043d\\u0435 \\u043a\\u043e\\u0433\\u043e \\u043d\\u0435 \\u0431\\u044b\\u043b\\u043e \\u0432 \\u0434\\u043e\\u043c\\u0430\\u0445 \\ud83d\\ude02', 'date': '2024-11-10T06:57:27+00:00'}, {'comment_id': 190156, 'user_id': 5971471301, 'text': '\\u041f\\u043e\\u0442\\u043e\\u043c\\u0443 \\u0447\\u0442\\u043e \\u044d\\u0442\\u043e \\u043d\\u0435 \\u043c\\u043e\\u044f \\u0441\\u0442\\u0440\\u0430\\u043d\\u0430, \\u0443\\u043a\\u0440\\u0430\\u0438\\u043d\\u0446\\u0435\\u0432 30-40 \\u043c\\u043b\\u043d, \\u0441\\u043f\\u0440\\u0430\\u0432\\u044f\\u0442\\u0441\\u044f \\u0441 \\u0432\\u0430\\u043c\\u0438 \\u0438 \\u0431\\u0435\\u0437 \\u043c\\u0435\\u043d\\u044f', 'date': '2024-11-10T06:57:19+00:00'}, {'comment_id': 190155, 'user_id': 7250164522, 'text': '\\u041d\\u0443, \\u044f \\u0438 \\u0433\\u043e\\u0432\\u043e\\u0440\\u044e \\u0447\\u0442\\u043e \\u043c\\u043e\\u0436\\u0435\\u0448\\u044c \\u0441\\u0442\\u0430\\u0442\\u044c \\u0434\\u043e\\u0431\\u0440\\u043e\\u0432\\u043e\\u043b\\u044c\\u0446\\u0435\\u043c, \\u043b\\u0438\\u0431\\u043e \\u0437\\u0430\\u0434\\u043e\\u043d\\u0430\\u0442\\u0438\\u0442\\u044c \\u0432\\u0441\\u0443', 'date': '2024-11-10T06:57:00+00:00'}, {'comment_id': 190154, 'user_id': 5971471301, 'text': '\\u0420\\u0430\\u043d\\u043e \\u0438\\u043b\\u0438 \\u043f\\u043e\\u0437\\u0434\\u043d\\u043e \\u0432\\u0441\\u0435 \\u0443\\u043c\\u0440\\u0435\\u043c, \\u0430 \\u0442\\u0430\\u043a \\u043f\\u043e\\u0433\\u0438\\u0431 \\u0431\\u044b \\u0437\\u0430 \\u0431\\u043b\\u0430\\u0433\\u043e\\u0435 \\u0434\\u0435\\u043b\\u043e', 'date': '2024-11-10T06:56:28+00:00'}, {'comment_id': 190153, 'user_id': 1469352538, 'text': '\\u0410 \\u043f\\u043e\\u0447\\u0435\\u043c\\u0443 \\u0442\\u044b \\u0441\\u0430\\u043c \\u0432\\u043e\\u0435\\u0432\\u0430\\u0442\\u044c \\u0437\\u0430 \\u0425\\u043e\\u0445\\u043b\\u044f\\u043d\\u0434\\u0438\\u044e \\u043d\\u0435 \\u0435\\u0434\\u0435\\u0448\\u044c?', 'date': '2024-11-10T06:56:25+00:00'}, {'comment_id': 190151, 'user_id': 8036619907, 'text': '\\u0425\\u043e\\u0445\\u043b\\u044b \\u043a\\u043e\\u043d\\u0435\\u0447\\u043d\\u043e \\u043f\\u0438\\u0434\\u043e\\u0440\\u044b \\u043d\\u043e..\\\\n\\\\n\\u0410\\u0445\\u0430\\u0445\\u0430\\u0445\\u0445\\u0430\\u0445\\u0430, \\u0432\\u043e\\u0442 \\u0438 \\u043a\\u0430\\u0440\\u0430 \\u0431\\u043e\\u0436\\u044c\\u044f \\u0434\\u043b\\u044f \\u0446\\u044b\\u0433\\u0430\\u043d\\u2026', 'date': '2024-11-10T06:56:16+00:00'}, {'comment_id': 190150, 'user_id': 5971471301, 'text': '\\u0414\\u043b\\u044f \\u044d\\u0442\\u043e\\u0433\\u043e \\u0435\\u0441\\u0442\\u044c \\u0443\\u043a\\u0440\\u0430\\u0438\\u043d\\u0446\\u044b', 'date': '2024-11-10T06:55:54+00:00'}, {'comment_id': 190149, 'user_id': 1469352538, 'text': '\\u0418 \\u0441\\u0434\\u043e\\u0445 \\u0431\\u044b, \\u0432\\u0435\\u0434\\u044c \\u0442\\u0435\\u0431\\u044f \\u043a\\u0438\\u043d\\u0443\\u043b\\u0438 \\u0431\\u044b \\u043f\\u043e\\u0434 \\u0410\\u0432\\u0434\\u0435\\u0435\\u0432\\u043a\\u0443', 'date': '2024-11-10T06:55:53+00:00'}, {'comment_id': 190147, 'user_id': 1469352538, 'text': '\\u041a\\u043e\\u0442\\u043e\\u0440\\u043e\\u0435 \\u043e\\u0434\\u0438\\u043d \\u0445\\u0443\\u0439 \\u043d\\u0438\\u0437\\u043a\\u043e\\u0433\\u043e \\u043a\\u0430\\u0447\\u0435\\u0441\\u0442\\u0432\\u0430', 'date': '2024-11-10T06:55:25+00:00'}, {'comment_id': 190146, 'user_id': 7250164522, 'text': '\\u041d\\u0430 \\u0440\\u0443\\u043a\\u0430\\u0445 \\u043c\\u0435\\u043d\\u044f \\u043d\\u0435\\u0441\\u0438 \\u0435\\u0431\\u0435\\u043d\\u044c', 'date': '2024-11-10T06:55:19+00:00'}, {'comment_id': 190145, 'user_id': 1469352538, 'text': '\\u0410 \\u0432\\u0441\\u0435 \\u0440\\u0430\\u0434\\u0438 \\u0442\\u043e\\u0433\\u043e, \\u0447\\u0442\\u043e\\u0431\\u044b \\u043f\\u0440\\u043e\\u0434\\u0430\\u0432\\u0430\\u0442\\u044c \\u0432\\u0430\\u043c, \\u0445\\u043e\\u0445\\u043b\\u0430\\u043c, \\u043e\\u0440\\u0443\\u0436\\u0438\\u0435', 'date': '2024-11-10T06:55:18+00:00'}, {'comment_id': 190144, 'user_id': 7250164522, 'text': '\\u0422\\u044b \\u043c\\u043e\\u0436\\u0435\\u0448\\u044c \\u043f\\u043e\\u0435\\u0445\\u0430\\u0442\\u044c \\u0432 \\u0423\\u043a\\u0440\\u0430\\u0438\\u043d\\u0443 \\u0438 \\u0431\\u044b\\u0442\\u044c \\u0434\\u043e\\u0431\\u0440\\u043e\\u0432\\u043e\\u043b\\u044c\\u0446\\u0435\\u043c...', 'date': '2024-11-10T06:55:06+00:00'}, {'comment_id': 190143, 'user_id': 1469352538, 'text': '\\u0414\\u0440\\u0435\\u0432\\u0435\\u0441\\u0438\\u043d\\u0443 \\u0432\\u044b\\u0432\\u043e\\u0437\\u044f\\u0442', 'date': '2024-11-10T06:54:58+00:00'}, {'comment_id': 190142, 'user_id': 5971471301, 'text': '\\u042f \\u0442\\u0435\\u0431\\u044f \\u043d\\u0435 \\u043d\\u0435\\u0441\\u0443', 'date': '2024-11-10T06:54:55+00:00'}, {'comment_id': 190140, 'user_id': 1469352538, 'text': '\\u0412 \\u0423\\u043a\\u0440\\u0430\\u0438\\u043d\\u0435 \\u0442\\u0435\\u043f\\u043b\\u0430 \\u043d\\u0435\\u0442, \\u044d\\u043d\\u0435\\u0440\\u0433\\u0438\\u0438 \\u043d\\u043a\\u0442, \\u0432\\u0441\\u0435 \\u0422\\u042d\\u0426 \\u0443\\u043d\\u0438\\u0447\\u0442\\u043e\\u0436\\u0435\\u043d\\u044b', 'date': '2024-11-10T06:54:44+00:00'}, {'comment_id': 190139, 'user_id': 5971471301, 'text': '\\u042f \\u043d\\u0435 \\u0443\\u043a\\u0440\\u0430\\u0438\\u043d\\u0435\\u0446, \\u043d\\u043e \\u0435\\u0441\\u043b\\u0438 \\u0431\\u044b \\u0431\\u044b\\u043b, \\u0442\\u043e \\u043f\\u043e\\u0448\\u0435\\u043b \\u0431\\u044b \\u0434\\u043e\\u0431\\u0440\\u043e\\u0432\\u043e\\u043b\\u044c\\u0446\\u0435\\u043c', 'date': '2024-11-10T06:54:35+00:00'}, {'comment_id': 190138, 'user_id': 7250164522, 'text': '\\u0425\\u0443\\u0439\\u043d\\u044e \\u043d\\u0435\\u0441\\u0451\\u0448\\u044c', 'date': '2024-11-10T06:54:15+00:00'}, {'comment_id': 190136, 'user_id': 1469352538, 'text': '\\u0421\\u0430\\u043f\\u043e\\u0436\\u043a\\u0438 \\u043f\\u0430\\u043d\\u0430 \\u0432\\u0430\\u0436\\u043d\\u0435\\u0435', 'date': '2024-11-10T06:54:11+00:00'}, {'comment_id': 190134, 'user_id': 1469352538, 'text': '\\u041d\\u043e \\u043d\\u0435\\u0442', 'date': '2024-11-10T06:54:02+00:00'}, {'comment_id': 190133, 'user_id': 1469352538, 'text': '\\u0410 \\u0445\\u043e\\u0445\\u043b\\u044b \\u043c\\u043e\\u0433\\u043b\\u0438 \\u0441\\u0431\\u0435\\u0436\\u0430\\u0442\\u044c \\u0432 \\u0441\\u0442\\u0440\\u0430\\u043d\\u044b \\u041d\\u0410\\u0422\\u041e, \\u0438\\u0445 \\u0431\\u044b \\u0442\\u0430\\u043c \\u0437\\u0430\\u0449\\u0438\\u0442\\u0438\\u043b\\u0438 \\u043e\\u0442 \\u0442\\u0446\\u043a \\u0438 \\u0431\\u0435\\u0441\\u043f\\u0438\\u043b\\u043e\\u0442\\u043d\\u0438\\u043a\\u043e\\u0432', 'date': '2024-11-10T06:54:00+00:00'}, {'comment_id': 190132, 'user_id': 5971471301, 'text': '\\u0423 \\u0432\\u0430\\u0441 \\u043d\\u0435\\u0442, \\u0432 \\u0423\\u043a\\u0440\\u0430\\u0438\\u043d\\u0435 \\u0434\\u0430\\u0436\\u0435 \\u043c\\u0430\\u0441\\u043b\\u043e \\u0435\\u0441\\u0442\\u044c, \\u043a\\u043e\\u0442\\u043e\\u0440\\u043e\\u0433\\u043e \\u0443 \\u0432\\u0430\\u0441 \\u043d\\u0435\\u0442', 'date': '2024-11-10T06:53:53+00:00'}, {'comment_id': 190131, 'user_id': 1394118164, 'text': '\\u0425\\u043e\\u0445\\u043b\\u044b \\u0431\\u0440\\u0430\\u0442\\u0443\\u0448\\u043a\\u0438 \\u043f\\u043e\\u043c\\u043e\\u0433\\u0430\\u044e\\u0442 \\u043e\\u0442\\u0447\\u0438\\u0441\\u0442\\u044c \\u0420\\u043e\\u0441\\u0441\\u0438\\u044e \\u043e\\u0442 \\u0446\\u044b\\u0433\\u0430\\u043d\\ud83e\\udd23', 'date': '2024-11-10T06:53:47+00:00'}, {'comment_id': 190130, 'user_id': 6496417118, 'text': '\\u0422\\u0432\\u043e\\u0439 \\u043f\\u043e\\u0445\\u043e\\u0434 \\u0432 \\u0442\\u0446\\u043a \\u044f \\u043d\\u0435 \\u043e\\u0442\\u043c\\u0435\\u043d\\u044f\\u043b! \\u0412\\u0437\\u044f\\u043b\\u0430 \\u0448\\u043c\\u043e\\u0442\\u043a\\u0438 \\u0438 \\u043f\\u043e\\u0448\\u043b\\u0430 \\u0441\\u043e\\u0441\\u0430\\u0442\\u044c \\u0445\\u0443\\u0439 \\u0432\\u043e\\u0435\\u043d\\u043a\\u043e\\u043c\\u0443. \\u041f\\u0440\\u0438\\u0435\\u0434\\u0435\\u0448\\u044c! \\u041f\\u0440\\u0438\\u0441\\u0442\\u0440\\u0435\\u043b\\u044e', 'date': '2024-11-10T06:53:40+00:00'}, {'comment_id': 190129, 'user_id': 1005020426, 'text': '\\u041d\\u0443 \\u0441\\u043b\\u0430\\u0432\\u0430 \\u0431\\u043e\\u0433\\u0443 \\u0447\\u0442\\u043e \\u043d\\u0438\\u043a\\u0442\\u043e \\u043d\\u0435 \\u043f\\u043e\\u0441\\u0442\\u0440\\u0430\\u0434\\u0430\\u043b', 'date': '2024-11-10T06:53:17+00:00'}, {'comment_id': 190128, 'user_id': 1469352538, 'text': '\\u041a\\u043e\\u043b\\u044b \\u043d\\u0435\\u0442, \\u043c\\u0430\\u043a\\u0434\\u0430\\u043a\\u0430 \\u043d\\u0435\\u0442, \\u0441\\u0430\\u043f\\u043e\\u0433\\u043e\\u0432 \\u0441 \\u0433\\u043e\\u0430\\u043d\\u043e\\u043c \\u043f\\u0430\\u043d\\u0430 \\u041d\\u0435\\u0442, \\u0445\\u043e\\u0445\\u043b\\u043e\\u0432 \\u0442\\u0430\\u043a\\u0436\\u0435 \\u043d\\u0435\\u0442', 'date': '2024-11-10T06:53:17+00:00'}, {'comment_id': 190126, 'user_id': 1469352538, 'text': '\\u0413\\u0435\\u0440\\u043c\\u0430\\u043d\\u0438\\u044f \\u0431\\u044b \\u043f\\u0440\\u043e\\u0434\\u0432\\u0438\\u043d\\u0443\\u043b\\u0430\\u0441\\u044c \\u043a \\u0410\\u0437\\u0438\\u0438 \\u043e\\u0434\\u0438\\u043d \\u0445\\u0443\\u0439', 'date': '2024-11-10T06:52:40+00:00'}, {'comment_id': 190125, 'user_id': 6496417118, 'text': '\\u0425\\u043e\\u0445\\u043b\\u044b \\u0434\\u043e\\u0445\\u043d\\u0443\\u0442 \\u043a\\u0430\\u043a \\u043c\\u0443\\u0445\\u0438. \\u0412\\u043e\\u043d \\u0443 \\u043e\\u0434\\u044d\\u0441\\u044b\\u0442\\u043e\\u0432 \\u043d\\u043e\\u0447\\u043a\\u0430 \\u0431\\u044b\\u043b\\u0430 \\u0431\\u0443\\u0440\\u043d\\u0430\\u044f. \\u041e\\u0434\\u043d\\u0438 \\u043f\\u0440\\u0438\\u043b\\u0435\\u0442\\u044b', 'date': '2024-11-10T06:52:39+00:00'}, {'comment_id': 190124, 'user_id': 5971471301, 'text': '\\u0414\\u0430 \\u0442\\u044b \\u0448\\u043e? \\u041a\\u043e\\u043b\\u044b? \\u0425\\u0434\\u0435? \\\\n\\u042f \\u0448\\u0451\\u0441 \\u043f\\u0440\\u043e\\u043f\\u0443\\u0441\\u0442\\u044b\\u0432 \\u0447\\u0438 \\u0448\\u043e?', 'date': '2024-11-10T06:52:34+00:00'}, {'comment_id': 190123, 'user_id': 1469352538, 'text': '\\u041f\\u043e\\u0442\\u043e\\u043c\\u0443 \\u0447\\u0442\\u043e \\u043d\\u0430\\u0441\\u0435\\u043b\\u0435\\u043d\\u0438\\u044e \\u0421\\u0421\\u0421\\u0420 \\u0431\\u0435\\u0436\\u0430\\u0442\\u044c \\u0431\\u044b\\u043b\\u043e \\u043d\\u0435\\u043a\\u0443\\u0434\\u0430', 'date': '2024-11-10T06:52:25+00:00'}, {'comment_id': 190121, 'user_id': 1469352538, 'text': '\\u0420\\u043e\\u0441\\u0441\\u0438\\u0435\\u0439, \\u0435\\u0441\\u0442\\u0435\\u0441\\u0442\\u0432\\u0435\\u043d\\u043d\\u043e', 'date': '2024-11-10T06:51:49+00:00'}, {'comment_id': 190120, 'user_id': 6496417118, 'text': '\\u0425\\u043e\\u0445\\u043b\\u043e\\u0432 \\u043d\\u0430\\u0434\\u043e \\u043d\\u0435 \\u043c\\u043e\\u0433\\u0438\\u043b\\u0438\\u0437\\u0438\\u0440\\u043e\\u0432\\u0430\\u0442\\u044c, \\u0430 \\u0447\\u0438\\u043f\\u0438\\u0440\\u043e\\u0432\\u0430\\u0442\\u044c \\u0438 \\u043e\\u0442\\u043f\\u0440\\u0430\\u0432\\u043b\\u044f\\u0442\\u044c \\u043d\\u0430 \\u043a\\u0430\\u043c\\u0435\\u043d\\u043e\\u043b\\u043e\\u043c\\u043d\\u0438 \\u0440\\u0430\\u0431\\u043e\\u0442\\u0430\\u0442\\u044c. \\u041a\\u0442\\u043e \\u043d\\u0435 \\u0432\\u044b\\u0432\\u0435\\u0437, \\u0442\\u0430\\u043c \\u0436\\u0435 \\u0437\\u0430\\u043a\\u0430\\u043f\\u044b\\u0432\\u0430\\u0442\\u044c', 'date': '2024-11-10T06:51:45+00:00'}, {'comment_id': 190119, 'user_id': 5971471301, 'text': '\\u0410 \\u0447\\u0442\\u043e \\u0432 \\u044d\\u0442\\u043e\\u043c \\u0434\\u0435\\u0431\\u0438\\u043b\\u044c\\u043d\\u043e\\u0433\\u043e? \\\\n\\u0420\\u0430\\u0437\\u0432\\u0435 \\u043f\\u0440\\u0438\\u043a\\u0430\\u0437\\u044b \\u043f\\u0440\\u0438\\u0437\\u044b\\u0432\\u0430\\u0442\\u044c \\u0432 \\u0430\\u0440\\u043c\\u0438\\u044e \\u043a\\u043e\\u0433\\u0434\\u0430 \\u0448\\u043b\\u0430 \\u0432\\u043e\\u0439\\u043d\\u0430 \\u0441 \\u0413\\u0435\\u0440\\u043c\\u0430\\u043d\\u0438\\u0435\\u0439 \\u0443 \\u0421\\u0421\\u0421\\u0420 \\u0442\\u044b \\u0441\\u0447\\u0438\\u0442\\u0430\\u0435\\u0448\\u044c \\u0434\\u0435\\u0431\\u0438\\u043b\\u044c\\u043d\\u044b\\u043c\\u0438?', 'date': '2024-11-10T06:51:45+00:00'}, {'comment_id': 190118, 'user_id': 1469352538, 'text': '\\u0412\\u0430\\u0448\\u0438 \\u0432 \\u044d\\u0442\\u043e\\u0442 \\u043c\\u043e\\u043c\\u0435\\u043d\\u0442 \\u0432 \\u0442\\u0430\\u043d\\u043a\\u0430\\u0445 \\u0436\\u0430\\u0440\\u044f\\u0442\\u0441\\u044f \\u0437\\u0430 \\u0441\\u0430\\u043f\\u043e\\u0433\\u0438 \\u043f\\u043e\\u043b\\u044c\\u0441\\u044c\\u043a\\u043e\\u0433\\u043e \\u043f\\u0430\\u043d\\u0430 \\u0438\\u0437 \\u0441\\u0435\\u043a\\u043e\\u043d\\u0434 \\u0445\\u0435\\u043d\\u0434\\u0430', 'date': '2024-11-10T06:51:34+00:00'}, {'comment_id': 190117, 'user_id': 1469352538, 'text': '\\u0422\\u043e\\u043b\\u044c\\u043a\\u043e \\u0446\\u044b\\u0433\\u0430\\u043d\\u044f\\u0442\\u0430', 'date': '2024-11-10T06:51:05+00:00'}, {'comment_id': 190116, 'user_id': 7492879677, 'text': '\\u0420\\u0443\\u0441\\u043d\\u044f \\u0441\\u0434\\u043e\\u0445\\u043b\\u0430 \\u0432 \\u043c\\u0443\\u043a\\u0430\\u0445? \\ud83d\\ude4f', 'date': '2024-11-10T06:50:51+00:00'}, {'comment_id': 190115, 'user_id': 1469352538, 'text': '\\u0410 \\u0436\\u0438\\u0440\\u043d\\u044b\\u0435 \\u043c\\u0440\\u0430\\u0437\\u0438 \\u0441 \\u043f\\u043e\\u043f\\u0438\\u043b\\u0435\\u043d\\u043d\\u044b\\u043c \\u0431\\u044e\\u0434\\u0436\\u0435\\u0442\\u043e\\u043c \\u0445\\u043e\\u0442\\u044f\\u0442 \\u043d\\u0449\\u0435 \\u0431\\u043e\\u043b\\u044c\\u0448\\u0435\\u0433\\u043e \\u043e\\u0442\\u043c\\u044b\\u0432\\u0430 \\u0434\\u0435\\u043d\\u0435\\u0433', 'date': '2024-11-10T06:50:45+00:00'}, {'comment_id': 190114, 'user_id': 1469352538, 'text': '\\u0411\\u043b\\u044f\\u0442\\u044c, \\u0442\\u044b \\u0441\\u0435\\u0431\\u044f \\u0441\\u043b\\u044b\\u0448\\u0438\\u0448\\u044c? \\u0410 \\u043f\\u0440\\u0438\\u0437\\u044b\\u0432\\u0430\\u0442\\u044c \\u0432\\u0441\\u0451 \\u0431\\u043e\\u043b\\u044c\\u0448\\u0435 \\u0425\\u043e\\u0445\\u043b\\u043e\\u0432 \\u043d\\u0430 \\u0444\\u0440\\u043e\\u043d\\u0442 \\u044d\\u0442\\u043e \\u043d\\u0435 \\u0434\\u0435\\u0431\\u0438\\u043b\\u044c\\u043d\\u044b\\u0435 \\u043f\\u0440\\u0438\\u043a\\u0430\\u0437\\u044b?', 'date': '2024-11-10T06:50:19+00:00'}, {'comment_id': 190113, 'user_id': 1819716498, 'text': '\\\"\\u0425\\u043e\\u0445\\u043b\\u043e\\u0432 \\u0437\\u0430 \\u043d\\u0435\\u0434\\u0435\\u043b\\u044c\\u043a\\u0443\\\" \\u0438\\u0442\\u043e\\u0433\\u0438', 'date': '2024-11-10T06:50:16+00:00'}, {'comment_id': 190112, 'user_id': 5971471301, 'text': '\\u041a\\u0435\\u043c?', 'date': '2024-11-10T06:50:02+00:00'}, {'comment_id': 190111, 'user_id': 5971471301, 'text': '\\u041d\\u0430\\u043f\\u0438\\u0441\\u0430\\u043b \\u0447\\u0443\\u0434\\u0438\\u043a, \\u0441 \\u043f\\u043e\\u043c\\u043e\\u0449\\u044c\\u044e \\u0442\\u0435\\u043b\\u0435\\u0444\\u043e\\u043d\\u0430 \\u043f\\u0440\\u0438\\u0434\\u0443\\u043c\\u0430\\u043d\\u043d\\u043e\\u0433\\u043e \\u0437\\u0430\\u043f\\u0430\\u0434\\u0435\\u043d\\u0441\\u043a\\u0438\\u043c\\u0438 \\u0441\\u0442\\u0440\\u0430\\u043d\\u0430\\u043c\\u0438))', 'date': '2024-11-10T06:49:36+00:00'}, {'comment_id': 190110, 'user_id': 1469352538, 'text': '\\u0411\\u0435\\u0434\\u043d\\u043e\\u0441\\u0442\\u044c \\u043d\\u0430 \\u0445\\u043e\\u0445\\u043b\\u0430\\u0445 \\u0431\\u0443\\u0434\\u0435\\u0442 \\u043f\\u043b\\u0430\\u043a\\u0430\\u0442\\u044c \\u043c \\u043f\\u0440\\u043e\\u0441\\u0438\\u0442\\u044c \\u0435\\u0449\\u0451 \\u0431\\u043e\\u043b\\u044c\\u0448\\u0435 \\u0434\\u043e\\u043f\\u043e\\u043c\\u043e\\u0433\\u0438', 'date': '2024-11-10T06:49:24+00:00'}, {'comment_id': 190109, 'user_id': 1469352538, 'text': '\\u041d\\u0435\\u0442, \\u0438\\u0431\\u043e \\u0432\\u043e\\u0439\\u043d\\u0430 \\u0438 \\u0442\\u0430\\u043a \\u0432\\u044b\\u0438\\u0433\\u0440\\u0430\\u043d\\u0430', 'date': '2024-11-10T06:49:02+00:00'}, {'comment_id': 190108, 'user_id': 6496417118, 'text': '\\u0422\\u043e\\u043b\\u044c\\u043a\\u043e \\u043d\\u0430\\u043d\\u0435\\u0441\\u0435\\u043d\\u0438\\u0435 \\u044f\\u0434\\u0435\\u0440\\u043d\\u044b\\u0445 \\u0443\\u0434\\u0430\\u0440\\u043e\\u0432 \\u043f\\u043e \\u0437\\u0430\\u043f\\u0430\\u0434\\u0435\\u043d\\u0441\\u043a\\u0438\\u043c \\u0441\\u0442\\u0440\\u0430\\u043d\\u0430\\u043c \\u0441\\u043f\\u0430\\u0441\\u0435\\u0442 \\u044d\\u0442\\u043e\\u0442 \\u043c\\u0438\\u0440', 'date': '2024-11-10T06:47:36+00:00'}, {'comment_id': 190106, 'user_id': 5185766971, 'text': '\\u0411\\u0435\\u043b\\u043e\\u0440\\u0443\\u0441\\u0441\\u043a\\u0438\\u0439 \\u0430\\u043a\\u0446\\u0438\\u043e\\u043d\\u0438\\u0441\\u0442 \\u0412\\u043b\\u0430\\u0434 \\u0411\\u043e\\u0445\\u0430\\u043d **\\u043e\\u0442 \\u043b\\u0438\\u0446\\u0430 \\u0447\\u0438\\u043d\\u043e\\u0432\\u043d\\u0438\\u043a\\u0430 \\u00ab\\u0415\\u0434\\u0438\\u043d\\u043e\\u0439 \\u0420\\u043e\\u0441\\u0441\\u0438\\u0438\\u00bb **\\u043e\\u0442\\u043f\\u0440\\u0430\\u0432\\u0438\\u043b \\u0432 \\u0440\\u043e\\u0441\\u0441\\u0438\\u0439\\u0441\\u043a\\u0438\\u0435 \\u0448\\u043a\\u043e\\u043b\\u044b **\\u043d\\u043e\\u0432\\u0443\\u044e \\u0440\\u0430\\u0437\\u043d\\u0430\\u0440\\u044f\\u0434\\u043a\\u0443** \\u0434\\u043b\\u044f \\u0443\\u0447\\u0438\\u0442\\u0435\\u043b\\u0435\\u0439: **\\u043d\\u0430\\u0443\\u0447\\u0438\\u0442\\u044c\\u0441\\u044f \\u0434\\u0435\\u043b\\u0430\\u0442\\u044c \\u0448\\u0430\\u043f\\u043e\\u0447\\u043a\\u0438 \\u0438\\u0437 \\u0444\\u043e\\u043b\\u044c\\u0433\\u0438, \\u0447\\u0442\\u043e\\u0431\\u044b \\u0437\\u0430\\u0449\\u0438\\u0449\\u0430\\u0442\\u044c\\u0441\\u044f \\u043e\\u0442 \\u041d\\u0410\\u0422\\u041e\\u0432\\u0441\\u043a\\u0438\\u0445 \\u0441\\u043f\\u0443\\u0442\\u043d\\u0438\\u043a\\u043e\\u0432. **\\\\n\\\\n\\u0414\\u0430, \\u0432\\u044b \\u0432\\u0441\\u0451 \\u043f\\u0440\\u0430\\u0432\\u0438\\u043b\\u044c\\u043d\\u043e \\u043f\\u043e\\u043d\\u044f\\u043b\\u0438: **\\u0438\\u0445 \\u0445\\u043b\\u0435\\u0431\\u043e\\u043c \\u043d\\u0435 \\u043a\\u043e\\u0440\\u043c\\u0438, \\u0434\\u0430\\u0439 \\u0432\\u044b\\u043f\\u043e\\u043b\\u043d\\u0438\\u0442\\u044c \\u0434\\u0435\\u0431\\u0438\\u043b\\u044c\\u043d\\u044b\\u0435 \\u0443\\u0441\\u0442\\u0430\\u043d\\u043e\\u0432\\u043a\\u0438 \\u043f\\u0430\\u0440\\u0442\\u0438\\u0438. **\\\\n\\u0421\\u0443\\u0434\\u044f \\u043f\\u043e \\u0442\\u0430\\u043a\\u043e\\u0439 \\u0433\\u043e\\u0442\\u043e\\u0432\\u043d\\u043e\\u0441\\u0442\\u0438, **\\u0448\\u0430\\u043f\\u043e\\u0447\\u043a\\u0430 \\u0438\\u0437 \\u0444\\u043e\\u043b\\u044c\\u0433\\u0438 \\u0438\\u0445 \\u0443\\u0436\\u0435 \\u043d\\u0435 \\u0441\\u043f\\u0430\\u0441\\u0451\\u0442 \\u2013 \\u0442\\u0430\\u043c \\u0438 \\u0437\\u0430\\u0449\\u0438\\u0449\\u0430\\u0442\\u044c \\u043d\\u0435\\u0447\\u0435\\u0433\\u043e**', 'date': '2024-11-10T06:46:35+00:00'}, {'comment_id': 190105, 'user_id': 6496417118, 'text': '\\u041f\\u043e\\u0447\\u0435\\u043c\\u0443 \\u0442\\u0435\\u0431\\u044f \\u0434\\u043e \\u0441\\u0438\\u0445 \\u043f\\u043e\\u0440 \\u043d\\u0435 \\u043f\\u043e\\u0432\\u0435\\u0441\\u0438\\u043b\\u0438 \\u043a\\u0430\\u043a \\u0435\\u0440\\u0438\\u0442\\u0438\\u043a\\u0430?', 'date': '2024-11-10T06:46:06+00:00'}, {'comment_id': 190104, 'user_id': 5455368392, 'text': '\\u0421\\u0435\\u0439\\u0447\\u0430\\u0441 ~~\\u0434\\u043e\\u0440\\u043e\\u0433\\u0438\\u0435~~ \\u0440\\u0430\\u0441\\u0435\\u0439\\u0430\\u043d\\u0435 \\u0432\\u044b\\u0439\\u0434\\u0443\\u0442 \\u0441 \\u043f\\u0440\\u043e\\u0442\\u0435\\u0441\\u0442\\u0430\\u043c\\u0438 - \\u043e\\u0441\\u0442\\u0430\\u043d\\u043e\\u0432\\u0438\\u0442\\u044c \\u0432\\u043e\\u0439\\u043d\\u0443?\\ud83d\\ude06', 'date': '2024-11-10T06:45:58+00:00'}, {'comment_id': 190103, 'user_id': 5185766971, 'text': '\\u042d\\u0442\\u043e **\\u041f\\u044f\\u0442\\u0438\\u0433\\u043e\\u0440\\u0441\\u043a**, \\u043a\\u043e\\u0442\\u043e\\u0440\\u044b\\u0439 \\u043d\\u0438\\u043a\\u0442\\u043e \\u043d\\u0435 \\u0431\\u043e\\u043c\\u0431\\u0438\\u043b. \\\\n\\u041f\\u0440\\u043e\\u0441\\u0442\\u043e \\u0442\\u0430\\u043c \\u0432 \\u043c\\u043d\\u043e\\u0433\\u043e\\u044d\\u0442\\u0430\\u0436\\u043a\\u0435 \\u0432\\u0437\\u043e\\u0440\\u0432\\u0430\\u043b\\u0441\\u044f \\u0433\\u0430\\u0437 \\u2013 **\\u043f\\u043e\\u0433\\u0438\\u0431 \\u043e\\u0434\\u0438\\u043d \\u043c\\u0443\\u0436\\u0447\\u0438\\u043d\\u0430.**\\\\n\\u0414\\u0432\\u0430 \\u0434\\u043d\\u044f \\u043d\\u0430\\u0437\\u0430\\u0434 \\u0433\\u0430\\u0437 \\u0432\\u0437\\u043e\\u0440\\u0432\\u0430\\u043b\\u0441\\u044f \\u0432** \\u041d\\u043e\\u0432\\u043e\\u0432\\u043e\\u0440\\u043e\\u043d\\u0435\\u0436\\u0435. **\\\\n\\u041d\\u0435\\u0434\\u0435\\u043b\\u044e \\u043d\\u0430\\u0437\\u0430\\u0434 \\u0433\\u0430\\u0437 \\u0432\\u0437\\u043e\\u0440\\u0432\\u0430\\u043b\\u0441\\u044f \\u0432 **\\u0427\\u0435\\u0440\\u043a\\u0435\\u0441\\u0441\\u043a\\u0435. **\\\\n\\u0410 \\u0434\\u0432\\u0435 \\u043d\\u0435\\u0434\\u0435\\u043b\\u0438 \\u043d\\u0430\\u0437\\u0430\\u0434 \\u0433\\u0430\\u0437 \\u0432\\u0437\\u043e\\u0440\\u0432\\u0430\\u043b\\u0441\\u044f \\u0432 **\\u041e\\u043c\\u0441\\u043a\\u0435.**\\\\n\\\\n\\u0422\\u043e\\u043b\\u044c\\u043a\\u043e \\u043e\\u0434\\u0438\\u043d \\u0432\\u043e\\u043f\\u0440\\u043e\\u0441: **\\u043f\\u043e\\u0447\\u0435\\u043c\\u0443 \\u0442\\u043e\\u043b\\u044c\\u043a\\u043e \\u0432 \\u0420\\u043e\\u0441\\u0441\\u0438\\u0438 \\u0440\\u0435\\u0433\\u0443\\u043b\\u044f\\u0440\\u043d\\u043e \\u0432\\u0437\\u0440\\u044b\\u0432\\u0430\\u0435\\u0442\\u0441\\u044f \\u0433\\u0430\\u0437?**', 'date': '2024-11-10T06:45:34+00:00'}, {'comment_id': 190102, 'user_id': 1041065048, 'text': '\\\"\\u0416\\u0438\\u043b\\u0438\\\"', 'date': '2024-11-10T06:44:55+00:00'}, {'comment_id': 190100, 'user_id': 5185766971, 'text': '\\u041d\\u043e\\u0432\\u043e\\u0441\\u0442\\u0438 \\u0441\\u0442\\u0440\\u0430\\u043d\\u044b, \\u0432\\u0441\\u0442\\u0430\\u044e\\u0449\\u0435\\u0439 \\u0441 \\u043a\\u043e\\u043b\\u0435\\u043d.\\\\n\\u0412 \\u0411\\u0435\\u0440\\u0435\\u0437\\u043d\\u0438\\u043a\\u0430\\u0445 \\u041f\\u0435\\u0440\\u043c\\u0441\\u043a\\u043e\\u0433\\u043e \\u043a\\u0440\\u0430\\u044f \\u0436\\u0438\\u0442\\u0435\\u043b\\u0438 \\u0443\\u0436\\u0435 **\\u043d\\u0435\\u0434\\u0435\\u043b\\u044e \\u0442\\u043e\\u043f\\u044f\\u0442 \\u0441\\u043d\\u0435\\u0433, \\u043f\\u043e\\u0442\\u043e\\u043c\\u0443 \\u0447\\u0442\\u043e \\u0443 \\u043d\\u0438\\u0445 \\u043d\\u0435\\u0442 \\u0432\\u043e\\u0434\\u044b \\u0438 \\u043e\\u0442\\u043e\\u043f\\u043b\\u0435\\u043d\\u0438\\u044f.**\\\\n\\u0410 \\u0432 \\u0418\\u0440\\u043a\\u0443\\u0442\\u0441\\u043a\\u043e\\u0439 \\u043e\\u0431\\u043b\\u0430\\u0441\\u0442\\u0438 \\u0446\\u0435\\u043b\\u044b\\u0439 \\u0433\\u043e\\u0440\\u043e\\u0434 **\\u043e\\u0441\\u0442\\u0430\\u043b\\u0441\\u044f \\u0431\\u0435\\u0437 \\u0432\\u043e\\u0434\\u044b \\u0438 \\u0442\\u0435\\u043f\\u043b\\u0430. **\\\\n\\\\n\\u041c\\u044d\\u0440 \\u0441\\u043e\\u043e\\u0431\\u0449\\u0438\\u043b, \\u0447\\u0442\\u043e **\\u043d\\u0438\\u0447\\u0435\\u0433\\u043e \\u043a\\u0440\\u0438\\u0442\\u0438\\u0447\\u043d\\u043e\\u0433\\u043e \\u043d\\u0435\\u0442** \\u2013 \\u043d\\u0430 \\u0443\\u043b\\u0438\\u0446\\u0435 \\u0442\\u0435\\u043f\\u043b\\u043e, \\u043c\\u0438\\u043d\\u0443\\u0441 \\u0432\\u043e\\u0441\\u0435\\u043c\\u044c\\ud83e\\udd21', 'date': '2024-11-10T06:43:35+00:00'}, {'comment_id': 190099, 'user_id': 7328704340, 'text': '\\u0410\\u0434\\u0430\\u043c\\u0443 \\u043e\\u0440\\u0434\\u0435\\u043d?', 'date': '2024-11-10T06:43:26+00:00'}, {'comment_id': 190097, 'user_id': 364385352, 'text': '\\u0438 \\u0446\\u044b\\u0433\\u0430\\u0448\\u0438 \\u0431\\u044b\\u043b\\u0438 \\u0434\\u043e\\u043c\\u0430, \\u0442\\u0430\\u043a?', 'date': '2024-11-10T06:42:57+00:00'}, {'comment_id': 190096, 'user_id': 6803194814, 'text': '\\ud83c\\udde9\\ud83c\\uddea\\u2764\\ufe0f\\ud83c\\uddfa\\ud83c\\udde6', 'date': '2024-11-10T06:42:54+00:00'}]\"\n        ],\n        \"semantic_type\": \"\",\n        \"description\": \"\"\n      }\n    },\n    {\n      \"column\": \"original_channel_id\",\n      \"properties\": {\n        \"dtype\": \"number\",\n        \"std\": 120649357.25416465,\n        \"min\": -1002037646687.0,\n        \"max\": -1001512787646.0,\n        \"num_unique_values\": 8,\n        \"samples\": [\n          -1001803074001.0\n        ],\n        \"semantic_type\": \"\",\n        \"description\": \"\"\n      }\n    },\n    {\n      \"column\": \"original_channel_name\",\n      \"properties\": {\n        \"dtype\": \"category\",\n        \"num_unique_values\": 8,\n        \"samples\": [\n          \"\\u041f\\u0420\\u0410\\u0412\\u042b\\u0415 \\u0411\\u0418\\u041e\\u0422\\u0415\\u041e\\u0420\\u0418\\u0418\"\n        ],\n        \"semantic_type\": \"\",\n        \"description\": \"\"\n      }\n    },\n    {\n      \"column\": \"original_post_author\",\n      \"properties\": {\n        \"dtype\": \"category\",\n        \"num_unique_values\": 3,\n        \"samples\": [\n          \"\\u041d\\u0413\\u0422\"\n        ],\n        \"semantic_type\": \"\",\n        \"description\": \"\"\n      }\n    },\n    {\n      \"column\": \"original_date\",\n      \"properties\": {\n        \"dtype\": \"date\",\n        \"min\": \"2024-03-12 18:03:34+00:00\",\n        \"max\": \"2024-12-29 15:42:09+00:00\",\n        \"num_unique_values\": 22,\n        \"samples\": [\n          \"2024-12-29T15:42:09+00:00\"\n        ],\n        \"semantic_type\": \"\",\n        \"description\": \"\"\n      }\n    },\n    {\n      \"column\": \"mentioned_posts\",\n      \"properties\": {\n        \"dtype\": \"category\",\n        \"num_unique_values\": 7,\n        \"samples\": [\n          \"[['chedpower', 2037646687]]\"\n        ],\n        \"semantic_type\": \"\",\n        \"description\": \"\"\n      }\n    },\n    {\n      \"column\": \"comments_text\",\n      \"properties\": {\n        \"dtype\": \"string\",\n        \"num_unique_values\": 1596,\n        \"samples\": [\n          \"['\\u041a\\u0442\\u043e \\u0437\\u043d\\u0430\\u0435\\u0442', '\\\"\\u042f \\u2013 \\u0414\\\\'\\u0430\\u0440\\u0442\\u0430\\u043d\\u044c\\u044f\\u043d, \\u0430 \\u0432\\u044b \\u2013 \\u043f\\u0438\\u0434\\u043e\\u0440\\u0430\\u0441\\u044b\\\"', '\\u041d\\u0435, \\u043f\\u0440\\u043e\\u0441\\u0442\\u043e \\u043e\\u043d\\u0430 \\u0442\\u0443\\u043f\\u043e\\u0440\\u044b\\u043b\\u0430\\u044f', '\\u042d\\u0442\\u043e\\u0442 \\u043d\\u0438\\u0433\\u0433\\u0435\\u0440 \\u0432 \\u043d\\u0430\\u0442\\u0443\\u0440\\u0435 \\u043d\\u0435 \\u043f\\u043e\\u043d\\u0438\\u043c\\u0430\\u0435\\u0442 \\u0442\\u0430\\u043a\\u0443\\u044e \\u043e\\u0447\\u0435\\u0440\\u0435\\u0434\\u043d\\u0443\\u044e \\u0445\\u0443\\u0439\\u043d\\u044e', '\\u044f \\u0442\\u043e\\u0436 \\u043d\\u0435 \\u0432\\u0440\\u0443\\u0431\\u0438\\u043b\\u0441\\u044f', '\\u041e\\u0431\\u044a\\u044f\\u0441\\u043d\\u0438\\u0442\\u0435 \\u044d\\u0442\\u043e\\u043c\\u0443 \\u0431\\u0435\\u043b\\u043e\\u043c\\u0443 \\u043d\\u0438\\u0433\\u0435\\u0440\\u0443', '\\u041c\\u043e\\u0436\\u0435\\u0442 \\u043a\\u0442\\u043e-\\u043d\\u0438\\u0431\\u0443\\u0434\\u044c \\u043e\\u0431\\u044a\\u044f\\u0441\\u043d\\u0438\\u0442 \\u0435\\u043c\\u0443?', '\\u0411\\u043b\\u044f \\u0438\\u043b\\u0438 \\u0442\\u0443\\u0442 \\u0440\\u0430\\u0437\\u0434\\u0432\\u0438\\u0433\\u0430\\u043d\\u0438\\u0435 \\u043d\\u043e\\u0433 \\u0442\\u0438\\u043f\\u0430 \\u043d\\u0430 \\u0430\\u043a\\u0443\\u0448\\u0435\\u0440\\u0441\\u043a\\u043e\\u043c \\u0441\\u0442\\u043e\\u043b\\u0435', '\\u041d\\u0430 \\u0447\\u0442\\u043e \\u0430\\u043b\\u0438\\u043c\\u0435\\u043d\\u0442\\u044b \\u0431\\u043b\\u044f\\u0442\\u044c, \\u043a\\u043e\\u0433\\u0434\\u0430 \\u043e\\u043d\\u0438 \\u0432 \\u043f\\u0440\\u043e\\u0446\\u0435\\u0441\\u0441\\u0435 \\u0440\\u0430\\u0437\\u0434\\u0432\\u0438\\u0433\\u0430\\u043d\\u0438\\u044f \\u043d\\u043e\\u0433 \\u0440\\u043e\\u0434\\u0438\\u0442\\u044c \\u0443\\u0441\\u043f\\u0435\\u043b\\u0438']\"\n        ],\n        \"semantic_type\": \"\",\n        \"description\": \"\"\n      }\n    },\n    {\n      \"column\": \"overall_polar_score\",\n      \"properties\": {\n        \"dtype\": \"number\",\n        \"std\": 0.1115330363646592,\n        \"min\": 0.0035300254821777,\n        \"max\": 0.7754007428884506,\n        \"num_unique_values\": 1569,\n        \"samples\": [\n          0.2280629217624664\n        ],\n        \"semantic_type\": \"\",\n        \"description\": \"\"\n      }\n    },\n    {\n      \"column\": \"overall_sentiment\",\n      \"properties\": {\n        \"dtype\": \"number\",\n        \"std\": 0.17450032066912569,\n        \"min\": -0.7119879871606827,\n        \"max\": 0.4980022013187408,\n        \"num_unique_values\": 1342,\n        \"samples\": [\n          -0.2239538647911765\n        ],\n        \"semantic_type\": \"\",\n        \"description\": \"\"\n      }\n    }\n  ]\n}"
            }
          },
          "metadata": {},
          "execution_count": 4
        }
      ],
      "source": [
        "df"
      ]
    },
    {
      "cell_type": "code",
      "execution_count": null,
      "metadata": {
        "colab": {
          "base_uri": "https://localhost:8080/"
        },
        "id": "WMMoqIpRd9T6",
        "outputId": "2adbd443-1f98-441d-eaff-853b9df11908"
      },
      "outputs": [
        {
          "output_type": "execute_result",
          "data": {
            "text/plain": [
              "(2175, 18)"
            ]
          },
          "metadata": {},
          "execution_count": 4
        }
      ],
      "source": [
        "df.shape"
      ]
    },
    {
      "cell_type": "code",
      "execution_count": null,
      "metadata": {
        "colab": {
          "base_uri": "https://localhost:8080/",
          "height": 649
        },
        "id": "bnBSrGqRd_bR",
        "outputId": "afcb8d17-9dad-4062-de31-458e382498a7"
      },
      "outputs": [
        {
          "output_type": "execute_result",
          "data": {
            "text/plain": [
              "Unnamed: 0.1                0\n",
              "Unnamed: 0                  0\n",
              "message_id                  0\n",
              "date                        0\n",
              "text                      481\n",
              "via_bot                  2174\n",
              "sender_id                   0\n",
              "channel_id                  0\n",
              "channel_username            0\n",
              "comments                    0\n",
              "original_channel_id      2152\n",
              "original_channel_name    2152\n",
              "original_post_author     2170\n",
              "original_date            2152\n",
              "mentioned_posts          2140\n",
              "comments_text               0\n",
              "overall_polar_score         0\n",
              "overall_sentiment           0\n",
              "dtype: int64"
            ],
            "text/html": [
              "<div>\n",
              "<style scoped>\n",
              "    .dataframe tbody tr th:only-of-type {\n",
              "        vertical-align: middle;\n",
              "    }\n",
              "\n",
              "    .dataframe tbody tr th {\n",
              "        vertical-align: top;\n",
              "    }\n",
              "\n",
              "    .dataframe thead th {\n",
              "        text-align: right;\n",
              "    }\n",
              "</style>\n",
              "<table border=\"1\" class=\"dataframe\">\n",
              "  <thead>\n",
              "    <tr style=\"text-align: right;\">\n",
              "      <th></th>\n",
              "      <th>0</th>\n",
              "    </tr>\n",
              "  </thead>\n",
              "  <tbody>\n",
              "    <tr>\n",
              "      <th>Unnamed: 0.1</th>\n",
              "      <td>0</td>\n",
              "    </tr>\n",
              "    <tr>\n",
              "      <th>Unnamed: 0</th>\n",
              "      <td>0</td>\n",
              "    </tr>\n",
              "    <tr>\n",
              "      <th>message_id</th>\n",
              "      <td>0</td>\n",
              "    </tr>\n",
              "    <tr>\n",
              "      <th>date</th>\n",
              "      <td>0</td>\n",
              "    </tr>\n",
              "    <tr>\n",
              "      <th>text</th>\n",
              "      <td>481</td>\n",
              "    </tr>\n",
              "    <tr>\n",
              "      <th>via_bot</th>\n",
              "      <td>2174</td>\n",
              "    </tr>\n",
              "    <tr>\n",
              "      <th>sender_id</th>\n",
              "      <td>0</td>\n",
              "    </tr>\n",
              "    <tr>\n",
              "      <th>channel_id</th>\n",
              "      <td>0</td>\n",
              "    </tr>\n",
              "    <tr>\n",
              "      <th>channel_username</th>\n",
              "      <td>0</td>\n",
              "    </tr>\n",
              "    <tr>\n",
              "      <th>comments</th>\n",
              "      <td>0</td>\n",
              "    </tr>\n",
              "    <tr>\n",
              "      <th>original_channel_id</th>\n",
              "      <td>2152</td>\n",
              "    </tr>\n",
              "    <tr>\n",
              "      <th>original_channel_name</th>\n",
              "      <td>2152</td>\n",
              "    </tr>\n",
              "    <tr>\n",
              "      <th>original_post_author</th>\n",
              "      <td>2170</td>\n",
              "    </tr>\n",
              "    <tr>\n",
              "      <th>original_date</th>\n",
              "      <td>2152</td>\n",
              "    </tr>\n",
              "    <tr>\n",
              "      <th>mentioned_posts</th>\n",
              "      <td>2140</td>\n",
              "    </tr>\n",
              "    <tr>\n",
              "      <th>comments_text</th>\n",
              "      <td>0</td>\n",
              "    </tr>\n",
              "    <tr>\n",
              "      <th>overall_polar_score</th>\n",
              "      <td>0</td>\n",
              "    </tr>\n",
              "    <tr>\n",
              "      <th>overall_sentiment</th>\n",
              "      <td>0</td>\n",
              "    </tr>\n",
              "  </tbody>\n",
              "</table>\n",
              "</div><br><label><b>dtype:</b> int64</label>"
            ]
          },
          "metadata": {},
          "execution_count": 5
        }
      ],
      "source": [
        "df.isna().sum()"
      ]
    },
    {
      "cell_type": "markdown",
      "metadata": {
        "id": "9ZEq3p93Cciy"
      },
      "source": [
        "To see stats for each channel and overall"
      ]
    },
    {
      "cell_type": "code",
      "source": [
        "df = pd.read_csv('/content/anti_text_1000.csv')"
      ],
      "metadata": {
        "id": "pCXn_2x-rENk"
      },
      "execution_count": null,
      "outputs": []
    },
    {
      "cell_type": "code",
      "source": [
        "df2.groupby('channel_id')['overall_polar_score'].mean()"
      ],
      "metadata": {
        "colab": {
          "base_uri": "https://localhost:8080/",
          "height": 241
        },
        "id": "qw6OETAwU627",
        "outputId": "4b550051-788f-4438-d491-9a9d7d0a1d14"
      },
      "execution_count": null,
      "outputs": [
        {
          "output_type": "execute_result",
          "data": {
            "text/plain": [
              "channel_id\n",
              "1066123382    0.314168\n",
              "1182289683    0.297257\n",
              "1673823532    0.240042\n",
              "1827952089    0.223148\n",
              "Name: overall_polar_score, dtype: float64"
            ],
            "text/html": [
              "<div>\n",
              "<style scoped>\n",
              "    .dataframe tbody tr th:only-of-type {\n",
              "        vertical-align: middle;\n",
              "    }\n",
              "\n",
              "    .dataframe tbody tr th {\n",
              "        vertical-align: top;\n",
              "    }\n",
              "\n",
              "    .dataframe thead th {\n",
              "        text-align: right;\n",
              "    }\n",
              "</style>\n",
              "<table border=\"1\" class=\"dataframe\">\n",
              "  <thead>\n",
              "    <tr style=\"text-align: right;\">\n",
              "      <th></th>\n",
              "      <th>overall_polar_score</th>\n",
              "    </tr>\n",
              "    <tr>\n",
              "      <th>channel_id</th>\n",
              "      <th></th>\n",
              "    </tr>\n",
              "  </thead>\n",
              "  <tbody>\n",
              "    <tr>\n",
              "      <th>1066123382</th>\n",
              "      <td>0.314168</td>\n",
              "    </tr>\n",
              "    <tr>\n",
              "      <th>1182289683</th>\n",
              "      <td>0.297257</td>\n",
              "    </tr>\n",
              "    <tr>\n",
              "      <th>1673823532</th>\n",
              "      <td>0.240042</td>\n",
              "    </tr>\n",
              "    <tr>\n",
              "      <th>1827952089</th>\n",
              "      <td>0.223148</td>\n",
              "    </tr>\n",
              "  </tbody>\n",
              "</table>\n",
              "</div><br><label><b>dtype:</b> float64</label>"
            ]
          },
          "metadata": {},
          "execution_count": 7
        }
      ]
    },
    {
      "cell_type": "code",
      "source": [
        "df['overall_polar_score'].min()"
      ],
      "metadata": {
        "colab": {
          "base_uri": "https://localhost:8080/"
        },
        "id": "ru3ycR3_QgKp",
        "outputId": "1e27d503-38b3-4c51-d296-3b7e2e4fec7d"
      },
      "execution_count": null,
      "outputs": [
        {
          "output_type": "execute_result",
          "data": {
            "text/plain": [
              "0.2035300254821777"
            ]
          },
          "metadata": {},
          "execution_count": 19
        }
      ]
    },
    {
      "cell_type": "code",
      "execution_count": null,
      "metadata": {
        "colab": {
          "base_uri": "https://localhost:8080/"
        },
        "id": "EP5EaVFcffVY",
        "outputId": "080cc523-241e-4ff8-aa8d-681f6e8d0d34"
      },
      "outputs": [
        {
          "output_type": "execute_result",
          "data": {
            "text/plain": [
              "0.9754007428884506"
            ]
          },
          "metadata": {},
          "execution_count": 31
        }
      ],
      "source": [
        "df['overall_polar_score'].max()"
      ]
    },
    {
      "cell_type": "code",
      "source": [
        "print('fem polar score mean', df2['overall_polar_score'].min())"
      ],
      "metadata": {
        "colab": {
          "base_uri": "https://localhost:8080/"
        },
        "id": "bJCVYqUrNv0a",
        "outputId": "43855c9c-affb-44fb-8273-b77cbbd87105"
      },
      "execution_count": null,
      "outputs": [
        {
          "output_type": "stream",
          "name": "stdout",
          "text": [
            "fem polar score mean 0.0032818913459777\n"
          ]
        }
      ]
    },
    {
      "cell_type": "code",
      "execution_count": null,
      "metadata": {
        "colab": {
          "base_uri": "https://localhost:8080/",
          "height": 241
        },
        "id": "vwI7C_7LfQQI",
        "outputId": "43f32c02-fc2d-4ccb-d81d-9889ed2322c6"
      },
      "outputs": [
        {
          "output_type": "execute_result",
          "data": {
            "text/plain": [
              "channel_id\n",
              "1429264495    0.403501\n",
              "1824409104    0.389606\n",
              "1900079682    0.443974\n",
              "1921078737    0.413405\n",
              "Name: overall_polar_score, dtype: float64"
            ],
            "text/html": [
              "<div>\n",
              "<style scoped>\n",
              "    .dataframe tbody tr th:only-of-type {\n",
              "        vertical-align: middle;\n",
              "    }\n",
              "\n",
              "    .dataframe tbody tr th {\n",
              "        vertical-align: top;\n",
              "    }\n",
              "\n",
              "    .dataframe thead th {\n",
              "        text-align: right;\n",
              "    }\n",
              "</style>\n",
              "<table border=\"1\" class=\"dataframe\">\n",
              "  <thead>\n",
              "    <tr style=\"text-align: right;\">\n",
              "      <th></th>\n",
              "      <th>overall_polar_score</th>\n",
              "    </tr>\n",
              "    <tr>\n",
              "      <th>channel_id</th>\n",
              "      <th></th>\n",
              "    </tr>\n",
              "  </thead>\n",
              "  <tbody>\n",
              "    <tr>\n",
              "      <th>1429264495</th>\n",
              "      <td>0.403501</td>\n",
              "    </tr>\n",
              "    <tr>\n",
              "      <th>1824409104</th>\n",
              "      <td>0.389606</td>\n",
              "    </tr>\n",
              "    <tr>\n",
              "      <th>1900079682</th>\n",
              "      <td>0.443974</td>\n",
              "    </tr>\n",
              "    <tr>\n",
              "      <th>1921078737</th>\n",
              "      <td>0.413405</td>\n",
              "    </tr>\n",
              "  </tbody>\n",
              "</table>\n",
              "</div><br><label><b>dtype:</b> float64</label>"
            ]
          },
          "metadata": {},
          "execution_count": 32
        }
      ],
      "source": [
        "df.groupby('channel_id')['overall_polar_score'].mean()"
      ]
    },
    {
      "cell_type": "code",
      "source": [
        "mentioned_posts_dict[1182289683] = 'r_anarchy'\n",
        "mentioned_posts_dict[1827952089]= 'kosa_media'\n",
        "mentioned_posts_dict[1673823532] = 'rad_fems'\n",
        "mentioned_posts_dict[1827952089]= 'megabitch'\n",
        "mentioned_posts_dict[1066123382]= 'kosa_media'"
      ],
      "metadata": {
        "id": "C2QTHpLgUeXV"
      },
      "execution_count": null,
      "outputs": []
    },
    {
      "cell_type": "code",
      "source": [
        "mentioned_posts_dict[1921078737] = 'privatnyi_butylka'\n",
        "mentioned_posts_dict[1900079682]= 'm_d_channel_1'\n",
        "mentioned_posts_dict[1824409104] = 'Incel_Aesthetic'\n",
        "mentioned_posts_dict[1429264495]= 'aviva_md'"
      ],
      "metadata": {
        "id": "PVgHA3aRSqoB"
      },
      "execution_count": null,
      "outputs": []
    },
    {
      "cell_type": "code",
      "execution_count": null,
      "metadata": {
        "colab": {
          "base_uri": "https://localhost:8080/"
        },
        "id": "VvvbbvtMfnXM",
        "outputId": "019ce9d5-f157-40e2-8403-7b247c8c5522"
      },
      "outputs": [
        {
          "output_type": "execute_result",
          "data": {
            "text/plain": [
              "0.019310344827586208"
            ]
          },
          "metadata": {},
          "execution_count": 30
        }
      ],
      "source": [
        "df[df['overall_polar_score'] >= 0.7].shape[0]/df.shape[0]"
      ]
    },
    {
      "cell_type": "code",
      "execution_count": null,
      "metadata": {
        "colab": {
          "base_uri": "https://localhost:8080/",
          "height": 542
        },
        "id": "-Sbea_TUFm3P",
        "outputId": "16c4aabd-d584-41f6-ddcb-816f65e9518e"
      },
      "outputs": [
        {
          "data": {
            "text/html": [
              "<html>\n",
              "<head><meta charset=\"utf-8\" /></head>\n",
              "<body>\n",
              "    <div>            <script src=\"https://cdnjs.cloudflare.com/ajax/libs/mathjax/2.7.5/MathJax.js?config=TeX-AMS-MML_SVG\"></script><script type=\"text/javascript\">if (window.MathJax && window.MathJax.Hub && window.MathJax.Hub.Config) {window.MathJax.Hub.Config({SVG: {font: \"STIX-Web\"}});}</script>                <script type=\"text/javascript\">window.PlotlyConfig = {MathJaxConfig: 'local'};</script>\n",
              "        <script charset=\"utf-8\" src=\"https://cdn.plot.ly/plotly-2.35.2.min.js\"></script>                <div id=\"793d413e-d5f4-4a2b-a6e2-9995c80ea080\" class=\"plotly-graph-div\" style=\"height:525px; width:100%;\"></div>            <script type=\"text/javascript\">                                    window.PLOTLYENV=window.PLOTLYENV || {};                                    if (document.getElementById(\"793d413e-d5f4-4a2b-a6e2-9995c80ea080\")) {                    Plotly.newPlot(                        \"793d413e-d5f4-4a2b-a6e2-9995c80ea080\",                        [{\"marker\":{\"color\":\"lightblue\"},\"name\":\"Polar Score\",\"opacity\":0.75,\"x\":[0.4408534890221011,0.4408534890221011,0.2842996001243592,0.1997215151786804,0.0822961926460266,0.3015124166713041,0.1597380821521465,0.2935930320194789,0.5205926895141602,0.3365764439105988,0.4657933413982391,0.2610041434350221,0.6716287930806478,0.048016436283405,0.2455566069659065,0.0992297410964965,0.2932987893621127,0.2402239963412284,0.495501434803009,0.0987081612859453,0.5150865401540484,0.3172662754853567,0.2722072047846658,0.0828964710235596,0.2278377281294928,0.2086836315434554,0.1340072762966156,0.2530659819716837,0.1080195903778076,0.2562117061831734,0.4725106358528138,0.1778035089373588,0.1778035089373588,0.293664813041687,0.8254013657569885,0.8254013657569885,0.0372667411963144,0.0035706162452697,0.1864898324012756,0.1497856711640077,0.0835137301021152,0.2551966547966003,0.4202874481678008,0.0904495174234564,0.3717031632408951,0.2873874824298056,0.2154438346624374,0.2367947953087942,0.6065647651751835,0.2567269572844872,0.4391108204921086,0.1346409656107425,0.091631144285202,0.1767523646354675,0.1987841370804556,0.3733815973003705,0.1049285307526588,0.1049285307526588,0.3206242490925042,0.073699302971363,0.073699302971363,0.4111339847246806,0.2860978245735168,0.1786824975694929,0.2125892937183379,0.3994432891670025,0.6113312281668186,0.434685605543631,0.2137623727321624,0.2137623727321624,0.1431451792518298,0.6334363371133804,0.2621107206151292,0.6385894487885867,0.1965249627828598,0.0293226838111877,0.4806265354156495,0.1551478952169418,0.3680879265069962,0.0211836099624633,0.1332906782627105,0.8649986812046596,0.7406988851726055,0.3645533720652262,0.1045251109383322,0.3239855384954841,0.2348089441657066,0.1603006242581133,0.3317856272061666,0.5751461744308471,0.0521316528320311,0.4419471547007561,0.1567089557647705,0.5709422826766968,0.018411636352539,0.5563466250896454,0.2385769741875785,0.1276191622018814,0.3210594654083252,0.2210363234792437,0.1952311396598815,0.0286837451987796,0.3002054774098927,0.2496404881062715,0.4587534666061401,0.080808663368225,0.1877753380686044,0.2548560092323704,0.0977282722791035,0.5658146619796753,0.5658146619796753,0.4753568053245545,0.2227162644267082,0.4596837162971496,0.5536811351776123,0.125996583589801,0.2687536001205445,0.5531785786151886,0.395752988755703,0.8561406433582306,0.2227652668952942,0.2727451821168263,0.3850327730178833,0.1292588936871495,0.5242364903291067,0.3117543458938598,0.154796822865804,0.0664944350719452,0.1037455548842748,0.2514019296927886,0.1400604064647968,0.1418845653533935,0.0045318007469177,0.0044223070144653,0.5022021234035492,0.4024832963943481,0.4484575390815735,0.1130954888131884,0.1324178576469421,0.2647583270072937,0.1905359923839569,0.6077713338952315,0.2473913013935088,0.3120916770852129,0.4893765747547149,0.2672192288769615,0.2672192288769615,0.299194800226312,0.104971706867218,0.2958262150104229,0.2059528231620788,0.2059528231620788,0.1710706041617827,0.0350421496800013,0.1761640210946401,0.5147425068749321,0.720167943409511,0.050619136203419,0.050619136203419,0.3531933203339576,0.2206264160297535,0.3773264090220133,0.0574680566787719,0.5663637916247051,0.1183937083591114,0.0205498933792114,0.5074611067771911,0.2882229447364807,0.0689606991681185,0.3385965824127198,0.0160926835877555,0.6575983613729477,0.2015007668071322,0.0993749499320984,0.639707903067271,0.0565699140230814,0.1343799630800883,0.0286152230368719,0.1795233046566998,0.0174858172734578,0.0810931970675786,0.263515361717769,0.0094183683395385,0.0094183683395385,0.2814424514770507,0.225538154443105,0.3832631382075222,0.1661708542278834,0.1554244619149428,0.0296048223972321,0.0687429308891296,0.3707116842269897,0.0555221403346342,0.0940065781275431,0.400223696231842,0.2767240802447001,0.3938337763150532,0.3443995543888637,0.2714973881288811,0.2867722411950429,0.0606130361557006,0.3917504593178078,0.1409461259841919,0.5294654284204755,0.4505319595336914,0.4505319595336914,0.1200923904776573,0.1628550324175092,0.9676359593868256,0.4963673182896206,0.1162424286206563,0.472811721265316,0.670813540617625,0.0056739250818887,0.5936206892917032,0.3194307344300405,0.3680853343009949,0.3680853343009949,0.4284280925989151,0.2728446920712788,0.3385777572790782,0.259450262007506,0.259450262007506,0.1578522796432177,0.2242945896254645,0.0218287110328674,0.0218287110328674,0.4519650737444559,0.1444649621844291,0.2262134462594986,0.1493313789367675,0.0614367988374497,0.2269620315896139,0.2917156577110291,0.2917156577110291,0.2917156577110291,0.4144102390422377,0.1290745278199514,0.5396611367662748,0.0532359927892684,0.3007457186194027,0.2115054726600647,0.4914893739753299,0.1647555530071258,0.4830025093896049,0.3301346977551778,0.6679274042447407,0.1945515776935376,0.0379414975643158,0.0379414975643158,0.1173925910677228,0.2124929322136773,0.2738363146781921,0.2342284755273298,0.0274983048439025,0.0405769149462381,0.1274630188941956,0.0743960653032576,0.3915002478493584,0.1681882540384928,0.0077172517776489,0.1780428066849708,0.1831863522529601,0.1831863522529601,0.0452150553464889,0.2850068569183349,0.2616596966981888,0.1431680768728256,0.4643314886093139,0.2052015364170074,0.1579276598416842,0.2571909427642822,0.1295326408885774,0.1339030999403733,0.0966875031590461,0.2282184958457947,0.2149835129578908,0.0135428309440612,0.007558450102806,0.1880831041119315,0.5279188752174377,0.2326684412748917,0.1889153964379253,0.2571236182142187,0.2142340540885925,0.4831432029604912,0.4831432029604912,0.4831432029604912,0.4831432029604912,0.1418845653533935,0.2850568610610384,0.1017571261950901,0.4825599193572998,0.2609699393312136,0.2771343086895189,0.7063766717910767,0.507947713136673,0.1777598042237131,0.2016945630311966,0.7111440300941467,0.2951727296624865,0.3804263174533844,0.3804263174533844,0.0324499160051345,0.2538506388664245,0.1916234460141924,0.4070538661696694,0.0702909231185913,0.124860942363739,0.0858271850479973,0.2688420057296753,0.0483785271644592,0.165169277361461,0.2281016767024993,0.5176968388259411,0.2896132643880515,0.2200822755694389,0.1522918409771389,0.2747085477624621,0.1865946650505066,0.1418845653533935,0.1192613177829318,0.3199784105474298,0.2323785821596781,0.2548984587192535,0.0107331871986389,0.2967758037542042,0.779422918955485,0.1489390134811401,0.4377323334867304,0.2730932615020058,0.3332849442958832,0.3345383517444134,0.0046212673187255,0.0694079250097274,0.0694079250097274,0.2291814850436316,0.2485317091147105,0.2485317091147105,0.1261214701140799,0.0206222832202911,0.1886314749717712,0.0491850674152374,0.2119863331317901,0.3832538657718234,0.3832538657718234,0.3832538657718234,0.0902457466492285,0.0902457466492285,0.0316326171159744,0.1421861797571182,0.1421861797571182,0.0964448085198035,0.4806067962199449,0.2433016717433929,0.2383142828941344,0.5155543684959412,0.2671701610088348,0.3558414379755655,0.3558414379755655,0.5268526971340179,0.0694734851519267,0.0518167734146118,0.5236485600471497,0.1499271094799041,0.1499271094799041,0.5244856294658449,0.3431680003801982,0.2136857227275246,0.0440120513622577,0.3645067453384399,0.3261712325943841,0.3135151587999784,0.1681618498904364,0.2237481304577418,0.1689558078845341,0.0035893321037292,0.0035893321037292,0.5000635130064828,0.0461955815553665,0.3736867547035217,0.1182577311992645,0.2059756324936945,0.0157310962677001,0.0470669269561767,0.1558248132467269,0.3280216962099075,0.3246741380010333,0.4251348567860467,0.0331171452999115,0.0331171452999115,0.1381268284537575,0.1979811761690222,0.1979811761690222,0.5425142966783963,0.3386793335278829,0.5205002874135971,0.5205002874135971,0.5741407112641768,0.4658418893814087,0.0049116015434265,0.0049420595169067,0.2422734744408551,0.2842368284861247,0.2842368284861247,0.3611736802731531,0.209939420223236,0.278869609038035,0.2896649251381556,0.3365175326665243,0.0078262090682983,0.4767462462186813,0.3808994564143094,0.5633932948112488,0.2025328576564788,0.2025328576564788,0.2933462129698859,0.2010136315455803,0.2010136315455803,0.2358348965644836,0.0496812224388122,0.6304709017276764,0.4496413005722894,0.221457302570343,0.3104610085487365,0.4314129778317043,0.6814937492211659,0.2134088555971781,0.1772602895895639,0.3355313473277622,0.2566666603088379,0.0970696144633823,0.0159010291099548,0.5112322092056275,0.0848281383514404,0.3910940553782121,0.2495468436060725,0.6758218228816986,0.3458316491709815,0.0039864480495452,0.2281057437260945,0.4827073216438294,0.1997892890985196,0.1381719733277956,0.2956531715393066,0.0722241640090942,0.2132409272285608,0.4254233121871948,0.0877005492939668,0.0546376374032762,0.0236762166023254,0.1560442447662353,0.007138192653656,0.2185979055033789,0.18666672706604,0.0032818913459777,0.0032818913459777,0.0317462682723999,0.0317462682723999,0.4915650270201943,0.2987749997307273,0.1133570075035095,0.0617595314979553,0.0277292728424072,0.1275685206055641,0.2860595323145389,0.1153459747632345,0.2769360065460204,0.0840681120753288,0.2294051349163055,0.0037015080451965,0.281762920320034,0.170020860844645,0.1780692040920257,0.5795284882187843,0.1555315817103665,0.1196723043918609,0.1289349794387818,0.2118178457021712,0.2884340268724105,0.6543250679969788,0.2387849565210014,0.0825973004102706,0.4816440365144184,0.0624769528706868,0.1472379845731398,0.1907537117642893,0.1226555121705887,0.1251549422740936,0.2783618122339248,0.4408973267203883,0.0249384939670562,0.4599873253277369,0.0783179310651925,0.2861143435750689,0.2861143435750689,0.1738531840474981,0.2632619142532348,0.055235872666041,0.2180707255999247,0.0071845054626464,0.0702682137489318,0.0053538084030151,0.5158303678035736,0.3525116287849166,0.1137017740143669,0.0805978116236234,0.378994882106781,0.1486347317695617,0.4610999584197998,0.0157504280408223,0.2179086655378341,0.1189330131919295,0.5638859180303721,0.1376508772373199,0.6680193543434143,0.5079671442508698,0.1285788029432297,0.0779009362061818,0.0617286960283915,0.46639584004879,0.4862801181642633,0.4862801181642633,0.4862801181642633,0.0102245807647705,0.2542126519339426,0.2542126519339426,0.3461875021457672,0.1944325029850006,0.3247463504473368,0.3600920360339316,0.1549635529518127,0.3381153302533286,0.1097675263881683,0.1214142799377441,0.0856204787890116,0.1519634266694386,0.0081958770751953,0.0324321985244751,0.086733250056996,0.2370483108929225,0.029677540063858,0.4706384837627411,0.2385640516877175,0.0383499860763549,0.2696369427901047,0.2696369427901047,0.0119014382362365,0.1820414321763175,0.011254996061325,0.1774489402770996,0.0337084531784057,0.211901307106018,0.3921293765306471,0.2288938257843256,0.3075130979220071,0.5039086043834686,0.1901207466920216,0.1901207466920216,0.3063991069793701,0.1490108785421952,0.1490108785421952,0.1618714440952647,0.4466842785477638,0.0956659093499183,0.0613880306482315,0.3973383903503417,0.67929807305336,0.1062867623918195,0.1979543368021646,0.193287655711174,0.0800900757312774,0.089722568648202,0.34252211025783,0.067830102784293,0.2556433616013362,0.4380230069160461,0.1984847279695364,0.2624822417894999,0.1981783884186898,0.591546505689621,0.0863278557856878,0.4089893868991306,0.4089893868991306,0.0079973936080932,0.3244087866374425,0.1088999658823013,0.1563490629196167,0.0651628136634826,0.111886590719223,0.111886590719223,0.3140831053256989,0.5820932984352112,0.2643130526823156,0.1791015204630399,0.0830325484275818,0.4764221310615539,0.29120734333992,0.5505906641483307,0.1028826236724853,0.1028826236724853,0.1601087771929227,0.1045720662389483,0.134063374428522,0.2200138221184413,0.508874237537384,0.1185834109783172,0.6018187284469605,0.4932979991038639,0.4932979991038639,0.111795924603939,0.111795924603939,0.2305417537689209,0.1183196476527623,0.0671550631523132,0.155692802535163,0.0132014155387878,0.244181241049911,0.3582421898841858,0.2276734511057535,0.0076017975807189,0.026658833026886,0.0055389404296875,0.0573676228523254,0.4979391623945797,0.0644746720790862,0.0489658713340759,0.2299280600114302,0.1623512804508209,0.054095059633255,0.6913470824559529,0.1223108389160849,0.0716530084609985,0.0841276764869689,0.1727507909138997,0.2169722020626068,0.2545117172254186,0.2545117172254186,0.0829943269491195,0.0560585856437683,0.2389882869190639,0.2382870614528656,0.2382870614528656,0.2382870614528656,0.3093213886022568,0.3093213886022568,0.3093213886022568,0.1520197913050651,0.3390993118286133,0.1791593325989586,0.2701802539825439,0.1048504114151001,0.0326127807299296,0.0120803117752075,0.3406010866165161,0.2661545276641845,0.1755896608034769,0.6857947111129761,0.1698778867721557,0.0036426186561584,0.2316656871275468,0.2316656871275468,0.2051065266132354,0.1454094250996907,0.006306767463684,0.2663933237393697,0.0589902698993683,0.2180889248847961,0.337617152929306,0.1609602664646349,0.1105110247929891,0.0043314695358276,0.4357854669744319,0.0804243922233581,0.0603702366352081,0.0973020962306431,0.7654810207230703,0.7654810207230703,0.7019317150115967,0.1449359990656376,0.2082921266555786,0.1810985406239827,0.1436823095594134,0.2639227603611193,0.307877790927887,0.1931220889091491,0.7881615161895752,0.3740418297903878,0.1630988453115735,0.1074340537742332,0.0054717659950256,0.1441383825408088,0.0574346303939819,0.1509128383227757,0.4546635959829603,0.0725491046905517,0.200185668429518,0.7290992651666913,0.3010789928336938,0.3385534286499023,0.0803241789340973,0.2866324890743602,0.2866324890743602,0.436839895589011,0.1824870109558105,0.1824870109558105,0.0329429268836974,0.0329429268836974,0.3035410284996033,0.1778259711750483,0.0955874068396431,0.2086676274027143,0.3904277205467224,0.0638635605573654,0.0638635605573654,0.0133549124002456,0.1280240751802921,0.7854711413383484,0.0691987425088882,0.0885704259077708,0.189998110658244,0.189998110658244,0.1884127780795097,0.0687325696150462,0.2762701144585242,0.1036280274391174,0.2086504399776458,0.1459066122770309,0.5118707865476608,0.1330722272396087,0.2925100636978944,0.2408049702644348,0.1907297933802885,0.3721005568901697,0.3721005568901697,0.3418859450184568,0.1804411086169156,0.4832000335057576,0.0584067583084106,0.1039118766784668,0.2466136354666489,0.3290373637126043,0.312561991967653,0.4034531315167744,0.0609402894973755,0.0466830879449844,0.1319966673851012,0.0627162324057685,0.115843524535497,0.4863682389259339,0.1755248308181762,0.0055426359176635,0.0118753314018249,0.529622217019399,0.1682481467723846,0.6351456046104431,0.2855053320527076,0.0153948068618774,0.2347147035779376,0.0088903903961181,0.0814411997795105,0.1002619453838893,0.2162011671757353,0.6695883870124817,0.1979841589927672,0.1403591781854629,0.307047389447689,0.0064981579780578,0.1069643063978715,0.1561342279116312,0.0888796687126159,0.6961931188901265,0.1922678798437118,0.111145110691295,0.0539283901453018,0.4005905091762543,0.4005905091762543,0.1912395421494829,0.1068672537803649,0.0104017555713653,0.1723672880066765,0.3064751078685125,0.605841863155365,0.2535091787576676,0.3324723243713379,0.1916707364412454,0.2905924841761589,0.3461140990257263,0.004258394241333,0.0159217119216918,0.0824896097183227,0.0220654805501302,0.3032655020554859,0.0852817893028259,0.2194657921791077,0.0921205878257751,0.217515463178808,0.217515463178808,0.217515463178808,0.190819521745046,0.0173322558403015,0.3366232911745707,0.7035175085067749,0.1016715927557511,0.4201032519340514,0.4201032519340514,0.4201032519340514,0.0492787808179855,0.4989039659500122,0.1266131301720937,0.3577385693788528,0.154883325099945,0.154883325099945,0.3507866561412811,0.2074091866612434,0.142219632600261,0.2500396083902429,0.1302286585172017,0.1536103487014771,0.1536103487014771,0.2505370488292292,0.1358078122138977,0.2441553516047341,0.111948291460673,0.5065324306488037,0.5933268732494777,0.4674730626019564,0.1871546930991686,0.3973998682839529,0.2245382368564605,0.0038189888000488,0.0038189888000488,0.2030680060386658,0.1705007893698555,0.0130389928817749,0.2245306849479675,0.0856961607933044,0.0856961607933044,0.4396997519901821,0.2236808985471725,0.4377934137980143,0.4377934137980143,0.3672748804092407,0.3454183141390482,0.2319989789549897,0.4382004261016845,0.2846579381397792,0.0398860692977905,0.068774789571762,0.1737885475158691,0.2639755606651306,0.3018775536463811,0.06222132841746,0.2758433222770691,0.183231790860494,0.183231790860494,0.0223656669259071,0.1141550540924072,0.5812743902206421,0.1284095197916031,0.0070419013500213,0.0538248618443806,0.1391850045094123,0.1269189289637974,0.0976666659116745,0.0412173238065508,0.1240890366690499,0.3235609964890913,0.0106241703033447,0.2729603052139282,0.4946711262067159,0.178568959236145,0.178568959236145,0.1267421245574951,0.0215343832969665,0.0048976838588714,0.0120889147122701,0.3647921919822693,0.2783155034888874,0.1008341163396835,0.1008341163396835,0.0717877490179879,0.0717877490179879,0.1898518493681243,0.1898518493681243,0.0055527687072753,0.1013438999652862,0.4078712070530111,0.3874995311101278,0.092795118689537,0.3949038982391357,0.2093037101957532,0.5296960771083832,0.5296960771083832,0.3652736246585846,0.3106144070625305,0.4902143478393554,0.2604182660579681,0.1553029092875394,0.1298677027225494,0.1418845653533935,0.3173922896385193,0.0840073227882385,0.3341252287228902,0.540610122680664,0.540610122680664,0.3711019894656013,0.1626610150208343,0.1626610150208343,0.2003614595159888,0.0785638093948364,0.0785638093948364,0.1117217881338936,0.271006166934967,0.014417827129364,0.1413543820381164,0.1481419590803292,0.0061540007591247,0.3753921538591385,0.3291990075792586,0.067012071609497,0.5001327097415924,0.0940189531871251,0.1844326477301748,0.571409597992897,0.0222702026367187,0.0486460924148559,0.0681549310684204,0.50228351354599,0.1235796451568604,0.494471815916208,0.3426609237988789,0.3601442178090414,0.7107642889022827,0.7107642889022827,0.5063339829444885,0.1760667860507965,0.2335257066620721,0.0099457502365112,0.3900272846221924,0.3900272846221924,0.0062975883483886,0.0327855944633483,0.0350338518619537,0.1068583531626339,0.1029238899548848,0.1029238899548848,0.0803591112295786,0.5746251543362936,0.2954903336671682,0.01411834359169,0.2184590995311737,0.0239437818527221,0.097069501876831,0.260778933763504,0.6156461954116822,0.0806020895640055,0.0937295794486999,0.0758281126618385,0.7351569618497577,0.1843615934766572,0.2138726200376237,0.2407776604999195,0.3112889352966757,0.1503940172817396,0.1177863052913121,0.1033706784248352,0.1452277779579162,0.0049129128456115,0.1396590238664208,0.1396590238664208,0.5058846473693848,0.1978151384574264,0.2166582291776484,0.2572369678267117,0.2572369678267117,0.0345402956008911,0.095861268895013,0.2161791167761149,0.3145310580730437,0.0259085595607757,0.0171067714691162,0.0703857938448588,0.2193593873697169,0.1161772708098093,0.0300472974777221,0.1475192603739824,0.4185471914031289,0.6683948636054994,0.4387659430503845,0.1434097707271575,0.410535977436946,0.0113840699195861,0.148071291771802,0.140115737915039,0.1783740314153524,0.0667049288749694,0.0459645390510559,0.2033450007438659,0.1667410433292389,0.224389462172985,0.0780314326286315,0.0086268633604049,0.1778955445923936,0.2362691760063171,0.0044411420822143,0.18858702480793,0.1172633022069931,0.2358359830720084,0.2358359830720084,0.3109791797351062,0.3191843203135898,0.5000428557395935,0.2096769743495516,0.1810110274114107,0.5449175635973613,0.2809084388944837,0.5853889226913452,0.4819199698311942,0.0079983472824096,0.0538253188133239,0.1298143175932077,0.6683098077774048,0.2416849851608276,0.5163597729470994,0.5563623209794362,0.1764004528522491,0.1453046713556562,0.0697264075279235,0.0486369132995604,0.4037779048085212,0.4037779048085212,0.0082888404528299,0.3766752779483794,0.3766752779483794,0.2149332712093988,0.2149332712093988,0.3360870877901712,0.2126335788231629,0.0121029913425445,0.0257986982663472,0.6795849005381266,0.2022633366286754,0.2022633366286754,0.1169982552528381,0.0366312503814696,0.0366312503814696,0.2826046347618103,0.320651775598526,0.2165599068005879,0.3579029440879823,0.0595338642597198,0.0595338642597198,0.3633866641256544,0.2112895598014196,0.3418740374701363,0.8301579356193542,0.2123715146229817,0.0933171510696411,0.2878111830124488,0.1605761796236038,0.1605761796236038,0.223112482058851,0.1473402976989746,0.0240864753723144,0.2576631158590317,0.3192732388323003,0.2990355832236153,0.330052837729454,0.4288670629262924,0.2478964924812317,0.073014810681343,0.2462346155196428,0.2500419815381368,0.0211302638053894,0.0855767366133238,0.0038545131683349,0.0575180880485042,0.3694008588790893,0.3694008588790893,0.0528045495351156,0.1028330326080322,0.5228042900562286,0.1765962609073572,0.005062460899353,0.1788937006447766,0.1788937006447766,0.1843705177307128,0.0643290281295776,0.0643290281295776,0.158452644944191,0.158452644944191,0.0129916866620382,0.0129916866620382,0.0129916866620382,0.0129916866620382,0.1662239730358123,0.2759472727775573,0.2820354402065277,0.4663872346282005,0.0553092786243983,0.1392248696402499,0.3820276856422425,0.2863171696662903,0.2360847115516662,0.0343813896179199,0.1386987566947937,0.1386987566947937,0.373505163192749,0.0878862142562866,0.1834543691231653,0.1104235649108886,0.0766243636608123,0.3971617519855499,0.3971617519855499,0.1934838518500328,0.4456039905548096,0.5097310245037079,0.5097310245037079,0.0077311396598815,0.0984869102636973,0.1515811383724212,0.0594245493412017,0.10080752770106,0.4464564800262451,0.1373429960674709,0.2795580148696899,0.6037963628768921,0.4000998020172119,0.0068874955177307,0.2923802398145199,0.3516301438212394,0.4583188414573669,0.0166642665863037,0.0085845987002055,0.0979685425758361,0.0189592123031616,0.6943105128076341,0.6841279864311218,0.074798583984375,0.2874351035464894,0.0599823594093322,0.0390113145112991,0.07314266761144,0.0354167487886216,0.0109121998151143,0.1919433606995477,0.3228363139288766,0.4824939469496409,0.2577771544456482,0.0965953230857849,0.3266192055665529,0.1307431235909462,0.1314689755439758,0.1496309174431694,0.0043134093284606,0.228010606765747,0.5223848521709442,0.1867976846794287,0.0081402659416198,0.1362755629751417,0.3642646824121475,0.4199113033968826,0.236616141266293,0.5107841127448612,0.2866212716422129,0.4739751737388635,0.2026090949046902,0.1994923300602857,0.5876757439225911,0.1050253243496021,0.5514949473102441,0.2412064988706626,0.5611271783295606,0.5379257440567017,0.1803888432620986,0.4206809909082949,0.3027110209222883,0.6067414597461098,0.5649970815731928,0.2992668416765001,0.8184371739625931,0.0121691624323526,0.7634186148643494,0.3519189772861345,0.4961604473215562,0.2110750642982689,0.3577511061211021,0.4894062961823021,0.6185819226152757,0.1726535924790818,0.0990731120109558,0.3535943712506975,0.3717541290078186,0.4870814892152945,0.1262715818390013,0.2206189202870561,0.2647022227446238,0.0560365915298461,0.2735317118570838,0.2529755153439261,0.2049234466893332,0.1953902840614318,0.2451657553513845,0.2131971057528762,0.5319764815844022,0.8892439917243761,0.5465048998594284,0.5212395669271548,0.6958991633011745,0.6791718854986388,0.2591090152661005,0.329222877250343,0.2752413767225602,0.3063728492229412,0.2639802917838096,0.3226355291822904,0.2209626585245132,0.6094884400937095,0.2799700477626174,0.3697922092217665,0.2082730879386266,0.4246864430606365,0.3587698646493861,0.1982236579060554,0.3186674194951212,0.2609762004680103,0.0591377284791735,0.4935576940069393,0.3076452780188176,0.3930482608679484,0.4362432774156332,0.3225646348376023,0.2803543425268597,0.4342064037919044,0.1941175468870111,0.3979900500912596,0.2056117368559552,0.3276583769104697,0.3847553132387696,0.2572608216011777,0.1677365697718955,0.3211113661527633,0.2152772662895066,0.2783504693131697,0.5491902932288155,0.1569927389262825,0.3360077494115972,0.3590660723192351,0.2058638089469501,0.4804738387465477,0.335281987220813,0.194857157766819,0.2650112162033716,0.3610985645881066,0.4088774137198925,0.1418845653533935,0.1342116811058737,0.1535427363022513,0.2013457319775566,0.7045744061470032,0.3897178424256188,0.2700554870642149,0.3327333875205539,0.587210523230689,0.2658934860475478,0.20754713224776,0.2439582113424935,0.6281992465257646,0.2809632743398349,0.376995835548792,0.4106235752503077,0.1995569290341558,0.2165733542707231,0.2400480624901722,0.194089232810906,0.3141589488120789,0.4074144453713388,0.4147772766649722,0.2767502704224029,0.2265404224395752,0.4015440142154693,0.4185717153407279,0.4418886360397168,0.2748564571704504,0.2174594140782648,0.3089596421346752,0.3479087269097043,0.0418641269207,0.3490967243909836,0.3072773419758853,0.2981425411999225,0.3573366132649508,0.2437666797637939,0.3790526799857617,0.3578197671019512,0.1027854376369051,0.2146057439228845,0.4532440729213484,0.4048430445866707,0.2290124849675442,0.0336489260196685,0.2872859554962046,0.2936323422652024,0.1460116931370326,0.1392250212412031,0.3506419183434667,0.25295797376721,0.5202530345746449,0.1355691600819023,0.3669355504281886,0.1471073135085727,0.1176230907440185,0.3715547224879265,0.3494059327989817,0.1553532662344913,0.3869090473306351,0.3697666227817535,0.2108712734188884,0.437862019571993,0.4141870886087417,0.3475179857376849,0.2418921703384036,0.2607725565893609,0.0525852342446644,0.4279624712136057,0.2634861767292022,0.233589496913847,0.1154718617136165,0.3061638843713317,0.2526457353432972,0.3943692461649576,0.2510433620214463,0.209659670447481,0.4293226599693298,0.3027539062194335,0.2784934406572917,0.2142946501572926,0.2900379624749933,0.2387612741926441,0.2417161085388876,0.2012125164270401,0.0884136570727123,0.3302255951343699,0.4642304349460719,0.0888306498527527,0.3535908423364162,0.2205736849170465,0.3507159041321795,0.3124080352710955,0.0930267956949049,0.3780375367305317,0.2032651720302445,0.1624060809612274,0.5511151280092157,0.3368657562467787,0.2218974287863131,0.3730888800187544,0.1726349393526713,0.6687436302502949,0.4140286938546925,0.3078276654300483,0.15268774330616,0.3815767995772822,0.3158944556207368,0.2814382239853665,0.2460491658868016,0.441815435886383,0.5207617229649,0.1816140030595389,0.1816140030595389,0.2424407213926315,0.164922042896873,0.2094490911279406,0.2440094894005191,0.0916261050238538,0.3128514190514882,0.5482198460535569,0.2275244127149167,0.2382629792841653,0.5698833150022169,0.093476672967275,0.2964192495534294,0.169443230418598,0.3963435877453197,0.3492237477753293,0.5383771359920502,0.3230848038362132,0.2460785255287632,0.3417575837901005,0.2818371959634729,0.2549420902505517,0.4747746031859825,0.2179931810027674,0.4075965881347656,0.2592916269051401,0.2254572911696,0.1242629885673523,0.3861520622546474,0.4467175289474684,0.4656083094828946,0.2531208928615329,0.1896853574684688,0.1622416264481014,0.3442004484434923,0.3798204691786515,0.5552543752333697,0.145510855393532,0.3023014866880008,0.4383696615695953,0.4811208444833755,0.1281331603257161,0.3384212763221176,0.3125571103752121,0.3457416156073197,0.4840188196727207,0.7622072249650955,0.3097422372910284,0.2763939874787484,0.3263917167981465,0.2171868633839392,0.187297248840332,0.3648194821730051,0.144626106818517,0.3149834719571199,0.1639681210120519,0.4200416278030913,0.2909991078906588,0.1830877644675118,0.3561793202204061,0.4668179895236806,0.2297949846833944,0.2146701971369405,0.2822689267626979,0.0232373873392741,0.2088335454463958,0.2704714451517378,0.1775435209274292,0.3194524966753446,0.2442739170588804,0.3246899440884591,0.6225873818109323,0.4882578464845815,0.3750678033878405,0.5174301564693451,0.4767226568526692,0.2464147529131929,0.1286544340352217,0.1304517595664314,0.3712348818778992,0.3571645220120748,0.440818547721832,0.45200248559316,0.1727718047375949,0.3482225821131751,0.3364260062094658,0.2369976374838087,0.2369976374838087,0.276451955238978,0.2363756249932682,0.2760851702711605,0.3920796316988925,0.3892318412315013,0.4203145825862885,0.3182336229886582,0.4767926558852196,0.0292058776725421,0.3218051384795796,0.729466954867045,0.16556916995482,0.7461492121219635,0.2278873656040583,0.3433303046557638,0.2212016212940215,0.3776830136775971,0.1695825078508309,0.1640287297112601,0.5135480456731536,0.2321535383767269,0.4710888160813239,0.2807993173599243,0.4534725613064236,0.3707917332649231,0.1760002672672271,0.3862346003592855,0.2265060020952808,0.2274238398441901,0.1011174400647481,0.1316304374486208,0.2489995182828701,0.235345566868782,0.2648634717271135,0.439682490295834,0.1992614269256591,0.148175052026423,0.202293351093928,0.1837746858596801,0.4188695819604964,0.0476087927818298,0.1093580310161297,0.3337355008939417,0.3040904780228933,0.2440664210102774,0.431244957447052,0.309081909833131,0.1571214333176613,0.6633991114795208,0.4400254790745084,0.2669263354369573,0.3200575155871255,0.2981177660135122,0.3185139561103561,0.4954364259134639,0.2900497209440711,0.3386657948677357,0.2560173093326507,0.496966584082003],\"type\":\"histogram\",\"visible\":true},{\"marker\":{\"color\":\"lightgreen\"},\"name\":\"Sentiment\",\"opacity\":0.75,\"x\":[0.1765437222296191,0.1765437222296191,0.3724542260169983,0.0901791950066884,0.0,-0.3185455062810112,0.3228637301004849,0.4255740812846592,0.0,0.1049526671568552,0.3260657638311386,0.230608582496643,-0.1571231881777445,0.0747923346666189,0.0012322313645306,0.1389616847038269,0.0243337959051132,-0.0772475865152147,0.0252607464790344,0.4260320152555193,0.1963149848438444,-0.1843749185403188,-0.0600657973970685,0.6310650507609049,-0.216260208023919,0.3811752539256523,0.1159922766685485,0.1036504765055072,0.1986718475818634,0.087452465837652,0.1104666173458099,0.2484680861234665,0.2484680861234665,0.0,0.0,0.0,0.0,0.0,0.195834344625473,0.2508085089571336,0.1752694778972202,0.1878881394863128,0.396735155582428,0.241460382938385,-0.0299843631007454,0.2137051099225094,0.1246810406446456,0.2681177939687456,0.3245553026596705,-0.1322005620369544,0.0713120798269907,-0.0693232491612434,0.1541036268075307,0.3381089806556702,0.1559444665908813,0.0809830725193023,0.0606658570468425,0.0606658570468425,0.1879461775807773,0.22746092826128,0.22746092826128,0.2961319585641225,0.0,0.1201968278203691,0.3864533061330968,0.2898618610281693,0.0296596987172961,0.229852506407985,0.0,0.0,0.2389934778213501,0.0,0.0794652619877377,0.0658929067499497,0.4913901686668396,0.0,0.1636509696642557,0.0,0.0592440962791442,-0.2471297234296798,0.0,0.0,-0.0311871357262134,-0.0515321195125579,0.0904629555615511,0.0616295741450402,0.1788112111389637,0.2736287831135516,0.0467762231826782,0.3080477674802144,0.6165390809377035,0.4136475771665573,0.0,0.0,0.0,0.0,0.3812247145743597,0.0,0.411069061074938,0.0856386593409947,0.3767802161829812,0.3247915009657542,0.2240271965662638,-0.0509550597356713,-0.2247322797775268,0.3337158679962158,0.2601112611591816,0.1585642287605687,0.4237816135088603,0.3844094475110372,0.3844094475110372,-0.1841952800750732,0.1828436702489853,-0.0283272777284894,0.0131370186805725,0.040824810663859,0.1866939425468445,-0.003546005487442,0.1111688539385795,0.0,0.2703121503194173,-0.3069913486639659,0.0,-0.3212883328569346,-0.1641899247964223,-0.2692195177078247,-0.1268002033233642,0.0730740904808044,-0.1196870903174082,0.0118319554762406,-0.2819170997692988,0.0,0.0,0.0,0.0,0.0,0.0,-0.1165127114013389,0.4385244250297546,0.012739667892456,-0.4299170672893524,-0.0296935407738936,0.0887871325016021,-0.2124936140101889,-0.0986676812171936,0.0458596448103586,0.0458596448103586,-0.252692184950176,0.4973925054073334,-0.2199067702660193,-0.6069549984402127,-0.6069549984402127,-0.4239773574200543,-0.2591034514563424,-0.2696801424026489,0.0951334900326199,0.0,0.1808007792993025,0.1808007792993025,-0.2170790284872055,-0.2538416076589513,0.0,0.0,0.0,-0.2384438027035106,0.0,-0.1891930937767028,-0.3182068705558777,-0.4238297939300537,-0.3292906681696574,0.0,0.0,-0.1910369131300184,-0.2596652706464131,0.1042834520339965,0.0,0.1595765848954518,-0.1084407501750522,-0.0784535452171608,0.0,0.0,-0.0124735287257603,0.0,0.0,0.1799611091613769,-0.4425091743469238,-0.1448546431281349,-0.151747144971575,0.0506509634164663,0.3255274494489034,0.0,0.0,0.1171438518692465,0.0,0.4059901595115661,-0.1103893915812174,0.2214948194367545,-0.1378355622291565,0.017184360159768,-0.2554830412069956,0.0,-0.1561420493655734,-0.6603925347328186,-0.0840333189283098,0.0,0.0,-0.2245021730661392,-0.3966753085454305,0.0,0.2790098275457109,0.0,0.0896429568529129,0.0,0.0,0.0126912374245493,-0.4112863370350429,-0.1133494234085083,-0.1133494234085083,-0.3933682203292846,-0.1191719505521986,0.165397822856903,-0.0735719644505044,-0.0735719644505044,-0.3911104326446851,0.3301998244391547,0.0,0.0,0.315129280090332,-0.5316301062703133,-0.1894292950630188,-0.5432048916816712,-0.2120929625299241,-0.2934215433067745,-0.3542680263519287,-0.3542680263519287,-0.3542680263519287,-0.2804377980010454,0.0385482629140218,-0.1907172327240308,0.2489739954471588,-0.4228790753027972,-0.0383315861225128,-0.1007524198955959,0.3373947441577911,-0.1275218597480229,-0.3041118747658199,0.0,-0.1239757569212662,-0.195697683095932,-0.195697683095932,-0.2465391414506094,-0.1354854186375935,0.0,-0.178162851116874,0.0,-0.2052830590142144,0.089110654592514,0.2835576704570225,0.0,0.251643697420756,0.0,-0.2760935425758362,0.3320833643277486,0.3320833643277486,-0.2338631600141525,-0.137496531009674,-0.4928448498249054,0.2459207028150558,-0.1207916927337646,0.0,-0.3291192742494436,-0.1266066431999206,-0.0160674992061796,-0.4246748869235699,-0.2258161604404449,-0.056276136636734,0.0,0.0,0.2488082200288772,-0.0175200619480826,0.0349185839295387,-0.318633294623831,-0.3641976293395547,-0.188281931259014,0.4609941840171814,0.14822468906641,0.14822468906641,0.14822468906641,0.14822468906641,0.0,-0.2897853724884264,-0.5349863767623901,0.0012504713875906,0.0695249587297439,-0.4842175370768496,-0.1490753491719564,0.0,-0.2851455148897673,-0.1918893605470657,0.0,-0.1392793570246015,-0.1886118501424789,-0.1886118501424789,0.0,-0.2184177339076995,-0.1609351568751865,0.234747978773984,0.0,0.0,0.0,-0.321915203332901,0.0,-0.1942543642861502,-0.4164913892745971,0.1245795935392379,-0.3093132613034084,0.0599589819709459,-0.3148447804980808,-0.3480479291507176,0.0,0.0,-0.4641932447751363,-0.3538806709376248,0.0,0.4947050213813782,0.3316656351089477,-0.0591748074481361,0.0,0.103204071521759,-0.1241473338820717,-0.3982021591880105,0.2177924088069371,0.0945895910263061,0.0,0.0,0.0,-0.1872009701199001,0.3267801702022552,0.3267801702022552,-0.5140091297103138,-0.4814552664756775,0.0,0.0,-0.3264368325471878,-0.4392099248038398,-0.4392099248038398,-0.4392099248038398,-0.5076179733643165,-0.5076179733643165,0.0,-0.1459704488515854,-0.1459704488515854,-0.3433129237248347,-0.2331549450755119,0.123122763633728,0.0,0.0,-0.2386182695627212,0.0,0.0,0.0,-0.6159495711326599,-0.1738114476203918,0.0,-0.3536193072795868,-0.3536193072795868,-0.1229475521379047,0.3321116765340169,-0.3383040114452964,0.217145392527947,-0.1432679673035939,-0.1503115163909064,-0.1763553940332853,0.0755829321486609,-0.2253304762499673,0.0237650473912556,0.0,0.0,0.0,-0.2468272000551223,-0.080134626229604,-0.295378324886163,-0.0236842030038436,0.0,0.4971243143081665,-0.3001045872767766,-0.210082322359085,-0.2576231530734471,-0.3518879200731005,0.0,0.0,-0.2424634315750815,-0.1766527502433113,-0.1766527502433113,-0.1217473607796889,0.0,0.2785927355289459,0.2785927355289459,0.0900043899362737,-0.1806218922138214,0.0,0.0,-0.2703387176289278,0.1106447180112202,0.1106447180112202,-0.3362422524872472,0.0,-0.2430328677097956,-0.2124051700035731,0.0,0.3317276835441589,0.158987320959568,-0.1767767613584345,0.0099893638065883,0.21104696393013,0.21104696393013,-0.2077908979521857,-0.402958863056623,-0.402958863056623,-0.1274136815752302,-0.1825450778007507,-0.2265098591645558,0.033221145470937,0.4916040698687235,-0.0343377262353897,0.1423269510269165,0.0,-0.2481172462304433,0.0,-0.04710696472062,0.0,-0.3702140384250217,-0.2464735805988311,-0.0002718329429626,0.0,-0.1171161954133015,-0.2059367170204987,0.0494529783725738,-0.2143269148137834,0.0,0.3217102686564128,0.1992834091186523,-0.2584817478289971,-0.4304737796386083,-0.2179485440254211,-0.1878488898277282,-0.0784601236765201,0.1990170359611511,-0.0467381126740399,-0.1038800080617268,0.0,0.0,0.0,-0.0873294583073368,-0.4860704413482121,0.0,0.0,0.472162976861,0.472162976861,0.090437959540974,0.0351932294228497,0.0,0.0,0.0,0.0645806714892387,-0.1395302694290876,0.0,-0.1456918209791183,0.0,-0.4161713322003682,0.0,-0.0156557708978652,-0.1806898836431832,0.6578091184298197,-0.1237034201622009,-0.394938398809994,-0.1762245488166809,-0.3541754513978958,-0.4668848266204198,-0.0150564085034763,0.0,-0.2147535393977987,-0.1332276135683059,-0.0918205146278653,-0.1042082375950283,0.0193752260769114,-0.2168354241766481,-0.165582815383343,0.0,0.2489064335823059,-0.3145045387117486,0.0,-0.2946876202310834,0.0,0.1040068481649671,0.1040068481649671,-0.4664774819424278,-0.0842594623565673,0.0,-0.2021527687708536,0.0,0.0,0.0,0.0,-0.0438908589157191,-0.6827823917071024,0.0,0.0,-0.2144671380519867,0.0045696347951889,0.0,-0.3107654154300689,-0.3571897325692353,-0.183747098996089,-0.1365207391125815,0.0,0.0,-0.2404060095548629,-0.2045449038346608,-0.1216486493746439,-0.1277625411748886,0.021650282960189,0.021650282960189,0.021650282960189,0.0,0.1982262773173196,0.1982262773173196,-0.1541403867304325,-0.4509642044703165,0.096386346552107,-0.2239740287002764,0.3312595884005229,-0.1189376839569636,-0.4832848012447357,-0.2166585882504781,-0.0656110366185506,-0.0661160310109456,0.0,-0.5748488664627075,-0.6522642970085144,-0.314574088369097,0.0,0.0532271564006805,-0.3153044904271762,0.0,-0.2885049260579623,-0.2885049260579623,0.0,-0.1392206719943455,0.0,-0.2557169318199158,0.0,-0.3778128623962402,-0.1992835899194081,-0.1234241779893636,-0.3276933232943217,0.0,-0.3206663959556156,-0.3206663959556156,0.0,-0.1080207954282346,-0.1080207954282346,-0.318618579344316,-0.0160417705774307,0.0604695454239845,-0.4245429299771786,-0.195212894015842,0.0,-0.5373268863734078,0.0,0.313188798725605,0.0,0.0,-0.3760464148862021,-0.0867282322474888,-0.29923651136201,0.0,0.0,-0.1161013722419738,-0.2153747052915634,0.0,0.1044137811376934,-0.0840729815619332,-0.0840729815619332,0.0,-0.0022880690438406,-0.1911378562450409,-0.3549566864967346,-0.1597092747688293,-0.1682214081287384,-0.1682214081287384,-0.2591571033000946,0.0,-0.2141783763380611,-0.1320730761477822,-0.1843559980392456,0.0,-0.1491187214851379,0.0,-0.6992110729217529,-0.6992110729217529,-0.0504635847531832,0.0,-0.2084336649803888,0.1431636760632197,0.0,0.0,0.0,-0.2235959395766258,-0.2235959395766258,-0.3381077907979488,-0.3381077907979488,0.0,-0.4368760968957628,0.177312958240509,0.1967183682653639,-0.3241148789723714,-0.329724983735518,-0.1666666984558105,0.2477670510609944,0.0,-0.6582492391268412,0.0,0.0,-0.031557700213264,-0.2454057882229487,0.0,-0.1252147839827971,-0.373220831155777,0.0,0.0083674192428588,-0.230135440826416,0.0,-0.1970679402351379,-0.321537693341573,-0.1940027241771285,-0.1795940585687858,-0.1795940585687858,0.0,0.0,-0.1977089246114095,0.0,0.0,0.0,0.0,0.0,0.0,-0.2002660483121872,-0.1672258019447326,-0.0988428074689138,-0.216081964969635,0.0,0.3318704565366109,0.0,0.0,0.0,-0.1110891881916258,0.0,-0.1582451909780502,0.0,0.0733343200250105,0.0733343200250105,-0.145900160074234,-0.2510993679364522,0.0,-0.2431717316309611,0.0991905212402343,-0.3187327906489372,-0.2511399745941162,-0.2501353088178132,-0.0934987664222717,0.0,0.0130925286899913,0.0,-0.1137569447358449,0.0,-0.0931091393743242,-0.0931091393743242,0.0,-0.1679277159273624,-0.3547592520713806,-0.2994233171145121,-0.0779349207878112,-0.0049958636886195,0.085768719514211,0.0,0.0,-0.1383948411260332,-0.0560851573944091,-0.1458273768424987,0.0,-0.3735324740409851,0.0995703399181366,-0.1390122090067182,-0.1445532143115997,0.0,-0.1376644125561309,0.139180736882346,-0.1248449377715587,-0.4656211256980896,-0.2634762108325958,0.0056593336842276,0.0056593336842276,0.0,0.0,0.0,-0.1837730169296264,-0.1837730169296264,0.0,-0.1610422058630798,-0.133857148034232,-0.2343774636586507,0.1991791248321533,-0.2461737245321273,-0.2461737245321273,0.2418179810047149,0.1187499724328517,0.0,-0.2387767136096954,-0.5810251235961914,-0.1471969987216748,-0.1471969987216748,0.0,-0.5247249454259872,0.063001275062561,0.1954503774642944,-0.4349644929170608,-0.412914365530014,0.2399332076311111,0.1529229879379272,-0.1391026402513186,0.41391122341156,-0.0553303080446579,0.1467483689387639,0.1467483689387639,-0.0485933486904416,-0.3124755079096014,-0.2831565539042155,-0.4674461185932159,-0.4376345376173655,-0.3856597038415762,-0.0609780550003051,-0.0844438389727943,-0.172480046749115,0.5628360629081726,0.4978588372468948,0.1993320941925049,-0.084682822227478,0.1136932869752248,0.0253081577164786,0.0,0.0,0.0,0.1415659586588541,0.0,0.0,0.1132392436265945,-0.4878144264221191,-0.0805751636172786,0.0,-0.1973425388336181,-0.1766584498541695,-0.2836845491243445,0.0,-0.1443603754043579,-0.2402336448431015,-0.2028120681643486,0.0,-0.5835198380730369,-0.2562556862831116,-0.0643871466318766,0.0,-0.2365701496601104,-0.3559487567228429,0.0,-0.0226825848221778,-0.0226825848221778,-0.207082561990048,0.0,0.0,-0.3517508970366584,-0.196954200665156,0.0,-0.261143963251795,0.0,-0.0635618154819195,0.0,0.0,0.0,0.0,0.0,0.0,-0.1681020160516103,0.0,-0.2103182872136434,-0.1374883890151977,-0.0097691145810213,-0.0097691145810213,-0.0097691145810213,-0.0781582593917846,-0.2423557490110397,-0.3429298301537831,0.0,-0.1621700850400057,0.0528494834899902,0.0528494834899902,0.0528494834899902,-0.2440173327922821,-0.1978920221328735,0.0,-0.4577410519123077,0.0,0.0,-0.1090848545233408,0.0367332860827446,-0.0708777893961003,-0.0847677522235446,0.0,-0.5323793391386668,-0.5323793391386668,-0.0466351352239909,0.0,-0.2736613963331495,-0.7267331878344218,0.0,0.0180686314900716,-0.0666198405352505,-0.0831594994434943,0.0419903908457074,0.0,0.0,0.0,-0.2920989751815795,-0.4495231509208679,0.0,-0.097245568037033,0.0,0.0,0.0011661904198782,-0.1944547018834523,0.0,0.0,0.0,0.0,-0.0783849685657315,-0.1954730749130249,-0.0283035380499703,-0.3913833022117615,0.0,0.0,0.0,-0.0654846567374009,-0.3295565247535705,-0.020229955514272,0.0,0.0,-0.484426662325859,0.0,0.0,-0.2446490973234176,0.0,0.1478610535462697,-0.0189335747407032,-0.5336887836456299,-0.2449278682470321,0.1645046273867289,-0.1146242533411298,-0.1766440868377685,0.0,0.0,-0.2117194845562889,0.0,0.0,0.0,0.0,0.0,0.0,0.0637672543525695,-0.2303754958239468,-0.2389338761568069,-0.2389338761568069,-0.1412425892693656,-0.1412425892693656,-0.2235611555251208,-0.2235611555251208,0.0,-0.4133953154087066,-0.0768279053948142,-0.3183458021708897,0.0,0.0,-0.0252729405959447,0.0,0.0,-0.1416702568531036,0.0,0.0,0.0,-0.1962474313649264,-0.1812994927167892,0.0,-0.1103207355453854,-0.394385302066803,-0.0499812404314676,0.0852513551712036,0.0852513551712036,-0.2583497867864721,-0.0861640999446044,-0.0861640999446044,-0.1404472403228283,0.0,0.0,-0.184800386428833,0.0,0.0,0.0,-0.0478638685666597,0.0,-0.402637243270874,-0.4053198099136352,0.1658705572287241,-0.3937327414751053,0.1410019312586103,-0.4464930170460751,0.2496229857206344,0.0,0.0,0.0,0.0,-0.2651194667816162,-0.1766012081733116,-0.238322377204895,0.0,0.0,0.0,-0.0161455929279327,-0.3261522948741913,-0.19588612847858,0.0,0.0,0.0,0.0,0.0,-0.4760066866874695,-0.3203896366316697,-0.6110376318295797,-0.6110376318295797,-0.588031013806661,0.1704514722029368,-0.1246706935075613,0.0,0.0,0.0,0.0,-0.4059892356395721,-0.1899161100387573,-0.3066587448120117,-0.1930008888244629,0.0,-0.0217333052839551,-0.0565512283094998,-0.4294562339782715,-0.2249074198982932,-0.0490708982243257,-0.2754672428835993,-0.1358385511807033,-0.1339333176612854,-0.1720590829849243,0.0,-0.1472931387947826,-0.1472931387947826,0.0,-0.0260812088624754,-0.1664501943371512,-0.1360304540601269,-0.1360304540601269,0.0,0.0695208013057708,-0.0282305008486697,-0.2771940648555756,-0.4789184331893921,0.0,-0.1183145592610041,-0.2225798578823314,0.0,0.0,-0.2084906951947645,-0.0789292671463706,-0.047535220781962,0.0770244151353836,-0.2277831733226776,0.0,0.0,0.0,0.130959466099739,-0.0717137272541339,0.0,0.0,-0.2547741197049618,0.1429203649361928,-0.1148517444729805,-0.3418911695480346,0.497508704662323,-0.1643307574024987,-0.2720935940742492,0.0,-0.1965818405151367,-0.4222241938114166,-0.0862771562167576,-0.0862771562167576,-0.0616706328663399,-0.2706465039934431,0.0,0.0,-0.1195491677836367,0.0,-0.1367769324117236,0.0510800004005432,-0.2199546609606061,0.0,0.0,-0.2627559029139005,0.0,-0.2321026881535847,0.0,-0.2001164754231771,-0.1314268708229065,-0.2054041538919721,0.0,0.3306328455607096,-0.2223030105233192,-0.2223030105233192,0.0,-0.0982339799404144,-0.0982339799404144,0.0,0.0,0.0,-0.1386723014024588,-0.4929759502410888,0.3181030750274658,-0.0390721162160237,-0.0795876011252403,-0.0795876011252403,-0.1220400333404541,-0.1933435916900635,-0.1933435916900635,-0.5035433769226074,-0.3022070527076721,0.1656912167867024,-0.2040371547142664,0.0,0.0,-0.2264074484507242,-0.3672333111365636,-0.2498978035790579,0.0,-0.0809967967180105,-0.3261913259824117,-0.0395892537557161,-0.3062553890049457,-0.3062553890049457,-0.0588114955757237,0.0,0.0,-0.2478377521038055,-0.1354584260420366,-0.2158950567245483,0.0,-0.1830066949129104,-0.3865188717842102,-0.3499859273433685,-0.0999399401247501,-0.5623280555009842,0.0,-0.1254132766472666,0.0,-0.1064629727794278,0.0,0.0,0.0,0.0,0.0,-0.0851485760588394,0.0,-0.1739035844802856,-0.1739035844802856,-0.3027220765749613,0.0,0.0,-0.2888924380143483,-0.2888924380143483,0.3320444822311401,0.3320444822311401,0.3320444822311401,0.3320444822311401,-0.4311899840831756,-0.1569751024246216,-0.2464257329702377,-0.0928077399730682,-0.1314839465277535,-0.2233074276070845,0.2874512473742167,-0.2195442914962768,-0.183815586566925,0.0,-0.4889144450426101,-0.4889144450426101,-0.0966805100440979,-0.3765684962272644,-0.1410400959161611,-0.1977044105529785,0.0,-0.3330325484275818,-0.3330325484275818,-0.1785094812512397,0.0,0.0,0.0,0.0,-0.0754107137521108,0.1302868127822876,-0.4475071728229522,-0.2818965514500935,0.0387441396713256,-0.3523072666592068,-0.1371467351913452,0.0,-0.0027798533439636,0.0,-0.1008505523204803,-0.4624733179807663,-0.1025650382041931,0.0,0.331427534421285,-0.0912511706352234,0.0,0.020952304204305,0.0,0.0,-0.0140846859325062,0.0,-0.2387786954641342,-0.3105487724145253,-0.3235996829138862,-0.329257587591807,-0.1022544105847676,0.0,-0.1339541474978129,0.0,-0.194047737121582,-0.2290219412400172,-0.1220908761024475,-0.1324002265930176,0.0,0.0,0.0,0.0,-0.1139296448479096,0.0,-0.061506880654229,0.0200584375858306,0.0650402764821874,0.0050992170969645,-0.0033000095023049,0.3131673929003096,0.0248557013623854,0.2910163882302075,-0.405066546271829,-0.0066168114542961,-0.1809207685291767,0.0518654718827665,-0.1911532136271981,0.0255581408739089,0.3871559500694275,-0.3020297070828879,-0.0233383756130933,-0.1722323233261704,-0.3466029794592606,0.2056443507854755,-0.1163449221187167,0.1233118027448654,-0.3246943354606628,0.1506716832518577,0.0798983690994126,0.0263365498847431,-0.078521504595473,-0.0003107056325795,0.1062217375301967,0.1255321713054881,0.2131025360690223,0.0,0.4727951671395983,0.0385435849860094,-0.1410839570065339,0.2531802133908347,0.0594315394549302,-0.0967223743597666,0.0,-0.1390127799880336,-0.0710069239139556,0.3788180521556309,0.0,0.1353886524836222,-0.3020405733312657,0.0033790570039015,-0.0235494308430573,-0.3518061030369538,-0.355950594569246,0.0147108275156754,-0.0515283192026204,0.0691187249289618,-0.1165671187346098,-0.1667825486145767,-0.1635906127018806,-0.0696103024211796,-0.0550311880726968,0.658870168030262,-0.0064611790785148,-0.1390722661744803,0.0815005760926466,0.0795146072352374,0.1123592071235179,-0.1455504878147228,-0.2966192997992039,-0.2272308454398185,-0.1206491808096567,0.533944739235772,0.2993883752093023,0.2271644473075866,-0.0294096784949067,-0.0226371977478265,-0.0655690958625391,-0.2140195314530973,0.1418528147041797,-0.1932002225437679,-0.1211900542611661,-0.2392758375559097,0.0937151551246643,-0.0200655876644073,-0.1574500786497238,0.2156796914500159,0.0,-0.2742602378129959,-0.0649639352371818,0.0469492110941145,-0.1396565494998808,-0.1146939806084134,-0.1132802827017647,0.6565179562284833,0.0176264643669128,-0.3200777325874719,0.5768127366900444,0.5804289430379868,0.2629435291657081,0.0382902972400188,0.0,-0.2770844553456162,0.6627704993538235,-0.275678099178877,0.0,-0.0354095424924578,-0.1104321984144357,-0.2281674215006172,0.2832150544439043,-0.3073062865980088,-0.1549966935022377,0.0179993438720703,-0.0209913748833868,0.4249873980879783,0.0663482424540397,0.3603865851958592,-0.3815442484778327,-0.1519159721700768,-0.144508447273668,-0.0785099949155535,-0.2176635677510119,-0.0824108557267622,-0.0708767909556627,-0.0448254900319235,0.0255553841590881,0.0575510573387146,-0.0770042198044913,-0.0440089602506797,0.120478648059773,0.4870857687628999,-0.1675740710092247,-0.2595602796788801,0.0,-0.0422051101922988,-0.1653927301659303,-0.0688757253810763,0.2445661335280447,0.0816576623916626,-0.0382275705536206,-0.3563418181046195,0.2530368367830912,0.1143950734819684,0.0093979131091724,-0.0850592928055005,0.0505807547529866,0.6825412690639496,-0.199667305622286,0.0631432968836564,0.2842244505882263,-0.3041508495807647,-0.0780124285736599,0.0989228586355845,-0.0758105473858969,-0.2076178533690316,-0.4422851565319138,0.0767421126365661,0.0,-0.0887623432278633,0.1203979397192597,0.1229759910527397,-0.2100360916144606,-0.0539992988109588,-0.2803633604198694,0.1033011724551518,-0.0855566304104001,-0.0477328605272553,0.431945006052653,-0.1817980617807622,0.4554951588312785,0.2387736952967113,0.129370167851448,-0.2504937959896339,-0.1169975580171097,-0.094697393336386,-0.2222612345218658,-0.0396083188056945,-0.1973169255256653,-0.1196571537132921,0.4396203649895532,-0.0953981524858719,-0.2065873432834193,0.5222715218861897,-0.0295511441571371,-0.2863153154435365,-0.1246391437270424,-0.1580139795939127,-0.3629163512412239,-0.2242883564309871,-0.0224015214193014,0.1660206814606984,0.0629992379496495,-0.2573033336263436,-0.1762873789538508,-0.3160290286396489,0.380779827794721,-0.0746347982375348,-0.2107568804706846,0.3893961906433105,0.1637221639570982,0.0036145581139458,-0.2391606381645909,-0.1576871790669181,0.1336986521879831,0.0,-0.0382455018354438,-0.1269566708284875,0.327963834007581,-0.2677208492832799,-0.0453730726783925,-0.1166988491237937,0.5193795490909268,-0.1215776015411723,0.0053352458136422,-0.169831174341115,-0.169831174341115,-0.3112213522195816,0.2342669618757147,0.2978110483714512,-0.0582338546713193,0.86107423946039,0.0021586634110713,-0.0015928799455816,0.0874197496020275,-0.2101629825811537,0.2422982594546149,0.3074738343556722,-0.0105076467520312,0.4721067951006047,-0.1112621827559037,-0.445030595977508,0.0,-0.1031852703955438,-0.2354555111942869,-0.2630998068130933,0.0448354820947389,-0.0783798415213823,-0.0574634897297826,-0.0711501554438942,0.3778745532035827,-0.1764396502260576,-0.206335851279172,0.0,-0.1605048620452483,-0.0669429466642182,0.1422358198442321,-0.3127336515793724,0.0818539091518947,-0.2637410832775964,-0.1506581685195366,-0.0471703974824202,-0.0946425795555114,-0.1030971576005984,0.4254556425980159,0.0,0.0056714329123497,-0.1678968735460965,-0.0329611566331651,-0.1130755074726518,-0.179592507714439,0.0993232407740184,0.0,-0.2702431390362401,-0.1810605314470106,0.0212645332018534,0.0063123746264365,-0.2286859774589538,0.2275924311108785,-0.3754509965578715,-0.1181038574738936,-0.1532932470242182,0.0821762529470152,0.1560073826048109,-0.1253551432064601,-0.1253410253330325,0.2295815901092763,0.0,-0.3278540560314732,-0.2393795931548403,0.4919508099555969,-0.2037278264760971,-0.1923175654849227,0.0,-0.2830338111290565,-0.2306045096242026,0.0440098330378532,-0.1516073080864581,0.0537993597487608,-0.0917727023895297,0.0,-0.1921005538768238,-0.4180982020539297,-0.3042413170138995,0.117349360300147,0.0154476165771484,0.1123591661453247,0.1044510747155835,-0.1119977742433548,-0.3375145354360904,-0.107390128430866,-0.0205740082648492,-0.1532437139087253,-0.1532437139087253,-0.1596880499273538,-0.2437929069294649,-0.0645117099220688,0.0220127245213123,0.0556671570899874,-0.051376279592514,-0.3103345049850976,0.1495326682925224,-0.0423064475709741,-0.1812305107261195,-0.1051641603310902,-0.246951009739529,0.0574190199375152,-0.1447453191647162,0.0686549163526958,-0.0017139899730682,0.0179882844289143,-0.600450903961533,0.352235917534147,-0.0682237730784849,-0.252597820251546,-0.01266191082616,-0.1286069342068263,-0.1045830282900068,-0.164523959159851,0.4212906658649444,-0.2657356329367194,0.1646345586192851,-0.0167887554718897,-0.0343229333559672,-0.1952056940644979,-0.1013625390986178,-0.2976790797710418,-0.0587527687485153,-0.0232257666411223,0.0,-0.0954834891528618,-0.1870082533359527,-0.1019617080688476,0.2876475533795735,0.0,0.5349559096189646,-0.2176602740840214,-0.0556966556443108,-0.1384814354506406,0.0001303911209106,-0.139047779418804,-0.1562486261129379,0.1053710915148258,-0.0289780436054108,-0.2427663547652108,-0.0703661663191659,-0.2304667457938194,-0.0688617997250314,-0.2664999731562354,-0.1123549925403361,-0.1519588782237126,-0.0707756451198032,0.0603555449733027],\"type\":\"histogram\",\"visible\":false}],                        {\"template\":{\"data\":{\"histogram2dcontour\":[{\"type\":\"histogram2dcontour\",\"colorbar\":{\"outlinewidth\":0,\"ticks\":\"\"},\"colorscale\":[[0.0,\"#0d0887\"],[0.1111111111111111,\"#46039f\"],[0.2222222222222222,\"#7201a8\"],[0.3333333333333333,\"#9c179e\"],[0.4444444444444444,\"#bd3786\"],[0.5555555555555556,\"#d8576b\"],[0.6666666666666666,\"#ed7953\"],[0.7777777777777778,\"#fb9f3a\"],[0.8888888888888888,\"#fdca26\"],[1.0,\"#f0f921\"]]}],\"choropleth\":[{\"type\":\"choropleth\",\"colorbar\":{\"outlinewidth\":0,\"ticks\":\"\"}}],\"histogram2d\":[{\"type\":\"histogram2d\",\"colorbar\":{\"outlinewidth\":0,\"ticks\":\"\"},\"colorscale\":[[0.0,\"#0d0887\"],[0.1111111111111111,\"#46039f\"],[0.2222222222222222,\"#7201a8\"],[0.3333333333333333,\"#9c179e\"],[0.4444444444444444,\"#bd3786\"],[0.5555555555555556,\"#d8576b\"],[0.6666666666666666,\"#ed7953\"],[0.7777777777777778,\"#fb9f3a\"],[0.8888888888888888,\"#fdca26\"],[1.0,\"#f0f921\"]]}],\"heatmap\":[{\"type\":\"heatmap\",\"colorbar\":{\"outlinewidth\":0,\"ticks\":\"\"},\"colorscale\":[[0.0,\"#0d0887\"],[0.1111111111111111,\"#46039f\"],[0.2222222222222222,\"#7201a8\"],[0.3333333333333333,\"#9c179e\"],[0.4444444444444444,\"#bd3786\"],[0.5555555555555556,\"#d8576b\"],[0.6666666666666666,\"#ed7953\"],[0.7777777777777778,\"#fb9f3a\"],[0.8888888888888888,\"#fdca26\"],[1.0,\"#f0f921\"]]}],\"heatmapgl\":[{\"type\":\"heatmapgl\",\"colorbar\":{\"outlinewidth\":0,\"ticks\":\"\"},\"colorscale\":[[0.0,\"#0d0887\"],[0.1111111111111111,\"#46039f\"],[0.2222222222222222,\"#7201a8\"],[0.3333333333333333,\"#9c179e\"],[0.4444444444444444,\"#bd3786\"],[0.5555555555555556,\"#d8576b\"],[0.6666666666666666,\"#ed7953\"],[0.7777777777777778,\"#fb9f3a\"],[0.8888888888888888,\"#fdca26\"],[1.0,\"#f0f921\"]]}],\"contourcarpet\":[{\"type\":\"contourcarpet\",\"colorbar\":{\"outlinewidth\":0,\"ticks\":\"\"}}],\"contour\":[{\"type\":\"contour\",\"colorbar\":{\"outlinewidth\":0,\"ticks\":\"\"},\"colorscale\":[[0.0,\"#0d0887\"],[0.1111111111111111,\"#46039f\"],[0.2222222222222222,\"#7201a8\"],[0.3333333333333333,\"#9c179e\"],[0.4444444444444444,\"#bd3786\"],[0.5555555555555556,\"#d8576b\"],[0.6666666666666666,\"#ed7953\"],[0.7777777777777778,\"#fb9f3a\"],[0.8888888888888888,\"#fdca26\"],[1.0,\"#f0f921\"]]}],\"surface\":[{\"type\":\"surface\",\"colorbar\":{\"outlinewidth\":0,\"ticks\":\"\"},\"colorscale\":[[0.0,\"#0d0887\"],[0.1111111111111111,\"#46039f\"],[0.2222222222222222,\"#7201a8\"],[0.3333333333333333,\"#9c179e\"],[0.4444444444444444,\"#bd3786\"],[0.5555555555555556,\"#d8576b\"],[0.6666666666666666,\"#ed7953\"],[0.7777777777777778,\"#fb9f3a\"],[0.8888888888888888,\"#fdca26\"],[1.0,\"#f0f921\"]]}],\"mesh3d\":[{\"type\":\"mesh3d\",\"colorbar\":{\"outlinewidth\":0,\"ticks\":\"\"}}],\"scatter\":[{\"fillpattern\":{\"fillmode\":\"overlay\",\"size\":10,\"solidity\":0.2},\"type\":\"scatter\"}],\"parcoords\":[{\"type\":\"parcoords\",\"line\":{\"colorbar\":{\"outlinewidth\":0,\"ticks\":\"\"}}}],\"scatterpolargl\":[{\"type\":\"scatterpolargl\",\"marker\":{\"colorbar\":{\"outlinewidth\":0,\"ticks\":\"\"}}}],\"bar\":[{\"error_x\":{\"color\":\"#2a3f5f\"},\"error_y\":{\"color\":\"#2a3f5f\"},\"marker\":{\"line\":{\"color\":\"#E5ECF6\",\"width\":0.5},\"pattern\":{\"fillmode\":\"overlay\",\"size\":10,\"solidity\":0.2}},\"type\":\"bar\"}],\"scattergeo\":[{\"type\":\"scattergeo\",\"marker\":{\"colorbar\":{\"outlinewidth\":0,\"ticks\":\"\"}}}],\"scatterpolar\":[{\"type\":\"scatterpolar\",\"marker\":{\"colorbar\":{\"outlinewidth\":0,\"ticks\":\"\"}}}],\"histogram\":[{\"marker\":{\"pattern\":{\"fillmode\":\"overlay\",\"size\":10,\"solidity\":0.2}},\"type\":\"histogram\"}],\"scattergl\":[{\"type\":\"scattergl\",\"marker\":{\"colorbar\":{\"outlinewidth\":0,\"ticks\":\"\"}}}],\"scatter3d\":[{\"type\":\"scatter3d\",\"line\":{\"colorbar\":{\"outlinewidth\":0,\"ticks\":\"\"}},\"marker\":{\"colorbar\":{\"outlinewidth\":0,\"ticks\":\"\"}}}],\"scattermapbox\":[{\"type\":\"scattermapbox\",\"marker\":{\"colorbar\":{\"outlinewidth\":0,\"ticks\":\"\"}}}],\"scatterternary\":[{\"type\":\"scatterternary\",\"marker\":{\"colorbar\":{\"outlinewidth\":0,\"ticks\":\"\"}}}],\"scattercarpet\":[{\"type\":\"scattercarpet\",\"marker\":{\"colorbar\":{\"outlinewidth\":0,\"ticks\":\"\"}}}],\"carpet\":[{\"aaxis\":{\"endlinecolor\":\"#2a3f5f\",\"gridcolor\":\"white\",\"linecolor\":\"white\",\"minorgridcolor\":\"white\",\"startlinecolor\":\"#2a3f5f\"},\"baxis\":{\"endlinecolor\":\"#2a3f5f\",\"gridcolor\":\"white\",\"linecolor\":\"white\",\"minorgridcolor\":\"white\",\"startlinecolor\":\"#2a3f5f\"},\"type\":\"carpet\"}],\"table\":[{\"cells\":{\"fill\":{\"color\":\"#EBF0F8\"},\"line\":{\"color\":\"white\"}},\"header\":{\"fill\":{\"color\":\"#C8D4E3\"},\"line\":{\"color\":\"white\"}},\"type\":\"table\"}],\"barpolar\":[{\"marker\":{\"line\":{\"color\":\"#E5ECF6\",\"width\":0.5},\"pattern\":{\"fillmode\":\"overlay\",\"size\":10,\"solidity\":0.2}},\"type\":\"barpolar\"}],\"pie\":[{\"automargin\":true,\"type\":\"pie\"}]},\"layout\":{\"autotypenumbers\":\"strict\",\"colorway\":[\"#636efa\",\"#EF553B\",\"#00cc96\",\"#ab63fa\",\"#FFA15A\",\"#19d3f3\",\"#FF6692\",\"#B6E880\",\"#FF97FF\",\"#FECB52\"],\"font\":{\"color\":\"#2a3f5f\"},\"hovermode\":\"closest\",\"hoverlabel\":{\"align\":\"left\"},\"paper_bgcolor\":\"white\",\"plot_bgcolor\":\"#E5ECF6\",\"polar\":{\"bgcolor\":\"#E5ECF6\",\"angularaxis\":{\"gridcolor\":\"white\",\"linecolor\":\"white\",\"ticks\":\"\"},\"radialaxis\":{\"gridcolor\":\"white\",\"linecolor\":\"white\",\"ticks\":\"\"}},\"ternary\":{\"bgcolor\":\"#E5ECF6\",\"aaxis\":{\"gridcolor\":\"white\",\"linecolor\":\"white\",\"ticks\":\"\"},\"baxis\":{\"gridcolor\":\"white\",\"linecolor\":\"white\",\"ticks\":\"\"},\"caxis\":{\"gridcolor\":\"white\",\"linecolor\":\"white\",\"ticks\":\"\"}},\"coloraxis\":{\"colorbar\":{\"outlinewidth\":0,\"ticks\":\"\"}},\"colorscale\":{\"sequential\":[[0.0,\"#0d0887\"],[0.1111111111111111,\"#46039f\"],[0.2222222222222222,\"#7201a8\"],[0.3333333333333333,\"#9c179e\"],[0.4444444444444444,\"#bd3786\"],[0.5555555555555556,\"#d8576b\"],[0.6666666666666666,\"#ed7953\"],[0.7777777777777778,\"#fb9f3a\"],[0.8888888888888888,\"#fdca26\"],[1.0,\"#f0f921\"]],\"sequentialminus\":[[0.0,\"#0d0887\"],[0.1111111111111111,\"#46039f\"],[0.2222222222222222,\"#7201a8\"],[0.3333333333333333,\"#9c179e\"],[0.4444444444444444,\"#bd3786\"],[0.5555555555555556,\"#d8576b\"],[0.6666666666666666,\"#ed7953\"],[0.7777777777777778,\"#fb9f3a\"],[0.8888888888888888,\"#fdca26\"],[1.0,\"#f0f921\"]],\"diverging\":[[0,\"#8e0152\"],[0.1,\"#c51b7d\"],[0.2,\"#de77ae\"],[0.3,\"#f1b6da\"],[0.4,\"#fde0ef\"],[0.5,\"#f7f7f7\"],[0.6,\"#e6f5d0\"],[0.7,\"#b8e186\"],[0.8,\"#7fbc41\"],[0.9,\"#4d9221\"],[1,\"#276419\"]]},\"xaxis\":{\"gridcolor\":\"white\",\"linecolor\":\"white\",\"ticks\":\"\",\"title\":{\"standoff\":15},\"zerolinecolor\":\"white\",\"automargin\":true,\"zerolinewidth\":2},\"yaxis\":{\"gridcolor\":\"white\",\"linecolor\":\"white\",\"ticks\":\"\",\"title\":{\"standoff\":15},\"zerolinecolor\":\"white\",\"automargin\":true,\"zerolinewidth\":2},\"scene\":{\"xaxis\":{\"backgroundcolor\":\"#E5ECF6\",\"gridcolor\":\"white\",\"linecolor\":\"white\",\"showbackground\":true,\"ticks\":\"\",\"zerolinecolor\":\"white\",\"gridwidth\":2},\"yaxis\":{\"backgroundcolor\":\"#E5ECF6\",\"gridcolor\":\"white\",\"linecolor\":\"white\",\"showbackground\":true,\"ticks\":\"\",\"zerolinecolor\":\"white\",\"gridwidth\":2},\"zaxis\":{\"backgroundcolor\":\"#E5ECF6\",\"gridcolor\":\"white\",\"linecolor\":\"white\",\"showbackground\":true,\"ticks\":\"\",\"zerolinecolor\":\"white\",\"gridwidth\":2}},\"shapedefaults\":{\"line\":{\"color\":\"#2a3f5f\"}},\"annotationdefaults\":{\"arrowcolor\":\"#2a3f5f\",\"arrowhead\":0,\"arrowwidth\":1},\"geo\":{\"bgcolor\":\"white\",\"landcolor\":\"#E5ECF6\",\"subunitcolor\":\"white\",\"showland\":true,\"showlakes\":true,\"lakecolor\":\"white\"},\"title\":{\"x\":0.05},\"mapbox\":{\"style\":\"light\"}}},\"updatemenus\":[{\"buttons\":[{\"args\":[{\"visible\":[true,false]},{\"title\":\"Histogram of Polar Score\"}],\"label\":\"Polar Score\",\"method\":\"update\"},{\"args\":[{\"visible\":[false,true]},{\"title\":\"Histogram of Sentiment\"}],\"label\":\"Sentiment\",\"method\":\"update\"}],\"direction\":\"down\",\"showactive\":true}],\"title\":{\"text\":\"Interactive Histogram with Dropdown\"},\"xaxis\":{\"title\":{\"text\":\"Value\"}},\"yaxis\":{\"title\":{\"text\":\"Count\"}},\"bargap\":0.2},                        {\"responsive\": true}                    ).then(function(){\n",
              "                            \n",
              "var gd = document.getElementById('793d413e-d5f4-4a2b-a6e2-9995c80ea080');\n",
              "var x = new MutationObserver(function (mutations, observer) {{\n",
              "        var display = window.getComputedStyle(gd).display;\n",
              "        if (!display || display === 'none') {{\n",
              "            console.log([gd, 'removed!']);\n",
              "            Plotly.purge(gd);\n",
              "            observer.disconnect();\n",
              "        }}\n",
              "}});\n",
              "\n",
              "// Listen for the removal of the full notebook cells\n",
              "var notebookContainer = gd.closest('#notebook-container');\n",
              "if (notebookContainer) {{\n",
              "    x.observe(notebookContainer, {childList: true});\n",
              "}}\n",
              "\n",
              "// Listen for the clearing of the current output cell\n",
              "var outputEl = gd.closest('.output');\n",
              "if (outputEl) {{\n",
              "    x.observe(outputEl, {childList: true});\n",
              "}}\n",
              "\n",
              "                        })                };                            </script>        </div>\n",
              "</body>\n",
              "</html>"
            ]
          },
          "metadata": {},
          "output_type": "display_data"
        }
      ],
      "source": [
        "import plotly.graph_objects as go\n",
        "import pandas as pd\n",
        "\n",
        "polar_histogram = go.Histogram(\n",
        "    x=df['overall_polar_score'],\n",
        "    name='Polar Score',\n",
        "    marker=dict(color='lightblue'),\n",
        "    opacity=0.75\n",
        ")\n",
        "\n",
        "sentiment_histogram = go.Histogram(\n",
        "    x=df['overall_sentiment'],\n",
        "    name='Sentiment',\n",
        "    marker=dict(color='lightgreen'),\n",
        "    opacity=0.75\n",
        ")\n",
        "\n",
        "\n",
        "fig = go.Figure()\n",
        "\n",
        "fig.add_trace(polar_histogram)\n",
        "fig.add_trace(sentiment_histogram)\n",
        "\n",
        "fig.update_layout(\n",
        "    updatemenus=[\n",
        "        dict(\n",
        "            buttons=[\n",
        "                dict(\n",
        "                    label=\"Polar Score\",\n",
        "                    method=\"update\",\n",
        "                    args=[\n",
        "                        {\"visible\": [True, False]},\n",
        "                        {\"title\": \"Histogram of Polar Score\"}\n",
        "                    ]\n",
        "                ),\n",
        "                dict(\n",
        "                    label=\"Sentiment\",\n",
        "                    method=\"update\",\n",
        "                    args=[\n",
        "                        {\"visible\": [False, True]},\n",
        "                        {\"title\": \"Histogram of Sentiment\"}\n",
        "                    ]\n",
        "                ),\n",
        "            ],\n",
        "            direction=\"down\",\n",
        "            showactive=True\n",
        "        )\n",
        "    ],\n",
        "    title=\"Interactive Histogram with Dropdown\",\n",
        "    xaxis=dict(title=\"Value\"),\n",
        "    yaxis=dict(title=\"Count\"),\n",
        "    bargap=0.2\n",
        ")\n",
        "\n",
        "\n",
        "fig.data[0].visible = True\n",
        "fig.data[1].visible = False\n",
        "\n",
        "\n",
        "fig.show()\n",
        "fig.write_html(\"histogram_dropdown.html\")\n"
      ]
    },
    {
      "cell_type": "markdown",
      "source": [
        "Getting stats for the sentiment"
      ],
      "metadata": {
        "id": "DbKanReUma9B"
      }
    },
    {
      "cell_type": "code",
      "source": [
        "df['overall_sentiment'] = df['overall_sentiment'] - 0.4"
      ],
      "metadata": {
        "id": "ruDglotgepXb"
      },
      "execution_count": null,
      "outputs": []
    },
    {
      "cell_type": "code",
      "execution_count": null,
      "metadata": {
        "colab": {
          "base_uri": "https://localhost:8080/"
        },
        "id": "mS3WWQx3fciz",
        "outputId": "64d90ba5-e9ef-4c2e-97d6-29a087ab6f1e"
      },
      "outputs": [
        {
          "output_type": "execute_result",
          "data": {
            "text/plain": [
              "-0.9919879871606826"
            ]
          },
          "metadata": {},
          "execution_count": 14
        }
      ],
      "source": [
        "df['overall_sentiment'].min() + 0.12"
      ]
    },
    {
      "cell_type": "code",
      "source": [
        "df2['overall_sentiment'].min()"
      ],
      "metadata": {
        "colab": {
          "base_uri": "https://localhost:8080/"
        },
        "id": "s1dhzg64OBbN",
        "outputId": "01f37094-fea0-4d09-e18d-7e8e69731169"
      },
      "execution_count": null,
      "outputs": [
        {
          "output_type": "execute_result",
          "data": {
            "text/plain": [
              "-0.7267331878344218"
            ]
          },
          "metadata": {},
          "execution_count": 15
        }
      ]
    },
    {
      "cell_type": "code",
      "execution_count": null,
      "metadata": {
        "colab": {
          "base_uri": "https://localhost:8080/",
          "height": 476
        },
        "id": "ReaGPgVjeTRP",
        "outputId": "6b35a4fc-0ad0-4e28-d614-c681587fb4b0"
      },
      "outputs": [
        {
          "output_type": "display_data",
          "data": {
            "text/plain": [
              "<Figure size 640x480 with 1 Axes>"
            ],
            "image/png": "[encoded data removed]"
          },
          "metadata": {}
        }
      ],
      "source": [
        "import seaborn as sns\n",
        "sns.set_style(\"whitegrid\")\n",
        "sns.set(rc={'axes.facecolor':'lightblue'})\n",
        "plt.hist(df['overall_sentiment'])\n",
        "plt.xlabel(\"Sentiment\", fontsize=10)\n",
        "plt.ylabel(\"Number of posts\", fontsize=10)\n",
        "plt.title(\"Distribution of sentiment score\")\n",
        "plt.grid(True, color ='white')\n",
        "plt.show()"
      ]
    },
    {
      "cell_type": "markdown",
      "source": [
        "Converting data into format suitable for Flourish"
      ],
      "metadata": {
        "id": "3Rh_kovQmgGE"
      }
    },
    {
      "cell_type": "code",
      "execution_count": null,
      "metadata": {
        "colab": {
          "base_uri": "https://localhost:8080/"
        },
        "id": "Dor1dIXmruRf",
        "outputId": "48a5ad16-40df-450e-dfa4-4449f6024363"
      },
      "outputs": [
        {
          "output_type": "stream",
          "name": "stderr",
          "text": [
            "<ipython-input-44-c8ce6acec820>:9: FutureWarning: The default of observed=False is deprecated and will be changed to True in a future version of pandas. Pass observed=False to retain current behavior or observed=True to adopt the future default and silence this warning.\n",
            "  grouped = df.groupby('sentiment_group').size().reset_index(name='number_of_posts')\n"
          ]
        }
      ],
      "source": [
        "import pandas as pd\n",
        "\n",
        "bins = [ -1, -0.8, -0.6, -0.4, -0.2, 0, 0.2, 0.4, 0.6, 0.8, 1]\n",
        "labels = []\n",
        "for i in range(10):\n",
        "  labels.append((i))\n",
        "\n",
        "df['sentiment_group'] = pd.cut(df['overall_sentiment'], bins=bins, labels=labels, include_lowest=True)\n",
        "grouped = df.groupby('sentiment_group').size().reset_index(name='number_of_posts')\n",
        "grouped.to_csv('anti_sentiment_groups.csv', index=False)\n",
        "\n",
        "\n"
      ]
    },
    {
      "cell_type": "code",
      "execution_count": null,
      "metadata": {
        "colab": {
          "base_uri": "https://localhost:8080/",
          "height": 241
        },
        "id": "S3neIyx6OFO4",
        "outputId": "1229c3fc-f024-465e-f974-b8ef44222c32"
      },
      "outputs": [
        {
          "data": {
            "text/html": [
              "<div>\n",
              "<style scoped>\n",
              "    .dataframe tbody tr th:only-of-type {\n",
              "        vertical-align: middle;\n",
              "    }\n",
              "\n",
              "    .dataframe tbody tr th {\n",
              "        vertical-align: top;\n",
              "    }\n",
              "\n",
              "    .dataframe thead th {\n",
              "        text-align: right;\n",
              "    }\n",
              "</style>\n",
              "<table border=\"1\" class=\"dataframe\">\n",
              "  <thead>\n",
              "    <tr style=\"text-align: right;\">\n",
              "      <th></th>\n",
              "      <th>overall_sentiment</th>\n",
              "    </tr>\n",
              "    <tr>\n",
              "      <th>channel_id</th>\n",
              "      <th></th>\n",
              "    </tr>\n",
              "  </thead>\n",
              "  <tbody>\n",
              "    <tr>\n",
              "      <th>1182289683</th>\n",
              "      <td>0.133132</td>\n",
              "    </tr>\n",
              "    <tr>\n",
              "      <th>1066123382</th>\n",
              "      <td>-0.024762</td>\n",
              "    </tr>\n",
              "    <tr>\n",
              "      <th>1673823532</th>\n",
              "      <td>-0.095221</td>\n",
              "    </tr>\n",
              "    <tr>\n",
              "      <th>1827952089</th>\n",
              "      <td>-0.100108</td>\n",
              "    </tr>\n",
              "  </tbody>\n",
              "</table>\n",
              "</div><br><label><b>dtype:</b> float64</label>"
            ],
            "text/plain": [
              "channel_id\n",
              "1182289683    0.133132\n",
              "1066123382   -0.024762\n",
              "1673823532   -0.095221\n",
              "1827952089   -0.100108\n",
              "Name: overall_sentiment, dtype: float64"
            ]
          },
          "execution_count": 126,
          "metadata": {},
          "output_type": "execute_result"
        }
      ],
      "source": [
        "grouped_data"
      ]
    },
    {
      "cell_type": "code",
      "execution_count": null,
      "metadata": {
        "id": "sNOPrZ1Hk-ET"
      },
      "outputs": [],
      "source": [
        "grouped_data = df.groupby('channel_id')['overall_sentiment'].mean().sort_values(ascending=False)\n",
        "grouped_data.to_csv('grouped_data.csv', index=True)"
      ]
    },
    {
      "cell_type": "code",
      "execution_count": null,
      "metadata": {
        "colab": {
          "base_uri": "https://localhost:8080/",
          "height": 241
        },
        "id": "OnQURuSvetQn",
        "outputId": "a8e5b248-bfb6-4815-f15f-b36c6f603331"
      },
      "outputs": [
        {
          "data": {
            "text/html": [
              "<div>\n",
              "<style scoped>\n",
              "    .dataframe tbody tr th:only-of-type {\n",
              "        vertical-align: middle;\n",
              "    }\n",
              "\n",
              "    .dataframe tbody tr th {\n",
              "        vertical-align: top;\n",
              "    }\n",
              "\n",
              "    .dataframe thead th {\n",
              "        text-align: right;\n",
              "    }\n",
              "</style>\n",
              "<table border=\"1\" class=\"dataframe\">\n",
              "  <thead>\n",
              "    <tr style=\"text-align: right;\">\n",
              "      <th></th>\n",
              "      <th>overall_polar_score</th>\n",
              "    </tr>\n",
              "    <tr>\n",
              "      <th>channel_id</th>\n",
              "      <th></th>\n",
              "    </tr>\n",
              "  </thead>\n",
              "  <tbody>\n",
              "    <tr>\n",
              "      <th>1066123382</th>\n",
              "      <td>0.314168</td>\n",
              "    </tr>\n",
              "    <tr>\n",
              "      <th>1182289683</th>\n",
              "      <td>0.297257</td>\n",
              "    </tr>\n",
              "    <tr>\n",
              "      <th>1673823532</th>\n",
              "      <td>0.240042</td>\n",
              "    </tr>\n",
              "    <tr>\n",
              "      <th>1827952089</th>\n",
              "      <td>0.223148</td>\n",
              "    </tr>\n",
              "  </tbody>\n",
              "</table>\n",
              "</div><br><label><b>dtype:</b> float64</label>"
            ],
            "text/plain": [
              "channel_id\n",
              "1066123382    0.314168\n",
              "1182289683    0.297257\n",
              "1673823532    0.240042\n",
              "1827952089    0.223148\n",
              "Name: overall_polar_score, dtype: float64"
            ]
          },
          "execution_count": 102,
          "metadata": {},
          "output_type": "execute_result"
        }
      ],
      "source": [
        "df.groupby('channel_id')['overall_polar_score'].mean().sort_values(ascending=False)"
      ]
    },
    {
      "cell_type": "code",
      "execution_count": null,
      "metadata": {
        "colab": {
          "base_uri": "https://localhost:8080/",
          "height": 480
        },
        "id": "wo1HnPi9DUEe",
        "outputId": "14e719c9-ea41-42a5-c4ec-8944c786d2c2"
      },
      "outputs": [
        {
          "data": {
            "image/png": "[encoded data removed]",
            "text/plain": [
              "<Figure size 640x480 with 1 Axes>"
            ]
          },
          "metadata": {},
          "output_type": "display_data"
        }
      ],
      "source": [
        "import matplotlib.pyplot as plt\n",
        "import pandas as pd\n",
        "\n",
        "grouped_data = df.groupby('channel_id')['overall_polar_score'].mean().sort_values(ascending=False)\n",
        "\n",
        "x_labels = [mentioned_posts_dict.get(channel_id, str(channel_id)) for channel_id in grouped_data.index]\n",
        "plt.bar(x_labels, grouped_data.values)\n",
        "\n",
        "plt.xlabel(\"Channel Name\", fontsize=10)\n",
        "plt.ylabel(\"Average Overall Polar Score\", fontsize=10)\n",
        "plt.title(\"Average Polarisation Score by Channel\")\n",
        "plt.tight_layout()\n",
        "plt.ylim(bottom=0)\n",
        "plt.show()"
      ]
    },
    {
      "cell_type": "markdown",
      "metadata": {
        "id": "_PHD3PYWepSr"
      },
      "source": [
        "Lets find the most polarised posts"
      ]
    },
    {
      "cell_type": "code",
      "execution_count": null,
      "metadata": {
        "colab": {
          "base_uri": "https://localhost:8080/",
          "height": 241
        },
        "id": "64MuApEyfHx-",
        "outputId": "9606ce8a-f99a-45dd-b4f0-025fc1de0fb7"
      },
      "outputs": [
        {
          "data": {
            "text/html": [
              "<div>\n",
              "<style scoped>\n",
              "    .dataframe tbody tr th:only-of-type {\n",
              "        vertical-align: middle;\n",
              "    }\n",
              "\n",
              "    .dataframe tbody tr th {\n",
              "        vertical-align: top;\n",
              "    }\n",
              "\n",
              "    .dataframe thead th {\n",
              "        text-align: right;\n",
              "    }\n",
              "</style>\n",
              "<table border=\"1\" class=\"dataframe\">\n",
              "  <thead>\n",
              "    <tr style=\"text-align: right;\">\n",
              "      <th></th>\n",
              "      <th>overall_sentiment</th>\n",
              "    </tr>\n",
              "    <tr>\n",
              "      <th>channel_id</th>\n",
              "      <th></th>\n",
              "    </tr>\n",
              "  </thead>\n",
              "  <tbody>\n",
              "    <tr>\n",
              "      <th>1182289683</th>\n",
              "      <td>0.133132</td>\n",
              "    </tr>\n",
              "    <tr>\n",
              "      <th>1066123382</th>\n",
              "      <td>-0.024762</td>\n",
              "    </tr>\n",
              "    <tr>\n",
              "      <th>1673823532</th>\n",
              "      <td>-0.095221</td>\n",
              "    </tr>\n",
              "    <tr>\n",
              "      <th>1827952089</th>\n",
              "      <td>-0.100108</td>\n",
              "    </tr>\n",
              "  </tbody>\n",
              "</table>\n",
              "</div><br><label><b>dtype:</b> float64</label>"
            ],
            "text/plain": [
              "channel_id\n",
              "1182289683    0.133132\n",
              "1066123382   -0.024762\n",
              "1673823532   -0.095221\n",
              "1827952089   -0.100108\n",
              "Name: overall_sentiment, dtype: float64"
            ]
          },
          "execution_count": 9,
          "metadata": {},
          "output_type": "execute_result"
        }
      ],
      "source": [
        "df.groupby('channel_id')['overall_sentiment'].mean().sort_values(ascending=False)"
      ]
    },
    {
      "cell_type": "markdown",
      "metadata": {
        "id": "fkulFM8SirZ6"
      },
      "source": [
        "# Creating a graph for the users"
      ]
    },
    {
      "cell_type": "markdown",
      "metadata": {
        "id": "QvZTG5RnnuZz"
      },
      "source": [
        "Getting ids of all users"
      ]
    },
    {
      "cell_type": "code",
      "source": [
        "import pandas as pd\n",
        "import numpy as np"
      ],
      "metadata": {
        "id": "pZ--P8bOzqg_"
      },
      "execution_count": null,
      "outputs": []
    },
    {
      "cell_type": "code",
      "source": [
        "df = pd.read_csv('/content/anti_text_1000_anotherone.csv')\n",
        "df2 = pd.read_csv('/content/text_1000_anotherone.csv')"
      ],
      "metadata": {
        "id": "dbm_BWGYsRbf"
      },
      "execution_count": null,
      "outputs": []
    },
    {
      "cell_type": "code",
      "source": [
        "df['type'] = 'anti'\n",
        "df2['type'] = 'fem'"
      ],
      "metadata": {
        "id": "vMJLqTr4s2hu"
      },
      "execution_count": null,
      "outputs": []
    },
    {
      "cell_type": "code",
      "source": [
        "df = pd.concat([df, df2], ignore_index=True)"
      ],
      "metadata": {
        "id": "5VedSrunscEz"
      },
      "execution_count": null,
      "outputs": []
    },
    {
      "cell_type": "code",
      "source": [
        "df.shape"
      ],
      "metadata": {
        "colab": {
          "base_uri": "https://localhost:8080/"
        },
        "id": "O6s9EpXSseWd",
        "outputId": "a1423743-58aa-4f8b-b133-613fe5dbf58e"
      },
      "execution_count": null,
      "outputs": [
        {
          "output_type": "execute_result",
          "data": {
            "text/plain": [
              "(3692, 19)"
            ]
          },
          "metadata": {},
          "execution_count": 7
        }
      ]
    },
    {
      "cell_type": "code",
      "source": [
        "inters_for_each_user_per_channel = {}\n",
        "inters_for_each_user_overall = {}\n",
        "inters_for_each_channel = {}\n",
        "channels_users = {}\n",
        "channel_type = {}"
      ],
      "metadata": {
        "id": "Rt3lkXQDV8Lb"
      },
      "execution_count": null,
      "outputs": []
    },
    {
      "cell_type": "code",
      "source": [
        "channels = set(df['channel_id'])"
      ],
      "metadata": {
        "id": "qf4dG00Tcd0B"
      },
      "execution_count": null,
      "outputs": []
    },
    {
      "cell_type": "code",
      "source": [
        "for channel in channels:\n",
        "  inters_for_each_user_per_channel[channel] = {}"
      ],
      "metadata": {
        "id": "l4k2MFMSWmvG"
      },
      "execution_count": null,
      "outputs": []
    },
    {
      "cell_type": "code",
      "execution_count": null,
      "metadata": {
        "id": "oeztoBbPkuJK"
      },
      "outputs": [],
      "source": [
        "import ast\n",
        "user_ids = []\n",
        "overall_amount = 0\n",
        "df['commented_users'] = np.empty((len(df), 0)).tolist()\n",
        "for i in df.index:\n",
        "  df.at[i, 'comments'] = ast.literal_eval(df.at[i, 'comments'])\n",
        "  channel = df.at[i, 'channel_id']\n",
        "  for j in range(len(df.at[i, 'comments'])):\n",
        "    if df.at[i, 'comments'][j]['user_id'] is None or df.at[i, 'comments'][j]['user_id'] == '':\n",
        "      continue\n",
        "    df.at[i, 'commented_users'].append(df.at[i, 'comments'][j]['user_id'])\n",
        "    user_ids.append(df.at[i, 'comments'][j]['user_id'])\n",
        "    user = df.at[i, 'comments'][j]['user_id']\n",
        "    inters_for_each_user_per_channel[channel][user] = inters_for_each_user_per_channel[channel].get(user, 0) + 1\n",
        "    inters_for_each_user_overall[user] = inters_for_each_user_overall.get(user, 0) + 1\n",
        "    inters_for_each_channel[channel] = inters_for_each_channel.get(channel, 0) + 1\n",
        "    channels_users[channel] = channels_users.get(channel, []) + [user]\n",
        "    overall_amount += 1\n",
        "\n"
      ]
    },
    {
      "cell_type": "code",
      "source": [
        "print(overall_amount)"
      ],
      "metadata": {
        "colab": {
          "base_uri": "https://localhost:8080/"
        },
        "id": "1MVM_CiIXWEf",
        "outputId": "4c40e9e2-18c1-40d0-a9d8-9a97cf7f30c5"
      },
      "execution_count": null,
      "outputs": [
        {
          "output_type": "stream",
          "name": "stdout",
          "text": [
            "196758\n"
          ]
        }
      ]
    },
    {
      "cell_type": "code",
      "source": [
        "df1 = df.groupby('channel_id')"
      ],
      "metadata": {
        "id": "ML-tzE2ddU40"
      },
      "execution_count": null,
      "outputs": []
    },
    {
      "cell_type": "markdown",
      "source": [
        "Here data is in a format suitable for Flourish"
      ],
      "metadata": {
        "id": "n-8K8vmFI-ci"
      }
    },
    {
      "cell_type": "code",
      "source": [
        "\n",
        "gr = pd.DataFrame(columns = ['channel', 'user', 'edge_color', 'type'])\n",
        "gr_data = []\n",
        "\n",
        "gr_summary = pd.DataFrame(columns = ['channel', 'user', 'num_of_mentions'])\n",
        "gr_summary_data = []\n",
        "fem_anti = {}\n",
        "\n",
        "for main_node, users in channels_users.items():\n",
        "    for user in set(users):\n",
        "        gr_data.append(\n",
        "            {\n",
        "                \"channel\": mentioned_posts_dict.get(main_node, main_node),\n",
        "                \"user\": user,\n",
        "                \"edge_color\": inters_for_each_user_per_channel[main_node][user],\n",
        "                \"type\" : next(iter(df1.get_group(main_node)['type'].dropna()), None)\n",
        "            }\n",
        "        )\n",
        "        type_user = fem_anti.get(user, None)\n",
        "        if type_user is None:\n",
        "          type_user = next(iter(df1.get_group(main_node)['type'].dropna())), None\n",
        "          fem_anti[user] = type_user\n",
        "        elif type_user != next(iter(df1.get_group(main_node)['type'].dropna()), None) or type_user == 'both':\n",
        "          fem_anti[user] = 'both'\n",
        "\n",
        "        channel = main_node\n",
        "\n",
        "        if     inters_for_each_user_per_channel[channel][user] == inters_for_each_user_overall[user]:\n",
        "          channel = mentioned_posts_dict.get(main_node, main_node)\n",
        "        else:\n",
        "          channel = 'multiple'\n",
        "\n",
        "        gr_summary_data.append(\n",
        "            {\n",
        "                \"channel\": channel,\n",
        "                \"user\": user,\n",
        "                'num_of_mentions': inters_for_each_user_overall[user],\n",
        "                'type' : type_user\n",
        "            }\n",
        "        )\n",
        "\n",
        "for channel in channels:\n",
        "          gr_summary_data.append(\n",
        "            {\n",
        "                \"channel_type\": 'main_node',\n",
        "                \"user\": channel,\n",
        "                'num_of_mentions': inters_for_each_channel[channel]\n",
        "            }\n",
        "        )\n",
        "gr = pd.DataFrame(gr_data)\n",
        "gr_summary = pd.DataFrame(gr_summary_data)\n",
        "\n",
        "\n",
        "\n",
        "\n"
      ],
      "metadata": {
        "id": "7YqTPzd1YqfB"
      },
      "execution_count": null,
      "outputs": []
    },
    {
      "cell_type": "code",
      "source": [
        "gr.to_csv('gr_data_users.csv', index=False)\n",
        "gr_summary.to_csv('gr_summary_users.csv', index=False)"
      ],
      "metadata": {
        "id": "VHZUB9iUcIVp"
      },
      "execution_count": null,
      "outputs": []
    },
    {
      "cell_type": "code",
      "source": [
        "gr_summary[gr_summary['channel'] == 'multiple']"
      ],
      "metadata": {
        "colab": {
          "base_uri": "https://localhost:8080/",
          "height": 424
        },
        "id": "w6PUKQ-3ehvG",
        "outputId": "2665352d-88a7-4cab-ac9b-d3e93a87eea6"
      },
      "execution_count": null,
      "outputs": [
        {
          "output_type": "execute_result",
          "data": {
            "text/plain": [
              "        channel        user  num_of_mentions channel_type\n",
              "113    multiple   125616499               35          NaN\n",
              "463    multiple  1789560479                7          NaN\n",
              "676    multiple   703809882              495          NaN\n",
              "1094   multiple   912396179               23          NaN\n",
              "1206   multiple  1643204905                3          NaN\n",
              "...         ...         ...              ...          ...\n",
              "10785  multiple   454456044               12          NaN\n",
              "10794  multiple   368079654                9          NaN\n",
              "11094  multiple   467106503               22          NaN\n",
              "11139  multiple    96828377               24          NaN\n",
              "11219  multiple  5576457680                2          NaN\n",
              "\n",
              "[283 rows x 4 columns]"
            ],
            "text/html": [
              "\n",
              "  <div id=\"df-61d55297-b991-4546-a3fc-d4a37165b05d\" class=\"colab-df-container\">\n",
              "    <div>\n",
              "<style scoped>\n",
              "    .dataframe tbody tr th:only-of-type {\n",
              "        vertical-align: middle;\n",
              "    }\n",
              "\n",
              "    .dataframe tbody tr th {\n",
              "        vertical-align: top;\n",
              "    }\n",
              "\n",
              "    .dataframe thead th {\n",
              "        text-align: right;\n",
              "    }\n",
              "</style>\n",
              "<table border=\"1\" class=\"dataframe\">\n",
              "  <thead>\n",
              "    <tr style=\"text-align: right;\">\n",
              "      <th></th>\n",
              "      <th>channel</th>\n",
              "      <th>user</th>\n",
              "      <th>num_of_mentions</th>\n",
              "      <th>channel_type</th>\n",
              "    </tr>\n",
              "  </thead>\n",
              "  <tbody>\n",
              "    <tr>\n",
              "      <th>113</th>\n",
              "      <td>multiple</td>\n",
              "      <td>125616499</td>\n",
              "      <td>35</td>\n",
              "      <td>NaN</td>\n",
              "    </tr>\n",
              "    <tr>\n",
              "      <th>463</th>\n",
              "      <td>multiple</td>\n",
              "      <td>1789560479</td>\n",
              "      <td>7</td>\n",
              "      <td>NaN</td>\n",
              "    </tr>\n",
              "    <tr>\n",
              "      <th>676</th>\n",
              "      <td>multiple</td>\n",
              "      <td>703809882</td>\n",
              "      <td>495</td>\n",
              "      <td>NaN</td>\n",
              "    </tr>\n",
              "    <tr>\n",
              "      <th>1094</th>\n",
              "      <td>multiple</td>\n",
              "      <td>912396179</td>\n",
              "      <td>23</td>\n",
              "      <td>NaN</td>\n",
              "    </tr>\n",
              "    <tr>\n",
              "      <th>1206</th>\n",
              "      <td>multiple</td>\n",
              "      <td>1643204905</td>\n",
              "      <td>3</td>\n",
              "      <td>NaN</td>\n",
              "    </tr>\n",
              "    <tr>\n",
              "      <th>...</th>\n",
              "      <td>...</td>\n",
              "      <td>...</td>\n",
              "      <td>...</td>\n",
              "      <td>...</td>\n",
              "    </tr>\n",
              "    <tr>\n",
              "      <th>10785</th>\n",
              "      <td>multiple</td>\n",
              "      <td>454456044</td>\n",
              "      <td>12</td>\n",
              "      <td>NaN</td>\n",
              "    </tr>\n",
              "    <tr>\n",
              "      <th>10794</th>\n",
              "      <td>multiple</td>\n",
              "      <td>368079654</td>\n",
              "      <td>9</td>\n",
              "      <td>NaN</td>\n",
              "    </tr>\n",
              "    <tr>\n",
              "      <th>11094</th>\n",
              "      <td>multiple</td>\n",
              "      <td>467106503</td>\n",
              "      <td>22</td>\n",
              "      <td>NaN</td>\n",
              "    </tr>\n",
              "    <tr>\n",
              "      <th>11139</th>\n",
              "      <td>multiple</td>\n",
              "      <td>96828377</td>\n",
              "      <td>24</td>\n",
              "      <td>NaN</td>\n",
              "    </tr>\n",
              "    <tr>\n",
              "      <th>11219</th>\n",
              "      <td>multiple</td>\n",
              "      <td>5576457680</td>\n",
              "      <td>2</td>\n",
              "      <td>NaN</td>\n",
              "    </tr>\n",
              "  </tbody>\n",
              "</table>\n",
              "<p>283 rows × 4 columns</p>\n",
              "</div>\n",
              "    <div class=\"colab-df-buttons\">\n",
              "\n",
              "  <div class=\"colab-df-container\">\n",
              "    <button class=\"colab-df-convert\" onclick=\"convertToInteractive('df-61d55297-b991-4546-a3fc-d4a37165b05d')\"\n",
              "            title=\"Convert this dataframe to an interactive table.\"\n",
              "            style=\"display:none;\">\n",
              "\n",
              "  <svg xmlns=\"http://www.w3.org/2000/svg\" height=\"24px\" viewBox=\"0 -960 960 960\">\n",
              "    <path d=\"M120-120v-720h720v720H120Zm60-500h600v-160H180v160Zm220 220h160v-160H400v160Zm0 220h160v-160H400v160ZM180-400h160v-160H180v160Zm440 0h160v-160H620v160ZM180-180h160v-160H180v160Zm440 0h160v-160H620v160Z\"/>\n",
              "  </svg>\n",
              "    </button>\n",
              "\n",
              "  <style>\n",
              "    .colab-df-container {\n",
              "      display:flex;\n",
              "      gap: 12px;\n",
              "    }\n",
              "\n",
              "    .colab-df-convert {\n",
              "      background-color: #E8F0FE;\n",
              "      border: none;\n",
              "      border-radius: 50%;\n",
              "      cursor: pointer;\n",
              "      display: none;\n",
              "      fill: #1967D2;\n",
              "      height: 32px;\n",
              "      padding: 0 0 0 0;\n",
              "      width: 32px;\n",
              "    }\n",
              "\n",
              "    .colab-df-convert:hover {\n",
              "      background-color: #E2EBFA;\n",
              "      box-shadow: 0px 1px 2px rgba(60, 64, 67, 0.3), 0px 1px 3px 1px rgba(60, 64, 67, 0.15);\n",
              "      fill: #174EA6;\n",
              "    }\n",
              "\n",
              "    .colab-df-buttons div {\n",
              "      margin-bottom: 4px;\n",
              "    }\n",
              "\n",
              "    [theme=dark] .colab-df-convert {\n",
              "      background-color: #3B4455;\n",
              "      fill: #D2E3FC;\n",
              "    }\n",
              "\n",
              "    [theme=dark] .colab-df-convert:hover {\n",
              "      background-color: #434B5C;\n",
              "      box-shadow: 0px 1px 3px 1px rgba(0, 0, 0, 0.15);\n",
              "      filter: drop-shadow(0px 1px 2px rgba(0, 0, 0, 0.3));\n",
              "      fill: #FFFFFF;\n",
              "    }\n",
              "  </style>\n",
              "\n",
              "    <script>\n",
              "      const buttonEl =\n",
              "        document.querySelector('#df-61d55297-b991-4546-a3fc-d4a37165b05d button.colab-df-convert');\n",
              "      buttonEl.style.display =\n",
              "        google.colab.kernel.accessAllowed ? 'block' : 'none';\n",
              "\n",
              "      async function convertToInteractive(key) {\n",
              "        const element = document.querySelector('#df-61d55297-b991-4546-a3fc-d4a37165b05d');\n",
              "        const dataTable =\n",
              "          await google.colab.kernel.invokeFunction('convertToInteractive',\n",
              "                                                    [key], {});\n",
              "        if (!dataTable) return;\n",
              "\n",
              "        const docLinkHtml = 'Like what you see? Visit the ' +\n",
              "          '<a target=\"_blank\" href=https://colab.research.google.com/notebooks/data_table.ipynb>data table notebook</a>'\n",
              "          + ' to learn more about interactive tables.';\n",
              "        element.innerHTML = '';\n",
              "        dataTable['output_type'] = 'display_data';\n",
              "        await google.colab.output.renderOutput(dataTable, element);\n",
              "        const docLink = document.createElement('div');\n",
              "        docLink.innerHTML = docLinkHtml;\n",
              "        element.appendChild(docLink);\n",
              "      }\n",
              "    </script>\n",
              "  </div>\n",
              "\n",
              "\n",
              "<div id=\"df-fe0c9b83-bc2d-4c92-aaf3-a460e60fa970\">\n",
              "  <button class=\"colab-df-quickchart\" onclick=\"quickchart('df-fe0c9b83-bc2d-4c92-aaf3-a460e60fa970')\"\n",
              "            title=\"Suggest charts\"\n",
              "            style=\"display:none;\">\n",
              "\n",
              "<svg xmlns=\"http://www.w3.org/2000/svg\" height=\"24px\"viewBox=\"0 0 24 24\"\n",
              "     width=\"24px\">\n",
              "    <g>\n",
              "        <path d=\"M19 3H5c-1.1 0-2 .9-2 2v14c0 1.1.9 2 2 2h14c1.1 0 2-.9 2-2V5c0-1.1-.9-2-2-2zM9 17H7v-7h2v7zm4 0h-2V7h2v10zm4 0h-2v-4h2v4z\"/>\n",
              "    </g>\n",
              "</svg>\n",
              "  </button>\n",
              "\n",
              "<style>\n",
              "  .colab-df-quickchart {\n",
              "      --bg-color: #E8F0FE;\n",
              "      --fill-color: #1967D2;\n",
              "      --hover-bg-color: #E2EBFA;\n",
              "      --hover-fill-color: #174EA6;\n",
              "      --disabled-fill-color: #AAA;\n",
              "      --disabled-bg-color: #DDD;\n",
              "  }\n",
              "\n",
              "  [theme=dark] .colab-df-quickchart {\n",
              "      --bg-color: #3B4455;\n",
              "      --fill-color: #D2E3FC;\n",
              "      --hover-bg-color: #434B5C;\n",
              "      --hover-fill-color: #FFFFFF;\n",
              "      --disabled-bg-color: #3B4455;\n",
              "      --disabled-fill-color: #666;\n",
              "  }\n",
              "\n",
              "  .colab-df-quickchart {\n",
              "    background-color: var(--bg-color);\n",
              "    border: none;\n",
              "    border-radius: 50%;\n",
              "    cursor: pointer;\n",
              "    display: none;\n",
              "    fill: var(--fill-color);\n",
              "    height: 32px;\n",
              "    padding: 0;\n",
              "    width: 32px;\n",
              "  }\n",
              "\n",
              "  .colab-df-quickchart:hover {\n",
              "    background-color: var(--hover-bg-color);\n",
              "    box-shadow: 0 1px 2px rgba(60, 64, 67, 0.3), 0 1px 3px 1px rgba(60, 64, 67, 0.15);\n",
              "    fill: var(--button-hover-fill-color);\n",
              "  }\n",
              "\n",
              "  .colab-df-quickchart-complete:disabled,\n",
              "  .colab-df-quickchart-complete:disabled:hover {\n",
              "    background-color: var(--disabled-bg-color);\n",
              "    fill: var(--disabled-fill-color);\n",
              "    box-shadow: none;\n",
              "  }\n",
              "\n",
              "  .colab-df-spinner {\n",
              "    border: 2px solid var(--fill-color);\n",
              "    border-color: transparent;\n",
              "    border-bottom-color: var(--fill-color);\n",
              "    animation:\n",
              "      spin 1s steps(1) infinite;\n",
              "  }\n",
              "\n",
              "  @keyframes spin {\n",
              "    0% {\n",
              "      border-color: transparent;\n",
              "      border-bottom-color: var(--fill-color);\n",
              "      border-left-color: var(--fill-color);\n",
              "    }\n",
              "    20% {\n",
              "      border-color: transparent;\n",
              "      border-left-color: var(--fill-color);\n",
              "      border-top-color: var(--fill-color);\n",
              "    }\n",
              "    30% {\n",
              "      border-color: transparent;\n",
              "      border-left-color: var(--fill-color);\n",
              "      border-top-color: var(--fill-color);\n",
              "      border-right-color: var(--fill-color);\n",
              "    }\n",
              "    40% {\n",
              "      border-color: transparent;\n",
              "      border-right-color: var(--fill-color);\n",
              "      border-top-color: var(--fill-color);\n",
              "    }\n",
              "    60% {\n",
              "      border-color: transparent;\n",
              "      border-right-color: var(--fill-color);\n",
              "    }\n",
              "    80% {\n",
              "      border-color: transparent;\n",
              "      border-right-color: var(--fill-color);\n",
              "      border-bottom-color: var(--fill-color);\n",
              "    }\n",
              "    90% {\n",
              "      border-color: transparent;\n",
              "      border-bottom-color: var(--fill-color);\n",
              "    }\n",
              "  }\n",
              "</style>\n",
              "\n",
              "  <script>\n",
              "    async function quickchart(key) {\n",
              "      const quickchartButtonEl =\n",
              "        document.querySelector('#' + key + ' button');\n",
              "      quickchartButtonEl.disabled = true;  // To prevent multiple clicks.\n",
              "      quickchartButtonEl.classList.add('colab-df-spinner');\n",
              "      try {\n",
              "        const charts = await google.colab.kernel.invokeFunction(\n",
              "            'suggestCharts', [key], {});\n",
              "      } catch (error) {\n",
              "        console.error('Error during call to suggestCharts:', error);\n",
              "      }\n",
              "      quickchartButtonEl.classList.remove('colab-df-spinner');\n",
              "      quickchartButtonEl.classList.add('colab-df-quickchart-complete');\n",
              "    }\n",
              "    (() => {\n",
              "      let quickchartButtonEl =\n",
              "        document.querySelector('#df-fe0c9b83-bc2d-4c92-aaf3-a460e60fa970 button');\n",
              "      quickchartButtonEl.style.display =\n",
              "        google.colab.kernel.accessAllowed ? 'block' : 'none';\n",
              "    })();\n",
              "  </script>\n",
              "</div>\n",
              "\n",
              "    </div>\n",
              "  </div>\n"
            ],
            "application/vnd.google.colaboratory.intrinsic+json": {
              "type": "dataframe",
              "repr_error": "0"
            }
          },
          "metadata": {},
          "execution_count": 22
        }
      ]
    },
    {
      "cell_type": "code",
      "source": [
        "gr_summary[gr_summary['type'] == 'both']"
      ],
      "metadata": {
        "colab": {
          "base_uri": "https://localhost:8080/",
          "height": 206
        },
        "id": "jyKO04bEfpcb",
        "outputId": "d209184d-66e0-42ce-a024-b58759f991c7"
      },
      "execution_count": null,
      "outputs": [
        {
          "output_type": "execute_result",
          "data": {
            "text/plain": [
              "        channel       user  num_of_mentions  type channel_type\n",
              "6808   multiple  187208378               15  both          NaN\n",
              "9485   multiple  169563165                6  both          NaN\n",
              "9824   multiple  844192937                5  both          NaN\n",
              "10657  multiple  284356551               10  both          NaN\n",
              "11094  multiple  467106503               22  both          NaN"
            ],
            "text/html": [
              "\n",
              "  <div id=\"df-58d77ffb-3048-4d41-b50b-a63a3ea47459\" class=\"colab-df-container\">\n",
              "    <div>\n",
              "<style scoped>\n",
              "    .dataframe tbody tr th:only-of-type {\n",
              "        vertical-align: middle;\n",
              "    }\n",
              "\n",
              "    .dataframe tbody tr th {\n",
              "        vertical-align: top;\n",
              "    }\n",
              "\n",
              "    .dataframe thead th {\n",
              "        text-align: right;\n",
              "    }\n",
              "</style>\n",
              "<table border=\"1\" class=\"dataframe\">\n",
              "  <thead>\n",
              "    <tr style=\"text-align: right;\">\n",
              "      <th></th>\n",
              "      <th>channel</th>\n",
              "      <th>user</th>\n",
              "      <th>num_of_mentions</th>\n",
              "      <th>type</th>\n",
              "      <th>channel_type</th>\n",
              "    </tr>\n",
              "  </thead>\n",
              "  <tbody>\n",
              "    <tr>\n",
              "      <th>6808</th>\n",
              "      <td>multiple</td>\n",
              "      <td>187208378</td>\n",
              "      <td>15</td>\n",
              "      <td>both</td>\n",
              "      <td>NaN</td>\n",
              "    </tr>\n",
              "    <tr>\n",
              "      <th>9485</th>\n",
              "      <td>multiple</td>\n",
              "      <td>169563165</td>\n",
              "      <td>6</td>\n",
              "      <td>both</td>\n",
              "      <td>NaN</td>\n",
              "    </tr>\n",
              "    <tr>\n",
              "      <th>9824</th>\n",
              "      <td>multiple</td>\n",
              "      <td>844192937</td>\n",
              "      <td>5</td>\n",
              "      <td>both</td>\n",
              "      <td>NaN</td>\n",
              "    </tr>\n",
              "    <tr>\n",
              "      <th>10657</th>\n",
              "      <td>multiple</td>\n",
              "      <td>284356551</td>\n",
              "      <td>10</td>\n",
              "      <td>both</td>\n",
              "      <td>NaN</td>\n",
              "    </tr>\n",
              "    <tr>\n",
              "      <th>11094</th>\n",
              "      <td>multiple</td>\n",
              "      <td>467106503</td>\n",
              "      <td>22</td>\n",
              "      <td>both</td>\n",
              "      <td>NaN</td>\n",
              "    </tr>\n",
              "  </tbody>\n",
              "</table>\n",
              "</div>\n",
              "    <div class=\"colab-df-buttons\">\n",
              "\n",
              "  <div class=\"colab-df-container\">\n",
              "    <button class=\"colab-df-convert\" onclick=\"convertToInteractive('df-58d77ffb-3048-4d41-b50b-a63a3ea47459')\"\n",
              "            title=\"Convert this dataframe to an interactive table.\"\n",
              "            style=\"display:none;\">\n",
              "\n",
              "  <svg xmlns=\"http://www.w3.org/2000/svg\" height=\"24px\" viewBox=\"0 -960 960 960\">\n",
              "    <path d=\"M120-120v-720h720v720H120Zm60-500h600v-160H180v160Zm220 220h160v-160H400v160Zm0 220h160v-160H400v160ZM180-400h160v-160H180v160Zm440 0h160v-160H620v160ZM180-180h160v-160H180v160Zm440 0h160v-160H620v160Z\"/>\n",
              "  </svg>\n",
              "    </button>\n",
              "\n",
              "  <style>\n",
              "    .colab-df-container {\n",
              "      display:flex;\n",
              "      gap: 12px;\n",
              "    }\n",
              "\n",
              "    .colab-df-convert {\n",
              "      background-color: #E8F0FE;\n",
              "      border: none;\n",
              "      border-radius: 50%;\n",
              "      cursor: pointer;\n",
              "      display: none;\n",
              "      fill: #1967D2;\n",
              "      height: 32px;\n",
              "      padding: 0 0 0 0;\n",
              "      width: 32px;\n",
              "    }\n",
              "\n",
              "    .colab-df-convert:hover {\n",
              "      background-color: #E2EBFA;\n",
              "      box-shadow: 0px 1px 2px rgba(60, 64, 67, 0.3), 0px 1px 3px 1px rgba(60, 64, 67, 0.15);\n",
              "      fill: #174EA6;\n",
              "    }\n",
              "\n",
              "    .colab-df-buttons div {\n",
              "      margin-bottom: 4px;\n",
              "    }\n",
              "\n",
              "    [theme=dark] .colab-df-convert {\n",
              "      background-color: #3B4455;\n",
              "      fill: #D2E3FC;\n",
              "    }\n",
              "\n",
              "    [theme=dark] .colab-df-convert:hover {\n",
              "      background-color: #434B5C;\n",
              "      box-shadow: 0px 1px 3px 1px rgba(0, 0, 0, 0.15);\n",
              "      filter: drop-shadow(0px 1px 2px rgba(0, 0, 0, 0.3));\n",
              "      fill: #FFFFFF;\n",
              "    }\n",
              "  </style>\n",
              "\n",
              "    <script>\n",
              "      const buttonEl =\n",
              "        document.querySelector('#df-58d77ffb-3048-4d41-b50b-a63a3ea47459 button.colab-df-convert');\n",
              "      buttonEl.style.display =\n",
              "        google.colab.kernel.accessAllowed ? 'block' : 'none';\n",
              "\n",
              "      async function convertToInteractive(key) {\n",
              "        const element = document.querySelector('#df-58d77ffb-3048-4d41-b50b-a63a3ea47459');\n",
              "        const dataTable =\n",
              "          await google.colab.kernel.invokeFunction('convertToInteractive',\n",
              "                                                    [key], {});\n",
              "        if (!dataTable) return;\n",
              "\n",
              "        const docLinkHtml = 'Like what you see? Visit the ' +\n",
              "          '<a target=\"_blank\" href=https://colab.research.google.com/notebooks/data_table.ipynb>data table notebook</a>'\n",
              "          + ' to learn more about interactive tables.';\n",
              "        element.innerHTML = '';\n",
              "        dataTable['output_type'] = 'display_data';\n",
              "        await google.colab.output.renderOutput(dataTable, element);\n",
              "        const docLink = document.createElement('div');\n",
              "        docLink.innerHTML = docLinkHtml;\n",
              "        element.appendChild(docLink);\n",
              "      }\n",
              "    </script>\n",
              "  </div>\n",
              "\n",
              "\n",
              "<div id=\"df-733eb114-7576-4dbb-83aa-b7a257e42891\">\n",
              "  <button class=\"colab-df-quickchart\" onclick=\"quickchart('df-733eb114-7576-4dbb-83aa-b7a257e42891')\"\n",
              "            title=\"Suggest charts\"\n",
              "            style=\"display:none;\">\n",
              "\n",
              "<svg xmlns=\"http://www.w3.org/2000/svg\" height=\"24px\"viewBox=\"0 0 24 24\"\n",
              "     width=\"24px\">\n",
              "    <g>\n",
              "        <path d=\"M19 3H5c-1.1 0-2 .9-2 2v14c0 1.1.9 2 2 2h14c1.1 0 2-.9 2-2V5c0-1.1-.9-2-2-2zM9 17H7v-7h2v7zm4 0h-2V7h2v10zm4 0h-2v-4h2v4z\"/>\n",
              "    </g>\n",
              "</svg>\n",
              "  </button>\n",
              "\n",
              "<style>\n",
              "  .colab-df-quickchart {\n",
              "      --bg-color: #E8F0FE;\n",
              "      --fill-color: #1967D2;\n",
              "      --hover-bg-color: #E2EBFA;\n",
              "      --hover-fill-color: #174EA6;\n",
              "      --disabled-fill-color: #AAA;\n",
              "      --disabled-bg-color: #DDD;\n",
              "  }\n",
              "\n",
              "  [theme=dark] .colab-df-quickchart {\n",
              "      --bg-color: #3B4455;\n",
              "      --fill-color: #D2E3FC;\n",
              "      --hover-bg-color: #434B5C;\n",
              "      --hover-fill-color: #FFFFFF;\n",
              "      --disabled-bg-color: #3B4455;\n",
              "      --disabled-fill-color: #666;\n",
              "  }\n",
              "\n",
              "  .colab-df-quickchart {\n",
              "    background-color: var(--bg-color);\n",
              "    border: none;\n",
              "    border-radius: 50%;\n",
              "    cursor: pointer;\n",
              "    display: none;\n",
              "    fill: var(--fill-color);\n",
              "    height: 32px;\n",
              "    padding: 0;\n",
              "    width: 32px;\n",
              "  }\n",
              "\n",
              "  .colab-df-quickchart:hover {\n",
              "    background-color: var(--hover-bg-color);\n",
              "    box-shadow: 0 1px 2px rgba(60, 64, 67, 0.3), 0 1px 3px 1px rgba(60, 64, 67, 0.15);\n",
              "    fill: var(--button-hover-fill-color);\n",
              "  }\n",
              "\n",
              "  .colab-df-quickchart-complete:disabled,\n",
              "  .colab-df-quickchart-complete:disabled:hover {\n",
              "    background-color: var(--disabled-bg-color);\n",
              "    fill: var(--disabled-fill-color);\n",
              "    box-shadow: none;\n",
              "  }\n",
              "\n",
              "  .colab-df-spinner {\n",
              "    border: 2px solid var(--fill-color);\n",
              "    border-color: transparent;\n",
              "    border-bottom-color: var(--fill-color);\n",
              "    animation:\n",
              "      spin 1s steps(1) infinite;\n",
              "  }\n",
              "\n",
              "  @keyframes spin {\n",
              "    0% {\n",
              "      border-color: transparent;\n",
              "      border-bottom-color: var(--fill-color);\n",
              "      border-left-color: var(--fill-color);\n",
              "    }\n",
              "    20% {\n",
              "      border-color: transparent;\n",
              "      border-left-color: var(--fill-color);\n",
              "      border-top-color: var(--fill-color);\n",
              "    }\n",
              "    30% {\n",
              "      border-color: transparent;\n",
              "      border-left-color: var(--fill-color);\n",
              "      border-top-color: var(--fill-color);\n",
              "      border-right-color: var(--fill-color);\n",
              "    }\n",
              "    40% {\n",
              "      border-color: transparent;\n",
              "      border-right-color: var(--fill-color);\n",
              "      border-top-color: var(--fill-color);\n",
              "    }\n",
              "    60% {\n",
              "      border-color: transparent;\n",
              "      border-right-color: var(--fill-color);\n",
              "    }\n",
              "    80% {\n",
              "      border-color: transparent;\n",
              "      border-right-color: var(--fill-color);\n",
              "      border-bottom-color: var(--fill-color);\n",
              "    }\n",
              "    90% {\n",
              "      border-color: transparent;\n",
              "      border-bottom-color: var(--fill-color);\n",
              "    }\n",
              "  }\n",
              "</style>\n",
              "\n",
              "  <script>\n",
              "    async function quickchart(key) {\n",
              "      const quickchartButtonEl =\n",
              "        document.querySelector('#' + key + ' button');\n",
              "      quickchartButtonEl.disabled = true;  // To prevent multiple clicks.\n",
              "      quickchartButtonEl.classList.add('colab-df-spinner');\n",
              "      try {\n",
              "        const charts = await google.colab.kernel.invokeFunction(\n",
              "            'suggestCharts', [key], {});\n",
              "      } catch (error) {\n",
              "        console.error('Error during call to suggestCharts:', error);\n",
              "      }\n",
              "      quickchartButtonEl.classList.remove('colab-df-spinner');\n",
              "      quickchartButtonEl.classList.add('colab-df-quickchart-complete');\n",
              "    }\n",
              "    (() => {\n",
              "      let quickchartButtonEl =\n",
              "        document.querySelector('#df-733eb114-7576-4dbb-83aa-b7a257e42891 button');\n",
              "      quickchartButtonEl.style.display =\n",
              "        google.colab.kernel.accessAllowed ? 'block' : 'none';\n",
              "    })();\n",
              "  </script>\n",
              "</div>\n",
              "\n",
              "    </div>\n",
              "  </div>\n"
            ],
            "application/vnd.google.colaboratory.intrinsic+json": {
              "type": "dataframe",
              "repr_error": "0"
            }
          },
          "metadata": {},
          "execution_count": 28
        }
      ]
    },
    {
      "cell_type": "markdown",
      "source": [
        "Stats for num of comments / num of unique users"
      ],
      "metadata": {
        "id": "8xoSUA8FJG8C"
      }
    },
    {
      "cell_type": "code",
      "source": [
        "len(user_ids) - anti"
      ],
      "metadata": {
        "colab": {
          "base_uri": "https://localhost:8080/"
        },
        "id": "4U2VphTsmxij",
        "outputId": "7ebf8625-0384-4a70-c0d4-17515c9f12db"
      },
      "execution_count": null,
      "outputs": [
        {
          "output_type": "execute_result",
          "data": {
            "text/plain": [
              "164941"
            ]
          },
          "metadata": {},
          "execution_count": 46
        }
      ]
    },
    {
      "cell_type": "code",
      "execution_count": null,
      "metadata": {
        "colab": {
          "base_uri": "https://localhost:8080/"
        },
        "id": "GJ_rUZ7fmzMG",
        "outputId": "9a3cf5bd-f8ce-42a5-c15d-6767425a03f4"
      },
      "outputs": [
        {
          "data": {
            "text/plain": [
              "31817"
            ]
          },
          "execution_count": 7,
          "metadata": {},
          "output_type": "execute_result"
        }
      ],
      "source": [
        "len(user_ids) - fem"
      ]
    },
    {
      "cell_type": "code",
      "execution_count": null,
      "metadata": {
        "colab": {
          "base_uri": "https://localhost:8080/"
        },
        "id": "GcJNDhZmnA0I",
        "outputId": "5948fa3c-71f6-40e7-f86b-97cc357186b1"
      },
      "outputs": [
        {
          "data": {
            "text/plain": [
              "7149"
            ]
          },
          "execution_count": 11,
          "metadata": {},
          "output_type": "execute_result"
        }
      ],
      "source": [
        "len(set(user_ids)) - fem"
      ]
    },
    {
      "cell_type": "code",
      "source": [
        "len(set(user_ids))"
      ],
      "metadata": {
        "colab": {
          "base_uri": "https://localhost:8080/"
        },
        "id": "FbJSYQn_tDMB",
        "outputId": "dde84f14-58f3-4b63-b4fd-714064600f02"
      },
      "execution_count": null,
      "outputs": [
        {
          "output_type": "execute_result",
          "data": {
            "text/plain": [
              "11166"
            ]
          },
          "metadata": {},
          "execution_count": 10
        }
      ]
    },
    {
      "cell_type": "markdown",
      "source": [
        "Creating graphs for users"
      ],
      "metadata": {
        "id": "ZwMOe_vGanLt"
      }
    },
    {
      "cell_type": "code",
      "execution_count": null,
      "metadata": {
        "id": "8l0zX-KPq5iG"
      },
      "outputs": [],
      "source": [
        "user_ids_index = {num: idx for idx, num in enumerate(set(user_ids))}"
      ]
    },
    {
      "cell_type": "code",
      "source": [
        "channels = set(df['channel_id'])"
      ],
      "metadata": {
        "id": "zxyV7BQELuqu"
      },
      "execution_count": null,
      "outputs": []
    },
    {
      "cell_type": "code",
      "execution_count": null,
      "metadata": {
        "id": "v-BGXXIi5bIt"
      },
      "outputs": [],
      "source": [
        "import pandas as pd\n",
        "import itertools\n",
        "\n",
        "interaction_rows = []\n",
        "\n",
        "for i in df.index:\n",
        "    all_combos = list(itertools.combinations(set(df.at[i, 'commented_users']), 2))\n",
        "    for f, s in all_combos:\n",
        "        if f == s:\n",
        "          continue\n",
        "        if not f or not s:\n",
        "            continue\n",
        "\n",
        "        k = user_ids_index[f]\n",
        "        m = user_ids_index[s]\n",
        "        interaction = user_matrix[k][m]\n",
        "\n",
        "        interaction_rows.append({\n",
        "            'user1': f,\n",
        "            'user2': s,\n",
        "            'num_of_inter': interaction.num_of_inter,\n",
        "            'channel_id': interaction.channel_id,\n",
        "            'message_id': interaction.message_id\n",
        "        })\n",
        "\n",
        "\n",
        "interactions = pd.DataFrame(interaction_rows)\n",
        "\n",
        "print(interactions.head(10))\n"
      ]
    },
    {
      "cell_type": "code",
      "execution_count": null,
      "metadata": {
        "colab": {
          "base_uri": "https://localhost:8080/"
        },
        "id": "N4Rcrnbsnfwj",
        "outputId": "d593e205-4458-4418-f564-c56a79fe6ade"
      },
      "outputs": [
        {
          "data": {
            "text/plain": [
              "(1207822, 5)"
            ]
          },
          "execution_count": 59,
          "metadata": {},
          "output_type": "execute_result"
        }
      ],
      "source": [
        "interactions.shape"
      ]
    },
    {
      "cell_type": "code",
      "execution_count": null,
      "metadata": {
        "id": "QFiP-qTwoDKr"
      },
      "outputs": [],
      "source": [
        "interactions.to_json('fem_user_network.json', orient='records', lines=True)"
      ]
    },
    {
      "cell_type": "code",
      "execution_count": null,
      "metadata": {
        "colab": {
          "base_uri": "https://localhost:8080/"
        },
        "id": "KXj1TZjoog3M",
        "outputId": "38bb112a-4da1-4448-c652-0c5c89e91e73"
      },
      "outputs": [
        {
          "name": "stdout",
          "output_type": "stream",
          "text": [
            "Requirement already satisfied: networkx in /usr/local/lib/python3.10/dist-packages (3.4.2)\n"
          ]
        }
      ],
      "source": [
        "!pip install networkx\n"
      ]
    },
    {
      "cell_type": "code",
      "execution_count": null,
      "metadata": {
        "id": "KA-y4bAu3Ep-"
      },
      "outputs": [],
      "source": [
        "df.drop_duplicates(inplace=True)"
      ]
    },
    {
      "cell_type": "code",
      "execution_count": null,
      "metadata": {
        "colab": {
          "base_uri": "https://localhost:8080/"
        },
        "id": "tXgztOC33HlF",
        "outputId": "d49e59f4-1f25-4d17-aa64-2069c398371d"
      },
      "outputs": [
        {
          "data": {
            "text/plain": [
              "(543923, 5)"
            ]
          },
          "execution_count": 22,
          "metadata": {},
          "output_type": "execute_result"
        }
      ],
      "source": [
        "df.shape"
      ]
    },
    {
      "cell_type": "code",
      "execution_count": null,
      "metadata": {
        "id": "4S-Di1RGo6z7"
      },
      "outputs": [],
      "source": [
        "import networkx as nx\n",
        "G = nx.from_pandas_edgelist(crisp, source='user1', target='user2')\n",
        "\n",
        "node_interactions = {}\n",
        "for u, v, data in G.edges(data=True):\n",
        "    node_interactions[u] = node_interactions.get(u, 0) + data['num_of_inter']\n",
        "    node_interactions[v] = node_interactions.get(v, 0) + data['num_of_inter']\n",
        "\n",
        "node_sizes = [node_interactions.get(node, 1) * 50 for node in G.nodes()]"
      ]
    },
    {
      "cell_type": "code",
      "execution_count": null,
      "metadata": {
        "id": "FfkaJBkxcwWg"
      },
      "outputs": [],
      "source": [
        "pos = nx.spring_layout(G)"
      ]
    },
    {
      "cell_type": "code",
      "execution_count": null,
      "metadata": {
        "id": "eoldheA5xeHp"
      },
      "outputs": [],
      "source": [
        "\n",
        "def graph_prep(crisp):\n",
        "  norm = plt.Normalize(crisp['num_of_inter'].min(), crisp['num_of_inter'].max())\n",
        "  color_map = {\n",
        "      1066123382 : 'green',\n",
        "      1182289683 : 'blue',\n",
        "      1673823532 : 'orange',\n",
        "      1827952089 : 'pink'\n",
        "  }\n",
        "  node_colors = []\n",
        "  for node in G.nodes():\n",
        "      # Get the corresponding channel_id for the node\n",
        "      user_data = crisp[crisp['user1'] == node]\n",
        "      if not user_data.empty:\n",
        "          channel_id = user_data['channel_id'].values[0]\n",
        "          node_colors.append(color_map.get(channel_id, 'gray'))\n",
        "      else:\n",
        "          user_data = crisp[crisp['user2'] == node]\n",
        "          channel_id = user_data['channel_id'].values[0]\n",
        "          node_colors.append(color_map.get(channel_id, 'gray'))\n",
        "  return node_colors"
      ]
    },
    {
      "cell_type": "code",
      "execution_count": null,
      "metadata": {
        "colab": {
          "base_uri": "https://localhost:8080/",
          "height": 516
        },
        "id": "PJBhpGdteOGP",
        "outputId": "fc759b02-941b-4f6c-b4e8-7268d2116ef5"
      },
      "outputs": [
        {
          "data": {
            "image/png": "[encoded data removed]",
            "text/plain": [
              "<Figure size 640x480 with 1 Axes>"
            ]
          },
          "metadata": {},
          "output_type": "display_data"
        }
      ],
      "source": [
        "node_colors = graph_prep(crisp)\n",
        "nx.draw(G, pos, node_color=node_colors, node_size=10, font_size=15, edge_color='gray', width = 1)\n",
        "\n",
        "plt.show()"
      ]
    },
    {
      "cell_type": "markdown",
      "metadata": {
        "id": "GhXMutxS785a"
      },
      "source": [
        "# Creating graph for channels"
      ]
    },
    {
      "cell_type": "code",
      "execution_count": null,
      "metadata": {
        "id": "hp53_bXr8s0k"
      },
      "outputs": [],
      "source": [
        "import pandas as pd\n",
        "import ast"
      ]
    },
    {
      "cell_type": "code",
      "execution_count": null,
      "metadata": {
        "id": "ujxO5Rlz8BdD"
      },
      "outputs": [],
      "source": [
        "df = pd.read_csv('/content/anti_text_1000_anotherone (2).csv')\n",
        "df2 = pd.read_csv('/content/text_1000_anotherone (1).csv')\n"
      ]
    },
    {
      "cell_type": "code",
      "execution_count": null,
      "metadata": {
        "id": "rSIJoDdi-Iqs"
      },
      "outputs": [],
      "source": [
        "df = pd.concat([df, df2], ignore_index=True)"
      ]
    },
    {
      "cell_type": "code",
      "execution_count": null,
      "metadata": {
        "id": "24_l-XYQ8xra"
      },
      "outputs": [],
      "source": [
        "df1 = df.groupby('channel_id')"
      ]
    },
    {
      "cell_type": "code",
      "execution_count": null,
      "metadata": {
        "colab": {
          "base_uri": "https://localhost:8080/"
        },
        "id": "buzalL_k9B98",
        "outputId": "e3bc7528-882c-4e19-a7e1-605a1b72fc10"
      },
      "outputs": [
        {
          "output_type": "stream",
          "name": "stdout",
          "text": [
            "{1900079682, 1673823532, 1429264495, 1824409104, 1921078737, 1182289683, 1066123382, 1827952089}\n"
          ]
        }
      ],
      "source": [
        "channels = set(df['channel_id'])\n",
        "print(channels)"
      ]
    },
    {
      "cell_type": "code",
      "execution_count": null,
      "metadata": {
        "id": "AQAWDeRV_-bu"
      },
      "outputs": [],
      "source": [
        "mentioned_posts_dict ={} #названия каналов\n",
        "mentioned_posts_count = {}\n",
        "\n",
        "channels_posts = {}\n",
        "channels_shapes = {}\n",
        "values = []\n",
        "\n",
        "which_main_node = {}\n",
        "for channel in channels:\n",
        "  posts = set((list((df1.get_group(channel)['mentioned_posts'].dropna().to_list()))))\n",
        "  mentioned_channels = []\n",
        "  mentioned_posts_count[channel] = {}\n",
        "  which_main_node[channel] = -1\n",
        "  for post in set(posts):\n",
        "    if ast.literal_eval(post)[0][1] == channel:\n",
        "      continue\n",
        "    mentioned_posts_dict[ast.literal_eval(post)[0][1]] = ast.literal_eval(post)[0][0]\n",
        "    mentioned_channels.append(ast.literal_eval(post)[0][1])\n",
        "    if ast.literal_eval(post)[0][1] in which_main_node:\n",
        "        which_main_node[ast.literal_eval(post)[0][1]] = 0\n",
        "    else:\n",
        "        which_main_node[ast.literal_eval(post)[0][1]] = channel\n",
        "\n",
        "  channels_posts[channel] = list(set(mentioned_channels))\n",
        "\n",
        "for channel in channels:\n",
        "  posts = list(set((df1.get_group(channel)['original_channel_id'].dropna().astype(int).to_list())))\n",
        "  posts_names = list(set((df1.get_group(channel)['original_channel_id'].dropna().astype(str).to_list())))\n",
        "  mentioned_channels = []\n",
        "  for post in posts:\n",
        "    if post == channel:\n",
        "      continue\n",
        "    mentioned_posts_dict.get(post, -1)\n",
        "    mentioned_channels.append(post)\n",
        "\n",
        "    if post in which_main_node:\n",
        "        which_main_node[post] = 0\n",
        "    else:\n",
        "        which_main_node[post] = channel\n",
        "  channels_posts[channel].extend(mentioned_channels)\n",
        "  channels_posts[channel] = list(set(channels_posts[channel]))\n",
        "\n",
        "\n"
      ]
    },
    {
      "cell_type": "code",
      "execution_count": null,
      "metadata": {
        "id": "aCdz4C5qUZn2"
      },
      "outputs": [],
      "source": [
        "mentioned_posts_dict = {}\n",
        "mentioned_posts_dict[1921078737] = 'privatnyi_butylka'\n",
        "mentioned_posts_dict[1900079682]= 'm_d_channel_1'\n",
        "mentioned_posts_dict[1824409104] = 'Incel_Aesthetic'\n",
        "mentioned_posts_dict[1429264495]= 'aviva_md'\n"
      ]
    },
    {
      "cell_type": "code",
      "execution_count": null,
      "metadata": {
        "id": "XSsKn1pmT6us"
      },
      "outputs": [],
      "source": [
        "\n",
        "mentioned_posts_dict[1182289683] = 'r_anarchy'\n",
        "mentioned_posts_dict[1827952089]= 'kosa_media'\n",
        "mentioned_posts_dict[1673823532] = 'rad_fems'\n",
        "mentioned_posts_dict[1827952089]= 'megabitch'"
      ]
    },
    {
      "cell_type": "code",
      "execution_count": null,
      "metadata": {
        "id": "hdURcEuw3wIf"
      },
      "outputs": [],
      "source": [
        "mentioned_posts_count = {}\n",
        "mentions_for_each_node = {}\n",
        "values = []\n",
        "number_of_mentioned_per_channel = {}\n",
        "for channel in channels:\n",
        "  posts = list(((df1.get_group(channel)['mentioned_posts'].dropna().to_list())))\n",
        "  mentioned_channels = []\n",
        "  mentioned_posts_count[channel] = {}\n",
        "  mentions_for_each_node[channel] = 1\n",
        "  number_of_mentioned_per_channel[channel] = 0\n",
        "  for post in posts:\n",
        "    post = ast.literal_eval(post)[0][1]\n",
        "    if post == channel:\n",
        "      continue\n",
        "    number_of_mentioned_per_channel[channel] += 1\n",
        "    mentioned_posts_count[channel][post] = mentioned_posts_count[channel].get(post, 0) + 1\n",
        "    mentions_for_each_node[post] = mentions_for_each_node.get(post, 0) + 1\n",
        "    values.append(mentioned_posts_count[channel][post])\n",
        "\n",
        "for channel in channels:\n",
        "  posts = list(((df1.get_group(channel)['original_channel_id'].dropna().astype(int).to_list())))\n",
        "  mentioned_channels = []\n",
        "  for post in posts:\n",
        "    if post == channel:\n",
        "      continue\n",
        "    mentioned_posts_count[channel][post] = mentioned_posts_count[channel].get(post, 0) + 1\n",
        "    mentions_for_each_node[post] = mentions_for_each_node.get(post, 0) + 1\n",
        "    values.append(mentioned_posts_count[channel][post])\n",
        "values = set(values)\n",
        "\n",
        "mentiones_values = []\n",
        "\n",
        "for i in mentions_for_each_node.values():\n",
        "  mentiones_values.append(i)\n"
      ]
    },
    {
      "cell_type": "code",
      "execution_count": null,
      "metadata": {
        "id": "1TZJGJsTg_JN"
      },
      "outputs": [],
      "source": [
        "for i in  mentions_for_each_node.values():\n",
        "  print(i) if i < 0 else None"
      ]
    },
    {
      "cell_type": "markdown",
      "source": [
        "Again converting everything for Flourish because the website cannot make a histrogram"
      ],
      "metadata": {
        "id": "PizB094_KDBG"
      }
    },
    {
      "cell_type": "code",
      "source": [
        "import pandas as pd\n",
        "\n",
        "bins = [ -1, -0.8, -0.6, -0.4, -0.2, 0, 0.2, 0.4, 0.6, 0.8, 1]\n",
        "labels = []\n",
        "for i in range(10):\n",
        "  labels.append((i))\n",
        "\n",
        "df['sentiment_group'] = pd.cut(df['overall_sentiment'], bins=bins, labels=labels, include_lowest=True)\n",
        "grouped = df.groupby('sentiment_group').size().reset_index(name='number_of_posts')\n",
        "grouped.to_csv('anti_sentiment_groups.csv', index=False)\n",
        "\n",
        "\n"
      ],
      "metadata": {
        "id": "acOGLaaYPn3K"
      },
      "execution_count": null,
      "outputs": []
    },
    {
      "cell_type": "code",
      "execution_count": null,
      "metadata": {
        "colab": {
          "base_uri": "https://localhost:8080/",
          "height": 476
        },
        "id": "19J8w5TlQ2LA",
        "outputId": "cfc01d5f-baa7-46a0-eb7c-4c54d1b5d11e"
      },
      "outputs": [
        {
          "output_type": "display_data",
          "data": {
            "text/plain": [
              "<Figure size 640x480 with 1 Axes>"
            ],
            "image/png": "[encoded data removed]"
          },
          "metadata": {}
        }
      ],
      "source": [
        "import seaborn as sns\n",
        "import matplotlib.pyplot as plt\n",
        "sns.set_style(\"whitegrid\")\n",
        "sns.set(rc={'axes.facecolor':'lightblue'})\n",
        "plt.hist(mentiones_values)\n",
        "plt.xlabel(\"Number of mentiones\", fontsize=10)\n",
        "plt.ylabel(\"Number of posts\", fontsize=10)\n",
        "plt.title(\"Distribution of mentiones\")\n",
        "plt.grid(True, color ='white')\n",
        "plt.xlim(left=0)\n",
        "plt.ylim(bottom=0)\n",
        "plt.show()"
      ]
    },
    {
      "cell_type": "code",
      "source": [
        "import numpy as np\n",
        "import matplotlib.pyplot as plt\n",
        "import csv\n",
        "bins = np.linspace(0, 20, 9)\n",
        "bin_labels = [f\"({bins[i]:.1f}, {bins[i+1]:.1f}]\" for i in range(len(bins)-1)]\n",
        "\n",
        "bin_counts, _ = np.histogram(mentiones_values, bins=bins)\n",
        "\n",
        "\n",
        "csv_data = [[\"Interval\", \"Count\"]] + list(zip(bin_labels, bin_counts))\n",
        "\n",
        "\n",
        "output_file = \"binned_data.csv\"\n",
        "with open(output_file, \"w\", newline=\"\") as f:\n",
        "    writer = csv.writer(f)\n",
        "    writer.writerows(csv_data)\n",
        "\n",
        "print(f\"CSV saved to {output_file}\")"
      ],
      "metadata": {
        "colab": {
          "base_uri": "https://localhost:8080/"
        },
        "id": "e2kcQ0-lngyD",
        "outputId": "da6cd02c-4258-419a-86ed-3d6b3f6465df"
      },
      "execution_count": null,
      "outputs": [
        {
          "output_type": "stream",
          "name": "stdout",
          "text": [
            "CSV saved to binned_data.csv\n"
          ]
        }
      ]
    },
    {
      "cell_type": "code",
      "source": [
        "import numpy as np\n",
        "np.mean(mentiones_values)"
      ],
      "metadata": {
        "colab": {
          "base_uri": "https://localhost:8080/"
        },
        "id": "cNh_F74InkVA",
        "outputId": "29a4b5d9-6358-4a72-d4f0-6b630c841bbd"
      },
      "execution_count": null,
      "outputs": [
        {
          "output_type": "execute_result",
          "data": {
            "text/plain": [
              "1.8888888888888888"
            ]
          },
          "metadata": {},
          "execution_count": 58
        }
      ]
    },
    {
      "cell_type": "code",
      "execution_count": null,
      "metadata": {
        "colab": {
          "base_uri": "https://localhost:8080/"
        },
        "id": "dsYZcEW2EK2n",
        "outputId": "b31213ad-5fcc-4cc5-971d-a093b7241e1a"
      },
      "outputs": [
        {
          "output_type": "stream",
          "name": "stderr",
          "text": [
            "<ipython-input-61-759cba96e944>:56: FutureWarning: Setting an item of incompatible dtype is deprecated and will raise an error in a future version of pandas. Value 'Incel_Aesthetic' has dtype incompatible with int64, please explicitly cast to a compatible dtype first.\n",
            "  node_mentions_summary.at[idx, 'main_node'] = mentioned_posts_dict.get(which_main_node.get(row['node'], row['node']), 'multiple')  # Handle missing keys with 'unknown'\n"
          ]
        }
      ],
      "source": [
        "\n",
        "import networkx as nx\n",
        "import matplotlib.pyplot as plt\n",
        "import matplotlib.colors as mcolors\n",
        "\n",
        "\n",
        "gr = pd.DataFrame(columns = ['user1', 'user2', 'edge_color', 'type_u1', 'type_u2', 'num_of_mentionsu1', 'num_of_mentionsu2'])\n",
        "gr_data = []\n",
        "G = nx.Graph()\n",
        "edge_colors = []\n",
        "node_colors = []\n",
        "\n",
        "for main_node, connected_nodes in channels_posts.items():\n",
        "    for connected_node in set(connected_nodes):\n",
        "        if connected_node == main_node:\n",
        "            continue\n",
        "        gr_data.append(\n",
        "            {\n",
        "                \"user1\": mentioned_posts_dict.get(main_node, main_node),\n",
        "                \"user2\": mentioned_posts_dict.get(connected_node, connected_node),\n",
        "                \"edge_color\": mentioned_posts_count[main_node][connected_node],\n",
        "                \"num_of_mentionsu1\": mentions_for_each_node[main_node],\n",
        "                \"num_of_mentionsu2\": mentions_for_each_node[connected_node]\n",
        "            }\n",
        "        )\n",
        "\n",
        "main_nodes = set(channels_posts.keys())\n",
        "connected_nodes = set(connected_nodes)\n",
        "gr = pd.DataFrame(gr_data)\n",
        "\n",
        "gr.drop_duplicates(inplace=True)\n",
        "gr.reset_index(drop=True, inplace=True)\n",
        "gr.to_csv('granti.csv')\n",
        "\n",
        "\n",
        "#useless but necessary for flourish to get nodes different colors\n",
        "node_mentions = pd.concat([\n",
        "    gr[['user1', 'num_of_mentionsu1']].rename(columns={'user1': 'node', 'num_of_mentionsu1': 'num_of_mentions'}),\n",
        "    gr[['user2', 'num_of_mentionsu2']].rename(columns={'user2': 'node', 'num_of_mentionsu2': 'num_of_mentions'})\n",
        "])\n",
        "node_mentions_summary = node_mentions.groupby('node', as_index=False).agg({'num_of_mentions': 'sum'})\n",
        "node_mentions_summary['main_node'] = 0\n",
        "node_mentions_summary['name'] = ''\n",
        "for idx, row in node_mentions_summary.iterrows():\n",
        "\n",
        "    node_mentions_summary.at[idx, 'main_node'] = mentioned_posts_dict.get(which_main_node.get(row['node'], row['node']), 'multiple')  # Handle missing keys with 'unknown'\n",
        "    node_mentions_summary.at[idx, 'name'] = mentioned_posts_dict.get(row['node'], row['node'])  # Default to the node itself if no name exists\n",
        "    node_mentions_summary.at[idx, 'num_of_mentions'] = abs(row['num_of_mentions'])\n",
        "\n",
        "node_mentions_summary.to_csv('anti_node_mentions_summary.csv', index=False)\n"
      ]
    },
    {
      "cell_type": "markdown",
      "source": [
        "This is to make the graph in VisNet"
      ],
      "metadata": {
        "id": "u2Eiebr3KZQ3"
      }
    },
    {
      "cell_type": "code",
      "source": [
        "\n",
        "threshold = 25\n",
        "\n",
        "#Normalize the edge colors\n",
        "capped_weights = gr['edge_color'].apply(lambda x: min(x, threshold)).to_list()\n",
        "norm = mcolors.Normalize(vmin=min(capped_weights), vmax=max(capped_weights))\n",
        "cmap = plt.cm.viridis\n",
        "edge_colors = [cmap(norm(weight)) for weight in capped_weights]\n",
        "\n",
        "# Convert normalized colors to hex\n",
        "edge_colors_hex = ['#%02x%02x%02x' % (int(r * 255), int(g * 255), int(b * 255)) for r, g, b, _ in edge_colors]\n",
        "\n",
        "for ind, row in gr.iterrows():\n",
        "        main_node = row['user1']\n",
        "        connected_node = row['user2']\n",
        "        weight = row['edge_color']\n",
        "        color = edge_colors_hex[ind]\n",
        "        G.add_node(main_node, type=\"main\", size = 60, color=main_node_colors[main_node], label = mentioned_posts_dict.get(main_node, main_node), shape = shapes.get(main_node), verticalalignment=\"center\", horizontalalignment=\"center\")\n",
        "        G.add_node(connected_node, type=\"connected\", color=\"gray\", size = 30, label = mentioned_posts_dict.get(connected_node, connected_node), shape = shapes.get(connected_node), verticalalignment=\"center\", horizontalalignment=\"center\")\n",
        "        G.add_edge(main_node, connected_node, color=color, size = 50, weight = 50)\n",
        "\n",
        "\n",
        "\n",
        "node_size = [100 if node in main_nodes else 40 for node in G.nodes()]\n",
        "for node in G.nodes():\n",
        "    node_colors.append(main_node_colors.get(node, \"lightgray\"))\n",
        "\n",
        "\n",
        "pos = nx.spring_layout(G)\n",
        "fig, ax = plt.subplots(figsize=(8, 8))\n",
        "\n",
        "nx.draw(G, pos, with_labels=False, node_size=node_size, edge_color=[color for color in edge_colors], ax=ax)\n",
        "plt.title(\"Network Graph\")\n",
        "sm = plt.cm.ScalarMappable(cmap=cmap, norm=norm)\n",
        "sm.set_array([])\n",
        "plt.colorbar(sm, ax=ax)\n",
        "plt.show()\n",
        "nx.write_graphml(G, \"social_network_colored1.graphml\")\n"
      ],
      "metadata": {
        "id": "fKMxgHZyKXqJ"
      },
      "execution_count": null,
      "outputs": []
    },
    {
      "cell_type": "markdown",
      "source": [
        "# Getting stats for graphs"
      ],
      "metadata": {
        "id": "7FBpJDYqrpnD"
      }
    },
    {
      "cell_type": "code",
      "source": [
        "import pandas as pd"
      ],
      "metadata": {
        "id": "pt9qDxZoruNz"
      },
      "execution_count": null,
      "outputs": []
    },
    {
      "cell_type": "code",
      "source": [
        "import networkx as nx\n",
        "import matplotlib.pyplot as plt\n",
        "from collections import Counter\n",
        "import numpy as np\n",
        "\n",
        "degrees = [G.degree(n) for n in G.nodes()]\n",
        "\n",
        "degree_count = Counter(degrees)\n",
        "total_nodes = len(G.nodes())\n",
        "degree_distribution = {k: v / total_nodes for k, v in degree_count.items()}\n",
        "\n",
        "plt.figure(figsize=(8, 6))\n",
        "df = pd.DataFrame(columns = ['keys', 'values'])\n",
        "df['keys'] = (np.log(list(degree_distribution.keys())))\n",
        "df['values'] = (degree_distribution.values())\n",
        "df.to_csv('degree_distrib_channels')\n",
        "plt.bar(np.log(list(degree_distribution.keys())), degree_distribution.values(), color='blue', alpha=0.7)\n",
        "plt.title(\"Degree Distribution\", fontsize=16)\n",
        "plt.xlabel(\"Degree\", fontsize=14)\n",
        "plt.ylabel(\"Frequency (Normalized)\", fontsize=14)\n",
        "plt.grid(alpha=0.4)\n",
        "plt.show()\n"
      ],
      "metadata": {
        "colab": {
          "base_uri": "https://localhost:8080/",
          "height": 571
        },
        "id": "bJQ8wifSBy1x",
        "outputId": "7284e73c-df39-4156-b241-691d8857c143"
      },
      "execution_count": null,
      "outputs": [
        {
          "output_type": "display_data",
          "data": {
            "text/plain": [
              "<Figure size 800x600 with 1 Axes>"
            ],
            "image/png": "[encoded data removed]"
          },
          "metadata": {}
        }
      ]
    },
    {
      "cell_type": "code",
      "source": [
        "nodes = pd.read_csv('/content/Nodes for the grapg - Sheet1.csv')"
      ],
      "metadata": {
        "id": "V0rN_Wn8sEY3"
      },
      "execution_count": null,
      "outputs": []
    },
    {
      "cell_type": "code",
      "source": [
        "num_of_nodes = nodes.shape[0]"
      ],
      "metadata": {
        "id": "QJvszwOasGY0"
      },
      "execution_count": null,
      "outputs": []
    },
    {
      "cell_type": "code",
      "source": [
        "links = pd.read_csv('/content/links for graph - Sheet1 (1).csv')"
      ],
      "metadata": {
        "id": "bKFUQucsw0M8"
      },
      "execution_count": null,
      "outputs": []
    },
    {
      "cell_type": "code",
      "source": [
        "num_of_edges = links.shape[0]"
      ],
      "metadata": {
        "id": "Jq2aNb51JK_b"
      },
      "execution_count": null,
      "outputs": []
    },
    {
      "cell_type": "code",
      "source": [
        "import networkx as nx\n",
        "G = nx.Graph()\n",
        "for ind, row in links.iterrows():\n",
        "  G.add_node(row['user1'], bipartite=0)\n",
        "  G.add_node(row['user2'], bipartite=1)\n",
        "  G.add_edge(row['user1'], row['user2'], weight = row['edge_color'])"
      ],
      "metadata": {
        "id": "zrr0py8DQZP9"
      },
      "execution_count": null,
      "outputs": []
    },
    {
      "cell_type": "code",
      "source": [
        "\n",
        "total_degree = sum(dict(G.degree()).values())\n",
        "average_degree = total_degree / G.number_of_nodes()\n",
        "\n",
        "print(f\"Average degree (using degrees of nodes): {average_degree}\")\n",
        "articulation_points = list(nx.articulation_points(G))\n",
        "\n",
        "print(\"Articulation Points:\", *articulation_points)"
      ],
      "metadata": {
        "colab": {
          "base_uri": "https://localhost:8080/"
        },
        "id": "CCCYoeTzQpIK",
        "outputId": "b674d8ac-e382-4383-fc6c-09cecfabcb99"
      },
      "execution_count": null,
      "outputs": [
        {
          "output_type": "stream",
          "name": "stdout",
          "text": [
            "Average degree (using degrees of nodes): 2.173076923076923\n",
            "Articulation Points: rad_fems kosa_media megabitch femagainstwar MFRradfem ekaterina_mizulina Incel_Aesthetic aviva_md privatnyi_butylka r_anarchy\n"
          ]
        }
      ]
    },
    {
      "cell_type": "code",
      "source": [
        "fem = ['rad_fems', 'kosa_media', 'megabitch', 'femagainstwar', 'MFRradfem', 'r_anarchy']\n",
        "anti = ['Incel_Aesthetic', 'aviva_md', 'privatnyi_butylka', 'm_d_channel_1']\n",
        "nodes = fem + anti"
      ],
      "metadata": {
        "id": "qvw083XIpqrT"
      },
      "execution_count": null,
      "outputs": []
    },
    {
      "cell_type": "code",
      "source": [
        "from itertools import combinations\n",
        "def calc_foce_overlap(G):\n",
        "    foci = nodes\n",
        "    print(foci)\n",
        "    foci_overlap = {}\n",
        "    average_overlap = 0\n",
        "\n",
        "    average_overlap_fem = 0\n",
        "    n_fem = 0\n",
        "    average_overlap_anti = 1\n",
        "    n_anti = 0\n",
        "    average_cross_community = 0\n",
        "    n_cross_community = 0\n",
        "    for f1, f2 in combinations(foci, 2):\n",
        "        try:\n",
        "          shared = len(set(G.neighbors(f1)) & set(G.neighbors(f2)))\n",
        "        except:\n",
        "          shared = 0\n",
        "        foci_overlap[(f1, f2)] = shared\n",
        "        average_overlap += shared\n",
        "\n",
        "        if f1 in fem and f2 in fem:\n",
        "            average_overlap_fem += shared\n",
        "            n_fem += 1\n",
        "        elif f1 in anti and f2 in anti:\n",
        "            average_overlap_anti += shared\n",
        "            n_anti += 1\n",
        "\n",
        "        elif (f1 in anti and f2 in fem) or (f1 in fem and f2 in anti):\n",
        "          average_cross_community += shared\n",
        "          n_cross_community += 1\n",
        "\n",
        "\n",
        "    average_overlap /= len(list(combinations(foci, 2)))\n",
        "\n",
        "    print(\"Foci Overlap:\", (foci_overlap))\n",
        "    print(\"Average Foci Overlap:\", average_overlap)\n",
        "    print(\"Average Foci Overlap Fem:\", average_overlap_fem / n_fem)\n",
        "    print(\"Average Foci Overlap Anti:\", average_overlap_anti / n_anti)\n",
        "    print(\"Average Foci Overlap Cross Community:\", average_cross_community / n_cross_community)\n",
        "    return foci_overlap"
      ],
      "metadata": {
        "id": "ABcdnoQZpBpj"
      },
      "execution_count": null,
      "outputs": []
    },
    {
      "cell_type": "markdown",
      "source": [
        "##USERS"
      ],
      "metadata": {
        "id": "cxnrTLyqwomK"
      }
    },
    {
      "cell_type": "code",
      "source": [
        "gr = pd.read_csv(\"/content/Links.1737478799457.csv\")"
      ],
      "metadata": {
        "id": "BYF-M-BewW3D"
      },
      "execution_count": null,
      "outputs": []
    },
    {
      "cell_type": "code",
      "source": [
        "gr.shape"
      ],
      "metadata": {
        "colab": {
          "base_uri": "https://localhost:8080/"
        },
        "id": "4BZx4wIfwfhD",
        "outputId": "d9376d1e-0854-41a7-a3a9-ed6edfef490f"
      },
      "execution_count": null,
      "outputs": [
        {
          "output_type": "execute_result",
          "data": {
            "text/plain": [
              "(11310, 4)"
            ]
          },
          "metadata": {},
          "execution_count": 14
        }
      ]
    },
    {
      "cell_type": "code",
      "source": [
        "fem = ['rad_fems', 'kosa_media', 'megabitch', 'femagainstwar', 'MFRradfem', 'r_anarchy']\n",
        "anti = ['Incel_Aesthetic', 'aviva_md', 'privatnyi_butylka', 'm_d_channel_1']"
      ],
      "metadata": {
        "id": "g5JVNL8DxEPm"
      },
      "execution_count": null,
      "outputs": []
    },
    {
      "cell_type": "code",
      "source": [
        "gr.head()"
      ],
      "metadata": {
        "colab": {
          "base_uri": "https://localhost:8080/",
          "height": 206
        },
        "id": "g0aJXn7twnRj",
        "outputId": "c0cbbf5a-03ea-4a4d-915f-492e8db32812"
      },
      "execution_count": null,
      "outputs": [
        {
          "output_type": "execute_result",
          "data": {
            "text/plain": [
              "             channel          user  edge_color  type\n",
              "0  privatnyi_butylka  8.220181e+08          14  anti\n",
              "1  privatnyi_butylka  6.334546e+09           4  anti\n",
              "2  privatnyi_butylka  7.605903e+09          42  anti\n",
              "3  privatnyi_butylka  7.069057e+09         794  anti\n",
              "4  privatnyi_butylka  1.081836e+09           4  anti"
            ],
            "text/html": [
              "\n",
              "  <div id=\"df-ce59b236-9d8c-4edb-8c2a-e95c9a9e6dab\" class=\"colab-df-container\">\n",
              "    <div>\n",
              "<style scoped>\n",
              "    .dataframe tbody tr th:only-of-type {\n",
              "        vertical-align: middle;\n",
              "    }\n",
              "\n",
              "    .dataframe tbody tr th {\n",
              "        vertical-align: top;\n",
              "    }\n",
              "\n",
              "    .dataframe thead th {\n",
              "        text-align: right;\n",
              "    }\n",
              "</style>\n",
              "<table border=\"1\" class=\"dataframe\">\n",
              "  <thead>\n",
              "    <tr style=\"text-align: right;\">\n",
              "      <th></th>\n",
              "      <th>channel</th>\n",
              "      <th>user</th>\n",
              "      <th>edge_color</th>\n",
              "      <th>type</th>\n",
              "    </tr>\n",
              "  </thead>\n",
              "  <tbody>\n",
              "    <tr>\n",
              "      <th>0</th>\n",
              "      <td>privatnyi_butylka</td>\n",
              "      <td>8.220181e+08</td>\n",
              "      <td>14</td>\n",
              "      <td>anti</td>\n",
              "    </tr>\n",
              "    <tr>\n",
              "      <th>1</th>\n",
              "      <td>privatnyi_butylka</td>\n",
              "      <td>6.334546e+09</td>\n",
              "      <td>4</td>\n",
              "      <td>anti</td>\n",
              "    </tr>\n",
              "    <tr>\n",
              "      <th>2</th>\n",
              "      <td>privatnyi_butylka</td>\n",
              "      <td>7.605903e+09</td>\n",
              "      <td>42</td>\n",
              "      <td>anti</td>\n",
              "    </tr>\n",
              "    <tr>\n",
              "      <th>3</th>\n",
              "      <td>privatnyi_butylka</td>\n",
              "      <td>7.069057e+09</td>\n",
              "      <td>794</td>\n",
              "      <td>anti</td>\n",
              "    </tr>\n",
              "    <tr>\n",
              "      <th>4</th>\n",
              "      <td>privatnyi_butylka</td>\n",
              "      <td>1.081836e+09</td>\n",
              "      <td>4</td>\n",
              "      <td>anti</td>\n",
              "    </tr>\n",
              "  </tbody>\n",
              "</table>\n",
              "</div>\n",
              "    <div class=\"colab-df-buttons\">\n",
              "\n",
              "  <div class=\"colab-df-container\">\n",
              "    <button class=\"colab-df-convert\" onclick=\"convertToInteractive('df-ce59b236-9d8c-4edb-8c2a-e95c9a9e6dab')\"\n",
              "            title=\"Convert this dataframe to an interactive table.\"\n",
              "            style=\"display:none;\">\n",
              "\n",
              "  <svg xmlns=\"http://www.w3.org/2000/svg\" height=\"24px\" viewBox=\"0 -960 960 960\">\n",
              "    <path d=\"M120-120v-720h720v720H120Zm60-500h600v-160H180v160Zm220 220h160v-160H400v160Zm0 220h160v-160H400v160ZM180-400h160v-160H180v160Zm440 0h160v-160H620v160ZM180-180h160v-160H180v160Zm440 0h160v-160H620v160Z\"/>\n",
              "  </svg>\n",
              "    </button>\n",
              "\n",
              "  <style>\n",
              "    .colab-df-container {\n",
              "      display:flex;\n",
              "      gap: 12px;\n",
              "    }\n",
              "\n",
              "    .colab-df-convert {\n",
              "      background-color: #E8F0FE;\n",
              "      border: none;\n",
              "      border-radius: 50%;\n",
              "      cursor: pointer;\n",
              "      display: none;\n",
              "      fill: #1967D2;\n",
              "      height: 32px;\n",
              "      padding: 0 0 0 0;\n",
              "      width: 32px;\n",
              "    }\n",
              "\n",
              "    .colab-df-convert:hover {\n",
              "      background-color: #E2EBFA;\n",
              "      box-shadow: 0px 1px 2px rgba(60, 64, 67, 0.3), 0px 1px 3px 1px rgba(60, 64, 67, 0.15);\n",
              "      fill: #174EA6;\n",
              "    }\n",
              "\n",
              "    .colab-df-buttons div {\n",
              "      margin-bottom: 4px;\n",
              "    }\n",
              "\n",
              "    [theme=dark] .colab-df-convert {\n",
              "      background-color: #3B4455;\n",
              "      fill: #D2E3FC;\n",
              "    }\n",
              "\n",
              "    [theme=dark] .colab-df-convert:hover {\n",
              "      background-color: #434B5C;\n",
              "      box-shadow: 0px 1px 3px 1px rgba(0, 0, 0, 0.15);\n",
              "      filter: drop-shadow(0px 1px 2px rgba(0, 0, 0, 0.3));\n",
              "      fill: #FFFFFF;\n",
              "    }\n",
              "  </style>\n",
              "\n",
              "    <script>\n",
              "      const buttonEl =\n",
              "        document.querySelector('#df-ce59b236-9d8c-4edb-8c2a-e95c9a9e6dab button.colab-df-convert');\n",
              "      buttonEl.style.display =\n",
              "        google.colab.kernel.accessAllowed ? 'block' : 'none';\n",
              "\n",
              "      async function convertToInteractive(key) {\n",
              "        const element = document.querySelector('#df-ce59b236-9d8c-4edb-8c2a-e95c9a9e6dab');\n",
              "        const dataTable =\n",
              "          await google.colab.kernel.invokeFunction('convertToInteractive',\n",
              "                                                    [key], {});\n",
              "        if (!dataTable) return;\n",
              "\n",
              "        const docLinkHtml = 'Like what you see? Visit the ' +\n",
              "          '<a target=\"_blank\" href=https://colab.research.google.com/notebooks/data_table.ipynb>data table notebook</a>'\n",
              "          + ' to learn more about interactive tables.';\n",
              "        element.innerHTML = '';\n",
              "        dataTable['output_type'] = 'display_data';\n",
              "        await google.colab.output.renderOutput(dataTable, element);\n",
              "        const docLink = document.createElement('div');\n",
              "        docLink.innerHTML = docLinkHtml;\n",
              "        element.appendChild(docLink);\n",
              "      }\n",
              "    </script>\n",
              "  </div>\n",
              "\n",
              "\n",
              "<div id=\"df-bb6838bf-50ac-4b26-92cc-2a97ac3dc906\">\n",
              "  <button class=\"colab-df-quickchart\" onclick=\"quickchart('df-bb6838bf-50ac-4b26-92cc-2a97ac3dc906')\"\n",
              "            title=\"Suggest charts\"\n",
              "            style=\"display:none;\">\n",
              "\n",
              "<svg xmlns=\"http://www.w3.org/2000/svg\" height=\"24px\"viewBox=\"0 0 24 24\"\n",
              "     width=\"24px\">\n",
              "    <g>\n",
              "        <path d=\"M19 3H5c-1.1 0-2 .9-2 2v14c0 1.1.9 2 2 2h14c1.1 0 2-.9 2-2V5c0-1.1-.9-2-2-2zM9 17H7v-7h2v7zm4 0h-2V7h2v10zm4 0h-2v-4h2v4z\"/>\n",
              "    </g>\n",
              "</svg>\n",
              "  </button>\n",
              "\n",
              "<style>\n",
              "  .colab-df-quickchart {\n",
              "      --bg-color: #E8F0FE;\n",
              "      --fill-color: #1967D2;\n",
              "      --hover-bg-color: #E2EBFA;\n",
              "      --hover-fill-color: #174EA6;\n",
              "      --disabled-fill-color: #AAA;\n",
              "      --disabled-bg-color: #DDD;\n",
              "  }\n",
              "\n",
              "  [theme=dark] .colab-df-quickchart {\n",
              "      --bg-color: #3B4455;\n",
              "      --fill-color: #D2E3FC;\n",
              "      --hover-bg-color: #434B5C;\n",
              "      --hover-fill-color: #FFFFFF;\n",
              "      --disabled-bg-color: #3B4455;\n",
              "      --disabled-fill-color: #666;\n",
              "  }\n",
              "\n",
              "  .colab-df-quickchart {\n",
              "    background-color: var(--bg-color);\n",
              "    border: none;\n",
              "    border-radius: 50%;\n",
              "    cursor: pointer;\n",
              "    display: none;\n",
              "    fill: var(--fill-color);\n",
              "    height: 32px;\n",
              "    padding: 0;\n",
              "    width: 32px;\n",
              "  }\n",
              "\n",
              "  .colab-df-quickchart:hover {\n",
              "    background-color: var(--hover-bg-color);\n",
              "    box-shadow: 0 1px 2px rgba(60, 64, 67, 0.3), 0 1px 3px 1px rgba(60, 64, 67, 0.15);\n",
              "    fill: var(--button-hover-fill-color);\n",
              "  }\n",
              "\n",
              "  .colab-df-quickchart-complete:disabled,\n",
              "  .colab-df-quickchart-complete:disabled:hover {\n",
              "    background-color: var(--disabled-bg-color);\n",
              "    fill: var(--disabled-fill-color);\n",
              "    box-shadow: none;\n",
              "  }\n",
              "\n",
              "  .colab-df-spinner {\n",
              "    border: 2px solid var(--fill-color);\n",
              "    border-color: transparent;\n",
              "    border-bottom-color: var(--fill-color);\n",
              "    animation:\n",
              "      spin 1s steps(1) infinite;\n",
              "  }\n",
              "\n",
              "  @keyframes spin {\n",
              "    0% {\n",
              "      border-color: transparent;\n",
              "      border-bottom-color: var(--fill-color);\n",
              "      border-left-color: var(--fill-color);\n",
              "    }\n",
              "    20% {\n",
              "      border-color: transparent;\n",
              "      border-left-color: var(--fill-color);\n",
              "      border-top-color: var(--fill-color);\n",
              "    }\n",
              "    30% {\n",
              "      border-color: transparent;\n",
              "      border-left-color: var(--fill-color);\n",
              "      border-top-color: var(--fill-color);\n",
              "      border-right-color: var(--fill-color);\n",
              "    }\n",
              "    40% {\n",
              "      border-color: transparent;\n",
              "      border-right-color: var(--fill-color);\n",
              "      border-top-color: var(--fill-color);\n",
              "    }\n",
              "    60% {\n",
              "      border-color: transparent;\n",
              "      border-right-color: var(--fill-color);\n",
              "    }\n",
              "    80% {\n",
              "      border-color: transparent;\n",
              "      border-right-color: var(--fill-color);\n",
              "      border-bottom-color: var(--fill-color);\n",
              "    }\n",
              "    90% {\n",
              "      border-color: transparent;\n",
              "      border-bottom-color: var(--fill-color);\n",
              "    }\n",
              "  }\n",
              "</style>\n",
              "\n",
              "  <script>\n",
              "    async function quickchart(key) {\n",
              "      const quickchartButtonEl =\n",
              "        document.querySelector('#' + key + ' button');\n",
              "      quickchartButtonEl.disabled = true;  // To prevent multiple clicks.\n",
              "      quickchartButtonEl.classList.add('colab-df-spinner');\n",
              "      try {\n",
              "        const charts = await google.colab.kernel.invokeFunction(\n",
              "            'suggestCharts', [key], {});\n",
              "      } catch (error) {\n",
              "        console.error('Error during call to suggestCharts:', error);\n",
              "      }\n",
              "      quickchartButtonEl.classList.remove('colab-df-spinner');\n",
              "      quickchartButtonEl.classList.add('colab-df-quickchart-complete');\n",
              "    }\n",
              "    (() => {\n",
              "      let quickchartButtonEl =\n",
              "        document.querySelector('#df-bb6838bf-50ac-4b26-92cc-2a97ac3dc906 button');\n",
              "      quickchartButtonEl.style.display =\n",
              "        google.colab.kernel.accessAllowed ? 'block' : 'none';\n",
              "    })();\n",
              "  </script>\n",
              "</div>\n",
              "\n",
              "    </div>\n",
              "  </div>\n"
            ],
            "application/vnd.google.colaboratory.intrinsic+json": {
              "type": "dataframe",
              "variable_name": "gr",
              "summary": "{\n  \"name\": \"gr\",\n  \"rows\": 11310,\n  \"fields\": [\n    {\n      \"column\": \"channel\",\n      \"properties\": {\n        \"dtype\": \"category\",\n        \"num_unique_values\": 8,\n        \"samples\": [\n          \"Incel_Aesthetic\",\n          \"rad_fems\",\n          \"privatnyi_butylka\"\n        ],\n        \"semantic_type\": \"\",\n        \"description\": \"\"\n      }\n    },\n    {\n      \"column\": \"user\",\n      \"properties\": {\n        \"dtype\": \"number\",\n        \"std\": 103737667358.93254,\n        \"min\": -1002470000000.0,\n        \"max\": 8199034252.0,\n        \"num_unique_values\": 11124,\n        \"samples\": [\n          235324509.0,\n          8088520416.0,\n          553205205.0\n        ],\n        \"semantic_type\": \"\",\n        \"description\": \"\"\n      }\n    },\n    {\n      \"column\": \"edge_color\",\n      \"properties\": {\n        \"dtype\": \"number\",\n        \"std\": 172,\n        \"min\": 1,\n        \"max\": 10008,\n        \"num_unique_values\": 262,\n        \"samples\": [\n          327,\n          139,\n          111\n        ],\n        \"semantic_type\": \"\",\n        \"description\": \"\"\n      }\n    },\n    {\n      \"column\": \"type\",\n      \"properties\": {\n        \"dtype\": \"category\",\n        \"num_unique_values\": 2,\n        \"samples\": [\n          \"fem\",\n          \"anti\"\n        ],\n        \"semantic_type\": \"\",\n        \"description\": \"\"\n      }\n    }\n  ]\n}"
            }
          },
          "metadata": {},
          "execution_count": 49
        }
      ]
    },
    {
      "cell_type": "code",
      "source": [
        "gr['channel_type'] = gr['channel'].apply(lambda x: 'fem' if x in fem else 'anti')"
      ],
      "metadata": {
        "id": "zwI8hDBQxKcD"
      },
      "execution_count": null,
      "outputs": []
    },
    {
      "cell_type": "code",
      "source": [
        "nodes_users = pd.read_csv('/content/gr_users.csv')"
      ],
      "metadata": {
        "id": "hOE-GhLixTeu"
      },
      "execution_count": null,
      "outputs": []
    },
    {
      "cell_type": "code",
      "source": [
        "nodes_users['type'] = nodes_users['type'].apply(lambda x: 'anti' if x == \"{'anti'}\" else 'fem')"
      ],
      "metadata": {
        "id": "6Wx7Ohx2xnim"
      },
      "execution_count": null,
      "outputs": []
    },
    {
      "cell_type": "code",
      "source": [
        "import networkx as nx\n",
        "U = nx.Graph()\n",
        "for ind, row in gr.iterrows():\n",
        "  U.add_node(row['channel'], bipartite=1)\n",
        "  U.add_node(row['user'], bipartite=0)\n",
        "  U.add_edge(row['channel'], row['user'], weight = row['edge_color'])"
      ],
      "metadata": {
        "id": "bP9juMGXyaq9"
      },
      "execution_count": null,
      "outputs": []
    },
    {
      "cell_type": "code",
      "source": [
        "\n",
        "total_degree = sum(dict(U.degree()).values())\n",
        "average_degree = total_degree / U.number_of_nodes()\n",
        "\n",
        "print(f\"Average degree (using degrees of nodes): {average_degree}\")\n",
        "articulation_points = list(nx.articulation_points(U))\n",
        "\n",
        "print(\"Articulation Points:\", *articulation_points)"
      ],
      "metadata": {
        "colab": {
          "base_uri": "https://localhost:8080/"
        },
        "id": "gJ10-x7Lywd0",
        "outputId": "8fab7ec7-f505-41cd-862b-48cbfc82546e"
      },
      "execution_count": null,
      "outputs": [
        {
          "output_type": "stream",
          "name": "stdout",
          "text": [
            "Average degree (using degrees of nodes): 2.028386633129716\n",
            "Articulation Points: Incel_Aesthetic rad_fems megabitch kosa_media r_anarchy m_d_channel_1 aviva_md privatnyi_butylka\n"
          ]
        }
      ]
    },
    {
      "cell_type": "code",
      "source": [
        "overlaps = calc_foce_overlap(U)"
      ],
      "metadata": {
        "colab": {
          "base_uri": "https://localhost:8080/"
        },
        "id": "CZDHh-_50Ao3",
        "outputId": "a53887ba-cce2-463c-894d-89471e02a317"
      },
      "execution_count": null,
      "outputs": [
        {
          "output_type": "stream",
          "name": "stdout",
          "text": [
            "['rad_fems', 'kosa_media', 'megabitch', 'femagainstwar', 'MFRradfem', 'r_anarchy', 'Incel_Aesthetic', 'aviva_md', 'privatnyi_butylka', 'm_d_channel_1']\n",
            "Foci Overlap: {('rad_fems', 'kosa_media'): 30, ('rad_fems', 'megabitch'): 62, ('rad_fems', 'femagainstwar'): 0, ('rad_fems', 'MFRradfem'): 0, ('rad_fems', 'r_anarchy'): 1, ('rad_fems', 'Incel_Aesthetic'): 2, ('rad_fems', 'aviva_md'): 0, ('rad_fems', 'privatnyi_butylka'): 5, ('rad_fems', 'm_d_channel_1'): 0, ('kosa_media', 'megabitch'): 21, ('kosa_media', 'femagainstwar'): 0, ('kosa_media', 'MFRradfem'): 0, ('kosa_media', 'r_anarchy'): 16, ('kosa_media', 'Incel_Aesthetic'): 1, ('kosa_media', 'aviva_md'): 0, ('kosa_media', 'privatnyi_butylka'): 1, ('kosa_media', 'm_d_channel_1'): 1, ('megabitch', 'femagainstwar'): 0, ('megabitch', 'MFRradfem'): 0, ('megabitch', 'r_anarchy'): 0, ('megabitch', 'Incel_Aesthetic'): 3, ('megabitch', 'aviva_md'): 0, ('megabitch', 'privatnyi_butylka'): 1, ('megabitch', 'm_d_channel_1'): 0, ('femagainstwar', 'MFRradfem'): 0, ('femagainstwar', 'r_anarchy'): 0, ('femagainstwar', 'Incel_Aesthetic'): 0, ('femagainstwar', 'aviva_md'): 0, ('femagainstwar', 'privatnyi_butylka'): 0, ('femagainstwar', 'm_d_channel_1'): 0, ('MFRradfem', 'r_anarchy'): 0, ('MFRradfem', 'Incel_Aesthetic'): 0, ('MFRradfem', 'aviva_md'): 0, ('MFRradfem', 'privatnyi_butylka'): 0, ('MFRradfem', 'm_d_channel_1'): 0, ('r_anarchy', 'Incel_Aesthetic'): 0, ('r_anarchy', 'aviva_md'): 0, ('r_anarchy', 'privatnyi_butylka'): 0, ('r_anarchy', 'm_d_channel_1'): 0, ('Incel_Aesthetic', 'aviva_md'): 3, ('Incel_Aesthetic', 'privatnyi_butylka'): 10, ('Incel_Aesthetic', 'm_d_channel_1'): 5, ('aviva_md', 'privatnyi_butylka'): 1, ('aviva_md', 'm_d_channel_1'): 10, ('privatnyi_butylka', 'm_d_channel_1'): 1}\n",
            "Average Foci Overlap: 3.8666666666666667\n",
            "Average Foci Overlap Fem: 8.666666666666666\n",
            "Average Foci Overlap Anti: 5.166666666666667\n",
            "Average Foci Overlap Cross Community: 0.5833333333333334\n"
          ]
        },
        {
          "output_type": "execute_result",
          "data": {
            "text/plain": [
              "{('rad_fems', 'kosa_media'): 30,\n",
              " ('rad_fems', 'megabitch'): 62,\n",
              " ('rad_fems', 'femagainstwar'): 0,\n",
              " ('rad_fems', 'MFRradfem'): 0,\n",
              " ('rad_fems', 'r_anarchy'): 1,\n",
              " ('rad_fems', 'Incel_Aesthetic'): 2,\n",
              " ('rad_fems', 'aviva_md'): 0,\n",
              " ('rad_fems', 'privatnyi_butylka'): 5,\n",
              " ('rad_fems', 'm_d_channel_1'): 0,\n",
              " ('kosa_media', 'megabitch'): 21,\n",
              " ('kosa_media', 'femagainstwar'): 0,\n",
              " ('kosa_media', 'MFRradfem'): 0,\n",
              " ('kosa_media', 'r_anarchy'): 16,\n",
              " ('kosa_media', 'Incel_Aesthetic'): 1,\n",
              " ('kosa_media', 'aviva_md'): 0,\n",
              " ('kosa_media', 'privatnyi_butylka'): 1,\n",
              " ('kosa_media', 'm_d_channel_1'): 1,\n",
              " ('megabitch', 'femagainstwar'): 0,\n",
              " ('megabitch', 'MFRradfem'): 0,\n",
              " ('megabitch', 'r_anarchy'): 0,\n",
              " ('megabitch', 'Incel_Aesthetic'): 3,\n",
              " ('megabitch', 'aviva_md'): 0,\n",
              " ('megabitch', 'privatnyi_butylka'): 1,\n",
              " ('megabitch', 'm_d_channel_1'): 0,\n",
              " ('femagainstwar', 'MFRradfem'): 0,\n",
              " ('femagainstwar', 'r_anarchy'): 0,\n",
              " ('femagainstwar', 'Incel_Aesthetic'): 0,\n",
              " ('femagainstwar', 'aviva_md'): 0,\n",
              " ('femagainstwar', 'privatnyi_butylka'): 0,\n",
              " ('femagainstwar', 'm_d_channel_1'): 0,\n",
              " ('MFRradfem', 'r_anarchy'): 0,\n",
              " ('MFRradfem', 'Incel_Aesthetic'): 0,\n",
              " ('MFRradfem', 'aviva_md'): 0,\n",
              " ('MFRradfem', 'privatnyi_butylka'): 0,\n",
              " ('MFRradfem', 'm_d_channel_1'): 0,\n",
              " ('r_anarchy', 'Incel_Aesthetic'): 0,\n",
              " ('r_anarchy', 'aviva_md'): 0,\n",
              " ('r_anarchy', 'privatnyi_butylka'): 0,\n",
              " ('r_anarchy', 'm_d_channel_1'): 0,\n",
              " ('Incel_Aesthetic', 'aviva_md'): 3,\n",
              " ('Incel_Aesthetic', 'privatnyi_butylka'): 10,\n",
              " ('Incel_Aesthetic', 'm_d_channel_1'): 5,\n",
              " ('aviva_md', 'privatnyi_butylka'): 1,\n",
              " ('aviva_md', 'm_d_channel_1'): 10,\n",
              " ('privatnyi_butylka', 'm_d_channel_1'): 1}"
            ]
          },
          "metadata": {},
          "execution_count": 39
        }
      ]
    },
    {
      "cell_type": "code",
      "source": [
        "i = 0\n",
        "#the code is like this because i already know that there is only one component\n",
        "component = []\n",
        "for components in list(nx.connected_components(U)):\n",
        "  if len(components) > 1:\n",
        "    for channel in components:\n",
        "      if channel in fem or channel in anti:\n",
        "        component.append(channel)\n",
        "\n",
        "print(*component)"
      ],
      "metadata": {
        "colab": {
          "base_uri": "https://localhost:8080/"
        },
        "id": "X3saPSthDW5V",
        "outputId": "9b3fce4f-f6e3-4ba9-cb07-1d8054c8325d"
      },
      "execution_count": null,
      "outputs": [
        {
          "output_type": "stream",
          "name": "stdout",
          "text": [
            "rad_fems m_d_channel_1 kosa_media r_anarchy privatnyi_butylka Incel_Aesthetic aviva_md megabitch\n"
          ]
        }
      ]
    },
    {
      "cell_type": "code",
      "source": [
        "import numpy as np\n",
        "weighted_degree = pd.DataFrame(U.degree(weight='weight'))\n",
        "print(\"Weighted Degree:\", np.mean(weighted_degree[1]))"
      ],
      "metadata": {
        "colab": {
          "base_uri": "https://localhost:8080/"
        },
        "id": "Lt807jD61w93",
        "outputId": "17123d17-0dc2-4378-e9d3-0d7fef56be72"
      },
      "execution_count": null,
      "outputs": [
        {
          "output_type": "stream",
          "name": "stdout",
          "text": [
            "Weighted Degree: 35.30201221703198\n"
          ]
        }
      ]
    },
    {
      "cell_type": "code",
      "source": [
        "\n",
        "import matplotlib.pyplot as plt\n",
        "nx.draw(U, pos, with_labels=False, node_color=\"skyblue\", edge_color=\"gray\", node_size=10, font_size=10)\n",
        "plt.show()"
      ],
      "metadata": {
        "colab": {
          "base_uri": "https://localhost:8080/",
          "height": 516
        },
        "id": "2q9NDTjn9oUk",
        "outputId": "8b85d639-f116-4ef2-e4bf-ead23b3c4269"
      },
      "execution_count": null,
      "outputs": [
        {
          "output_type": "display_data",
          "data": {
            "text/plain": [
              "<Figure size 640x480 with 1 Axes>"
            ],
            "image/png": "[encoded data removed]"
          },
          "metadata": {}
        }
      ]
    }
  ],
  "metadata": {
    "colab": {
      "collapsed_sections": [
        "xJlnVBLbrI_E",
        "F5i_3XsPwcl0",
        "uA_vS-kHdory",
        "fkulFM8SirZ6"
      ],
      "provenance": [],
      "gpuType": "T4"
    },
    "kernelspec": {
      "display_name": "Python 3",
      "name": "python3"
    },
    "language_info": {
      "name": "python"
    },
    "widgets": {
      "application/vnd.jupyter.widget-state+json": {
        "0f52586a85644db2be782c5c96f37425": {
          "model_module": "@jupyter-widgets/controls",
          "model_name": "HBoxModel",
          "model_module_version": "1.5.0",
          "state": {
            "_dom_classes": [],
            "_model_module": "@jupyter-widgets/controls",
            "_model_module_version": "1.5.0",
            "_model_name": "HBoxModel",
            "_view_count": null,
            "_view_module": "@jupyter-widgets/controls",
            "_view_module_version": "1.5.0",
            "_view_name": "HBoxView",
            "box_style": "",
            "children": [
              "IPY_MODEL_12af14ef0d0d49c9944d08c1b594e3e2",
              "IPY_MODEL_af406e9a7fb4422f961a3ecfe12c4154",
              "IPY_MODEL_73dd0926848046a38a2cc38ddd65f274"
            ],
            "layout": "IPY_MODEL_ea11ad86aa96408ea25cd03516f44497"
          }
        },
        "12af14ef0d0d49c9944d08c1b594e3e2": {
          "model_module": "@jupyter-widgets/controls",
          "model_name": "HTMLModel",
          "model_module_version": "1.5.0",
          "state": {
            "_dom_classes": [],
            "_model_module": "@jupyter-widgets/controls",
            "_model_module_version": "1.5.0",
            "_model_name": "HTMLModel",
            "_view_count": null,
            "_view_module": "@jupyter-widgets/controls",
            "_view_module_version": "1.5.0",
            "_view_name": "HTMLView",
            "description": "",
            "description_tooltip": null,
            "layout": "IPY_MODEL_4d4d46b5feef4b24a27bdbf5511ce971",
            "placeholder": "​",
            "style": "IPY_MODEL_cdf2aeebb580407c9bc5f8df699fdb32",
            "value": "config.json: 100%"
          }
        },
        "af406e9a7fb4422f961a3ecfe12c4154": {
          "model_module": "@jupyter-widgets/controls",
          "model_name": "FloatProgressModel",
          "model_module_version": "1.5.0",
          "state": {
            "_dom_classes": [],
            "_model_module": "@jupyter-widgets/controls",
            "_model_module_version": "1.5.0",
            "_model_name": "FloatProgressModel",
            "_view_count": null,
            "_view_module": "@jupyter-widgets/controls",
            "_view_module_version": "1.5.0",
            "_view_name": "ProgressView",
            "bar_style": "success",
            "description": "",
            "description_tooltip": null,
            "layout": "IPY_MODEL_2412cfb3172d429394d219f466dc246d",
            "max": 952,
            "min": 0,
            "orientation": "horizontal",
            "style": "IPY_MODEL_63a00f19069748d6beaced336c5cf423",
            "value": 952
          }
        },
        "73dd0926848046a38a2cc38ddd65f274": {
          "model_module": "@jupyter-widgets/controls",
          "model_name": "HTMLModel",
          "model_module_version": "1.5.0",
          "state": {
            "_dom_classes": [],
            "_model_module": "@jupyter-widgets/controls",
            "_model_module_version": "1.5.0",
            "_model_name": "HTMLModel",
            "_view_count": null,
            "_view_module": "@jupyter-widgets/controls",
            "_view_module_version": "1.5.0",
            "_view_name": "HTMLView",
            "description": "",
            "description_tooltip": null,
            "layout": "IPY_MODEL_e93b9c8df973493aa6c2b61360770d80",
            "placeholder": "​",
            "style": "IPY_MODEL_04d6fbf217714d7895c9f0ac90ba3cf8",
            "value": " 952/952 [00:00&lt;00:00, 58.4kB/s]"
          }
        },
        "ea11ad86aa96408ea25cd03516f44497": {
          "model_module": "@jupyter-widgets/base",
          "model_name": "LayoutModel",
          "model_module_version": "1.2.0",
          "state": {
            "_model_module": "@jupyter-widgets/base",
            "_model_module_version": "1.2.0",
            "_model_name": "LayoutModel",
            "_view_count": null,
            "_view_module": "@jupyter-widgets/base",
            "_view_module_version": "1.2.0",
            "_view_name": "LayoutView",
            "align_content": null,
            "align_items": null,
            "align_self": null,
            "border": null,
            "bottom": null,
            "display": null,
            "flex": null,
            "flex_flow": null,
            "grid_area": null,
            "grid_auto_columns": null,
            "grid_auto_flow": null,
            "grid_auto_rows": null,
            "grid_column": null,
            "grid_gap": null,
            "grid_row": null,
            "grid_template_areas": null,
            "grid_template_columns": null,
            "grid_template_rows": null,
            "height": null,
            "justify_content": null,
            "justify_items": null,
            "left": null,
            "margin": null,
            "max_height": null,
            "max_width": null,
            "min_height": null,
            "min_width": null,
            "object_fit": null,
            "object_position": null,
            "order": null,
            "overflow": null,
            "overflow_x": null,
            "overflow_y": null,
            "padding": null,
            "right": null,
            "top": null,
            "visibility": null,
            "width": null
          }
        },
        "4d4d46b5feef4b24a27bdbf5511ce971": {
          "model_module": "@jupyter-widgets/base",
          "model_name": "LayoutModel",
          "model_module_version": "1.2.0",
          "state": {
            "_model_module": "@jupyter-widgets/base",
            "_model_module_version": "1.2.0",
            "_model_name": "LayoutModel",
            "_view_count": null,
            "_view_module": "@jupyter-widgets/base",
            "_view_module_version": "1.2.0",
            "_view_name": "LayoutView",
            "align_content": null,
            "align_items": null,
            "align_self": null,
            "border": null,
            "bottom": null,
            "display": null,
            "flex": null,
            "flex_flow": null,
            "grid_area": null,
            "grid_auto_columns": null,
            "grid_auto_flow": null,
            "grid_auto_rows": null,
            "grid_column": null,
            "grid_gap": null,
            "grid_row": null,
            "grid_template_areas": null,
            "grid_template_columns": null,
            "grid_template_rows": null,
            "height": null,
            "justify_content": null,
            "justify_items": null,
            "left": null,
            "margin": null,
            "max_height": null,
            "max_width": null,
            "min_height": null,
            "min_width": null,
            "object_fit": null,
            "object_position": null,
            "order": null,
            "overflow": null,
            "overflow_x": null,
            "overflow_y": null,
            "padding": null,
            "right": null,
            "top": null,
            "visibility": null,
            "width": null
          }
        },
        "cdf2aeebb580407c9bc5f8df699fdb32": {
          "model_module": "@jupyter-widgets/controls",
          "model_name": "DescriptionStyleModel",
          "model_module_version": "1.5.0",
          "state": {
            "_model_module": "@jupyter-widgets/controls",
            "_model_module_version": "1.5.0",
            "_model_name": "DescriptionStyleModel",
            "_view_count": null,
            "_view_module": "@jupyter-widgets/base",
            "_view_module_version": "1.2.0",
            "_view_name": "StyleView",
            "description_width": ""
          }
        },
        "2412cfb3172d429394d219f466dc246d": {
          "model_module": "@jupyter-widgets/base",
          "model_name": "LayoutModel",
          "model_module_version": "1.2.0",
          "state": {
            "_model_module": "@jupyter-widgets/base",
            "_model_module_version": "1.2.0",
            "_model_name": "LayoutModel",
            "_view_count": null,
            "_view_module": "@jupyter-widgets/base",
            "_view_module_version": "1.2.0",
            "_view_name": "LayoutView",
            "align_content": null,
            "align_items": null,
            "align_self": null,
            "border": null,
            "bottom": null,
            "display": null,
            "flex": null,
            "flex_flow": null,
            "grid_area": null,
            "grid_auto_columns": null,
            "grid_auto_flow": null,
            "grid_auto_rows": null,
            "grid_column": null,
            "grid_gap": null,
            "grid_row": null,
            "grid_template_areas": null,
            "grid_template_columns": null,
            "grid_template_rows": null,
            "height": null,
            "justify_content": null,
            "justify_items": null,
            "left": null,
            "margin": null,
            "max_height": null,
            "max_width": null,
            "min_height": null,
            "min_width": null,
            "object_fit": null,
            "object_position": null,
            "order": null,
            "overflow": null,
            "overflow_x": null,
            "overflow_y": null,
            "padding": null,
            "right": null,
            "top": null,
            "visibility": null,
            "width": null
          }
        },
        "63a00f19069748d6beaced336c5cf423": {
          "model_module": "@jupyter-widgets/controls",
          "model_name": "ProgressStyleModel",
          "model_module_version": "1.5.0",
          "state": {
            "_model_module": "@jupyter-widgets/controls",
            "_model_module_version": "1.5.0",
            "_model_name": "ProgressStyleModel",
            "_view_count": null,
            "_view_module": "@jupyter-widgets/base",
            "_view_module_version": "1.2.0",
            "_view_name": "StyleView",
            "bar_color": null,
            "description_width": ""
          }
        },
        "e93b9c8df973493aa6c2b61360770d80": {
          "model_module": "@jupyter-widgets/base",
          "model_name": "LayoutModel",
          "model_module_version": "1.2.0",
          "state": {
            "_model_module": "@jupyter-widgets/base",
            "_model_module_version": "1.2.0",
            "_model_name": "LayoutModel",
            "_view_count": null,
            "_view_module": "@jupyter-widgets/base",
            "_view_module_version": "1.2.0",
            "_view_name": "LayoutView",
            "align_content": null,
            "align_items": null,
            "align_self": null,
            "border": null,
            "bottom": null,
            "display": null,
            "flex": null,
            "flex_flow": null,
            "grid_area": null,
            "grid_auto_columns": null,
            "grid_auto_flow": null,
            "grid_auto_rows": null,
            "grid_column": null,
            "grid_gap": null,
            "grid_row": null,
            "grid_template_areas": null,
            "grid_template_columns": null,
            "grid_template_rows": null,
            "height": null,
            "justify_content": null,
            "justify_items": null,
            "left": null,
            "margin": null,
            "max_height": null,
            "max_width": null,
            "min_height": null,
            "min_width": null,
            "object_fit": null,
            "object_position": null,
            "order": null,
            "overflow": null,
            "overflow_x": null,
            "overflow_y": null,
            "padding": null,
            "right": null,
            "top": null,
            "visibility": null,
            "width": null
          }
        },
        "04d6fbf217714d7895c9f0ac90ba3cf8": {
          "model_module": "@jupyter-widgets/controls",
          "model_name": "DescriptionStyleModel",
          "model_module_version": "1.5.0",
          "state": {
            "_model_module": "@jupyter-widgets/controls",
            "_model_module_version": "1.5.0",
            "_model_name": "DescriptionStyleModel",
            "_view_count": null,
            "_view_module": "@jupyter-widgets/base",
            "_view_module_version": "1.2.0",
            "_view_name": "StyleView",
            "description_width": ""
          }
        },
        "180af467dfda46e3be577471a3fc09be": {
          "model_module": "@jupyter-widgets/controls",
          "model_name": "HBoxModel",
          "model_module_version": "1.5.0",
          "state": {
            "_dom_classes": [],
            "_model_module": "@jupyter-widgets/controls",
            "_model_module_version": "1.5.0",
            "_model_name": "HBoxModel",
            "_view_count": null,
            "_view_module": "@jupyter-widgets/controls",
            "_view_module_version": "1.5.0",
            "_view_name": "HBoxView",
            "box_style": "",
            "children": [
              "IPY_MODEL_0a30987ac5fb4f3787a59f0b9cec51dc",
              "IPY_MODEL_b4c5e8072e5443348973706531ff2292",
              "IPY_MODEL_d8898e2b0326441a8e3b6fb9384f6ce9"
            ],
            "layout": "IPY_MODEL_c7280dd2499140de996c5a56c7e65c94"
          }
        },
        "0a30987ac5fb4f3787a59f0b9cec51dc": {
          "model_module": "@jupyter-widgets/controls",
          "model_name": "HTMLModel",
          "model_module_version": "1.5.0",
          "state": {
            "_dom_classes": [],
            "_model_module": "@jupyter-widgets/controls",
            "_model_module_version": "1.5.0",
            "_model_name": "HTMLModel",
            "_view_count": null,
            "_view_module": "@jupyter-widgets/controls",
            "_view_module_version": "1.5.0",
            "_view_name": "HTMLView",
            "description": "",
            "description_tooltip": null,
            "layout": "IPY_MODEL_c3134620507f4d2daab6be545d0dcb8a",
            "placeholder": "​",
            "style": "IPY_MODEL_e183b25575c7443e84348e06b22d8b13",
            "value": "model.safetensors: 100%"
          }
        },
        "b4c5e8072e5443348973706531ff2292": {
          "model_module": "@jupyter-widgets/controls",
          "model_name": "FloatProgressModel",
          "model_module_version": "1.5.0",
          "state": {
            "_dom_classes": [],
            "_model_module": "@jupyter-widgets/controls",
            "_model_module_version": "1.5.0",
            "_model_name": "FloatProgressModel",
            "_view_count": null,
            "_view_module": "@jupyter-widgets/controls",
            "_view_module_version": "1.5.0",
            "_view_name": "ProgressView",
            "bar_style": "success",
            "description": "",
            "description_tooltip": null,
            "layout": "IPY_MODEL_263d3d35b6174aae916b30d766182755",
            "max": 711450722,
            "min": 0,
            "orientation": "horizontal",
            "style": "IPY_MODEL_92e7c639d72c481cb15d603e5ef9ec21",
            "value": 711450722
          }
        },
        "d8898e2b0326441a8e3b6fb9384f6ce9": {
          "model_module": "@jupyter-widgets/controls",
          "model_name": "HTMLModel",
          "model_module_version": "1.5.0",
          "state": {
            "_dom_classes": [],
            "_model_module": "@jupyter-widgets/controls",
            "_model_module_version": "1.5.0",
            "_model_name": "HTMLModel",
            "_view_count": null,
            "_view_module": "@jupyter-widgets/controls",
            "_view_module_version": "1.5.0",
            "_view_name": "HTMLView",
            "description": "",
            "description_tooltip": null,
            "layout": "IPY_MODEL_75b0d317919d4d5a8f4f17685fb7f642",
            "placeholder": "​",
            "style": "IPY_MODEL_b739451b9efa4e9d80ccbcdc35832a4b",
            "value": " 711M/711M [00:11&lt;00:00, 39.7MB/s]"
          }
        },
        "c7280dd2499140de996c5a56c7e65c94": {
          "model_module": "@jupyter-widgets/base",
          "model_name": "LayoutModel",
          "model_module_version": "1.2.0",
          "state": {
            "_model_module": "@jupyter-widgets/base",
            "_model_module_version": "1.2.0",
            "_model_name": "LayoutModel",
            "_view_count": null,
            "_view_module": "@jupyter-widgets/base",
            "_view_module_version": "1.2.0",
            "_view_name": "LayoutView",
            "align_content": null,
            "align_items": null,
            "align_self": null,
            "border": null,
            "bottom": null,
            "display": null,
            "flex": null,
            "flex_flow": null,
            "grid_area": null,
            "grid_auto_columns": null,
            "grid_auto_flow": null,
            "grid_auto_rows": null,
            "grid_column": null,
            "grid_gap": null,
            "grid_row": null,
            "grid_template_areas": null,
            "grid_template_columns": null,
            "grid_template_rows": null,
            "height": null,
            "justify_content": null,
            "justify_items": null,
            "left": null,
            "margin": null,
            "max_height": null,
            "max_width": null,
            "min_height": null,
            "min_width": null,
            "object_fit": null,
            "object_position": null,
            "order": null,
            "overflow": null,
            "overflow_x": null,
            "overflow_y": null,
            "padding": null,
            "right": null,
            "top": null,
            "visibility": null,
            "width": null
          }
        },
        "c3134620507f4d2daab6be545d0dcb8a": {
          "model_module": "@jupyter-widgets/base",
          "model_name": "LayoutModel",
          "model_module_version": "1.2.0",
          "state": {
            "_model_module": "@jupyter-widgets/base",
            "_model_module_version": "1.2.0",
            "_model_name": "LayoutModel",
            "_view_count": null,
            "_view_module": "@jupyter-widgets/base",
            "_view_module_version": "1.2.0",
            "_view_name": "LayoutView",
            "align_content": null,
            "align_items": null,
            "align_self": null,
            "border": null,
            "bottom": null,
            "display": null,
            "flex": null,
            "flex_flow": null,
            "grid_area": null,
            "grid_auto_columns": null,
            "grid_auto_flow": null,
            "grid_auto_rows": null,
            "grid_column": null,
            "grid_gap": null,
            "grid_row": null,
            "grid_template_areas": null,
            "grid_template_columns": null,
            "grid_template_rows": null,
            "height": null,
            "justify_content": null,
            "justify_items": null,
            "left": null,
            "margin": null,
            "max_height": null,
            "max_width": null,
            "min_height": null,
            "min_width": null,
            "object_fit": null,
            "object_position": null,
            "order": null,
            "overflow": null,
            "overflow_x": null,
            "overflow_y": null,
            "padding": null,
            "right": null,
            "top": null,
            "visibility": null,
            "width": null
          }
        },
        "e183b25575c7443e84348e06b22d8b13": {
          "model_module": "@jupyter-widgets/controls",
          "model_name": "DescriptionStyleModel",
          "model_module_version": "1.5.0",
          "state": {
            "_model_module": "@jupyter-widgets/controls",
            "_model_module_version": "1.5.0",
            "_model_name": "DescriptionStyleModel",
            "_view_count": null,
            "_view_module": "@jupyter-widgets/base",
            "_view_module_version": "1.2.0",
            "_view_name": "StyleView",
            "description_width": ""
          }
        },
        "263d3d35b6174aae916b30d766182755": {
          "model_module": "@jupyter-widgets/base",
          "model_name": "LayoutModel",
          "model_module_version": "1.2.0",
          "state": {
            "_model_module": "@jupyter-widgets/base",
            "_model_module_version": "1.2.0",
            "_model_name": "LayoutModel",
            "_view_count": null,
            "_view_module": "@jupyter-widgets/base",
            "_view_module_version": "1.2.0",
            "_view_name": "LayoutView",
            "align_content": null,
            "align_items": null,
            "align_self": null,
            "border": null,
            "bottom": null,
            "display": null,
            "flex": null,
            "flex_flow": null,
            "grid_area": null,
            "grid_auto_columns": null,
            "grid_auto_flow": null,
            "grid_auto_rows": null,
            "grid_column": null,
            "grid_gap": null,
            "grid_row": null,
            "grid_template_areas": null,
            "grid_template_columns": null,
            "grid_template_rows": null,
            "height": null,
            "justify_content": null,
            "justify_items": null,
            "left": null,
            "margin": null,
            "max_height": null,
            "max_width": null,
            "min_height": null,
            "min_width": null,
            "object_fit": null,
            "object_position": null,
            "order": null,
            "overflow": null,
            "overflow_x": null,
            "overflow_y": null,
            "padding": null,
            "right": null,
            "top": null,
            "visibility": null,
            "width": null
          }
        },
        "92e7c639d72c481cb15d603e5ef9ec21": {
          "model_module": "@jupyter-widgets/controls",
          "model_name": "ProgressStyleModel",
          "model_module_version": "1.5.0",
          "state": {
            "_model_module": "@jupyter-widgets/controls",
            "_model_module_version": "1.5.0",
            "_model_name": "ProgressStyleModel",
            "_view_count": null,
            "_view_module": "@jupyter-widgets/base",
            "_view_module_version": "1.2.0",
            "_view_name": "StyleView",
            "bar_color": null,
            "description_width": ""
          }
        },
        "75b0d317919d4d5a8f4f17685fb7f642": {
          "model_module": "@jupyter-widgets/base",
          "model_name": "LayoutModel",
          "model_module_version": "1.2.0",
          "state": {
            "_model_module": "@jupyter-widgets/base",
            "_model_module_version": "1.2.0",
            "_model_name": "LayoutModel",
            "_view_count": null,
            "_view_module": "@jupyter-widgets/base",
            "_view_module_version": "1.2.0",
            "_view_name": "LayoutView",
            "align_content": null,
            "align_items": null,
            "align_self": null,
            "border": null,
            "bottom": null,
            "display": null,
            "flex": null,
            "flex_flow": null,
            "grid_area": null,
            "grid_auto_columns": null,
            "grid_auto_flow": null,
            "grid_auto_rows": null,
            "grid_column": null,
            "grid_gap": null,
            "grid_row": null,
            "grid_template_areas": null,
            "grid_template_columns": null,
            "grid_template_rows": null,
            "height": null,
            "justify_content": null,
            "justify_items": null,
            "left": null,
            "margin": null,
            "max_height": null,
            "max_width": null,
            "min_height": null,
            "min_width": null,
            "object_fit": null,
            "object_position": null,
            "order": null,
            "overflow": null,
            "overflow_x": null,
            "overflow_y": null,
            "padding": null,
            "right": null,
            "top": null,
            "visibility": null,
            "width": null
          }
        },
        "b739451b9efa4e9d80ccbcdc35832a4b": {
          "model_module": "@jupyter-widgets/controls",
          "model_name": "DescriptionStyleModel",
          "model_module_version": "1.5.0",
          "state": {
            "_model_module": "@jupyter-widgets/controls",
            "_model_module_version": "1.5.0",
            "_model_name": "DescriptionStyleModel",
            "_view_count": null,
            "_view_module": "@jupyter-widgets/base",
            "_view_module_version": "1.2.0",
            "_view_name": "StyleView",
            "description_width": ""
          }
        },
        "3ca17ec5c7be45d8aa38d2dbf2636ffb": {
          "model_module": "@jupyter-widgets/controls",
          "model_name": "HBoxModel",
          "model_module_version": "1.5.0",
          "state": {
            "_dom_classes": [],
            "_model_module": "@jupyter-widgets/controls",
            "_model_module_version": "1.5.0",
            "_model_name": "HBoxModel",
            "_view_count": null,
            "_view_module": "@jupyter-widgets/controls",
            "_view_module_version": "1.5.0",
            "_view_name": "HBoxView",
            "box_style": "",
            "children": [
              "IPY_MODEL_e7850b16e3914e7b9fc458df17f29c46",
              "IPY_MODEL_3daf338fb6bd48308538837d0663acea",
              "IPY_MODEL_8ce84daade79441e84521ba97b39a416"
            ],
            "layout": "IPY_MODEL_d00d3e8dda7248a89aba1c9cdb5bef63"
          }
        },
        "e7850b16e3914e7b9fc458df17f29c46": {
          "model_module": "@jupyter-widgets/controls",
          "model_name": "HTMLModel",
          "model_module_version": "1.5.0",
          "state": {
            "_dom_classes": [],
            "_model_module": "@jupyter-widgets/controls",
            "_model_module_version": "1.5.0",
            "_model_name": "HTMLModel",
            "_view_count": null,
            "_view_module": "@jupyter-widgets/controls",
            "_view_module_version": "1.5.0",
            "_view_name": "HTMLView",
            "description": "",
            "description_tooltip": null,
            "layout": "IPY_MODEL_12fc958f35294ee984e4cc56a033ae12",
            "placeholder": "​",
            "style": "IPY_MODEL_22556ad2a7e44bf686e4479183774669",
            "value": "tokenizer_config.json: 100%"
          }
        },
        "3daf338fb6bd48308538837d0663acea": {
          "model_module": "@jupyter-widgets/controls",
          "model_name": "FloatProgressModel",
          "model_module_version": "1.5.0",
          "state": {
            "_dom_classes": [],
            "_model_module": "@jupyter-widgets/controls",
            "_model_module_version": "1.5.0",
            "_model_name": "FloatProgressModel",
            "_view_count": null,
            "_view_module": "@jupyter-widgets/controls",
            "_view_module_version": "1.5.0",
            "_view_name": "ProgressView",
            "bar_style": "success",
            "description": "",
            "description_tooltip": null,
            "layout": "IPY_MODEL_7440df2d7e67458f82af0d78466e07a1",
            "max": 495,
            "min": 0,
            "orientation": "horizontal",
            "style": "IPY_MODEL_fd9c6fbd7f344f00942b3f8216b1dfd8",
            "value": 495
          }
        },
        "8ce84daade79441e84521ba97b39a416": {
          "model_module": "@jupyter-widgets/controls",
          "model_name": "HTMLModel",
          "model_module_version": "1.5.0",
          "state": {
            "_dom_classes": [],
            "_model_module": "@jupyter-widgets/controls",
            "_model_module_version": "1.5.0",
            "_model_name": "HTMLModel",
            "_view_count": null,
            "_view_module": "@jupyter-widgets/controls",
            "_view_module_version": "1.5.0",
            "_view_name": "HTMLView",
            "description": "",
            "description_tooltip": null,
            "layout": "IPY_MODEL_aa744f448b804638b1b4251cfabc1aaf",
            "placeholder": "​",
            "style": "IPY_MODEL_e646de235dd44bac87921e9479622bd7",
            "value": " 495/495 [00:00&lt;00:00, 30.5kB/s]"
          }
        },
        "d00d3e8dda7248a89aba1c9cdb5bef63": {
          "model_module": "@jupyter-widgets/base",
          "model_name": "LayoutModel",
          "model_module_version": "1.2.0",
          "state": {
            "_model_module": "@jupyter-widgets/base",
            "_model_module_version": "1.2.0",
            "_model_name": "LayoutModel",
            "_view_count": null,
            "_view_module": "@jupyter-widgets/base",
            "_view_module_version": "1.2.0",
            "_view_name": "LayoutView",
            "align_content": null,
            "align_items": null,
            "align_self": null,
            "border": null,
            "bottom": null,
            "display": null,
            "flex": null,
            "flex_flow": null,
            "grid_area": null,
            "grid_auto_columns": null,
            "grid_auto_flow": null,
            "grid_auto_rows": null,
            "grid_column": null,
            "grid_gap": null,
            "grid_row": null,
            "grid_template_areas": null,
            "grid_template_columns": null,
            "grid_template_rows": null,
            "height": null,
            "justify_content": null,
            "justify_items": null,
            "left": null,
            "margin": null,
            "max_height": null,
            "max_width": null,
            "min_height": null,
            "min_width": null,
            "object_fit": null,
            "object_position": null,
            "order": null,
            "overflow": null,
            "overflow_x": null,
            "overflow_y": null,
            "padding": null,
            "right": null,
            "top": null,
            "visibility": null,
            "width": null
          }
        },
        "12fc958f35294ee984e4cc56a033ae12": {
          "model_module": "@jupyter-widgets/base",
          "model_name": "LayoutModel",
          "model_module_version": "1.2.0",
          "state": {
            "_model_module": "@jupyter-widgets/base",
            "_model_module_version": "1.2.0",
            "_model_name": "LayoutModel",
            "_view_count": null,
            "_view_module": "@jupyter-widgets/base",
            "_view_module_version": "1.2.0",
            "_view_name": "LayoutView",
            "align_content": null,
            "align_items": null,
            "align_self": null,
            "border": null,
            "bottom": null,
            "display": null,
            "flex": null,
            "flex_flow": null,
            "grid_area": null,
            "grid_auto_columns": null,
            "grid_auto_flow": null,
            "grid_auto_rows": null,
            "grid_column": null,
            "grid_gap": null,
            "grid_row": null,
            "grid_template_areas": null,
            "grid_template_columns": null,
            "grid_template_rows": null,
            "height": null,
            "justify_content": null,
            "justify_items": null,
            "left": null,
            "margin": null,
            "max_height": null,
            "max_width": null,
            "min_height": null,
            "min_width": null,
            "object_fit": null,
            "object_position": null,
            "order": null,
            "overflow": null,
            "overflow_x": null,
            "overflow_y": null,
            "padding": null,
            "right": null,
            "top": null,
            "visibility": null,
            "width": null
          }
        },
        "22556ad2a7e44bf686e4479183774669": {
          "model_module": "@jupyter-widgets/controls",
          "model_name": "DescriptionStyleModel",
          "model_module_version": "1.5.0",
          "state": {
            "_model_module": "@jupyter-widgets/controls",
            "_model_module_version": "1.5.0",
            "_model_name": "DescriptionStyleModel",
            "_view_count": null,
            "_view_module": "@jupyter-widgets/base",
            "_view_module_version": "1.2.0",
            "_view_name": "StyleView",
            "description_width": ""
          }
        },
        "7440df2d7e67458f82af0d78466e07a1": {
          "model_module": "@jupyter-widgets/base",
          "model_name": "LayoutModel",
          "model_module_version": "1.2.0",
          "state": {
            "_model_module": "@jupyter-widgets/base",
            "_model_module_version": "1.2.0",
            "_model_name": "LayoutModel",
            "_view_count": null,
            "_view_module": "@jupyter-widgets/base",
            "_view_module_version": "1.2.0",
            "_view_name": "LayoutView",
            "align_content": null,
            "align_items": null,
            "align_self": null,
            "border": null,
            "bottom": null,
            "display": null,
            "flex": null,
            "flex_flow": null,
            "grid_area": null,
            "grid_auto_columns": null,
            "grid_auto_flow": null,
            "grid_auto_rows": null,
            "grid_column": null,
            "grid_gap": null,
            "grid_row": null,
            "grid_template_areas": null,
            "grid_template_columns": null,
            "grid_template_rows": null,
            "height": null,
            "justify_content": null,
            "justify_items": null,
            "left": null,
            "margin": null,
            "max_height": null,
            "max_width": null,
            "min_height": null,
            "min_width": null,
            "object_fit": null,
            "object_position": null,
            "order": null,
            "overflow": null,
            "overflow_x": null,
            "overflow_y": null,
            "padding": null,
            "right": null,
            "top": null,
            "visibility": null,
            "width": null
          }
        },
        "fd9c6fbd7f344f00942b3f8216b1dfd8": {
          "model_module": "@jupyter-widgets/controls",
          "model_name": "ProgressStyleModel",
          "model_module_version": "1.5.0",
          "state": {
            "_model_module": "@jupyter-widgets/controls",
            "_model_module_version": "1.5.0",
            "_model_name": "ProgressStyleModel",
            "_view_count": null,
            "_view_module": "@jupyter-widgets/base",
            "_view_module_version": "1.2.0",
            "_view_name": "StyleView",
            "bar_color": null,
            "description_width": ""
          }
        },
        "aa744f448b804638b1b4251cfabc1aaf": {
          "model_module": "@jupyter-widgets/base",
          "model_name": "LayoutModel",
          "model_module_version": "1.2.0",
          "state": {
            "_model_module": "@jupyter-widgets/base",
            "_model_module_version": "1.2.0",
            "_model_name": "LayoutModel",
            "_view_count": null,
            "_view_module": "@jupyter-widgets/base",
            "_view_module_version": "1.2.0",
            "_view_name": "LayoutView",
            "align_content": null,
            "align_items": null,
            "align_self": null,
            "border": null,
            "bottom": null,
            "display": null,
            "flex": null,
            "flex_flow": null,
            "grid_area": null,
            "grid_auto_columns": null,
            "grid_auto_flow": null,
            "grid_auto_rows": null,
            "grid_column": null,
            "grid_gap": null,
            "grid_row": null,
            "grid_template_areas": null,
            "grid_template_columns": null,
            "grid_template_rows": null,
            "height": null,
            "justify_content": null,
            "justify_items": null,
            "left": null,
            "margin": null,
            "max_height": null,
            "max_width": null,
            "min_height": null,
            "min_width": null,
            "object_fit": null,
            "object_position": null,
            "order": null,
            "overflow": null,
            "overflow_x": null,
            "overflow_y": null,
            "padding": null,
            "right": null,
            "top": null,
            "visibility": null,
            "width": null
          }
        },
        "e646de235dd44bac87921e9479622bd7": {
          "model_module": "@jupyter-widgets/controls",
          "model_name": "DescriptionStyleModel",
          "model_module_version": "1.5.0",
          "state": {
            "_model_module": "@jupyter-widgets/controls",
            "_model_module_version": "1.5.0",
            "_model_name": "DescriptionStyleModel",
            "_view_count": null,
            "_view_module": "@jupyter-widgets/base",
            "_view_module_version": "1.2.0",
            "_view_name": "StyleView",
            "description_width": ""
          }
        },
        "84399ceebe1843a2a79dc14031e7f733": {
          "model_module": "@jupyter-widgets/controls",
          "model_name": "HBoxModel",
          "model_module_version": "1.5.0",
          "state": {
            "_dom_classes": [],
            "_model_module": "@jupyter-widgets/controls",
            "_model_module_version": "1.5.0",
            "_model_name": "HBoxModel",
            "_view_count": null,
            "_view_module": "@jupyter-widgets/controls",
            "_view_module_version": "1.5.0",
            "_view_name": "HBoxView",
            "box_style": "",
            "children": [
              "IPY_MODEL_968e2fe1f039419781a7054c4f0efc27",
              "IPY_MODEL_3c2a38af9fb44d51904eb0d90d781f8a",
              "IPY_MODEL_e9849053642f4e478a59c9d37e4390e2"
            ],
            "layout": "IPY_MODEL_c557007c41f44bef9262dd7b1e4b1638"
          }
        },
        "968e2fe1f039419781a7054c4f0efc27": {
          "model_module": "@jupyter-widgets/controls",
          "model_name": "HTMLModel",
          "model_module_version": "1.5.0",
          "state": {
            "_dom_classes": [],
            "_model_module": "@jupyter-widgets/controls",
            "_model_module_version": "1.5.0",
            "_model_name": "HTMLModel",
            "_view_count": null,
            "_view_module": "@jupyter-widgets/controls",
            "_view_module_version": "1.5.0",
            "_view_name": "HTMLView",
            "description": "",
            "description_tooltip": null,
            "layout": "IPY_MODEL_dd74edd4fd4b4f5c831181dd480c2107",
            "placeholder": "​",
            "style": "IPY_MODEL_46de3991ca434719ab9b8d0ff295891f",
            "value": "vocab.txt: 100%"
          }
        },
        "3c2a38af9fb44d51904eb0d90d781f8a": {
          "model_module": "@jupyter-widgets/controls",
          "model_name": "FloatProgressModel",
          "model_module_version": "1.5.0",
          "state": {
            "_dom_classes": [],
            "_model_module": "@jupyter-widgets/controls",
            "_model_module_version": "1.5.0",
            "_model_name": "FloatProgressModel",
            "_view_count": null,
            "_view_module": "@jupyter-widgets/controls",
            "_view_module_version": "1.5.0",
            "_view_name": "ProgressView",
            "bar_style": "success",
            "description": "",
            "description_tooltip": null,
            "layout": "IPY_MODEL_19cb1eac741b4b36b2444f9c72e50aa6",
            "max": 1404983,
            "min": 0,
            "orientation": "horizontal",
            "style": "IPY_MODEL_663a1272de2947c280a94e603ca40745",
            "value": 1404983
          }
        },
        "e9849053642f4e478a59c9d37e4390e2": {
          "model_module": "@jupyter-widgets/controls",
          "model_name": "HTMLModel",
          "model_module_version": "1.5.0",
          "state": {
            "_dom_classes": [],
            "_model_module": "@jupyter-widgets/controls",
            "_model_module_version": "1.5.0",
            "_model_name": "HTMLModel",
            "_view_count": null,
            "_view_module": "@jupyter-widgets/controls",
            "_view_module_version": "1.5.0",
            "_view_name": "HTMLView",
            "description": "",
            "description_tooltip": null,
            "layout": "IPY_MODEL_8116499e1cf245df9be9450c27da74db",
            "placeholder": "​",
            "style": "IPY_MODEL_5295d86de6114048b583ddbc62e5320f",
            "value": " 1.40M/1.40M [00:00&lt;00:00, 8.29MB/s]"
          }
        },
        "c557007c41f44bef9262dd7b1e4b1638": {
          "model_module": "@jupyter-widgets/base",
          "model_name": "LayoutModel",
          "model_module_version": "1.2.0",
          "state": {
            "_model_module": "@jupyter-widgets/base",
            "_model_module_version": "1.2.0",
            "_model_name": "LayoutModel",
            "_view_count": null,
            "_view_module": "@jupyter-widgets/base",
            "_view_module_version": "1.2.0",
            "_view_name": "LayoutView",
            "align_content": null,
            "align_items": null,
            "align_self": null,
            "border": null,
            "bottom": null,
            "display": null,
            "flex": null,
            "flex_flow": null,
            "grid_area": null,
            "grid_auto_columns": null,
            "grid_auto_flow": null,
            "grid_auto_rows": null,
            "grid_column": null,
            "grid_gap": null,
            "grid_row": null,
            "grid_template_areas": null,
            "grid_template_columns": null,
            "grid_template_rows": null,
            "height": null,
            "justify_content": null,
            "justify_items": null,
            "left": null,
            "margin": null,
            "max_height": null,
            "max_width": null,
            "min_height": null,
            "min_width": null,
            "object_fit": null,
            "object_position": null,
            "order": null,
            "overflow": null,
            "overflow_x": null,
            "overflow_y": null,
            "padding": null,
            "right": null,
            "top": null,
            "visibility": null,
            "width": null
          }
        },
        "dd74edd4fd4b4f5c831181dd480c2107": {
          "model_module": "@jupyter-widgets/base",
          "model_name": "LayoutModel",
          "model_module_version": "1.2.0",
          "state": {
            "_model_module": "@jupyter-widgets/base",
            "_model_module_version": "1.2.0",
            "_model_name": "LayoutModel",
            "_view_count": null,
            "_view_module": "@jupyter-widgets/base",
            "_view_module_version": "1.2.0",
            "_view_name": "LayoutView",
            "align_content": null,
            "align_items": null,
            "align_self": null,
            "border": null,
            "bottom": null,
            "display": null,
            "flex": null,
            "flex_flow": null,
            "grid_area": null,
            "grid_auto_columns": null,
            "grid_auto_flow": null,
            "grid_auto_rows": null,
            "grid_column": null,
            "grid_gap": null,
            "grid_row": null,
            "grid_template_areas": null,
            "grid_template_columns": null,
            "grid_template_rows": null,
            "height": null,
            "justify_content": null,
            "justify_items": null,
            "left": null,
            "margin": null,
            "max_height": null,
            "max_width": null,
            "min_height": null,
            "min_width": null,
            "object_fit": null,
            "object_position": null,
            "order": null,
            "overflow": null,
            "overflow_x": null,
            "overflow_y": null,
            "padding": null,
            "right": null,
            "top": null,
            "visibility": null,
            "width": null
          }
        },
        "46de3991ca434719ab9b8d0ff295891f": {
          "model_module": "@jupyter-widgets/controls",
          "model_name": "DescriptionStyleModel",
          "model_module_version": "1.5.0",
          "state": {
            "_model_module": "@jupyter-widgets/controls",
            "_model_module_version": "1.5.0",
            "_model_name": "DescriptionStyleModel",
            "_view_count": null,
            "_view_module": "@jupyter-widgets/base",
            "_view_module_version": "1.2.0",
            "_view_name": "StyleView",
            "description_width": ""
          }
        },
        "19cb1eac741b4b36b2444f9c72e50aa6": {
          "model_module": "@jupyter-widgets/base",
          "model_name": "LayoutModel",
          "model_module_version": "1.2.0",
          "state": {
            "_model_module": "@jupyter-widgets/base",
            "_model_module_version": "1.2.0",
            "_model_name": "LayoutModel",
            "_view_count": null,
            "_view_module": "@jupyter-widgets/base",
            "_view_module_version": "1.2.0",
            "_view_name": "LayoutView",
            "align_content": null,
            "align_items": null,
            "align_self": null,
            "border": null,
            "bottom": null,
            "display": null,
            "flex": null,
            "flex_flow": null,
            "grid_area": null,
            "grid_auto_columns": null,
            "grid_auto_flow": null,
            "grid_auto_rows": null,
            "grid_column": null,
            "grid_gap": null,
            "grid_row": null,
            "grid_template_areas": null,
            "grid_template_columns": null,
            "grid_template_rows": null,
            "height": null,
            "justify_content": null,
            "justify_items": null,
            "left": null,
            "margin": null,
            "max_height": null,
            "max_width": null,
            "min_height": null,
            "min_width": null,
            "object_fit": null,
            "object_position": null,
            "order": null,
            "overflow": null,
            "overflow_x": null,
            "overflow_y": null,
            "padding": null,
            "right": null,
            "top": null,
            "visibility": null,
            "width": null
          }
        },
        "663a1272de2947c280a94e603ca40745": {
          "model_module": "@jupyter-widgets/controls",
          "model_name": "ProgressStyleModel",
          "model_module_version": "1.5.0",
          "state": {
            "_model_module": "@jupyter-widgets/controls",
            "_model_module_version": "1.5.0",
            "_model_name": "ProgressStyleModel",
            "_view_count": null,
            "_view_module": "@jupyter-widgets/base",
            "_view_module_version": "1.2.0",
            "_view_name": "StyleView",
            "bar_color": null,
            "description_width": ""
          }
        },
        "8116499e1cf245df9be9450c27da74db": {
          "model_module": "@jupyter-widgets/base",
          "model_name": "LayoutModel",
          "model_module_version": "1.2.0",
          "state": {
            "_model_module": "@jupyter-widgets/base",
            "_model_module_version": "1.2.0",
            "_model_name": "LayoutModel",
            "_view_count": null,
            "_view_module": "@jupyter-widgets/base",
            "_view_module_version": "1.2.0",
            "_view_name": "LayoutView",
            "align_content": null,
            "align_items": null,
            "align_self": null,
            "border": null,
            "bottom": null,
            "display": null,
            "flex": null,
            "flex_flow": null,
            "grid_area": null,
            "grid_auto_columns": null,
            "grid_auto_flow": null,
            "grid_auto_rows": null,
            "grid_column": null,
            "grid_gap": null,
            "grid_row": null,
            "grid_template_areas": null,
            "grid_template_columns": null,
            "grid_template_rows": null,
            "height": null,
            "justify_content": null,
            "justify_items": null,
            "left": null,
            "margin": null,
            "max_height": null,
            "max_width": null,
            "min_height": null,
            "min_width": null,
            "object_fit": null,
            "object_position": null,
            "order": null,
            "overflow": null,
            "overflow_x": null,
            "overflow_y": null,
            "padding": null,
            "right": null,
            "top": null,
            "visibility": null,
            "width": null
          }
        },
        "5295d86de6114048b583ddbc62e5320f": {
          "model_module": "@jupyter-widgets/controls",
          "model_name": "DescriptionStyleModel",
          "model_module_version": "1.5.0",
          "state": {
            "_model_module": "@jupyter-widgets/controls",
            "_model_module_version": "1.5.0",
            "_model_name": "DescriptionStyleModel",
            "_view_count": null,
            "_view_module": "@jupyter-widgets/base",
            "_view_module_version": "1.2.0",
            "_view_name": "StyleView",
            "description_width": ""
          }
        },
        "778afe139bf846bf95af03b869a53063": {
          "model_module": "@jupyter-widgets/controls",
          "model_name": "HBoxModel",
          "model_module_version": "1.5.0",
          "state": {
            "_dom_classes": [],
            "_model_module": "@jupyter-widgets/controls",
            "_model_module_version": "1.5.0",
            "_model_name": "HBoxModel",
            "_view_count": null,
            "_view_module": "@jupyter-widgets/controls",
            "_view_module_version": "1.5.0",
            "_view_name": "HBoxView",
            "box_style": "",
            "children": [
              "IPY_MODEL_e1b4bba027a347dab8a9e54310fa7643",
              "IPY_MODEL_398f9e3530fa47e4b66f30266694c223",
              "IPY_MODEL_c3599e829f424603bc14ca60d39ad4d8"
            ],
            "layout": "IPY_MODEL_b4d69e33e0394299b4486cbe7624570c"
          }
        },
        "e1b4bba027a347dab8a9e54310fa7643": {
          "model_module": "@jupyter-widgets/controls",
          "model_name": "HTMLModel",
          "model_module_version": "1.5.0",
          "state": {
            "_dom_classes": [],
            "_model_module": "@jupyter-widgets/controls",
            "_model_module_version": "1.5.0",
            "_model_name": "HTMLModel",
            "_view_count": null,
            "_view_module": "@jupyter-widgets/controls",
            "_view_module_version": "1.5.0",
            "_view_name": "HTMLView",
            "description": "",
            "description_tooltip": null,
            "layout": "IPY_MODEL_b69b45ef2c7c41f08f1757d2b151049b",
            "placeholder": "​",
            "style": "IPY_MODEL_2d1ac77428a545da89ef4b8715d1d747",
            "value": "special_tokens_map.json: 100%"
          }
        },
        "398f9e3530fa47e4b66f30266694c223": {
          "model_module": "@jupyter-widgets/controls",
          "model_name": "FloatProgressModel",
          "model_module_version": "1.5.0",
          "state": {
            "_dom_classes": [],
            "_model_module": "@jupyter-widgets/controls",
            "_model_module_version": "1.5.0",
            "_model_name": "FloatProgressModel",
            "_view_count": null,
            "_view_module": "@jupyter-widgets/controls",
            "_view_module_version": "1.5.0",
            "_view_name": "ProgressView",
            "bar_style": "success",
            "description": "",
            "description_tooltip": null,
            "layout": "IPY_MODEL_6e6b8a29e953454da22e5695d166eb96",
            "max": 112,
            "min": 0,
            "orientation": "horizontal",
            "style": "IPY_MODEL_82803b309a7344d5abaaa4dbaa973ccd",
            "value": 112
          }
        },
        "c3599e829f424603bc14ca60d39ad4d8": {
          "model_module": "@jupyter-widgets/controls",
          "model_name": "HTMLModel",
          "model_module_version": "1.5.0",
          "state": {
            "_dom_classes": [],
            "_model_module": "@jupyter-widgets/controls",
            "_model_module_version": "1.5.0",
            "_model_name": "HTMLModel",
            "_view_count": null,
            "_view_module": "@jupyter-widgets/controls",
            "_view_module_version": "1.5.0",
            "_view_name": "HTMLView",
            "description": "",
            "description_tooltip": null,
            "layout": "IPY_MODEL_d4676750414a4f2dad9e459b8be59c6b",
            "placeholder": "​",
            "style": "IPY_MODEL_fdb31e3f8dca475fb36030584d5dd1e3",
            "value": " 112/112 [00:00&lt;00:00, 6.88kB/s]"
          }
        },
        "b4d69e33e0394299b4486cbe7624570c": {
          "model_module": "@jupyter-widgets/base",
          "model_name": "LayoutModel",
          "model_module_version": "1.2.0",
          "state": {
            "_model_module": "@jupyter-widgets/base",
            "_model_module_version": "1.2.0",
            "_model_name": "LayoutModel",
            "_view_count": null,
            "_view_module": "@jupyter-widgets/base",
            "_view_module_version": "1.2.0",
            "_view_name": "LayoutView",
            "align_content": null,
            "align_items": null,
            "align_self": null,
            "border": null,
            "bottom": null,
            "display": null,
            "flex": null,
            "flex_flow": null,
            "grid_area": null,
            "grid_auto_columns": null,
            "grid_auto_flow": null,
            "grid_auto_rows": null,
            "grid_column": null,
            "grid_gap": null,
            "grid_row": null,
            "grid_template_areas": null,
            "grid_template_columns": null,
            "grid_template_rows": null,
            "height": null,
            "justify_content": null,
            "justify_items": null,
            "left": null,
            "margin": null,
            "max_height": null,
            "max_width": null,
            "min_height": null,
            "min_width": null,
            "object_fit": null,
            "object_position": null,
            "order": null,
            "overflow": null,
            "overflow_x": null,
            "overflow_y": null,
            "padding": null,
            "right": null,
            "top": null,
            "visibility": null,
            "width": null
          }
        },
        "b69b45ef2c7c41f08f1757d2b151049b": {
          "model_module": "@jupyter-widgets/base",
          "model_name": "LayoutModel",
          "model_module_version": "1.2.0",
          "state": {
            "_model_module": "@jupyter-widgets/base",
            "_model_module_version": "1.2.0",
            "_model_name": "LayoutModel",
            "_view_count": null,
            "_view_module": "@jupyter-widgets/base",
            "_view_module_version": "1.2.0",
            "_view_name": "LayoutView",
            "align_content": null,
            "align_items": null,
            "align_self": null,
            "border": null,
            "bottom": null,
            "display": null,
            "flex": null,
            "flex_flow": null,
            "grid_area": null,
            "grid_auto_columns": null,
            "grid_auto_flow": null,
            "grid_auto_rows": null,
            "grid_column": null,
            "grid_gap": null,
            "grid_row": null,
            "grid_template_areas": null,
            "grid_template_columns": null,
            "grid_template_rows": null,
            "height": null,
            "justify_content": null,
            "justify_items": null,
            "left": null,
            "margin": null,
            "max_height": null,
            "max_width": null,
            "min_height": null,
            "min_width": null,
            "object_fit": null,
            "object_position": null,
            "order": null,
            "overflow": null,
            "overflow_x": null,
            "overflow_y": null,
            "padding": null,
            "right": null,
            "top": null,
            "visibility": null,
            "width": null
          }
        },
        "2d1ac77428a545da89ef4b8715d1d747": {
          "model_module": "@jupyter-widgets/controls",
          "model_name": "DescriptionStyleModel",
          "model_module_version": "1.5.0",
          "state": {
            "_model_module": "@jupyter-widgets/controls",
            "_model_module_version": "1.5.0",
            "_model_name": "DescriptionStyleModel",
            "_view_count": null,
            "_view_module": "@jupyter-widgets/base",
            "_view_module_version": "1.2.0",
            "_view_name": "StyleView",
            "description_width": ""
          }
        },
        "6e6b8a29e953454da22e5695d166eb96": {
          "model_module": "@jupyter-widgets/base",
          "model_name": "LayoutModel",
          "model_module_version": "1.2.0",
          "state": {
            "_model_module": "@jupyter-widgets/base",
            "_model_module_version": "1.2.0",
            "_model_name": "LayoutModel",
            "_view_count": null,
            "_view_module": "@jupyter-widgets/base",
            "_view_module_version": "1.2.0",
            "_view_name": "LayoutView",
            "align_content": null,
            "align_items": null,
            "align_self": null,
            "border": null,
            "bottom": null,
            "display": null,
            "flex": null,
            "flex_flow": null,
            "grid_area": null,
            "grid_auto_columns": null,
            "grid_auto_flow": null,
            "grid_auto_rows": null,
            "grid_column": null,
            "grid_gap": null,
            "grid_row": null,
            "grid_template_areas": null,
            "grid_template_columns": null,
            "grid_template_rows": null,
            "height": null,
            "justify_content": null,
            "justify_items": null,
            "left": null,
            "margin": null,
            "max_height": null,
            "max_width": null,
            "min_height": null,
            "min_width": null,
            "object_fit": null,
            "object_position": null,
            "order": null,
            "overflow": null,
            "overflow_x": null,
            "overflow_y": null,
            "padding": null,
            "right": null,
            "top": null,
            "visibility": null,
            "width": null
          }
        },
        "82803b309a7344d5abaaa4dbaa973ccd": {
          "model_module": "@jupyter-widgets/controls",
          "model_name": "ProgressStyleModel",
          "model_module_version": "1.5.0",
          "state": {
            "_model_module": "@jupyter-widgets/controls",
            "_model_module_version": "1.5.0",
            "_model_name": "ProgressStyleModel",
            "_view_count": null,
            "_view_module": "@jupyter-widgets/base",
            "_view_module_version": "1.2.0",
            "_view_name": "StyleView",
            "bar_color": null,
            "description_width": ""
          }
        },
        "d4676750414a4f2dad9e459b8be59c6b": {
          "model_module": "@jupyter-widgets/base",
          "model_name": "LayoutModel",
          "model_module_version": "1.2.0",
          "state": {
            "_model_module": "@jupyter-widgets/base",
            "_model_module_version": "1.2.0",
            "_model_name": "LayoutModel",
            "_view_count": null,
            "_view_module": "@jupyter-widgets/base",
            "_view_module_version": "1.2.0",
            "_view_name": "LayoutView",
            "align_content": null,
            "align_items": null,
            "align_self": null,
            "border": null,
            "bottom": null,
            "display": null,
            "flex": null,
            "flex_flow": null,
            "grid_area": null,
            "grid_auto_columns": null,
            "grid_auto_flow": null,
            "grid_auto_rows": null,
            "grid_column": null,
            "grid_gap": null,
            "grid_row": null,
            "grid_template_areas": null,
            "grid_template_columns": null,
            "grid_template_rows": null,
            "height": null,
            "justify_content": null,
            "justify_items": null,
            "left": null,
            "margin": null,
            "max_height": null,
            "max_width": null,
            "min_height": null,
            "min_width": null,
            "object_fit": null,
            "object_position": null,
            "order": null,
            "overflow": null,
            "overflow_x": null,
            "overflow_y": null,
            "padding": null,
            "right": null,
            "top": null,
            "visibility": null,
            "width": null
          }
        },
        "fdb31e3f8dca475fb36030584d5dd1e3": {
          "model_module": "@jupyter-widgets/controls",
          "model_name": "DescriptionStyleModel",
          "model_module_version": "1.5.0",
          "state": {
            "_model_module": "@jupyter-widgets/controls",
            "_model_module_version": "1.5.0",
            "_model_name": "DescriptionStyleModel",
            "_view_count": null,
            "_view_module": "@jupyter-widgets/base",
            "_view_module_version": "1.2.0",
            "_view_name": "StyleView",
            "description_width": ""
          }
        }
      }
    },
    "accelerator": "GPU"
  },
  "nbformat": 4,
  "nbformat_minor": 0
}